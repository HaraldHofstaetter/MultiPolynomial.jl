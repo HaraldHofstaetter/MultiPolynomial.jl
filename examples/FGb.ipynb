{
 "cells": [
  {
   "cell_type": "code",
   "execution_count": 1,
   "metadata": {
    "collapsed": false
   },
   "outputs": [],
   "source": [
    "using MultiPolynomials"
   ]
  },
  {
   "cell_type": "code",
   "execution_count": 2,
   "metadata": {
    "collapsed": false
   },
   "outputs": [
    {
     "data": {
      "text/plain": [
       "(x,y,z,t)"
      ]
     },
     "execution_count": 2,
     "metadata": {},
     "output_type": "execute_result"
    }
   ],
   "source": [
    "@variables Rational{BigInt} x y z t"
   ]
  },
  {
   "cell_type": "code",
   "execution_count": 3,
   "metadata": {
    "collapsed": false
   },
   "outputs": [
    {
     "data": {
      "text/plain": [
       "5-element Array{Dict{Tuple{UInt16,UInt16,UInt16,UInt16},Rational{BigInt}},1}:\n",
       " 2//1*x+2//1*y-1//1+t+2//1*z          \n",
       " 2//1*x*z+z^2-y+2//1*y*t              \n",
       " 2//1*y*z+2//1*x*y+2//1*z*t-z         \n",
       " 2//1*x*z+z^2-y+2//1*y*t              \n",
       " 2//1*x^2+2//1*z^2+2//1*y^2+2//1*t^2-t"
      ]
     },
     "execution_count": 3,
     "metadata": {},
     "output_type": "execute_result"
    }
   ],
   "source": [
    "F=[2*x+2*y+2*z+t-1, 2*x*z+z^2+2*y*t-y, \n",
    "   2*x*y+2*y*z+2*z*t-z, 2*x*z+2*y*t+z^2-y,\n",
    "    2*x^2+2*y^2+2*z^2+2*t^2-t]"
   ]
  },
  {
   "cell_type": "code",
   "execution_count": 4,
   "metadata": {
    "collapsed": false
   },
   "outputs": [
    {
     "name": "stderr",
     "output_type": "stream",
     "text": [
      "open simulation\n"
     ]
    },
    {
     "data": {
      "text/plain": [
       "7-element Array{Dict{Tuple{UInt16,UInt16,UInt16,UInt16},Rational{BigInt}},1}:\n",
       " 5402944//1*z-31985976//1*t-537232//1*y+2604491//1-216024792//1*t^3+3881504//1*y*t+135230915//1*t^4-11331680//1*z*t+126340686//1*t^2\n",
       " -453//1*t^2-104//1*z+270//1*t+718//1*y-57//1+210//1*t^3-2640//1*y*t+244//1*z*t+2494//1*y*t^2                                       \n",
       " -17//1*t^2+11//1*z+7//1*t-4//1*y-1//1+15//1*t^3+8//1*y*t-44//1*z*t+43//1*z*t^2                                                     \n",
       " -y+y*t+2//1*y^2-2//1*z*t+z                                                                                                         \n",
       " 4//1*t+8//1*y*z+8//1*y-1//1-16//1*y*t-4//1*z*t-5//1*t^2                                                                            \n",
       " -4//1*z-4//1*t-4//1*y+4//1*z^2+1//1+8//1*y*t+8//1*z*t+5//1*t^2                                                                     \n",
       " 2//1*x+2//1*y-1//1+t+2//1*z                                                                                                        "
      ]
     },
     "execution_count": 4,
     "metadata": {},
     "output_type": "execute_result"
    }
   ],
   "source": [
    "fgb_qbasis(F, [], [x,y,z,t])"
   ]
  },
  {
   "cell_type": "code",
   "execution_count": 5,
   "metadata": {
    "collapsed": false
   },
   "outputs": [
    {
     "name": "stderr",
     "output_type": "stream",
     "text": [
      "open simulation\n"
     ]
    },
    {
     "data": {
      "text/plain": [
       "1-element Array{Dict{Tuple{UInt16,UInt16,UInt16,UInt16},Rational{BigInt}},1}:\n",
       " 1//1"
      ]
     },
     "execution_count": 5,
     "metadata": {},
     "output_type": "execute_result"
    }
   ],
   "source": [
    "fgb_qbasis(vcat(F,[x+2*y+3*z+4*t-5]), [], [x,y,z,t])"
   ]
  },
  {
   "cell_type": "code",
   "execution_count": 6,
   "metadata": {
    "collapsed": false
   },
   "outputs": [
    {
     "data": {
      "text/plain": [
       "(x,y,z)"
      ]
     },
     "execution_count": 6,
     "metadata": {},
     "output_type": "execute_result"
    }
   ],
   "source": [
    "@variables Rational{BigInt}  x y z "
   ]
  },
  {
   "cell_type": "code",
   "execution_count": 7,
   "metadata": {
    "collapsed": false
   },
   "outputs": [
    {
     "data": {
      "text/plain": [
       "4-element Array{Dict{Tuple{UInt16,UInt16,UInt16},Rational{BigInt}},1}:\n",
       " y+z^2-4//1*y*z+2//1*x*z-4//1*y^2-4//1*x*y                                             \n",
       " -4//1*z^2+z-2//1*y*z-4//1*x*z+2//1*x*y                                                \n",
       " y+z^2-4//1*y*z+2//1*x*z-4//1*y^2-4//1*x*y                                             \n",
       " -6//1*y+10//1*z^2+1//1-6//1*z-6//1*x+10//1*y^2+16//1*x*z+16//1*y*z+10//1*x^2+16//1*x*y"
      ]
     },
     "execution_count": 7,
     "metadata": {},
     "output_type": "execute_result"
    }
   ],
   "source": [
    "F=[2*x*z+z^2-4*x*y-4*y^2-4*y*z+y, 2*x*y-2*y*z-4*x*z-4*z^2+z,\n",
    "    2*x*z+z^2-4*x*y-4*y^2-4*y*z+y,\n",
    "    10*x^2+10*y^2+10*z^2+16*x*y+16*x*z-6*x+16*y*z-6*y-6*z+1]"
   ]
  },
  {
   "cell_type": "code",
   "execution_count": 8,
   "metadata": {
    "collapsed": false
   },
   "outputs": [
    {
     "name": "stderr",
     "output_type": "stream",
     "text": [
      "open simulation\n"
     ]
    },
    {
     "data": {
      "text/plain": [
       "6-element Array{Dict{Tuple{UInt16,UInt16,UInt16},Rational{BigInt}},1}:\n",
       " 90629//1*y+5766613//1*z^2+27675164//1*z^4-7969044//1*z^3-1779826//1*z+5745964//1*y*z+3377930//1*x*z\n",
       " -22//1*y-420//1*z^2+1201//1*z^3+93//1*z-313//1*y*z-200//1*x*z+1276//1*x*z^2                        \n",
       " 3//1*y+23//1*z^2-28//1*z^3-14//1*z+44//1*y*z+22//1*x*z+116//1*y*z^2                                \n",
       " -7//1*y+49//1*z^2+2//1-18//1*z+24//1*y*z+66//1*x*z-12//1*x+20//1*x^2                               \n",
       " -4//1*z^2+z-2//1*y*z-4//1*x*z+2//1*x*y                                                             \n",
       " -y+7//1*z^2-2//1*z+8//1*y*z+4//1*y^2+6//1*x*z                                                      "
      ]
     },
     "execution_count": 8,
     "metadata": {},
     "output_type": "execute_result"
    }
   ],
   "source": [
    "fgb_qbasis(F, [], [x,y,z])"
   ]
  },
  {
   "cell_type": "code",
   "execution_count": 9,
   "metadata": {
    "collapsed": false
   },
   "outputs": [
    {
     "name": "stderr",
     "output_type": "stream",
     "text": [
      "open simulation\n"
     ]
    },
    {
     "data": {
      "text/plain": [
       "1-element Array{Dict{Tuple{UInt16,UInt16,UInt16},Rational{BigInt}},1}:\n",
       " -4582784//1*x^7+1//1+3470240//1*x^8-19216//1*x^3-146//1*x+2519968//1*x^6+2202//1*x^2+139000//1*x^4-750640//1*x^5"
      ]
     },
     "execution_count": 9,
     "metadata": {},
     "output_type": "execute_result"
    }
   ],
   "source": [
    "fgb_qbasis_elim(F, [y, z], [x])"
   ]
  }
 ],
 "metadata": {
  "kernelspec": {
   "display_name": "Julia 0.4.5",
   "language": "julia",
   "name": "julia-0.4"
  },
  "language_info": {
   "file_extension": ".jl",
   "mimetype": "application/julia",
   "name": "julia",
   "version": "0.4.5"
  }
 },
 "nbformat": 4,
 "nbformat_minor": 0
}
