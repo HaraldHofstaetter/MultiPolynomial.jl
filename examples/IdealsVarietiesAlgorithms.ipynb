{
 "cells": [
  {
   "cell_type": "code",
   "execution_count": 1,
   "metadata": {
    "collapsed": false
   },
   "outputs": [],
   "source": [
    "using MultiPolynomials"
   ]
  },
  {
   "cell_type": "code",
   "execution_count": 2,
   "metadata": {
    "collapsed": false
   },
   "outputs": [
    {
     "data": {
      "text/plain": [
       "(x,y,z)"
      ]
     },
     "execution_count": 2,
     "metadata": {},
     "output_type": "execute_result"
    }
   ],
   "source": [
    "@variables Rational{Int64} x y z"
   ]
  },
  {
   "cell_type": "code",
   "execution_count": 3,
   "metadata": {
    "collapsed": false
   },
   "outputs": [
    {
     "data": {
      "text/latex": [
       "$x$"
      ],
      "text/plain": [
       "x"
      ]
     },
     "execution_count": 3,
     "metadata": {},
     "output_type": "execute_result"
    }
   ],
   "source": [
    "+x"
   ]
  },
  {
   "cell_type": "code",
   "execution_count": 4,
   "metadata": {
    "collapsed": false
   },
   "outputs": [
    {
     "data": {
      "text/latex": [
       "$-\\frac{5}{3}yz^{2}$"
      ],
      "text/plain": [
       "-5//3*y*z^2"
      ]
     },
     "execution_count": 4,
     "metadata": {},
     "output_type": "execute_result"
    }
   ],
   "source": [
    "-5//3*y*z^2"
   ]
  },
  {
   "cell_type": "code",
   "execution_count": 5,
   "metadata": {
    "collapsed": false
   },
   "outputs": [
    {
     "data": {
      "text/latex": [
       "$4z^{2}+7x^{2}z^{2}-5x^{3}+4xy^{2}z$"
      ],
      "text/plain": [
       "Dict{Tuple{UInt16,UInt16,UInt16},Rational{Int64}} with 4 entries:\n",
       "  (0x0000,0x0000,0x0002) => 4//1\n",
       "  (0x0002,0x0000,0x0002) => 7//1\n",
       "  (0x0003,0x0000,0x0000) => -5//1\n",
       "  (0x0001,0x0002,0x0001) => 4//1"
      ]
     },
     "execution_count": 5,
     "metadata": {},
     "output_type": "execute_result"
    }
   ],
   "source": [
    "f = 4*x*y^2*z + 4*z^2 - 5*x^3 +7*x^2*z^2"
   ]
  },
  {
   "cell_type": "code",
   "execution_count": 6,
   "metadata": {
    "collapsed": false
   },
   "outputs": [
    {
     "data": {
      "text/latex": [
       "$-4z^{2}-7x^{2}z^{2}+5x^{3}-4xy^{2}z$"
      ],
      "text/plain": [
       "Dict{Tuple{UInt16,UInt16,UInt16},Rational{Int64}} with 4 entries:\n",
       "  (0x0000,0x0000,0x0002) => -4//1\n",
       "  (0x0002,0x0000,0x0002) => -7//1\n",
       "  (0x0003,0x0000,0x0000) => 5//1\n",
       "  (0x0001,0x0002,0x0001) => -4//1"
      ]
     },
     "execution_count": 6,
     "metadata": {},
     "output_type": "execute_result"
    }
   ],
   "source": [
    "-f"
   ]
  },
  {
   "cell_type": "code",
   "execution_count": 7,
   "metadata": {
    "collapsed": false
   },
   "outputs": [
    {
     "data": {
      "text/latex": [
       "$-4z^{2}-7x^{2}z^{2}+5x^{3}-4xy^{2}z+x^{2}$"
      ],
      "text/plain": [
       "Dict{Tuple{UInt16,UInt16,UInt16},Rational{Int64}} with 5 entries:\n",
       "  (0x0000,0x0000,0x0002) => -4//1\n",
       "  (0x0002,0x0000,0x0002) => -7//1\n",
       "  (0x0003,0x0000,0x0000) => 5//1\n",
       "  (0x0001,0x0002,0x0001) => -4//1\n",
       "  (0x0002,0x0000,0x0000) => 1//1"
      ]
     },
     "execution_count": 7,
     "metadata": {},
     "output_type": "execute_result"
    }
   ],
   "source": [
    "x^2-f"
   ]
  },
  {
   "cell_type": "code",
   "execution_count": 8,
   "metadata": {
    "collapsed": false
   },
   "outputs": [
    {
     "data": {
      "text/latex": [
       "$4$"
      ],
      "text/plain": [
       "4//1"
      ]
     },
     "execution_count": 8,
     "metadata": {},
     "output_type": "execute_result"
    }
   ],
   "source": [
    "coeff(x*y^2*z, f)"
   ]
  },
  {
   "cell_type": "code",
   "execution_count": 9,
   "metadata": {
    "collapsed": false
   },
   "outputs": [
    {
     "data": {
      "text/latex": [
       "$0$"
      ],
      "text/plain": [
       "0//1"
      ]
     },
     "execution_count": 9,
     "metadata": {},
     "output_type": "execute_result"
    }
   ],
   "source": [
    "coeff(x^13, f)"
   ]
  },
  {
   "cell_type": "code",
   "execution_count": 10,
   "metadata": {
    "collapsed": false
   },
   "outputs": [
    {
     "data": {
      "text/plain": [
       "true"
      ]
     },
     "execution_count": 10,
     "metadata": {},
     "output_type": "execute_result"
    }
   ],
   "source": [
    "4*x^2+y*z == z*y+4*x*x"
   ]
  },
  {
   "cell_type": "code",
   "execution_count": 11,
   "metadata": {
    "collapsed": false
   },
   "outputs": [
    {
     "data": {
      "text/plain": [
       "lexless (generic function with 2 methods)"
      ]
     },
     "execution_count": 11,
     "metadata": {},
     "output_type": "execute_result"
    }
   ],
   "source": [
    "set_order_lex()"
   ]
  },
  {
   "cell_type": "code",
   "execution_count": 12,
   "metadata": {
    "collapsed": false
   },
   "outputs": [
    {
     "data": {
      "text/plain": [
       "true"
      ]
     },
     "execution_count": 12,
     "metadata": {},
     "output_type": "execute_result"
    }
   ],
   "source": [
    "x>y"
   ]
  },
  {
   "cell_type": "code",
   "execution_count": 13,
   "metadata": {
    "collapsed": false
   },
   "outputs": [
    {
     "data": {
      "text/plain": [
       "true"
      ]
     },
     "execution_count": 13,
     "metadata": {},
     "output_type": "execute_result"
    }
   ],
   "source": [
    "x*y^2 > y^3*z^4"
   ]
  },
  {
   "cell_type": "code",
   "execution_count": 14,
   "metadata": {
    "collapsed": false
   },
   "outputs": [
    {
     "data": {
      "text/plain": [
       "true"
      ]
     },
     "execution_count": 14,
     "metadata": {},
     "output_type": "execute_result"
    }
   ],
   "source": [
    "x^3*y^2*z^4 > x^3*y^2*z"
   ]
  },
  {
   "cell_type": "code",
   "execution_count": 15,
   "metadata": {
    "collapsed": false
   },
   "outputs": [
    {
     "data": {
      "text/latex": [
       "$-5x^{3}+7x^{2}z^{2}+4xy^{2}z+4z^{2}$"
      ],
      "text/plain": [
       "4-element Array{MultiPolynomials.Term{Rational{Int64},3},1}:\n",
       " -5//1*x^3   \n",
       " 7//1*x^2*z^2\n",
       " 4//1*x*y^2*z\n",
       " 4//1*z^2    "
      ]
     },
     "execution_count": 15,
     "metadata": {},
     "output_type": "execute_result"
    }
   ],
   "source": [
    "sort(terms(f),rev=true)"
   ]
  },
  {
   "cell_type": "code",
   "execution_count": 16,
   "metadata": {
    "collapsed": false
   },
   "outputs": [
    {
     "data": {
      "text/latex": [
       "$-5x^{3}$"
      ],
      "text/plain": [
       "-5//1*x^3"
      ]
     },
     "execution_count": 16,
     "metadata": {},
     "output_type": "execute_result"
    }
   ],
   "source": [
    "LT(f)"
   ]
  },
  {
   "cell_type": "code",
   "execution_count": 17,
   "metadata": {
    "collapsed": false
   },
   "outputs": [
    {
     "data": {
      "text/latex": [
       "$x^{3}$"
      ],
      "text/plain": [
       "x^3"
      ]
     },
     "execution_count": 17,
     "metadata": {},
     "output_type": "execute_result"
    }
   ],
   "source": [
    "LM(f)"
   ]
  },
  {
   "cell_type": "code",
   "execution_count": 18,
   "metadata": {
    "collapsed": false
   },
   "outputs": [
    {
     "data": {
      "text/plain": [
       "grlexless (generic function with 2 methods)"
      ]
     },
     "execution_count": 18,
     "metadata": {},
     "output_type": "execute_result"
    }
   ],
   "source": [
    "set_order_grlex()"
   ]
  },
  {
   "cell_type": "code",
   "execution_count": 19,
   "metadata": {
    "collapsed": false
   },
   "outputs": [
    {
     "data": {
      "text/plain": [
       "true"
      ]
     },
     "execution_count": 19,
     "metadata": {},
     "output_type": "execute_result"
    }
   ],
   "source": [
    "x*y^2*z^3 > x^3*x^2"
   ]
  },
  {
   "cell_type": "code",
   "execution_count": 20,
   "metadata": {
    "collapsed": false
   },
   "outputs": [
    {
     "data": {
      "text/plain": [
       "true"
      ]
     },
     "execution_count": 20,
     "metadata": {},
     "output_type": "execute_result"
    }
   ],
   "source": [
    "x*y^2*z^4 > x*y*z^5"
   ]
  },
  {
   "cell_type": "code",
   "execution_count": 21,
   "metadata": {
    "collapsed": false
   },
   "outputs": [
    {
     "data": {
      "text/latex": [
       "$7x^{2}z^{2}+4xy^{2}z-5x^{3}+4z^{2}$"
      ],
      "text/plain": [
       "4-element Array{MultiPolynomials.Term{Rational{Int64},3},1}:\n",
       " 7//1*x^2*z^2\n",
       " 4//1*x*y^2*z\n",
       " -5//1*x^3   \n",
       " 4//1*z^2    "
      ]
     },
     "execution_count": 21,
     "metadata": {},
     "output_type": "execute_result"
    }
   ],
   "source": [
    "sort(terms(f),rev=true)"
   ]
  },
  {
   "cell_type": "code",
   "execution_count": 22,
   "metadata": {
    "collapsed": false
   },
   "outputs": [
    {
     "data": {
      "text/latex": [
       "$7x^{2}z^{2}$"
      ],
      "text/plain": [
       "7//1*x^2*z^2"
      ]
     },
     "execution_count": 22,
     "metadata": {},
     "output_type": "execute_result"
    }
   ],
   "source": [
    "LT(f)"
   ]
  },
  {
   "cell_type": "code",
   "execution_count": 23,
   "metadata": {
    "collapsed": false
   },
   "outputs": [
    {
     "data": {
      "text/plain": [
       "grevlexless (generic function with 2 methods)"
      ]
     },
     "execution_count": 23,
     "metadata": {},
     "output_type": "execute_result"
    }
   ],
   "source": [
    "set_order_grevlex()"
   ]
  },
  {
   "cell_type": "code",
   "execution_count": 24,
   "metadata": {
    "collapsed": false
   },
   "outputs": [
    {
     "data": {
      "text/plain": [
       "true"
      ]
     },
     "execution_count": 24,
     "metadata": {},
     "output_type": "execute_result"
    }
   ],
   "source": [
    "x^4*y^7*z > x^4*y^2*z^3"
   ]
  },
  {
   "cell_type": "code",
   "execution_count": 25,
   "metadata": {
    "collapsed": false
   },
   "outputs": [
    {
     "data": {
      "text/plain": [
       "true"
      ]
     },
     "execution_count": 25,
     "metadata": {},
     "output_type": "execute_result"
    }
   ],
   "source": [
    "x*y^5*z^2 > x^4*y*z^3"
   ]
  },
  {
   "cell_type": "code",
   "execution_count": 26,
   "metadata": {
    "collapsed": false
   },
   "outputs": [
    {
     "data": {
      "text/latex": [
       "$4xy^{2}z+7x^{2}z^{2}-5x^{3}+4z^{2}$"
      ],
      "text/plain": [
       "4-element Array{MultiPolynomials.Term{Rational{Int64},3},1}:\n",
       " 4//1*x*y^2*z\n",
       " 7//1*x^2*z^2\n",
       " -5//1*x^3   \n",
       " 4//1*z^2    "
      ]
     },
     "execution_count": 26,
     "metadata": {},
     "output_type": "execute_result"
    }
   ],
   "source": [
    "sort(terms(f),rev=true)"
   ]
  },
  {
   "cell_type": "code",
   "execution_count": 27,
   "metadata": {
    "collapsed": false
   },
   "outputs": [
    {
     "data": {
      "text/plain": [
       "lexless (generic function with 2 methods)"
      ]
     },
     "execution_count": 27,
     "metadata": {},
     "output_type": "execute_result"
    }
   ],
   "source": [
    "@variables Rational{Int64} x y\n",
    "set_order_lex()"
   ]
  },
  {
   "cell_type": "code",
   "execution_count": 28,
   "metadata": {
    "collapsed": false
   },
   "outputs": [
    {
     "data": {
      "text/plain": [
       "([y,-1//1],2//1)"
      ]
     },
     "execution_count": 28,
     "metadata": {},
     "output_type": "execute_result"
    }
   ],
   "source": [
    "f = x*y^2+1\n",
    "F = [x*y+1, y+1]\n",
    "a, r = divrem(f, F...)"
   ]
  },
  {
   "cell_type": "code",
   "execution_count": 29,
   "metadata": {
    "collapsed": false
   },
   "outputs": [
    {
     "data": {
      "text/latex": [
       "$0$"
      ],
      "text/plain": [
       "Dict{Tuple{UInt16,UInt16},Rational{Int64}} with 0 entries"
      ]
     },
     "execution_count": 29,
     "metadata": {},
     "output_type": "execute_result"
    }
   ],
   "source": [
    "F[1]*a[1]+F[2]*a[2]+r-f"
   ]
  },
  {
   "cell_type": "code",
   "execution_count": 30,
   "metadata": {
    "collapsed": false
   },
   "outputs": [
    {
     "data": {
      "text/plain": [
       "([x+y,1//1],1//1+x+y)"
      ]
     },
     "execution_count": 30,
     "metadata": {},
     "output_type": "execute_result"
    }
   ],
   "source": [
    "f = x^2*y + x*y^2 + y^2\n",
    "F = [x*y-1, y^2-1]\n",
    "a, r = divrem(f, F...)"
   ]
  },
  {
   "cell_type": "code",
   "execution_count": 31,
   "metadata": {
    "collapsed": false
   },
   "outputs": [
    {
     "data": {
      "text/latex": [
       "$0$"
      ],
      "text/plain": [
       "Dict{Tuple{UInt16,UInt16},Rational{Int64}} with 0 entries"
      ]
     },
     "execution_count": 31,
     "metadata": {},
     "output_type": "execute_result"
    }
   ],
   "source": [
    "F[1]*a[1]+F[2]*a[2]+r-f"
   ]
  },
  {
   "cell_type": "code",
   "execution_count": 32,
   "metadata": {
    "collapsed": false
   },
   "outputs": [
    {
     "data": {
      "text/plain": [
       "([1//1+x,x],1//1+2//1*x)"
      ]
     },
     "execution_count": 32,
     "metadata": {},
     "output_type": "execute_result"
    }
   ],
   "source": [
    "f = x^2*y + x*y^2 + y^2\n",
    "F = [y^2-1, x*y-1]\n",
    "a, r = divrem(f, F...)"
   ]
  },
  {
   "cell_type": "code",
   "execution_count": 33,
   "metadata": {
    "collapsed": false
   },
   "outputs": [
    {
     "data": {
      "text/latex": [
       "$0$"
      ],
      "text/plain": [
       "Dict{Tuple{UInt16,UInt16},Rational{Int64}} with 0 entries"
      ]
     },
     "execution_count": 33,
     "metadata": {},
     "output_type": "execute_result"
    }
   ],
   "source": [
    "F[1]*a[1]+F[2]*a[2]+r-f"
   ]
  },
  {
   "cell_type": "code",
   "execution_count": 34,
   "metadata": {
    "collapsed": false
   },
   "outputs": [
    {
     "data": {
      "text/plain": [
       "([y,0],-x-y)"
      ]
     },
     "execution_count": 34,
     "metadata": {},
     "output_type": "execute_result"
    }
   ],
   "source": [
    "f = x*y^2-x\n",
    "F = [x*y+1, y^2-1]\n",
    "a, r = divrem(f, F...)"
   ]
  },
  {
   "cell_type": "code",
   "execution_count": 35,
   "metadata": {
    "collapsed": false
   },
   "outputs": [
    {
     "data": {
      "text/plain": [
       "([x,0],0)"
      ]
     },
     "execution_count": 35,
     "metadata": {},
     "output_type": "execute_result"
    }
   ],
   "source": [
    "a, r = divrem(f, reverse(F)...)"
   ]
  },
  {
   "cell_type": "code",
   "execution_count": 36,
   "metadata": {
    "collapsed": false
   },
   "outputs": [
    {
     "data": {
      "text/latex": [
       "$x^{2}-x^{3}y^{3}-\\frac{1}{3}y^{3}$"
      ],
      "text/plain": [
       "Dict{Tuple{UInt16,UInt16},Rational{Int64}} with 3 entries:\n",
       "  (0x0002,0x0000) => 1//1\n",
       "  (0x0003,0x0003) => -1//1\n",
       "  (0x0000,0x0003) => -1//3"
      ]
     },
     "execution_count": 36,
     "metadata": {},
     "output_type": "execute_result"
    }
   ],
   "source": [
    "set_order_grevlex()\n",
    "S_polynomial(x^3*y^2-x^2*y^3+x, 3*x^4*y+y^2)"
   ]
  },
  {
   "cell_type": "code",
   "execution_count": 37,
   "metadata": {
    "collapsed": false
   },
   "outputs": [
    {
     "data": {
      "text/plain": [
       "3-element Array{Dict{Tuple{UInt16,UInt16},Rational{BigInt}},1}:\n",
       " y*x       \n",
       " y^2-1//2*x\n",
       " x^2       "
      ]
     },
     "execution_count": 37,
     "metadata": {},
     "output_type": "execute_result"
    }
   ],
   "source": [
    "@variables Rational{BigInt} y x\n",
    "set_order_lex()\n",
    "G=groebner(x^3-2*x*y, x^2*y-2*y^2+x)"
   ]
  },
  {
   "cell_type": "code",
   "execution_count": 38,
   "metadata": {
    "collapsed": false
   },
   "outputs": [
    {
     "data": {
      "text/plain": [
       "3-element Array{Dict{Tuple{UInt16,UInt16},Rational{BigInt}},1}:\n",
       " y*x       \n",
       " y^2-1//2*x\n",
       " x^2       "
      ]
     },
     "execution_count": 38,
     "metadata": {},
     "output_type": "execute_result"
    }
   ],
   "source": [
    "@variables Rational{BigInt} y x\n",
    "set_order_lex()\n",
    "G=groebner(x^3-2*x*y, x^2*y-2*y^2+x)"
   ]
  },
  {
   "cell_type": "code",
   "execution_count": 39,
   "metadata": {
    "collapsed": false
   },
   "outputs": [
    {
     "data": {
      "text/plain": [
       "([1//2,y,0],0)"
      ]
     },
     "execution_count": 39,
     "metadata": {},
     "output_type": "execute_result"
    }
   ],
   "source": [
    "(a,r) = divrem(y^3+0, G...)"
   ]
  },
  {
   "cell_type": "code",
   "execution_count": 40,
   "metadata": {
    "collapsed": false
   },
   "outputs": [
    {
     "data": {
      "text/latex": [
       "$y^{3}$"
      ],
      "text/plain": [
       "Dict{Tuple{UInt16,UInt16},Rational{BigInt}} with 1 entry:\n",
       "  (0x0003,0x0000) => 1//1"
      ]
     },
     "execution_count": 40,
     "metadata": {},
     "output_type": "execute_result"
    }
   ],
   "source": [
    "a[1]*G[1]+a[2]*G[2]+a[3]*G[3]"
   ]
  },
  {
   "cell_type": "code",
   "execution_count": 41,
   "metadata": {
    "collapsed": false
   },
   "outputs": [
    {
     "data": {
      "text/plain": [
       "2-element Array{Dict{Tuple{UInt16,UInt16},Rational{BigInt}},1}:\n",
       " x-2//1*y^2\n",
       " y^3       "
      ]
     },
     "execution_count": 41,
     "metadata": {},
     "output_type": "execute_result"
    }
   ],
   "source": [
    "@variables Rational{BigInt} x y\n",
    "set_order_lex()\n",
    "G=groebner(x^3-2*x*y, x^2*y-2*y^2+x)"
   ]
  },
  {
   "cell_type": "code",
   "execution_count": 42,
   "metadata": {
    "collapsed": false
   },
   "outputs": [
    {
     "data": {
      "text/plain": [
       "([y,2//1],0)"
      ]
     },
     "execution_count": 42,
     "metadata": {},
     "output_type": "execute_result"
    }
   ],
   "source": [
    "(a,r) = divrem(y*x+0, G...)"
   ]
  },
  {
   "cell_type": "code",
   "execution_count": 43,
   "metadata": {
    "collapsed": false
   },
   "outputs": [
    {
     "data": {
      "text/latex": [
       "$xy$"
      ],
      "text/plain": [
       "Dict{Tuple{UInt16,UInt16},Rational{BigInt}} with 1 entry:\n",
       "  (0x0001,0x0001) => 1//1"
      ]
     },
     "execution_count": 43,
     "metadata": {},
     "output_type": "execute_result"
    }
   ],
   "source": [
    "a[1]*G[1]+a[2]*G[2]"
   ]
  },
  {
   "cell_type": "code",
   "execution_count": 44,
   "metadata": {
    "collapsed": false
   },
   "outputs": [
    {
     "data": {
      "text/plain": [
       "([x+2//1*y^2,4//1*y],0)"
      ]
     },
     "execution_count": 44,
     "metadata": {},
     "output_type": "execute_result"
    }
   ],
   "source": [
    "(a,r) = divrem(x^2+0, G...)"
   ]
  },
  {
   "cell_type": "code",
   "execution_count": 45,
   "metadata": {
    "collapsed": false
   },
   "outputs": [
    {
     "data": {
      "text/latex": [
       "$x^{2}$"
      ],
      "text/plain": [
       "Dict{Tuple{UInt16,UInt16},Rational{BigInt}} with 1 entry:\n",
       "  (0x0002,0x0000) => 1//1"
      ]
     },
     "execution_count": 45,
     "metadata": {},
     "output_type": "execute_result"
    }
   ],
   "source": [
    "a[1]*G[1]+a[2]*G[2]"
   ]
  },
  {
   "cell_type": "code",
   "execution_count": 46,
   "metadata": {
    "collapsed": false
   },
   "outputs": [
    {
     "data": {
      "text/plain": [
       "([-1//2,0],0)"
      ]
     },
     "execution_count": 46,
     "metadata": {},
     "output_type": "execute_result"
    }
   ],
   "source": [
    "(a,r) = divrem(y^2-1//2*x, G...)"
   ]
  },
  {
   "cell_type": "code",
   "execution_count": 47,
   "metadata": {
    "collapsed": false
   },
   "outputs": [
    {
     "data": {
      "text/latex": [
       "$-\\frac{1}{2}x+y^{2}$"
      ],
      "text/plain": [
       "Dict{Tuple{UInt16,UInt16},Rational{BigInt}} with 2 entries:\n",
       "  (0x0001,0x0000) => -1//2\n",
       "  (0x0000,0x0002) => 1//1"
      ]
     },
     "execution_count": 47,
     "metadata": {},
     "output_type": "execute_result"
    }
   ],
   "source": [
    "a[1]*G[1]+a[2]*G[2]"
   ]
  },
  {
   "cell_type": "code",
   "execution_count": 48,
   "metadata": {
    "collapsed": false
   },
   "outputs": [
    {
     "data": {
      "text/latex": [
       "$x^{2}$"
      ],
      "text/plain": [
       "Dict{Tuple{UInt16,UInt16},Rational{BigInt}} with 1 entry:\n",
       "  (0x0002,0x0000) => 1//1"
      ]
     },
     "execution_count": 48,
     "metadata": {},
     "output_type": "execute_result"
    }
   ],
   "source": [
    "(x+2//1*y^2)*(x-2//1*y^2)+(4y+0)*(y^3+0)"
   ]
  },
  {
   "cell_type": "code",
   "execution_count": 49,
   "metadata": {
    "collapsed": false
   },
   "outputs": [
    {
     "data": {
      "text/plain": [
       "2-element Array{Dict{Tuple{UInt16,UInt16},Rational{BigInt}},1}:\n",
       " x-2//1*y^2\n",
       " y^3       "
      ]
     },
     "execution_count": 49,
     "metadata": {},
     "output_type": "execute_result"
    }
   ],
   "source": [
    "@variables Rational{BigInt} x y\n",
    "set_order_lex()\n",
    "G=groebner(x^2*y-2*y^2+x, x^3-2*x*y)"
   ]
  },
  {
   "cell_type": "code",
   "execution_count": 50,
   "metadata": {
    "collapsed": false
   },
   "outputs": [
    {
     "data": {
      "text/latex": [
       "$0$"
      ],
      "text/plain": [
       "Dict{Tuple{UInt16,UInt16},Rational{BigInt}} with 0 entries"
      ]
     },
     "execution_count": 50,
     "metadata": {},
     "output_type": "execute_result"
    }
   ],
   "source": [
    "rem(5*G[1]-3*G[2]+x^2, G...)"
   ]
  },
  {
   "cell_type": "code",
   "execution_count": 51,
   "metadata": {
    "collapsed": false
   },
   "outputs": [
    {
     "data": {
      "text/plain": [
       "4-element Array{Dict{Tuple{UInt16,UInt16},Rational{BigInt}},1}:\n",
       " x^2*y^2+x*y \n",
       " -y+y^4      \n",
       " x*y^3+x^2*y \n",
       " -x*y^2+x^3*y"
      ]
     },
     "execution_count": 51,
     "metadata": {},
     "output_type": "execute_result"
    }
   ],
   "source": [
    "set_order_grlex()\n",
    "G=groebner(x^2*y^2+x*y, y^4-y)"
   ]
  },
  {
   "cell_type": "code",
   "execution_count": 52,
   "metadata": {
    "collapsed": false
   },
   "outputs": [
    {
     "data": {
      "text/plain": [
       "(x,y,z)"
      ]
     },
     "execution_count": 52,
     "metadata": {},
     "output_type": "execute_result"
    }
   ],
   "source": [
    "@variables Rational{BigInt} x y z"
   ]
  },
  {
   "cell_type": "code",
   "execution_count": 53,
   "metadata": {
    "collapsed": false
   },
   "outputs": [
    {
     "data": {
      "text/plain": [
       "2-element Array{Dict{Tuple{UInt16,UInt16,UInt16},Rational{BigInt}},1}:\n",
       " y^4+z^3-1//1+x^5\n",
       " z^2-1//1+x^3+y^2"
      ]
     },
     "execution_count": 53,
     "metadata": {},
     "output_type": "execute_result"
    }
   ],
   "source": [
    "I=[x^5+y^4+z^3-1, x^3+y^2+z^2-1]"
   ]
  },
  {
   "cell_type": "code",
   "execution_count": 54,
   "metadata": {
    "collapsed": false
   },
   "outputs": [
    {
     "data": {
      "text/plain": [
       "4-element Array{Dict{Tuple{UInt16,UInt16,UInt16},Rational{BigInt}},1}:\n",
       " z^2-1//1+x^3+y^2                                                                                                                                   \n",
       " -y^4-z^3+x^2*z^2+1//1+x^2*y^2-x^2                                                                                                                  \n",
       " -2//1*z^2+x*y^4+y^4+z^4+x*z^3+1//1-x-2//1*y^2+2//1*y^2*z^2                                                                                         \n",
       " x^2*z^3-z^4-2//1+x^2*z^4+2//1*x*y^2*z^2-2//1*x^2*z^2-y^4*z^2+x*z^4-2//1*x*y^2-x*z^3+2//1*x+y^6-2//1*y^2*z^2-2//1*x*z^2+3//1*z^2+y^2*z^3+z^3+y^2-z^5"
      ]
     },
     "execution_count": 54,
     "metadata": {},
     "output_type": "execute_result"
    }
   ],
   "source": [
    "set_order_grevlex()\n",
    "groebner(I...)"
   ]
  },
  {
   "cell_type": "code",
   "execution_count": 55,
   "metadata": {
    "collapsed": false
   },
   "outputs": [
    {
     "data": {
      "text/plain": [
       "7-element Array{Dict{Tuple{UInt16,UInt16,UInt16},Rational{BigInt}},1}:\n",
       " z^2-1//1+x^3+y^2                                                                                                                                                                                                                                                                                                                                                                                                                                                                                                                                                                                                              \n",
       " -y^4-z^3+x^2*z^2+1//1+x^2*y^2-x^2                                                                                                                                                                                                                                                                                                                                                                                                                                                                                                                                                                                             \n",
       " -2//1*z^2+x*y^4+y^4+z^4+x*z^3+1//1-x-2//1*y^2+2//1*y^2*z^2                                                                                                                                                                                                                                                                                                                                                                                                                                                                                                                                                                    \n",
       " 1//3*y^8*z^3-5//12*y^10-7//6*z^9+17//6*y^6*z^2+1//4*y^8*z^2+12//1*y^2*z^2+y^6*z^5-17//6*y^2*z^8-14//3*y^2*z^3-7//2*y^4*z^6+83//12*z^4-2//1*x^2*z^2-13//1*y^4*z^2+x*z^4-31//4*z^6+1//3*y^10*z-7//6*z^10-1//3*y^6+55//12*z^8+x^2*z^3+29//6*y^4-16//1*y^2*z^4+1//2*y^10*z^2+1//2*y^8-1//12*x*z^6+x^2*z^4+131//12*y^4*z^4-4//1*y^2*z^7+119//12*y^2*z^6-1//6*y^8*z^4-8//3*y^4*z-2//3*x*z^9-1//6*x*z^10-1//4*x*z^8-15//2*z^5+7//6*x*z^7+21//4*z^7+5//3*y^2*z-5//3*y^6*z^4-17//6*y^6*z^3+17//2*y^2*z^5+23//4*y^4*z^3+2//3*y^6*z-1//3*y^4*z^7-3//1*y^4*z^5-31//12*z^2-x*z^5+41//12*z^3-55//12*y^2                                     \n",
       " -x*z+x*y^2*z+11//24*y^8*z^3-7//24*y^10+7//12*z^9+31//12*y^6*z^2-x*y^2-3//8*y^8*z^2+43//8*y^2*z^2+3//4*y^6*z^5-17//8*y^2*z^8+1//4*y^8*z+85//12*y^2*z^3-53//24*y^4*z^6+127//24*z^4-29//4*y^4*z^2+1//2*x*z^4-103//12*z^6+z+x-3//8*y^10*z-7//8*z^10-1//3*y^6+31//8*z^8-151//12*y^2*z^4+19//12*y^4+3//8*y^10*z^2-1//4*y^8-23//24*x*z^6+113//12*y^4*z^4+13//24*y^2*z^7+239//24*y^2*z^6-1//8*y^8*z^4+15//4*y^4*z-1//2*x*z^3-7//24*x*z^9-1//8*x*z^10+1//2*x*z^8+17//6*z^5+7//8*x*z^7-11//12*z^7-1//1-29//8*y^2*z-5//2*y^6*z^4+5//6*y^6*z^3-59//12*y^2*z^5-55//8*y^4*z^3-y^6*z-1//4*y^4*z^7+11//6*y^4*z^5-17//24*z^2-3//2*z^3+7//24*y^2\n",
       " -2//1*y^8*z^3+4//1*y^10-31//1*z^9+x*z^11-24//1*y^6*z^2+y^8*z^5-70//1*y^2*z^2+17//1*y^2*z^9+10//1*y^6*z^5+24//1*y^2*z^8-77//1*y^2*z^3+17//1*y^4*z^6-62//1*z^4+76//1*y^4*z^2+77//1*z^6+4//1*y^10*z+7//1*z^10+8//1*y^6-3//1*y^10*z^3-6//1*y^6*z^6-42//1*z^8+108//1*y^2*z^4-32//1*y^4-2//1*y^10*z^2+8//1*x*z^6-64//1*y^4*z^4-68//1*y^2*z^7-80//1*y^2*z^6-2//1*y^8*z^4-32//1*y^4*z+x*z^9+4//1*x*z^10-10//1*x*z^8-39//1*z^5-4//1*x*z^7+55//1*z^7+20//1*y^2*z+20//1*y^6*z^4+7//1*z^11-16//1*y^6*z^3+106//1*y^2*z^5+90//1*y^4*z^3+8//1*y^6*z+21//1*y^4*z^7-78//1*y^4*z^5+20//1*z^2+8//1*z^3+2//1*y^4*z^8+20//1*y^2                    \n",
       " 5//1*z^8-30//1*y^2*z^4+13//1*y^4+y^12+10//1*z^4+2//1*y^8+3//1*y^8*z^3-y^10-10//1*y^6*z^4+z^9-6//1*y^4*z^3-30//1*y^4*z^2+20//1*y^6*z^2+30//1*y^4*z^4+20//1*y^2*z^6-13//1*z^6-5//1*y^8*z^2-z^10-10//1*y^6+20//1*y^2*z^2-5//1*z^2-5//1*y^2*z^8+3//1*z^3-5//1*y^2-7//1*y^4*z^6                                                                                                                                                                                                                                                                                                                                                    "
      ]
     },
     "execution_count": 55,
     "metadata": {},
     "output_type": "execute_result"
    }
   ],
   "source": [
    "set_order_lex()\n",
    "groebner(I...)"
   ]
  },
  {
   "cell_type": "code",
   "execution_count": 56,
   "metadata": {
    "collapsed": false
   },
   "outputs": [
    {
     "data": {
      "text/plain": [
       "2-element Array{Dict{Tuple{UInt16,UInt16,UInt16},Rational{BigInt}},1}:\n",
       " y^4+z^3-1//1+x^5\n",
       " z^2-1//1+x^3+y^3"
      ]
     },
     "execution_count": 56,
     "metadata": {},
     "output_type": "execute_result"
    }
   ],
   "source": [
    "I=[x^5+y^4+z^3-1, x^3+y^3+z^2-1]"
   ]
  },
  {
   "cell_type": "code",
   "execution_count": 57,
   "metadata": {
    "collapsed": false
   },
   "outputs": [
    {
     "data": {
      "text/plain": [
       "3-element Array{Dict{Tuple{UInt16,UInt16,UInt16},Rational{BigInt}},1}:\n",
       " z^2-1//1+x^3+y^3                                         \n",
       " x^2*y^3-y^4-z^3+x^2*z^2+1//1-x^2                         \n",
       " 2//1*y^3*z^2+x*y^4+z^4-2//1*z^2+x*z^3+1//1-x+y^6-2//1*y^3"
      ]
     },
     "execution_count": 57,
     "metadata": {},
     "output_type": "execute_result"
    }
   ],
   "source": [
    "set_order_grevlex()\n",
    "groebner(I...)"
   ]
  },
  {
   "cell_type": "code",
   "execution_count": 58,
   "metadata": {
    "collapsed": false
   },
   "outputs": [
    {
     "data": {
      "text/plain": [
       "8-element Array{Dict{Tuple{UInt16,UInt16,UInt16},Rational{BigInt}},1}:\n",
       " z^2-1//1+x^3+y^3                                                                                                                                                                                                                                                                                                                                                                                                                                                                                                                                                                                                                                                                                                                                                                                                                                                                                                                                                                                                                                                                                                                                                                                                                                                                                                                                                                                                                                                                                                                                                                                                                                                                                                                                                                                                                                                                                                                                                                                                                                                                                                                                                                                                                                                                                                                                                                                                                                                                                                                                                                                                                                                                                                                                                                                                                                                                                                                                                                                                                                                                                                                                                                                                                                                                                                                                                                                                                                                                                                                                                                                                                                                                                                                                                                                                                                                                                                                                                                                                                                                                                                                                                                                                                                                                                                                                                                                                                                                                                                                                                                                                                                                                                                                                                                                                                                                                                                                                                                                                                                                                                                                                                                                                                                                                                                                                                                                                                                                                                                                                                                                                                                                                                                                                                                                                                                                                                                                                                                                                  \n",
       " x^2*y^3-y^4-z^3+x^2*z^2+1//1-x^2                                                                                                                                                                                                                                                                                                                                                                                                                                                                                                                                                                                                                                                                                                                                                                                                                                                                                                                                                                                                                                                                                                                                                                                                                                                                                                                                                                                                                                                                                                                                                                                                                                                                                                                                                                                                                                                                                                                                                                                                                                                                                                                                                                                                                                                                                                                                                                                                                                                                                                                                                                                                                                                                                                                                                                                                                                                                                                                                                                                                                                                                                                                                                                                                                                                                                                                                                                                                                                                                                                                                                                                                                                                                                                                                                                                                                                                                                                                                                                                                                                                                                                                                                                                                                                                                                                                                                                                                                                                                                                                                                                                                                                                                                                                                                                                                                                                                                                                                                                                                                                                                                                                                                                                                                                                                                                                                                                                                                                                                                                                                                                                                                                                                                                                                                                                                                                                                                                                                                                                  \n",
       " 2//1*y^3*z^2+x*y^4+z^4-2//1*z^2+x*z^3+1//1-x+y^6-2//1*y^3                                                                                                                                                                                                                                                                                                                                                                                                                                                                                                                                                                                                                                                                                                                                                                                                                                                                                                                                                                                                                                                                                                                                                                                                                                                                                                                                                                                                                                                                                                                                                                                                                                                                                                                                                                                                                                                                                                                                                                                                                                                                                                                                                                                                                                                                                                                                                                                                                                                                                                                                                                                                                                                                                                                                                                                                                                                                                                                                                                                                                                                                                                                                                                                                                                                                                                                                                                                                                                                                                                                                                                                                                                                                                                                                                                                                                                                                                                                                                                                                                                                                                                                                                                                                                                                                                                                                                                                                                                                                                                                                                                                                                                                                                                                                                                                                                                                                                                                                                                                                                                                                                                                                                                                                                                                                                                                                                                                                                                                                                                                                                                                                                                                                                                                                                                                                                                                                                                                                                         \n",
       " 820093//288*x*z^13+5//1*x*z-12//1*x*y^2*z-5011187//972*y^5*z^12+196783//3888*y^10-22648957//1944*y^5*z^5+32836639//2592*z^9-69823//1944*y^2*z^16-128446523//7776*y^3*z^5-23785315//3888*y*z^6-4551529//486*y^5*z^4-17557669//3888*y^9*z^7+7211327//1944*y^5*z^6+37493//24*y^9*z^4+269197//3888*y^2*z^2+2668523//3888*y^12*z^8-882389//324*y^2*z^8-4603357//3888*y^8*z-4920281//486*y^9*z^6-2274307//3888*x*z^17+357047//2592*y^6*z^16+123883//3888*y*z^2-3424889//3888*y^14*z^2-89966545//7776*z^12-147217//648*y^9*z^11+4786579//3888*y^9*z+693821//3888*y^4*z^12-33719//3888*y^14+310465//1944*y^9*z^14+56751797//2592*y^3*z^8+5657717//324*z^10-89921//1944*y^6-10057949//7776*y^6*z^14+7257919//3888*y^11*z^9+16868221//3888*y^3*z^2-31405//54*y^5*z^3+2849465//648*y^10*z^2-270655//3888*y^8+160163//81*x*z^14+1180093//1296*y^4*z^16-14439323//7776*y^3*z^16+6413327//7776*y^6*z^12-7703591//1296*y^2*z^6-871439//2592*y^3*z^17-15580525//1944*y^7*z^3-15037//243*x*z^19-615715//1296*x*z^9+109258//243*y^5*z-18490621//2592*y^11*z^6-3184595//486*y^5*z^11+530431//486*y^12*z^6+63133//3888*y^3+7091971//7776*x*z^7-3768173//1944*y^7*z-3796163//648*y^5*z^10+62093//1296*y^12*z^12-705055//486*y^12*z^3+13952111//7776*y^10*z^4+41801113//3888*y^3*z^13-62093//7776*y^14*z^11-69123395//7776*y^8*z^9-3812519//2592*y^14*z^3-3942919//864*y^11*z^5-115379//486*y^4*z^14+21700007//7776*z^11+8885575//3888*y^2*z^5+1206181//486*y^7*z^13-2316565//3888*y*z^16+x^2+83691797//3888*y^4*z^7+47581//3888*z^2-4934963//432*y*z^7+129546847//7776*y^4*z^8+2700925//3888*y^13*z^9-1641901//1296*y^2*z^15+212147//432*y^7*z^15-27887//3888*y^12+4704931//3888*y^11*z+186577//3888*y^11+4595723//3888*y^12*z^7-105032993//7776*y^4*z^10-2135233//1944*y^2*z^13+12082//243*y^5-15511//1296*y^3*z^18-16622791//2592*y^4*z^11+12//1*x*y^2-945749//3888*y^14*z+1195327//3888*y^11*z^12+62093//1296*y*z^19-4162441//972*y^8*z^2+12725305//1944*y^2*z^9+3247837//3888*y^4*z^15-281903//243*y^12*z^4+1186199//1296*y^7*z^12+1642999//486*y^7*z^4+683023//1944*y^5*z^16+13970663//3888*z^4+1224587//3888*y^14*z^9+1035847//648*y^5*z^14+68978845//3888*y^3*z^7-10786067//3888*y^6*z^13-46707793//3888*y^3*z^11+4824487//3888*y^3*z+798427//648*y^8*z^11-293434//243*y^13*z^4-17653931//3888*y^8*z^7+9873259//3888*y^9*z^8-17385025//3888*y*z^12+124369//3888*y^9-294905//7776*z^20+20826185//7776*y^11*z^10-2217817//1296*y*z^13+132719201//7776*y^6*z^6-364105//864*y^14*z^5-3//1*x^2*z^3+x^2*y*z-3447245//3888*y^12*z^2+18125525//7776*y^8*z^13-62093//7776*y^6*z^17+66547639//7776*y^8*z^6-744575//216*y^7*z^10-24365701//2592*y^4*z^4-80508941//3888*y^3*z^10+115333//243*y^4*z+1471927//7776*x*z^15-7//1*x*y^3-47738575//2592*y^6*z^8+x^2*z^6+17195287//7776*z^5+2592223//3888*y*z^14-1576189//486*y*z^8-13532807//1944*y^7*z^2-43983913//7776*y^10*z^7+62093//7776*y^10*z^14-61589201//7776*y^6*z^3-5850743//7776*y^4*z^3+287125//1944*y^12*z^11+153943//486*y^12*z^9-y*z+66891659//3888*y^7*z^5+310465//3888*y^2*z^18+128209//96*y^10*z^9-12//1*y^2+1350535//2592*y^8*z^14-7025765//648*y^7*z^8+61387//81*y^14*z^7-1896895//7776*z^19-1896163//3888*z^17-2014181//486*y^8*z^10-269935//72*y^8*z^3-62093//3888*y^11*z^13+310465//3888*y^13*z^11-6997327//2592*x*z^11-13363721//7776*y^3*z^9-13586267//1944*y^6*z^2+115182683//7776*y^8*z^5+884813//2592*y^10*z^13+7//1*x*y^3*z-1285447//972*y^5*z^13-55627499//7776*y^3*z^4+49492879//2592*y^6*z^5-62093//3888*y^3*z^19-4288277//3888*y^10*z^8+18930365//3888*z^15+2157695//7776*y^4*z^17-16274735//3888*y^6*z^7-19495//216*y^5*z^9-69113//3888*y*z^15-39065//3888*y^13-50374091//7776*z^6+4704445//3888*y^10*z+5695771//1296*y^9*z^2+47175827//7776*y^10*z^3+1493281//1944*y^13*z^6-19506331//3888*z^8+6250//243*y^4-1726417//1944*y^13*z^2-11042377//1296*y^7*z^9-2247317//3888*y^7*z^7+426449//324*y^9*z^10+165697//1296*y^9*z^12-40125//32*y^14*z^4+7103509//1944*y^8*z^12-8543879//972*y^10*z^6+644123//1944*y^13*z^10+3905987//3888*y^13*z^8+4517213//1944*y^10*z^11+5657215//1296*y^11*z^2-1112293//162*y^9*z^5+1775483//2592*x*z^12+24044455//3888*y^8*z^4+450211//7776*y^14*z^10-10152877//972*y^2*z^7+62093//3888*y^7*z^16+525857//3888*y^6*z^15+572525//864*y^14*z^8-10235095//3888*y^3*z^15-62093//7776*z^21-8397505//2592*x*z^10+3113069//1944*y^5*z^2-380585//1944*y^13*z^5+12//1*y^2*z+1169533//972*y*z^3+1660715//3888*y^2*z^12-x^2*z+4906787//972*y^6*z^10+20484593//7776*y^3*z^14-x^2*y-10136435//972*y^8*z^8-78227581//7776*y^6*z^9+64403//48*y^10*z^12+10035251//3888*y^2*z^11+604571//486*z^3-955469//3888*y^12*z-214169//1296*y*z^17+999865//2592*y^14*z^6+4339531//1944*z^16+4109437//7776*z^14+431569//1944*y^12*z^10+24677//486*y^12*z^5-2191181//432*y^11*z^7-1093649//864*y^11*z^8+62093//7776*y^4*z^18+11892013//648*y^5*z^7-1974401//7776*x*z^18+325927//1296*y^2*z^17+1111699//972*y^2*z^3+7163699//1944*y^4*z^6-62093//7776*x*z^20+15841297//7776*y^11*z^4-75897065//7776*z^13-62093//7776*y^8*z^15-14644769//2592*y^10*z^5+27747047//7776*y^3*z^3+2550619//648*y^9*z^9-515045//432*y^7*z^11-3//1*x^2*z^2+407632//243*y^4*z^2+5//4*x*z^4+2//1*x^2*z^5-45834331//7776*y^3*z^6-4//1*z-5//1*x+387971//3888*y*z^18+131917//324*y^9*z^13+110635//972*y^4*z^13+2132911//324*y^2*z^10-2836079//3888*z^18+25380091//1944*y^5*z^8+11665603//7776*y^11*z^11+14077583//3888*y^2*z^4+645061//1296*y*z^11+217021//7776*x*z^6+3//1*x^2*z^4+3571399//1944*y^7*z^14+1410127//648*y*z^5+3//4*x*z^3-942347//3888*y^13*z+10699009//7776*x*z^8-8062141//3888*y^2*z^14+1096481//144*y^6*z^11+47780995//7776*y^11*z^3-51629797//3888*z^7+4//1+18230531//1944*y*z^9-2701393//3888*x*z^16-2832059//1944*y^13*z^3+1078505//288*y^6*z^4+y+2433767//243*y*z^10-142895//1944*y^7+3906707//648*y^9*z^3+51887995//7776*y^3*z^12-3828923//1944*y^6*z-31024403//2592*y^4*z^5+3527597//972*y*z^4+2195017//144*y^7*z^6-15910187//3888*y^4*z^9+x*z^5+4334645//3888*y^13*z^7+915737//648*y^5*z^15+2017553//864*y^10*z^10                                                    \n",
       " 585259//108*x*z^13+9//1*x*z-27//1*x*y^2*z-2468096//243*y^5*z^12-79517//972*y^10-23357087//972*y^5*z^5+29531183//1296*z^9-210943//1944*y^2*z^16-15699683//486*y^3*z^5-2558140//243*y*z^6-16545389//972*y^5*z^4-18382733//1944*y^9*z^7+4520299//972*y^5*z^6+1361629//324*y^9*z^4-33347//972*y^2*z^2+322844//243*y^12*z^8-1395853//216*y^2*z^8-3283619//1944*y^8*z-38206769//1944*y^9*z^6-275920//243*x*z^17+19949//72*y^6*z^16-117425//972*y*z^2-1500209//972*y^14*z^2-84649877//3888*z^12-103399//216*y^9*z^11+3481421//1944*y^9*z+1373297//3888*y^4*z^12+18625//972*y^14+310985//972*y^9*z^14+9568087//216*y^3*z^8+44942477//1296*z^10+99529//486*y^6-5079635//1944*y^6*z^14+12994009//3888*y^11*z^9+7925977//972*y^3*z^2+35243//108*y^5*z^3+1279303//162*y^10*z^2+34805//972*y^8+1277051//324*x*z^14+771331//432*y^4*z^16-892627//243*y^3*z^16+8030785//3888*y^6*z^12-1675367//162*y^2*z^6-290107//432*y^3*z^17-16177499//972*y^7*z^3-477679//3888*x*z^19-588079//1296*x*z^9+150658//243*y^5*z-17560223//1296*y^11*z^6-12022495//972*y^5*z^11+3911539//1944*y^12*z^6-149015//972*y^3+6288353//3888*x*z^7-2719867//972*y^7*z-1161359//108*y^5*z^10+62197//648*y^12*z^12-5320567//1944*y^12*z^3+17408485//3888*y^10*z^4+82420621//3888*y^3*z^13-62197//3888*y^14*z^11-66936577//3888*y^8*z^9-447539//162*y^14*z^3-436225//54*y^11*z^5-147232//243*y^4*z^14+14325983//1944*z^11+5383087//972*y^2*z^5+9150649//1944*y^7*z^13-2278337//1944*y*z^16+19792573//486*y^4*z^7-162623//972*z^2-4854419//216*y*z^7+132624275//3888*y^4*z^8+2612831//1944*y^13*z^9-821969//324*y^2*z^15+318035//324*y^7*z^15+22513//972*y^12+3392969//1944*y^11*z-82919//972*y^11+4410193//1944*y^12*z^7-25434103//972*y^4*z^10-3672235//1944*y^2*z^13+9277//243*y^5-1175//54*y^3*z^18-5566013//432*y^4*z^11+27//1*x*y^2-683551//1944*y^14*z+150205//243*y^11*z^12+62197//648*y*z^19-3896771//486*y^8*z^2+23634265//1944*y^2*z^9+5993371//3888*y^4*z^15-2273447//972*y^12*z^4+945481//648*y^7*z^12+4016549//972*y^7*z^4+684167//972*y^5*z^16+13367677//1944*z^4+2422655//3888*y^14*z^9+485837//162*y^5*z^14+125604427//3888*y^3*z^7-20912123//3888*y^6*z^13-97789063//3888*y^3*z^11+3522245//1944*y^3*z+1245179//648*y^8*z^11-4658429//1944*y^13*z^4-14650573//1944*y^8*z^7+4383565//972*y^9*z^8-16970189//1944*y*z^12-119855//972*y^9-18193//243*z^20+5006425//972*y^11*z^10-2286719//648*y*z^13+135926551//3888*y^6*z^6-24436//27*y^14*z^5-5//1*x^2*z^3-1513331//972*y^12*z^2+4468807//972*y^8*z^13-62197//3888*y^6*z^17+69509327//3888*y^8*z^6-20197//3*y^7*z^10-22074205//1296*y^4*z^4-154747355//3888*y^3*z^10+330233//486*y^4*z+1881863//3888*x*z^15-18//1*x*y^3-1916497//54*y^6*z^8+3//1*x^2*z^6+10608523//1944*z^5+2618267//1944*y*z^14-15481069//1944*y*z^8-6190703//486*y^7*z^2-5435419//486*y^10*z^7+62197//3888*y^10*z^14-32085167//1944*y^6*z^3-65795//1944*y^4*z^3+562279//1944*y^12*z^11+1169275//1944*y^12*z^9+31341785//972*y^7*z^5+310985//1944*y^2*z^18+752717//324*y^10*z^9-27//1*y^2+677117//648*y^8*z^14-13276025//648*y^7*z^8+1841305//1296*y^14*z^7-939481//1944*z^19-423455//486*z^17-33102991//3888*y^8*z^10-230074//27*y^8*z^3-62197//1944*y^11*z^13+310985//1944*y^13*z^11-1792241//324*x*z^11-1148833//3888*y^3*z^9-3112483//243*y^6*z^2+13836461//486*y^8*z^5+442429//648*y^10*z^13+18//1*x*y^3*z-1406837//486*y^5*z^13-45915757//3888*y^3*z^4+1287217//36*y^6*z^5-62197//1944*y^3*z^19-4695277//1944*y^10*z^8+9179513//972*z^15+1078499//1944*y^4*z^17-21773417//3888*y^6*z^7+225721//324*y^5*z^9+12601//243*y*z^15+16195//972*y^13-42613627//3888*z^6+3393455//1944*y^10*z+2558201//324*y^9*z^2+23167685//1944*y^10*z^3+2667577//1944*y^13*z^6-11709841//972*z^8-4817//243*y^4-379001//243*y^13*z^2-5368237//324*y^7*z^9+461875//972*y^7*z^7+216385//81*y^9*z^10+42407//216*y^9*z^12-1059965//432*y^14*z^4+6790313//972*y^8*z^12-65292989//3888*y^10*z^6+1268849//1944*y^13*z^10+3714277//1944*y^13*z^8+17348077//3888*y^10*z^11+2534063//324*y^11*z^2-7934489//648*y^9*z^5+1223257//1296*x*z^12+19730045//1944*y^8*z^4+113819//972*y^14*z^10-40032863//1944*y^2*z^7+62197//1944*y^7*z^16+979745//3888*y^6*z^15+69253//54*y^14*z^8-19475671//3888*y^3*z^15-62197//3888*z^21-494006//81*x*z^10+1603811//486*y^5*z^2-495835//972*y^13*z^5+27//1*y^2*z+3592685//1944*y*z^3+2003287//1944*y^2*z^12+35006123//3888*y^6*z^10+1379251//243*y^3*z^14-9515029//486*y^8*z^8-81555203//3888*y^6*z^9+3421945//1296*y^10*z^12+4967135//972*y^2*z^11+3763271//1944*z^3-694243//1944*y^12*z-37357//108*y*z^17+853763//1296*y^14*z^6+17694533//3888*z^16+324893//972*z^14+102851//243*y^12*z^10-126505//1944*y^12*z^5-1438795//144*y^11*z^7-610735//216*y^11*z^8+62197//3888*y^4*z^18+5653507//162*y^5*z^7-1943665//3888*x*z^18+39911//81*y^2*z^17+3326843//1944*y^2*z^3+15863623//3888*y^4*z^6-62197//3888*x*z^20+18625895//3888*y^11*z^4-38272073//1944*z^13-62197//3888*y^8*z^15-810656//81*y^10*z^5+8058817//972*y^3*z^3+4993523//648*y^9*z^9-274297//108*y^7*z^11+x^2*z^7-4//1*x^2*z^2+1690805//486*y^4*z^2+3//1*x*z^4+5//1*x^2*z^5-56776217//3888*y^3*z^6-9//1*z-9//1*x+46961//243*y*z^18+85697//108*y^9*z^13+124853//486*y^4*z^13+8306009//648*y^2*z^10-2773717//1944*z^18+12742687//486*y^5*z^8+11520437//3888*y^11*z^11+13455157//1944*y^2*z^4+359333//216*y*z^11-171599//1944*x*z^6+7021567//1944*y^7*z^14+3457595//648*y*z^5-680149//1944*y^13*z+5526469//1944*x*z^8-3862621//972*y^2*z^14+19665773//1296*y^6*z^11+11704235//972*y^11*z^3-50399609//1944*z^7+9//1+4210861//243*y*z^9-5079481//3888*x*z^16-2664679//972*y^13*z^3+5916637//1296*y^6*z^4+38981425//1944*y*z^10+69883//486*y^7+7696165//648*y^9*z^3+45846113//3888*y^3*z^12-2784991//972*y^6*z-887429//36*y^4*z^5+13502785//1944*y*z^4+19909601//648*y^7*z^6-12031801//1944*y^4*z^9+3//2*x*z^5+4052521//1944*y^13*z^7+75122//27*y^5*z^15+5615981//1296*y^10*z^10                                                                                                                                                                                       \n",
       " 1277093//7776*x*z^13+2//1*x*z-6493751//17496*y^5*z^12-1174333//34992*y^10-18535223//17496*y^5*z^5+326326//729*z^9-376315//34992*y^2*z^16-4967245//4374*y^3*z^5-256829//2187*y*z^6-1604699//4374*y^5*z^4-972461//2187*y^9*z^7-5292641//17496*y^5*z^6+4099939//11664*y^9*z^4-1187455//34992*y^2*z^2+389551//8748*y^12*z^8-5028437//11664*y^2*z^8+817259//17496*y^8*z-1454837//2187*y^9*z^6-2698855//69984*x*z^17+261185//23328*y^6*z^16-1218073//34992*y*z^2-196225//8748*y^14*z^2-21454273//34992*z^12-133003//5832*y^9*z^11-777893//17496*y^9*z+112471//8748*y^4*z^12+250613//34992*y^14+222125//17496*y^9*z^14+42424103//23328*y^3*z^8+30624971//23328*z^10+1022135//17496*y^6-7506655//69984*y^6*z^14+4404103//69984*y^11*z^9+3891055//17496*y^3*z^2+56383//216*y^5*z^3+598613//3888*y^10*z^2+1226821//34992*y^8+443767//2916*x*z^14+1489043//23328*y^4*z^16-9605029//69984*y^3*z^16+5389457//34992*y^6*z^12-521381//3888*y^2*z^6-614141//23328*y^3*z^17-1660150//2187*y^7*z^3-163535//34992*x*z^19+1600469//23328*x*z^9-43378//2187*y^5*z-4737577//11664*y^11*z^6-6239263//17496*y^5*z^11+860033//17496*y^12*z^6-1344919//34992*y^3+946153//34992*x*z^7+696235//8748*y^7*z-742009//2916*y^5*z^10+44425//11664*y^12*z^12-2749969//34992*y^12*z^3+11468003//34992*y^10*z^4+27215087//34992*y^3*z^13-44425//69984*y^14*z^11-20168129//34992*y^8*z^9-1797889//23328*y^14*z^3-32731//243*y^11*z^5-1622543//34992*y^4*z^14+10510465//17496*z^11+6628477//17496*y^2*z^5+2445551//17496*y^7*z^13-1486403//34992*y*z^16+82980083//69984*y^4*z^7-1309927//34992*z^2-351121//432*y*z^7+103064435//69984*y^4*z^8+785005//17496*y^13*z^9-43247//432*y^2*z^15+449615//11664*y^7*z^15+250613//34992*y^12-795389//17496*y^11*z-1248691//34992*y^11+158494//2187*y^12*z^7-30731213//34992*y^4*z^10-718225//34992*y^2*z^13-29413//2187*y^5-5365//11664*y^3*z^18-3012031//5832*y^4*z^11+158203//17496*y^14*z+872405//34992*y^11*z^12+44425//11664*y*z^19-7674947//34992*y^8*z^2+2744041//8748*y^2*z^9+661867//17496*y^4*z^15-3310039//34992*y^12*z^4-84311//11664*y^7*z^12-2537123//8748*y^7*z^4+488675//17496*y^5*z^16+7320799//34992*z^4+1628711//69984*y^14*z^9+80563//972*y^5*z^14+24933521//34992*y^3*z^7-6334411//34992*y^6*z^13-82735585//69984*y^3*z^11-699161//17496*y^3*z-149135//7776*y^8*z^11-3162047//34992*y^13*z^4-1947773//69984*y^8*z^7+336577//4374*y^9*z^8-666692//2187*y*z^12-1266187//34992*y^9-193795//69984*z^20+11626231//69984*y^11*z^10-918205//5832*y*z^13+52849991//34992*y^6*z^6-59791//1296*y^14*z^5-101393//4374*y^12*z^2+5923523//34992*y^8*z^13-44425//69984*y^6*z^17+29182693//34992*y^8*z^6-915223//3888*y^7*z^10-234601//648*y^4*z^4-89174777//69984*y^3*z^10-54313//2187*y^4*z+2619449//69984*x*z^15-26889559//23328*y^6*z^8+27268337//69984*z^5+1918787//34992*y*z^14-19862143//34992*y*z^8-2559353//8748*y^7*z^2-14566699//34992*y^10*z^7+44425//69984*y^10*z^14-52987825//69984*y^6*z^3+18247517//69984*y^4*z^3+89815//8748*y^12*z^11+631759//34992*y^12*z^9+2//1*y*z+30909727//34992*y^7*z^5+222125//34992*y^2*z^18+717805//23328*y^10*z^9+323995//7776*y^8*z^14-6944063//11664*y^7*z^8+457223//11664*y^14*z^7-637177//34992*z^19-1109995//69984*z^17-26096155//69984*y^8*z^10-489187//972*y^8*z^3-44425//34992*y^11*z^13+222125//34992*y^13*z^11-2790745//11664*x*z^11+9389951//17496*y^3*z^9-1278583//4374*y^6*z^2+63744949//69984*y^8*z^5+209105//7776*y^10*z^13-343673//2187*y^5*z^13-343051//17496*y^3*z^4+11403491//11664*y^6*z^5-44425//34992*y^3*z^19-9140507//69984*y^10*z^8+22302653//69984*z^15+1526545//69984*y^4*z^17+1149559//4374*y^6*z^7+1044131//5832*y^5*z^9+76165//4374*y*z^15+237491//34992*y^13-335959//4374*z^6-2//1*x*y*z-869747//17496*y^10*z+293839//1944*y^9*z^2-x*z^2+29956543//69984*y^10*z^3+891121//34992*y^13*z^6-7179065//8748*z^8-47891//4374*y^4-830827//34992*y^13*z^2-3314095//5832*y^7*z^9+1333129//4374*y^7*z^7+435073//3888*y^9*z^10-31325//11664*y^9*z^12-168541//1944*y^14*z^4+952247//4374*y^8*z^12-36482669//69984*y^10*z^6+208925//8748*y^13*z^10+1011689//17496*y^13*z^8+4995035//34992*y^10*z^11+287521//1944*y^11*z^2-430759//1944*y^9*z^5-436135//11664*x*z^12+165673//17496*y^8*z^4+339305//69984*y^14*z^10-6578429//8748*y^2*z^7+44425//34992*y^7*z^16+456911//69984*y^6*z^15+111115//2592*y^14*z^8-10602997//69984*y^3*z^15-44425//69984*z^21-125515//729*x*z^10+2626225//17496*y^5*z^2-354533//8748*y^13*z^5-1005151//34992*y*z^3+2475415//34992*y^2*z^12+11243399//69984*y^6*z^10+20587543//69984*y^3*z^14-19074349//34992*y^8*z^8-34018261//34992*y^6*z^9+2242763//23328*y^10*z^12+836129//4374*y^2*z^11-607117//34992*z^3+158203//17496*y^12*z-95083//5832*y*z^17+72931//11664*y^14*z^6+13565093//69984*z^16-7954033//69984*z^14+455137//34992*y^12*z^10-68578//2187*y^12*z^5-1417253//3888*y^11*z^7-420709//2592*y^11*z^8+44425//69984*y^4*z^18+6131711//5832*y^5*z^7-639107//34992*x*z^18+2525//144*y^2*z^17-1000777//34992*y^2*z^3-28598633//69984*y^4*z^6-44425//69984*x*z^20+5470091//17496*y^11*z^4+x*y-56030677//69984*z^13-44425//69984*y^8*z^15-215965//1296*y^10*z^5+36291181//69984*y^3*z^3+354365//1296*y^9*z^9-54575//432*y^7*z^11+674599//4374*y^4*z^2-1//2*x*z^4-37215199//34992*y^3*z^6-2//1*z-x+225985//34992*y*z^18+40025//1458*y^9*z^13+545069//34992*y^4*z^13+2579827//5832*y^2*z^10-440941//8748*z^18+2290939//2187*y^5*z^8+7686377//69984*y^11*z^11+7556995//34992*y^2*z^4+2133181//11664*y*z^11-1980847//69984*x*z^6+4580449//34992*y^7*z^14+30862//81*y*z^5+1//4*x*z^3+171325//17496*y^13*z+4427383//34992*x*z^8-4391987//34992*y^2*z^14+13651993//23328*y^6*z^11+29810057//69984*y^11*z^3-63266461//69984*z^7+1//1+7490587//17496*y*z^9-1286021//34992*x*z^16-1351039//17496*y^13*z^3-1946329//5832*y^6*z^4-y+27617131//34992*y*z^10+939029//17496*y^7+560825//1296*y^9*z^3+6637291//34992*y^3*z^12+613129//8748*y^6*z-12665851//11664*y^4*z^5+1904011//8748*y*z^4+1811375//1458*y^7*z^6+x*y*z^2+7525711//69984*y^4*z^9+1//4*x*z^5+1980241//34992*y^13*z^7+592115//5832*y^5*z^15+2600449//23328*y^10*z^10\n",
       " -660//1*x*z^13+1712//1*y^5*z^12-80//1*y^10+2748//1*y^5*z^5-2504//1*z^9+148//1*y^2*z^16+3882//1*y^3*z^5+1442//1*y*z^6+2320//1*y^5*z^4+1806//1*y^9*z^7-324//1*y^5*z^6-552//1*y^9*z^4-80//1*y^2*z^2-276//1*y^12*z^8+1306//1*y^2*z^8+480//1*y^8*z+2738//1*y^9*z^6+195//1*x*z^17-y^10*z^15+x*z^21-38//1*y^6*z^16-80//1*y*z^2+264//1*y^14*z^2+2097//1*z^12-138//1*y^9*z^11-480//1*y^9*z+770//1*y^4*z^12+16//1*y^14-76//1*y^9*z^14-5533//1*y^3*z^8-4500//1*z^10+128//1*y^6+541//1*y^6*z^14-308//1*y^11*z^9-1080//1*y^3*z^2+512//1*y^5*z^3-1240//1*y^10*z^2+80//1*y^8-678//1*x*z^14-265//1*y^4*z^16+642//1*y^3*z^16-902//1*y^6*z^12+1334//1*y^2*z^6+286//1*y^3*z^17+1916//1*y^7*z^3+42//1*x*z^19+115//1*x*z^9-192//1*y^5*z+2019//1*y^11*z^6+2096//1*y^5*z^11-254//1*y^12*z^6-80//1*y^3-240//1*x*z^7+768//1*y^7*z+1356//1*y^5*z^10-26//1*y^12*z^12+414//1*y^12*z^3-672//1*y^10*z^4-2686//1*y^3*z^13-6//1*y^14*z^11+2968//1*y^8*z^9+422//1*y^14*z^3+922//1*y^11*z^5-32//1*y^4*z^14-1862//1*z^11-418//1*y^2*z^5-622//1*y^7*z^13+106//1*y*z^16-4922//1*y^4*z^7-10//1*y^2*z^19-44//1*y^5*z^17-80//1*z^2+2770//1*y*z^7-5025//1*y^4*z^8-256//1*y^13*z^9+460//1*y^2*z^15-308//1*y^7*z^15+16//1*y^12-480//1*y^11*z-80//1*y^11-366//1*y^12*z^7+3037//1*y^4*z^10+254//1*y^2*z^13-32//1*y^5+45//1*y^3*z^18+2683//1*y^4*z^11+96//1*y^14*z-235//1*y^11*z^12-20//1*y*z^19+1080//1*y^8*z^2-1108//1*y^2*z^9-160//1*y^4*z^15+360//1*y^12*z^4-156//1*y^7*z^12-656//1*y^7*z^4-232//1*y^5*z^16-872//1*z^4-136//1*y^14*z^9-176//1*y^5*z^14-3486//1*y^3*z^7+414//1*y^6*z^13+4030//1*y^3*z^11-480//1*y^3*z+88//1*y^8*z^11+384//1*y^13*z^4+314//1*y^8*z^7-88//1*y^9*z^8+746//1*y*z^12-80//1*y^9+37//1*z^20-750//1*y^11*z^10+784//1*y*z^13-4787//1*y^6*z^6+198//1*y^14*z^5-10//1*y^13*z^12+264//1*y^12*z^2-856//1*y^8*z^13-16//1*y^6*z^17-2900//1*y^8*z^6+1686//1*y^7*z^10+2368//1*y^4*z^4+4238//1*y^3*z^10-192//1*y^4*z-232//1*x*z^15-6//1*y*z^20+4061//1*y^6*z^8-378//1*z^5+112//1*y*z^14+1318//1*y*z^8+1872//1*y^7*z^2+2058//1*y^10*z^7-44//1*y^10*z^14+1884//1*y^6*z^3+520//1*y^4*z^3-54//1*y^12*z^11-150//1*y^12*z^9-4116//1*y^7*z^5-44//1*y^2*z^18-223//1*y^10*z^9-373//1*y^8*z^14+2318//1*y^7*z^8-210//1*y^14*z^7+132//1*z^19-156//1*z^17+1680//1*y^8*z^10+718//1*y^8*z^3-36//1*y^11*z^13-54//1*y^13*z^11+783//1*x*z^11-1108//1*y^3*z^9+1872//1*y^6*z^2-3648//1*y^8*z^5-222//1*y^10*z^13-20//1*y^9*z^15+748//1*y^5*z^13+1768//1*y^3*z^4-4584//1*y^6*z^5+4//1*y^3*z^19+795//1*y^10*z^8-972//1*z^15-158//1*y^4*z^17-270//1*y^6*z^7-1244//1*y^5*z^9-42//1*y*z^15+16//1*y^13+1614//1*z^6-480//1*y^10*z-1240//1*y^9*z^2-1622//1*y^10*z^3+y^6*z^18-168//1*y^13*z^6+1617//1*z^8+2//1*y^3*z^20-32//1*y^4+264//1*y^13*z^2+2916//1*y^7*z^9-1112//1*y^7*z^7-684//1*y^9*z^10-2//1*y^7*z^17-18//1*y^9*z^12+408//1*y^14*z^4-877//1*y^8*z^12+2449//1*y^10*z^6-144//1*y^13*z^10-342//1*y^13*z^8-743//1*y^10*z^11-1240//1*y^11*z^2+1542//1*y^9*z^5+45//1*x*z^12-1472//1*y^8*z^4-48//1*y^14*z^10+2552//1*y^2*z^7-64//1*y^7*z^16+132//1*y^6*z^15-219//1*y^14*z^8+202//1*y^3*z^15+z^22+6//1*z^21+744//1*x*z^10-288//1*y^5*z^2+132//1*y^13*z^5+2//1*y^11*z^14-432//1*y*z^3-318//1*y^2*z^12-26//1*y^6*z^10-1587//1*y^3*z^14+2781//1*y^8*z^8+3544//1*y^6*z^9-523//1*y^10*z^12-1258//1*y^2*z^11-432//1*z^3+96//1*y^12*z+94//1*y*z^17-57//1*y^14*z^6-927//1*z^16+822//1*z^14-84//1*y^12*z^10+66//1*y^12*z^5+1770//1*y^11*z^7+711//1*y^11*z^8-y^4*z^19-36//1*y^4*z^18-6//1*y^12*z^13-4180//1*y^5*z^7+117//1*x*z^18-40//1*y^2*z^17-432//1*y^2*z^3-497//1*y^4*z^6+9//1*x*z^20-792//1*y^11*z^4+2938//1*z^13-64//1*y^8*z^15+1232//1*y^10*z^5-642//1*y^3*z^3-1018//1*y^9*z^9+558//1*y^7*z^11-288//1*y^4*z^2+1823//1*y^3*z^6+2//1*y*z^18-90//1*y^9*z^13-25//1*y^4*z^13-2018//1*y^2*z^10+191//1*z^18-4336//1*y^5*z^8-590//1*y^11*z^11-872//1*y^2*z^4-1040//1*y*z^11+y^14*z^12-64//1*x*z^6-630//1*y^7*z^14-398//1*y*z^5+96//1*y^13*z-300//1*x*z^8+544//1*y^2*z^14-1874//1*y^6*z^11-1642//1*y^11*z^3+3228//1*z^7-1716//1*y*z^9+123//1*x*z^16+418//1*y^13*z^3-848//1*y^6*z^4+y^8*z^16-2768//1*y*z^10+128//1*y^7-1602//1*y^9*z^3-240//1*y^3*z^12+768//1*y^6*z+2820//1*y^4*z^5-872//1*y*z^4-4496//1*y^7*z^6-565//1*y^4*z^9-336//1*y^13*z^7-444//1*y^5*z^15-684//1*y^10*z^10                                                                                                                                                                                                                                                                                                                                                                                                                                                                                                                                                                                                                                                                                                                                                                                                                                                                                                                                                                                                                                                                                                                                                                                                                                                                                                                                                                                                                                                                                                                                                                                                                                                                                                                                                                                                        \n",
       " -20//1*y^3*z^2-5//1*z^8-3//1*y^4-6//1*y^12-10//1*z^4+3//1*y^8-3//1*y^8*z^3-30//1*y^6*z^4+y^15+5//1*y^12*z^2-z^9+6//1*y^4*z^3+30//1*y^6*z^2+5//1*y^3*z^8-20//1*y^3*z^6+13//1*z^6+z^10+10//1*y^9*z^4-10//1*y^6-20//1*y^9*z^2+30//1*y^3*z^4+5//1*z^2-3//1*z^3+10//1*y^9+10//1*y^6*z^6-3//1*y^4*z^6+5//1*y^3                                                                                                                                                                                                                                                                                                                                                                                                                                                                                                                                                                                                                                                                                                                                                                                                                                                                                                                                                                                                                                                                                                                                                                                                                                                                                                                                                                                                                                                                                                                                                                                                                                                                                                                                                                                                                                                                                                                                                                                                                                                                                                                                                                                                                                                                                                                                                                                                                                                                                                                                                                                                                                                                                                                                                                                                                                                                                                                                                                                                                                                                                                                                                                                                                                                                                                                                                                                                                                                                                                                                                                                                                                                                                                                                                                                                                                                                                                                                                                                                                                                                                                                                                                                                                                                                                                                                                                                                                                                                                                                                                                                                                                                                                                                                                                                                                                                                                                                                                                                                                                                                                                                                                                                                                                                                                                                                                                                                                                                                                                                                                                                                                                                                                                          "
      ]
     },
     "execution_count": 58,
     "metadata": {},
     "output_type": "execute_result"
    }
   ],
   "source": [
    "set_order_lex()\n",
    "G = groebner(I...)"
   ]
  },
  {
   "cell_type": "code",
   "execution_count": 59,
   "metadata": {
    "collapsed": false
   },
   "outputs": [
    {
     "data": {
      "text/plain": [
       "8-element Array{Int64,1}:\n",
       "  3\n",
       "  5\n",
       "  6\n",
       " 25\n",
       " 25\n",
       " 25\n",
       " 26\n",
       " 15"
      ]
     },
     "execution_count": 59,
     "metadata": {},
     "output_type": "execute_result"
    }
   ],
   "source": [
    "[deg(G[k]) for k=1:8]"
   ]
  },
  {
   "cell_type": "code",
   "execution_count": 60,
   "metadata": {
    "collapsed": false
   },
   "outputs": [
    {
     "data": {
      "text/plain": [
       "8-element Array{Any,1}:\n",
       "   4\n",
       "   6\n",
       "   9\n",
       " 282\n",
       " 275\n",
       " 271\n",
       " 274\n",
       "  27"
      ]
     },
     "execution_count": 60,
     "metadata": {},
     "output_type": "execute_result"
    }
   ],
   "source": [
    "[length(G[k]) for k=1:8]"
   ]
  },
  {
   "cell_type": "code",
   "execution_count": 61,
   "metadata": {
    "collapsed": false
   },
   "outputs": [
    {
     "data": {
      "text/plain": [
       "7776"
      ]
     },
     "execution_count": 61,
     "metadata": {},
     "output_type": "execute_result"
    }
   ],
   "source": [
    "lcm([den(c) for (i,c) in G[4]]...)"
   ]
  },
  {
   "cell_type": "code",
   "execution_count": 62,
   "metadata": {
    "collapsed": false
   },
   "outputs": [
    {
     "data": {
      "text/plain": [
       "170255391"
      ]
     },
     "execution_count": 62,
     "metadata": {},
     "output_type": "execute_result"
    }
   ],
   "source": [
    "maximum([abs(num(c)) for (i,c) in 7776*G[4]])"
   ]
  },
  {
   "cell_type": "code",
   "execution_count": 63,
   "metadata": {
    "collapsed": false
   },
   "outputs": [
    {
     "data": {
      "text/plain": [
       "false"
      ]
     },
     "execution_count": 63,
     "metadata": {},
     "output_type": "execute_result"
    }
   ],
   "source": [
    "x^2*y == y*x^2"
   ]
  },
  {
   "cell_type": "code",
   "execution_count": 64,
   "metadata": {
    "collapsed": false
   },
   "outputs": [
    {
     "data": {
      "text/plain": [
       "(y,x)"
      ]
     },
     "execution_count": 64,
     "metadata": {},
     "output_type": "execute_result"
    }
   ],
   "source": [
    "@variables Rational{BigInt} y x"
   ]
  },
  {
   "cell_type": "code",
   "execution_count": 65,
   "metadata": {
    "collapsed": false
   },
   "outputs": [
    {
     "data": {
      "text/plain": [
       "2-element Array{Dict{Tuple{UInt16,UInt16},Rational{BigInt}},1}:\n",
       " -2//1*y+y*x \n",
       " 2//1*y^2-x^2"
      ]
     },
     "execution_count": 65,
     "metadata": {},
     "output_type": "execute_result"
    }
   ],
   "source": [
    "I=[x*y-2*y, 2*y^2-x^2]"
   ]
  },
  {
   "cell_type": "code",
   "execution_count": 66,
   "metadata": {
    "collapsed": false
   },
   "outputs": [
    {
     "data": {
      "text/plain": [
       "3-element Array{Dict{Tuple{UInt16,UInt16},Rational{BigInt}},1}:\n",
       " -2//1*y+y*x  \n",
       " y^2-1//2*x^2 \n",
       " -2//1*x^2+x^3"
      ]
     },
     "execution_count": 66,
     "metadata": {},
     "output_type": "execute_result"
    }
   ],
   "source": [
    "set_order_lex()\n",
    "G=groebner(I...)"
   ]
  },
  {
   "cell_type": "code",
   "execution_count": 67,
   "metadata": {
    "collapsed": false
   },
   "outputs": [
    {
     "data": {
      "text/latex": [
       "$-2y+yx$"
      ],
      "text/plain": [
       "Dict{Tuple{UInt16,UInt16},Rational{BigInt}} with 2 entries:\n",
       "  (0x0001,0x0000) => -2//1\n",
       "  (0x0001,0x0001) => 1//1"
      ]
     },
     "execution_count": 67,
     "metadata": {},
     "output_type": "execute_result"
    }
   ],
   "source": [
    "G[1]"
   ]
  },
  {
   "cell_type": "code",
   "execution_count": 68,
   "metadata": {
    "collapsed": false
   },
   "outputs": [
    {
     "data": {
      "text/latex": [
       "$y^{2}-\\frac{1}{2}x^{2}$"
      ],
      "text/plain": [
       "Dict{Tuple{UInt16,UInt16},Rational{BigInt}} with 2 entries:\n",
       "  (0x0002,0x0000) => 1//1\n",
       "  (0x0000,0x0002) => -1//2"
      ]
     },
     "execution_count": 68,
     "metadata": {},
     "output_type": "execute_result"
    }
   ],
   "source": [
    "G[2]"
   ]
  },
  {
   "cell_type": "code",
   "execution_count": 69,
   "metadata": {
    "collapsed": false
   },
   "outputs": [
    {
     "data": {
      "text/latex": [
       "$-2x^{2}+x^{3}$"
      ],
      "text/plain": [
       "Dict{Tuple{UInt16,UInt16},Rational{BigInt}} with 2 entries:\n",
       "  (0x0000,0x0002) => -2//1\n",
       "  (0x0000,0x0003) => 1//1"
      ]
     },
     "execution_count": 69,
     "metadata": {},
     "output_type": "execute_result"
    }
   ],
   "source": [
    "G[3]"
   ]
  },
  {
   "cell_type": "code",
   "execution_count": 70,
   "metadata": {
    "collapsed": false
   },
   "outputs": [
    {
     "data": {
      "text/latex": [
       "$-113y+217x$"
      ],
      "text/plain": [
       "Dict{Tuple{UInt16,UInt16},Rational{BigInt}} with 2 entries:\n",
       "  (0x0001,0x0000) => -113//1\n",
       "  (0x0000,0x0001) => 217//1"
      ]
     },
     "execution_count": 70,
     "metadata": {},
     "output_type": "execute_result"
    }
   ],
   "source": [
    "rem(5*I[1]-3*I[2]+217x-113y, G...)"
   ]
  },
  {
   "cell_type": "code",
   "execution_count": 71,
   "metadata": {
    "collapsed": false
   },
   "outputs": [
    {
     "data": {
      "text/latex": [
       "$x^{3}$"
      ],
      "text/plain": [
       "x^3"
      ]
     },
     "execution_count": 71,
     "metadata": {},
     "output_type": "execute_result"
    }
   ],
   "source": [
    "LT(G[3])"
   ]
  },
  {
   "cell_type": "code",
   "execution_count": 72,
   "metadata": {
    "collapsed": false
   },
   "outputs": [
    {
     "data": {
      "text/plain": [
       "(z,y,x)"
      ]
     },
     "execution_count": 72,
     "metadata": {},
     "output_type": "execute_result"
    }
   ],
   "source": [
    "@variables Rational{BigInt} z y x"
   ]
  },
  {
   "cell_type": "code",
   "execution_count": 73,
   "metadata": {
    "collapsed": false
   },
   "outputs": [
    {
     "data": {
      "text/plain": [
       "3-element Array{Dict{Tuple{UInt16,UInt16,UInt16},Rational{BigInt}},1}:\n",
       " y*x-z-2//1*z*y\n",
       " y^2+z*x-z*x^2 \n",
       " x-y^2*x+z^2   "
      ]
     },
     "execution_count": 73,
     "metadata": {},
     "output_type": "execute_result"
    }
   ],
   "source": [
    "I=[x*y-2*y*z-z, y^2-x^2*z+x*z, z^2-y^2*x+x]"
   ]
  },
  {
   "cell_type": "code",
   "execution_count": 74,
   "metadata": {
    "collapsed": false
   },
   "outputs": [
    {
     "data": {
      "text/plain": [
       "4-element Array{Dict{Tuple{UInt16,UInt16,UInt16},Rational{BigInt}},1}:\n",
       " -5804//2111*x^8-4783//2111*x^4+3920//2111*x^7+176//2111*x^11+880//2111*x^9-2924//2111*x^6+2100//2111*x+z-5808//2111*x^2+747//2111*x^3+14296//2111*x^5                 \n",
       " -10540//2111*x^8-8843//2111*x^4+21708//2111*x^7+2112//2111*x^11+10560//2111*x^9-20311//2111*x^6-132//2111*x-4//1*x^10-2144//2111*x^2+8964//2111*x^3+y^2+6894//2111*x^5\n",
       " 41//4*x^8+5//1*x^4-39//4*x^7-4//1*x^11+x^12-5//1*x^9+15//4*x^6+1//4*x+5//1*x^10-2//1*x^3-17//4*x^5                                                                    \n",
       " -120//2111*x^8+1081//2111*x^4-562//2111*x^7-8//2111*x^11-40//2111*x^9+2052//2111*x^6+1056//2111*x+y*x+264//2111*x^2-2049//2111*x^3-266//2111*x^5                      "
      ]
     },
     "execution_count": 74,
     "metadata": {},
     "output_type": "execute_result"
    }
   ],
   "source": [
    "set_order_lex()\n",
    "G=groebner(I...)"
   ]
  },
  {
   "cell_type": "code",
   "execution_count": 75,
   "metadata": {
    "collapsed": false
   },
   "outputs": [
    {
     "data": {
      "text/latex": [
       "$-\\frac{5804}{2111}x^{8}-\\frac{4783}{2111}x^{4}+\\frac{3920}{2111}x^{7}+\\frac{176}{2111}x^{11}+\\frac{880}{2111}x^{9}-\\frac{2924}{2111}x^{6}+\\frac{2100}{2111}x+z-\\frac{5808}{2111}x^{2}+\\frac{747}{2111}x^{3}+\\frac{14296}{2111}x^{5}$"
      ],
      "text/plain": [
       "Dict{Tuple{UInt16,UInt16,UInt16},Rational{BigInt}} with 11 entries:\n",
       "  (0x0000,0x0000,0x0008) => -5804//2111\n",
       "  (0x0000,0x0000,0x0004) => -4783//2111\n",
       "  (0x0000,0x0000,0x0007) => 3920//2111\n",
       "  (0x0000,0x0000,0x000b) => 176//2111\n",
       "  (0x0000,0x0000,0x0009) => 880//2111\n",
       "  (0x0000,0x0000,0x0006) => -2924//2111\n",
       "  (0x0000,0x0000,0x0001) => 2100//2111\n",
       "  (0x0001,0x0000,0x0000) => 1//1\n",
       "  (0x0000,0x0000,0x0002) => -5808//2111\n",
       "  (0x0000,0x0000,0x0003) => 747//2111\n",
       "  (0x0000,0x0000,0x0005) => 14296//2111"
      ]
     },
     "execution_count": 75,
     "metadata": {},
     "output_type": "execute_result"
    }
   ],
   "source": [
    "G[1]"
   ]
  },
  {
   "cell_type": "code",
   "execution_count": 76,
   "metadata": {
    "collapsed": false
   },
   "outputs": [
    {
     "data": {
      "text/latex": [
       "$-\\frac{10540}{2111}x^{8}-\\frac{8843}{2111}x^{4}+\\frac{21708}{2111}x^{7}+\\frac{2112}{2111}x^{11}+\\frac{10560}{2111}x^{9}-\\frac{20311}{2111}x^{6}-\\frac{132}{2111}x-4x^{10}-\\frac{2144}{2111}x^{2}+\\frac{8964}{2111}x^{3}+y^{2}+\\frac{6894}{2111}x^{5}$"
      ],
      "text/plain": [
       "Dict{Tuple{UInt16,UInt16,UInt16},Rational{BigInt}} with 12 entries:\n",
       "  (0x0000,0x0000,0x0008) => -10540//2111\n",
       "  (0x0000,0x0000,0x0004) => -8843//2111\n",
       "  (0x0000,0x0000,0x0007) => 21708//2111\n",
       "  (0x0000,0x0000,0x000b) => 2112//2111\n",
       "  (0x0000,0x0000,0x0009) => 10560//2111\n",
       "  (0x0000,0x0000,0x0006) => -20311//2111\n",
       "  (0x0000,0x0000,0x0001) => -132//2111\n",
       "  (0x0000,0x0000,0x000a) => -4//1\n",
       "  (0x0000,0x0000,0x0002) => -2144//2111\n",
       "  (0x0000,0x0000,0x0003) => 8964//2111\n",
       "  (0x0000,0x0002,0x0000) => 1//1\n",
       "  (0x0000,0x0000,0x0005) => 6894//2111"
      ]
     },
     "execution_count": 76,
     "metadata": {},
     "output_type": "execute_result"
    }
   ],
   "source": [
    "G[2]"
   ]
  },
  {
   "cell_type": "code",
   "execution_count": 77,
   "metadata": {
    "collapsed": false
   },
   "outputs": [
    {
     "data": {
      "text/latex": [
       "$\\frac{41}{4}x^{8}+5x^{4}-\\frac{39}{4}x^{7}-4x^{11}+x^{12}-5x^{9}+\\frac{15}{4}x^{6}+\\frac{1}{4}x+5x^{10}-2x^{3}-\\frac{17}{4}x^{5}$"
      ],
      "text/plain": [
       "Dict{Tuple{UInt16,UInt16,UInt16},Rational{BigInt}} with 11 entries:\n",
       "  (0x0000,0x0000,0x0008) => 41//4\n",
       "  (0x0000,0x0000,0x0004) => 5//1\n",
       "  (0x0000,0x0000,0x0007) => -39//4\n",
       "  (0x0000,0x0000,0x000b) => -4//1\n",
       "  (0x0000,0x0000,0x000c) => 1//1\n",
       "  (0x0000,0x0000,0x0009) => -5//1\n",
       "  (0x0000,0x0000,0x0006) => 15//4\n",
       "  (0x0000,0x0000,0x0001) => 1//4\n",
       "  (0x0000,0x0000,0x000a) => 5//1\n",
       "  (0x0000,0x0000,0x0003) => -2//1\n",
       "  (0x0000,0x0000,0x0005) => -17//4"
      ]
     },
     "execution_count": 77,
     "metadata": {},
     "output_type": "execute_result"
    }
   ],
   "source": [
    "G[3]"
   ]
  },
  {
   "cell_type": "code",
   "execution_count": 78,
   "metadata": {
    "collapsed": false
   },
   "outputs": [
    {
     "data": {
      "text/latex": [
       "$-\\frac{120}{2111}x^{8}+\\frac{1081}{2111}x^{4}-\\frac{562}{2111}x^{7}-\\frac{8}{2111}x^{11}-\\frac{40}{2111}x^{9}+\\frac{2052}{2111}x^{6}+\\frac{1056}{2111}x+yx+\\frac{264}{2111}x^{2}-\\frac{2049}{2111}x^{3}-\\frac{266}{2111}x^{5}$"
      ],
      "text/plain": [
       "Dict{Tuple{UInt16,UInt16,UInt16},Rational{BigInt}} with 11 entries:\n",
       "  (0x0000,0x0000,0x0008) => -120//2111\n",
       "  (0x0000,0x0000,0x0004) => 1081//2111\n",
       "  (0x0000,0x0000,0x0007) => -562//2111\n",
       "  (0x0000,0x0000,0x000b) => -8//2111\n",
       "  (0x0000,0x0000,0x0009) => -40//2111\n",
       "  (0x0000,0x0000,0x0006) => 2052//2111\n",
       "  (0x0000,0x0000,0x0001) => 1056//2111\n",
       "  (0x0000,0x0001,0x0001) => 1//1\n",
       "  (0x0000,0x0000,0x0002) => 264//2111\n",
       "  (0x0000,0x0000,0x0003) => -2049//2111\n",
       "  (0x0000,0x0000,0x0005) => -266//2111"
      ]
     },
     "execution_count": 78,
     "metadata": {},
     "output_type": "execute_result"
    }
   ],
   "source": [
    "G[4]"
   ]
  },
  {
   "cell_type": "code",
   "execution_count": 79,
   "metadata": {
    "collapsed": false
   },
   "outputs": [
    {
     "data": {
      "text/latex": [
       "$0$"
      ],
      "text/plain": [
       "Dict{Tuple{UInt16,UInt16,UInt16},Rational{BigInt}} with 0 entries"
      ]
     },
     "execution_count": 79,
     "metadata": {},
     "output_type": "execute_result"
    }
   ],
   "source": [
    "rem(3*I[1]-2*I[2]+I[3]+11z^2+11x-11y^2*x, I...)"
   ]
  },
  {
   "cell_type": "code",
   "execution_count": 80,
   "metadata": {
    "collapsed": false
   },
   "outputs": [
    {
     "data": {
      "text/latex": [
       "$x^{2}-2y^{2}$"
      ],
      "text/plain": [
       "Dict{Tuple{UInt16,UInt16},Rational{BigInt}} with 2 entries:\n",
       "  (0x0002,0x0000) => 1//1\n",
       "  (0x0000,0x0002) => -2//1"
      ]
     },
     "execution_count": 80,
     "metadata": {},
     "output_type": "execute_result"
    }
   ],
   "source": [
    "@variables Rational{BigInt} x y\n",
    "f1 = x*y - 2*y\n",
    "f2 = x^2 - 2*y^2"
   ]
  },
  {
   "cell_type": "code",
   "execution_count": 81,
   "metadata": {
    "collapsed": false
   },
   "outputs": [
    {
     "data": {
      "text/latex": [
       "$-2xy+2y^{3}$"
      ],
      "text/plain": [
       "Dict{Tuple{UInt16,UInt16},Rational{BigInt}} with 2 entries:\n",
       "  (0x0001,0x0001) => -2//1\n",
       "  (0x0000,0x0003) => 2//1"
      ]
     },
     "execution_count": 81,
     "metadata": {},
     "output_type": "execute_result"
    }
   ],
   "source": [
    "S_polynomial(f1, f2)"
   ]
  },
  {
   "cell_type": "code",
   "execution_count": 82,
   "metadata": {
    "collapsed": false
   },
   "outputs": [
    {
     "data": {
      "text/plain": [
       "([-2//1,0],-4//1*y+2//1*y^3)"
      ]
     },
     "execution_count": 82,
     "metadata": {},
     "output_type": "execute_result"
    }
   ],
   "source": [
    "(a,f3) = divrem(S_polynomial(f1, f2), f1, f2)"
   ]
  },
  {
   "cell_type": "code",
   "execution_count": 83,
   "metadata": {
    "collapsed": false
   },
   "outputs": [
    {
     "data": {
      "text/plain": [
       "([4//1+2//1*x,0,-2//1-y^2],0)"
      ]
     },
     "execution_count": 83,
     "metadata": {},
     "output_type": "execute_result"
    }
   ],
   "source": [
    "divrem(S_polynomial(f2, f3), f1, f2, f3)"
   ]
  },
  {
   "cell_type": "code",
   "execution_count": 84,
   "metadata": {
    "collapsed": false
   },
   "outputs": [
    {
     "data": {
      "text/plain": [
       "3-element Array{Dict{Tuple{UInt16,UInt16},Rational{BigInt}},1}:\n",
       " -2//1*y+x*y \n",
       " x^2-2//1*y^2\n",
       " -2//1*y+y^3 "
      ]
     },
     "execution_count": 84,
     "metadata": {},
     "output_type": "execute_result"
    }
   ],
   "source": [
    "groebner(f1, f2)"
   ]
  },
  {
   "cell_type": "code",
   "execution_count": 85,
   "metadata": {
    "collapsed": false
   },
   "outputs": [
    {
     "data": {
      "text/plain": [
       "2-element Array{Dict{Tuple{UInt16,UInt16},Rational{BigInt}},1}:\n",
       " x*y^4+2//1*x^2*y\n",
       " 1//1+x^2+y      "
      ]
     },
     "execution_count": 85,
     "metadata": {},
     "output_type": "execute_result"
    }
   ],
   "source": [
    "F = [2*x^2*y + x*y^4, x^2 + y + 1]"
   ]
  },
  {
   "cell_type": "code",
   "execution_count": 86,
   "metadata": {
    "collapsed": false
   },
   "outputs": [
    {
     "data": {
      "text/plain": [
       "3-element Array{Dict{Tuple{UInt16,UInt16},Rational{BigInt}},1}:\n",
       " 1//1+x^2+y                           \n",
       " 1//2*y^7+2//1*y^2+2//1*y+x*y+1//2*y^4\n",
       " y^8+y^7+8//1*y^2+4//1*y+4//1*y^3     "
      ]
     },
     "execution_count": 86,
     "metadata": {},
     "output_type": "execute_result"
    }
   ],
   "source": [
    "groebner(F...)"
   ]
  },
  {
   "cell_type": "code",
   "execution_count": 87,
   "metadata": {
    "collapsed": false
   },
   "outputs": [
    {
     "data": {
      "text/plain": [
       "(λ,x,y,z)"
      ]
     },
     "execution_count": 87,
     "metadata": {},
     "output_type": "execute_result"
    }
   ],
   "source": [
    "@variables Rational{BigInt} λ x y z"
   ]
  },
  {
   "cell_type": "code",
   "execution_count": 88,
   "metadata": {
    "collapsed": false
   },
   "outputs": [
    {
     "data": {
      "text/plain": [
       "4-element Array{Dict{Tuple{UInt16,UInt16,UInt16,UInt16},Rational{BigInt}},1}:\n",
       " 3//1*x^2-2//1*λ*x+2//1*y*z\n",
       " -2//1*λ*y+2//1*x*z        \n",
       " 2//1*x*y-2//1*λ*z-2//1*z  \n",
       " y^2-1//1+x^2+z^2          "
      ]
     },
     "execution_count": 88,
     "metadata": {},
     "output_type": "execute_result"
    }
   ],
   "source": [
    "F=[3*x^2+2*y*z-2*x*λ, 2*x*z-2*y*λ, 2*x*y-2*z-2*z*λ, x^2+y^2+z^2-1]"
   ]
  },
  {
   "cell_type": "code",
   "execution_count": 89,
   "metadata": {
    "collapsed": false
   },
   "outputs": [
    {
     "data": {
      "text/plain": [
       "8-element Array{Dict{Tuple{UInt16,UInt16,UInt16,UInt16},Rational{BigInt}},1}:\n",
       " y^2-1//1+x^2+z^2                                                   \n",
       " x*z-1152//3835*z^5-108//295*z^3+2556//3835*z+y*z^2                 \n",
       " x*y-19584//3835*z^5+1999//295*z^3-6403//3835*z                     \n",
       " -y-9216//3835*z^5+906//295*z^3+y^3-2562//3835*z+y*z^2              \n",
       " y^2*z-6912//3835*z^5+827//295*z^3-3839//3835*z                     \n",
       " z^7-1763//1152*z^5+655//1152*z^3-11//288*z                         \n",
       " -453//118*z^2+y*z^3+1605//118*z^4-y*z-576//59*z^6                  \n",
       " -134419//7670*z^2+λ-3//2*x+36717//590*z^4-3//2*y*z-167616//3835*z^6"
      ]
     },
     "execution_count": 89,
     "metadata": {},
     "output_type": "execute_result"
    }
   ],
   "source": [
    "set_order_lex()\n",
    "G=groebner(F...)"
   ]
  },
  {
   "cell_type": "code",
   "execution_count": 90,
   "metadata": {
    "collapsed": false
   },
   "outputs": [
    {
     "data": {
      "text/latex": [
       "$z^{7}-\\frac{1763}{1152}z^{5}+\\frac{655}{1152}z^{3}-\\frac{11}{288}z$"
      ],
      "text/plain": [
       "Dict{Tuple{UInt16,UInt16,UInt16,UInt16},Rational{BigInt}} with 4 entries:\n",
       "  (0x0000,0x0000,0x0000,0… => 1//1\n",
       "  (0x0000,0x0000,0x0000,0… => -1763//1152\n",
       "  (0x0000,0x0000,0x0000,0… => 655//1152\n",
       "  (0x0000,0x0000,0x0000,0… => -11//288"
      ]
     },
     "execution_count": 90,
     "metadata": {},
     "output_type": "execute_result"
    }
   ],
   "source": [
    "G[6]"
   ]
  },
  {
   "cell_type": "code",
   "execution_count": 91,
   "metadata": {
    "collapsed": false
   },
   "outputs": [
    {
     "data": {
      "text/plain": [
       "8-element Array{Dict{Tuple{UInt16,UInt16,UInt16,UInt16},Rational{BigInt}},1}:\n",
       " y^2-1//1+x^2+z^2                                                   \n",
       " x*z-1152//3835*z^5-108//295*z^3+2556//3835*z+y*z^2                 \n",
       " x*y-19584//3835*z^5+1999//295*z^3-6403//3835*z                     \n",
       " -y-9216//3835*z^5+906//295*z^3+y^3-2562//3835*z+y*z^2              \n",
       " y^2*z-6912//3835*z^5+827//295*z^3-3839//3835*z                     \n",
       " z^7-1763//1152*z^5+655//1152*z^3-11//288*z                         \n",
       " -453//118*z^2+y*z^3+1605//118*z^4-y*z-576//59*z^6                  \n",
       " -134419//7670*z^2+λ-3//2*x+36717//590*z^4-3//2*y*z-167616//3835*z^6"
      ]
     },
     "execution_count": 91,
     "metadata": {},
     "output_type": "execute_result"
    }
   ],
   "source": [
    "@variables Rational{BigInt} λ x y z\n",
    "F=[3*x^2+2*y*z-2*x*λ, 2*x*z-2*y*λ, 2*x*y-2*z-2*z*λ, x^2+y^2+z^2-1]\n",
    "set_order_lex()\n",
    "G=groebner(F...)"
   ]
  },
  {
   "cell_type": "code",
   "execution_count": 92,
   "metadata": {
    "collapsed": false
   },
   "outputs": [
    {
     "data": {
      "text/plain": [
       "grlexless (generic function with 2 methods)"
      ]
     },
     "execution_count": 92,
     "metadata": {},
     "output_type": "execute_result"
    }
   ],
   "source": [
    "@variables Rational{BigInt} x y z\n",
    "set_order_grlex()"
   ]
  },
  {
   "cell_type": "code",
   "execution_count": 93,
   "metadata": {
    "collapsed": false
   },
   "outputs": [
    {
     "data": {
      "text/plain": [
       "3-element Array{Dict{Tuple{UInt16,UInt16,UInt16},Rational{BigInt}},1}:\n",
       " y+y*z\n",
       " y+x^3\n",
       " z^4  "
      ]
     },
     "execution_count": 93,
     "metadata": {},
     "output_type": "execute_result"
    }
   ],
   "source": [
    "G=[y*z+y, x^3+y, z^4+0]"
   ]
  },
  {
   "cell_type": "code",
   "execution_count": 94,
   "metadata": {
    "collapsed": false
   },
   "outputs": [
    {
     "data": {
      "text/latex": [
       "$y$"
      ],
      "text/plain": [
       "Dict{Tuple{UInt16,UInt16,UInt16},Rational{BigInt}} with 1 entry:\n",
       "  (0x0000,0x0001,0x0000) => 1//1"
      ]
     },
     "execution_count": 94,
     "metadata": {},
     "output_type": "execute_result"
    }
   ],
   "source": [
    "rem(S_polynomial(x^3+y, z^4+0), G...)"
   ]
  },
  {
   "cell_type": "code",
   "execution_count": 95,
   "metadata": {
    "collapsed": false
   },
   "outputs": [
    {
     "data": {
      "text/plain": [
       "3-element Array{Dict{Tuple{UInt16,UInt16,UInt16},Rational{BigInt}},1}:\n",
       " z^2-1//1+y^2+x^2\n",
       " -y+z^2+x^2      \n",
       " -z+x            "
      ]
     },
     "execution_count": 95,
     "metadata": {},
     "output_type": "execute_result"
    }
   ],
   "source": [
    "@variables Rational{BigInt} x y z\n",
    "I = [x^2+y^2+z^2-1, x^2+z^2-y, x-z]"
   ]
  },
  {
   "cell_type": "code",
   "execution_count": 96,
   "metadata": {
    "collapsed": false
   },
   "outputs": [
    {
     "data": {
      "text/plain": [
       "3-element Array{Dict{Tuple{UInt16,UInt16,UInt16},Rational{BigInt}},1}:\n",
       " -z+x             \n",
       " y-2//1*z^2       \n",
       " 1//2*z^2+z^4-1//4"
      ]
     },
     "execution_count": 96,
     "metadata": {},
     "output_type": "execute_result"
    }
   ],
   "source": [
    "set_order_lex()\n",
    "groebner(I...)"
   ]
  },
  {
   "cell_type": "code",
   "execution_count": null,
   "metadata": {
    "collapsed": true
   },
   "outputs": [],
   "source": [
    "x"
   ]
  },
  {
   "cell_type": "code",
   "execution_count": null,
   "metadata": {
    "collapsed": true
   },
   "outputs": [],
   "source": []
  }
 ],
 "metadata": {
  "kernelspec": {
   "display_name": "Julia 0.4.6",
   "language": "julia",
   "name": "julia-0.4"
  },
  "language_info": {
   "file_extension": ".jl",
   "mimetype": "application/julia",
   "name": "julia",
   "version": "0.4.6"
  }
 },
 "nbformat": 4,
 "nbformat_minor": 0
}
