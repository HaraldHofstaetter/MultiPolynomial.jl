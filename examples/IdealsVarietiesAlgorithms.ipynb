{
 "cells": [
  {
   "cell_type": "code",
   "execution_count": 1,
   "metadata": {
    "collapsed": false
   },
   "outputs": [],
   "source": [
    "include(\"MyPolynomials.jl\")\n",
    "using MyPolynomials"
   ]
  },
  {
   "cell_type": "code",
   "execution_count": 2,
   "metadata": {
    "collapsed": false
   },
   "outputs": [
    {
     "data": {
      "text/plain": [
       "(x,y,z)"
      ]
     },
     "execution_count": 2,
     "metadata": {},
     "output_type": "execute_result"
    }
   ],
   "source": [
    "@variables Rational{Int64} x y z"
   ]
  },
  {
   "cell_type": "code",
   "execution_count": 3,
   "metadata": {
    "collapsed": false
   },
   "outputs": [
    {
     "data": {
      "text/latex": [
       "$x$"
      ],
      "text/plain": [
       "x"
      ]
     },
     "execution_count": 3,
     "metadata": {},
     "output_type": "execute_result"
    }
   ],
   "source": [
    "+x"
   ]
  },
  {
   "cell_type": "code",
   "execution_count": 4,
   "metadata": {
    "collapsed": false
   },
   "outputs": [
    {
     "data": {
      "text/latex": [
       "$-\\frac{5}{3}yz^{2}$"
      ],
      "text/plain": [
       "-5//3*y*z^2"
      ]
     },
     "execution_count": 4,
     "metadata": {},
     "output_type": "execute_result"
    }
   ],
   "source": [
    "-5//3*y*z^2"
   ]
  },
  {
   "cell_type": "code",
   "execution_count": 5,
   "metadata": {
    "collapsed": false
   },
   "outputs": [
    {
     "data": {
      "text/latex": [
       "$4z^{2}+7x^{2}z^{2}-5x^{3}+4xy^{2}z$"
      ],
      "text/plain": [
       "Dict{Tuple{UInt16,UInt16,UInt16},Rational{Int64}} with 4 entries:\n",
       "  (0x0000,0x0000,0x0002) => 4//1\n",
       "  (0x0002,0x0000,0x0002) => 7//1\n",
       "  (0x0003,0x0000,0x0000) => -5//1\n",
       "  (0x0001,0x0002,0x0001) => 4//1"
      ]
     },
     "execution_count": 5,
     "metadata": {},
     "output_type": "execute_result"
    }
   ],
   "source": [
    "f = 4*x*y^2*z + 4*z^2 - 5*x^3 +7*x^2*z^2"
   ]
  },
  {
   "cell_type": "code",
   "execution_count": 6,
   "metadata": {
    "collapsed": false
   },
   "outputs": [
    {
     "data": {
      "text/latex": [
       "$-4z^{2}-7x^{2}z^{2}+5x^{3}-4xy^{2}z$"
      ],
      "text/plain": [
       "Dict{Tuple{UInt16,UInt16,UInt16},Rational{Int64}} with 4 entries:\n",
       "  (0x0000,0x0000,0x0002) => -4//1\n",
       "  (0x0002,0x0000,0x0002) => -7//1\n",
       "  (0x0003,0x0000,0x0000) => 5//1\n",
       "  (0x0001,0x0002,0x0001) => -4//1"
      ]
     },
     "execution_count": 6,
     "metadata": {},
     "output_type": "execute_result"
    }
   ],
   "source": [
    "-f"
   ]
  },
  {
   "cell_type": "code",
   "execution_count": 7,
   "metadata": {
    "collapsed": false
   },
   "outputs": [
    {
     "data": {
      "text/latex": [
       "$-4z^{2}-7x^{2}z^{2}+5x^{3}-4xy^{2}z+x^{2}$"
      ],
      "text/plain": [
       "Dict{Tuple{UInt16,UInt16,UInt16},Rational{Int64}} with 5 entries:\n",
       "  (0x0000,0x0000,0x0002) => -4//1\n",
       "  (0x0002,0x0000,0x0002) => -7//1\n",
       "  (0x0003,0x0000,0x0000) => 5//1\n",
       "  (0x0001,0x0002,0x0001) => -4//1\n",
       "  (0x0002,0x0000,0x0000) => 1//1"
      ]
     },
     "execution_count": 7,
     "metadata": {},
     "output_type": "execute_result"
    }
   ],
   "source": [
    "x^2-f"
   ]
  },
  {
   "cell_type": "code",
   "execution_count": 11,
   "metadata": {
    "collapsed": false
   },
   "outputs": [
    {
     "data": {
      "text/latex": [
       "$4$"
      ],
      "text/plain": [
       "4//1"
      ]
     },
     "execution_count": 11,
     "metadata": {},
     "output_type": "execute_result"
    }
   ],
   "source": [
    "coeff(x*y^2*z, f)"
   ]
  },
  {
   "cell_type": "code",
   "execution_count": 12,
   "metadata": {
    "collapsed": false
   },
   "outputs": [
    {
     "data": {
      "text/latex": [
       "$0$"
      ],
      "text/plain": [
       "0//1"
      ]
     },
     "execution_count": 12,
     "metadata": {},
     "output_type": "execute_result"
    }
   ],
   "source": [
    "coeff(x^13, f)"
   ]
  },
  {
   "cell_type": "code",
   "execution_count": 11,
   "metadata": {
    "collapsed": false
   },
   "outputs": [
    {
     "data": {
      "text/plain": [
       "true"
      ]
     },
     "execution_count": 11,
     "metadata": {},
     "output_type": "execute_result"
    }
   ],
   "source": [
    "4*x^2+y*z == z*y+4*x*x"
   ]
  },
  {
   "cell_type": "code",
   "execution_count": 12,
   "metadata": {
    "collapsed": false
   },
   "outputs": [
    {
     "data": {
      "text/plain": [
       "lexless (generic function with 2 methods)"
      ]
     },
     "execution_count": 12,
     "metadata": {},
     "output_type": "execute_result"
    }
   ],
   "source": [
    "set_order_lex()"
   ]
  },
  {
   "cell_type": "code",
   "execution_count": 18,
   "metadata": {
    "collapsed": false
   },
   "outputs": [
    {
     "data": {
      "text/plain": [
       "true"
      ]
     },
     "execution_count": 18,
     "metadata": {},
     "output_type": "execute_result"
    }
   ],
   "source": [
    "x>y"
   ]
  },
  {
   "cell_type": "code",
   "execution_count": 19,
   "metadata": {
    "collapsed": false
   },
   "outputs": [
    {
     "data": {
      "text/plain": [
       "true"
      ]
     },
     "execution_count": 19,
     "metadata": {},
     "output_type": "execute_result"
    }
   ],
   "source": [
    "x*y^2 > y^3*z^4"
   ]
  },
  {
   "cell_type": "code",
   "execution_count": 20,
   "metadata": {
    "collapsed": false
   },
   "outputs": [
    {
     "data": {
      "text/plain": [
       "true"
      ]
     },
     "execution_count": 20,
     "metadata": {},
     "output_type": "execute_result"
    }
   ],
   "source": [
    "x^3*y^2*z^4 > x^3*y^2*z"
   ]
  },
  {
   "cell_type": "code",
   "execution_count": 21,
   "metadata": {
    "collapsed": false
   },
   "outputs": [
    {
     "data": {
      "text/latex": [
       "$-5x^{3}+7x^{2}z^{2}+4xy^{2}z+4z^{2}$"
      ],
      "text/plain": [
       "4-element Array{MyPolynomials.Term{Rational{Int64},3},1}:\n",
       " -5//1*x^3   \n",
       " 7//1*x^2*z^2\n",
       " 4//1*x*y^2*z\n",
       " 4//1*z^2    "
      ]
     },
     "execution_count": 21,
     "metadata": {},
     "output_type": "execute_result"
    }
   ],
   "source": [
    "sort(terms(f),rev=true)"
   ]
  },
  {
   "cell_type": "code",
   "execution_count": 22,
   "metadata": {
    "collapsed": false
   },
   "outputs": [
    {
     "data": {
      "text/latex": [
       "$-5x^{3}$"
      ],
      "text/plain": [
       "-5//1*x^3"
      ]
     },
     "execution_count": 22,
     "metadata": {},
     "output_type": "execute_result"
    }
   ],
   "source": [
    "LT(f)"
   ]
  },
  {
   "cell_type": "code",
   "execution_count": 23,
   "metadata": {
    "collapsed": false
   },
   "outputs": [
    {
     "data": {
      "text/latex": [
       "$x^{3}$"
      ],
      "text/plain": [
       "x^3"
      ]
     },
     "execution_count": 23,
     "metadata": {},
     "output_type": "execute_result"
    }
   ],
   "source": [
    "LM(f)"
   ]
  },
  {
   "cell_type": "code",
   "execution_count": 24,
   "metadata": {
    "collapsed": false
   },
   "outputs": [
    {
     "data": {
      "text/plain": [
       "grlexless (generic function with 2 methods)"
      ]
     },
     "execution_count": 24,
     "metadata": {},
     "output_type": "execute_result"
    }
   ],
   "source": [
    "set_order_grlex()"
   ]
  },
  {
   "cell_type": "code",
   "execution_count": 25,
   "metadata": {
    "collapsed": false
   },
   "outputs": [
    {
     "data": {
      "text/plain": [
       "true"
      ]
     },
     "execution_count": 25,
     "metadata": {},
     "output_type": "execute_result"
    }
   ],
   "source": [
    "x*y^2*z^3 > x^3*x^2"
   ]
  },
  {
   "cell_type": "code",
   "execution_count": 26,
   "metadata": {
    "collapsed": false
   },
   "outputs": [
    {
     "data": {
      "text/plain": [
       "true"
      ]
     },
     "execution_count": 26,
     "metadata": {},
     "output_type": "execute_result"
    }
   ],
   "source": [
    "x*y^2*z^4 > x*y*z^5"
   ]
  },
  {
   "cell_type": "code",
   "execution_count": 27,
   "metadata": {
    "collapsed": false
   },
   "outputs": [
    {
     "data": {
      "text/latex": [
       "$7x^{2}z^{2}+4xy^{2}z-5x^{3}+4z^{2}$"
      ],
      "text/plain": [
       "4-element Array{MyPolynomials.Term{Rational{Int64},3},1}:\n",
       " 7//1*x^2*z^2\n",
       " 4//1*x*y^2*z\n",
       " -5//1*x^3   \n",
       " 4//1*z^2    "
      ]
     },
     "execution_count": 27,
     "metadata": {},
     "output_type": "execute_result"
    }
   ],
   "source": [
    "sort(terms(f),rev=true)"
   ]
  },
  {
   "cell_type": "code",
   "execution_count": 28,
   "metadata": {
    "collapsed": false
   },
   "outputs": [
    {
     "data": {
      "text/latex": [
       "$7x^{2}z^{2}$"
      ],
      "text/plain": [
       "7//1*x^2*z^2"
      ]
     },
     "execution_count": 28,
     "metadata": {},
     "output_type": "execute_result"
    }
   ],
   "source": [
    "LT(f)"
   ]
  },
  {
   "cell_type": "code",
   "execution_count": 29,
   "metadata": {
    "collapsed": false
   },
   "outputs": [
    {
     "data": {
      "text/plain": [
       "grevlexless (generic function with 2 methods)"
      ]
     },
     "execution_count": 29,
     "metadata": {},
     "output_type": "execute_result"
    }
   ],
   "source": [
    "set_order_grevlex()"
   ]
  },
  {
   "cell_type": "code",
   "execution_count": 30,
   "metadata": {
    "collapsed": false
   },
   "outputs": [
    {
     "data": {
      "text/plain": [
       "true"
      ]
     },
     "execution_count": 30,
     "metadata": {},
     "output_type": "execute_result"
    }
   ],
   "source": [
    "x^4*y^7*z > x^4*y^2*z^3"
   ]
  },
  {
   "cell_type": "code",
   "execution_count": 31,
   "metadata": {
    "collapsed": false
   },
   "outputs": [
    {
     "data": {
      "text/plain": [
       "true"
      ]
     },
     "execution_count": 31,
     "metadata": {},
     "output_type": "execute_result"
    }
   ],
   "source": [
    "x*y^5*z^2 > x^4*y*z^3"
   ]
  },
  {
   "cell_type": "code",
   "execution_count": 32,
   "metadata": {
    "collapsed": false
   },
   "outputs": [
    {
     "data": {
      "text/latex": [
       "$4xy^{2}z+7x^{2}z^{2}-5x^{3}+4z^{2}$"
      ],
      "text/plain": [
       "4-element Array{MyPolynomials.Term{Rational{Int64},3},1}:\n",
       " 4//1*x*y^2*z\n",
       " 7//1*x^2*z^2\n",
       " -5//1*x^3   \n",
       " 4//1*z^2    "
      ]
     },
     "execution_count": 32,
     "metadata": {},
     "output_type": "execute_result"
    }
   ],
   "source": [
    "sort(terms(f),rev=true)"
   ]
  },
  {
   "cell_type": "code",
   "execution_count": 39,
   "metadata": {
    "collapsed": false
   },
   "outputs": [
    {
     "data": {
      "text/plain": [
       "lexless (generic function with 2 methods)"
      ]
     },
     "execution_count": 39,
     "metadata": {},
     "output_type": "execute_result"
    }
   ],
   "source": [
    "@variables Rational{Int64} x y\n",
    "set_order_lex()"
   ]
  },
  {
   "cell_type": "code",
   "execution_count": 40,
   "metadata": {
    "collapsed": false
   },
   "outputs": [
    {
     "data": {
      "text/plain": [
       "([y,-1//1],2//1)"
      ]
     },
     "execution_count": 40,
     "metadata": {},
     "output_type": "execute_result"
    }
   ],
   "source": [
    "f = x*y^2+1\n",
    "F = [x*y+1, y+1]\n",
    "a, r = divrem(f, F...)"
   ]
  },
  {
   "cell_type": "code",
   "execution_count": 41,
   "metadata": {
    "collapsed": false
   },
   "outputs": [
    {
     "data": {
      "text/latex": [
       "$0$"
      ],
      "text/plain": [
       "Dict{Tuple{UInt16,UInt16},Rational{Int64}} with 0 entries"
      ]
     },
     "execution_count": 41,
     "metadata": {},
     "output_type": "execute_result"
    }
   ],
   "source": [
    "F[1]*a[1]+F[2]*a[2]+r-f"
   ]
  },
  {
   "cell_type": "code",
   "execution_count": 42,
   "metadata": {
    "collapsed": false
   },
   "outputs": [
    {
     "data": {
      "text/plain": [
       "([x+y,1//1],1//1+x+y)"
      ]
     },
     "execution_count": 42,
     "metadata": {},
     "output_type": "execute_result"
    }
   ],
   "source": [
    "f = x^2*y + x*y^2 + y^2\n",
    "F = [x*y-1, y^2-1]\n",
    "a, r = divrem(f, F...)"
   ]
  },
  {
   "cell_type": "code",
   "execution_count": 43,
   "metadata": {
    "collapsed": false
   },
   "outputs": [
    {
     "data": {
      "text/latex": [
       "$0$"
      ],
      "text/plain": [
       "Dict{Tuple{UInt16,UInt16},Rational{Int64}} with 0 entries"
      ]
     },
     "execution_count": 43,
     "metadata": {},
     "output_type": "execute_result"
    }
   ],
   "source": [
    "F[1]*a[1]+F[2]*a[2]+r-f"
   ]
  },
  {
   "cell_type": "code",
   "execution_count": 44,
   "metadata": {
    "collapsed": false
   },
   "outputs": [
    {
     "data": {
      "text/plain": [
       "([1//1+x,x],1//1+2//1*x)"
      ]
     },
     "execution_count": 44,
     "metadata": {},
     "output_type": "execute_result"
    }
   ],
   "source": [
    "f = x^2*y + x*y^2 + y^2\n",
    "F = [y^2-1, x*y-1]\n",
    "a, r = divrem(f, F...)"
   ]
  },
  {
   "cell_type": "code",
   "execution_count": 45,
   "metadata": {
    "collapsed": false
   },
   "outputs": [
    {
     "data": {
      "text/latex": [
       "$0$"
      ],
      "text/plain": [
       "Dict{Tuple{UInt16,UInt16},Rational{Int64}} with 0 entries"
      ]
     },
     "execution_count": 45,
     "metadata": {},
     "output_type": "execute_result"
    }
   ],
   "source": [
    "F[1]*a[1]+F[2]*a[2]+r-f"
   ]
  },
  {
   "cell_type": "code",
   "execution_count": 46,
   "metadata": {
    "collapsed": false
   },
   "outputs": [
    {
     "data": {
      "text/plain": [
       "([y,0],-x-y)"
      ]
     },
     "execution_count": 46,
     "metadata": {},
     "output_type": "execute_result"
    }
   ],
   "source": [
    "f = x*y^2-x\n",
    "F = [x*y+1, y^2-1]\n",
    "a, r = divrem(f, F...)"
   ]
  },
  {
   "cell_type": "code",
   "execution_count": 47,
   "metadata": {
    "collapsed": false
   },
   "outputs": [
    {
     "data": {
      "text/plain": [
       "([x,0],0)"
      ]
     },
     "execution_count": 47,
     "metadata": {},
     "output_type": "execute_result"
    }
   ],
   "source": [
    "a, r = divrem(f, reverse(F)...)"
   ]
  },
  {
   "cell_type": "code",
   "execution_count": 48,
   "metadata": {
    "collapsed": false
   },
   "outputs": [
    {
     "data": {
      "text/latex": [
       "$x^{2}-x^{3}y^{3}-\\frac{1}{3}y^{3}$"
      ],
      "text/plain": [
       "Dict{Tuple{UInt16,UInt16},Rational{Int64}} with 3 entries:\n",
       "  (0x0002,0x0000) => 1//1\n",
       "  (0x0003,0x0003) => -1//1\n",
       "  (0x0000,0x0003) => -1//3"
      ]
     },
     "execution_count": 48,
     "metadata": {},
     "output_type": "execute_result"
    }
   ],
   "source": [
    "set_order_grevlex()\n",
    "S_polynomial(x^3*y^2-x^2*y^3+x, 3*x^4*y+y^2)"
   ]
  },
  {
   "cell_type": "code",
   "execution_count": 49,
   "metadata": {
    "collapsed": false
   },
   "outputs": [
    {
     "name": "stdout",
     "output_type": "stream",
     "text": [
      "(1,2)\n",
      "\t1//2*x^2\n",
      "(1,3)\n",
      "(2,3)\n"
     ]
    },
    {
     "data": {
      "text/plain": [
       "3-element Array{Dict{Tuple{UInt16,UInt16},Rational{BigInt}},1}:\n",
       " y*x       \n",
       " y^2-1//2*x\n",
       " x^2       "
      ]
     },
     "execution_count": 49,
     "metadata": {},
     "output_type": "execute_result"
    }
   ],
   "source": [
    "@variables Rational{BigInt} y x\n",
    "set_order_lex()\n",
    "G=groebner(x^3-2*x*y, x^2*y-2*y^2+x)"
   ]
  },
  {
   "cell_type": "code",
   "execution_count": 34,
   "metadata": {
    "collapsed": false
   },
   "outputs": [
    {
     "name": "stdout",
     "output_type": "stream",
     "text": [
      "(1,2)\n",
      "\t1//2*x^2\n",
      "(2,3)\n",
      "(1,3)\n"
     ]
    },
    {
     "data": {
      "text/plain": [
       "3-element Array{Dict{Tuple{UInt16,UInt16},Rational{BigInt}},1}:\n",
       " y*x       \n",
       " y^2-1//2*x\n",
       " x^2       "
      ]
     },
     "execution_count": 34,
     "metadata": {},
     "output_type": "execute_result"
    }
   ],
   "source": [
    "@variables Rational{BigInt} y x\n",
    "set_order_lex()\n",
    "G=groebner(x^3-2*x*y, x^2*y-2*y^2+x)"
   ]
  },
  {
   "cell_type": "code",
   "execution_count": 35,
   "metadata": {
    "collapsed": false
   },
   "outputs": [
    {
     "data": {
      "text/plain": [
       "([1//2,y,0],0)"
      ]
     },
     "execution_count": 35,
     "metadata": {},
     "output_type": "execute_result"
    }
   ],
   "source": [
    "(a,r) = divrem(y^3+0, G...)"
   ]
  },
  {
   "cell_type": "code",
   "execution_count": 36,
   "metadata": {
    "collapsed": false
   },
   "outputs": [
    {
     "data": {
      "text/latex": [
       "$y^{3}$"
      ],
      "text/plain": [
       "Dict{Tuple{UInt16,UInt16},Rational{BigInt}} with 1 entry:\n",
       "  (0x0003,0x0000) => 1//1"
      ]
     },
     "execution_count": 36,
     "metadata": {},
     "output_type": "execute_result"
    }
   ],
   "source": [
    "a[1]*G[1]+a[2]*G[2]+a[3]*G[3]"
   ]
  },
  {
   "cell_type": "code",
   "execution_count": 37,
   "metadata": {
    "collapsed": false
   },
   "outputs": [
    {
     "name": "stdout",
     "output_type": "stream",
     "text": [
      "(1,2)\n",
      "\t-x^2\n",
      "(2,3)\n",
      "\tx-2//1*y^2\n",
      "(1,4)\n",
      "\t-4//1*y^3\n",
      "(2,5)\n",
      "(3,5)\n",
      "(4,5)\n",
      "(2,4)\n",
      "(1,5)\n",
      "(1,3)\n",
      "(3,4)\n"
     ]
    },
    {
     "data": {
      "text/plain": [
       "2-element Array{Dict{Tuple{UInt16,UInt16},Rational{BigInt}},1}:\n",
       " x-2//1*y^2\n",
       " y^3       "
      ]
     },
     "execution_count": 37,
     "metadata": {},
     "output_type": "execute_result"
    }
   ],
   "source": [
    "@variables Rational{BigInt} x y\n",
    "set_order_lex()\n",
    "G=groebner(x^3-2*x*y, x^2*y-2*y^2+x)"
   ]
  },
  {
   "cell_type": "code",
   "execution_count": 38,
   "metadata": {
    "collapsed": false
   },
   "outputs": [
    {
     "data": {
      "text/plain": [
       "([y,2//1],0)"
      ]
     },
     "execution_count": 38,
     "metadata": {},
     "output_type": "execute_result"
    }
   ],
   "source": [
    "(a,r) = divrem(y*x+0, G...)"
   ]
  },
  {
   "cell_type": "code",
   "execution_count": 39,
   "metadata": {
    "collapsed": false
   },
   "outputs": [
    {
     "data": {
      "text/latex": [
       "$xy$"
      ],
      "text/plain": [
       "Dict{Tuple{UInt16,UInt16},Rational{BigInt}} with 1 entry:\n",
       "  (0x0001,0x0001) => 1//1"
      ]
     },
     "execution_count": 39,
     "metadata": {},
     "output_type": "execute_result"
    }
   ],
   "source": [
    "a[1]*G[1]+a[2]*G[2]"
   ]
  },
  {
   "cell_type": "code",
   "execution_count": 40,
   "metadata": {
    "collapsed": false
   },
   "outputs": [
    {
     "data": {
      "text/plain": [
       "([x+2//1*y^2,4//1*y],0)"
      ]
     },
     "execution_count": 40,
     "metadata": {},
     "output_type": "execute_result"
    }
   ],
   "source": [
    "(a,r) = divrem(x^2+0, G...)"
   ]
  },
  {
   "cell_type": "code",
   "execution_count": 41,
   "metadata": {
    "collapsed": false
   },
   "outputs": [
    {
     "data": {
      "text/latex": [
       "$x^{2}$"
      ],
      "text/plain": [
       "Dict{Tuple{UInt16,UInt16},Rational{BigInt}} with 1 entry:\n",
       "  (0x0002,0x0000) => 1//1"
      ]
     },
     "execution_count": 41,
     "metadata": {},
     "output_type": "execute_result"
    }
   ],
   "source": [
    "a[1]*G[1]+a[2]*G[2]"
   ]
  },
  {
   "cell_type": "code",
   "execution_count": 42,
   "metadata": {
    "collapsed": false
   },
   "outputs": [
    {
     "data": {
      "text/plain": [
       "([-1//2,0],0)"
      ]
     },
     "execution_count": 42,
     "metadata": {},
     "output_type": "execute_result"
    }
   ],
   "source": [
    "(a,r) = divrem(y^2-1//2*x, G...)"
   ]
  },
  {
   "cell_type": "code",
   "execution_count": 43,
   "metadata": {
    "collapsed": false
   },
   "outputs": [
    {
     "data": {
      "text/latex": [
       "$-\\frac{1}{2}x+y^{2}$"
      ],
      "text/plain": [
       "Dict{Tuple{UInt16,UInt16},Rational{BigInt}} with 2 entries:\n",
       "  (0x0001,0x0000) => -1//2\n",
       "  (0x0000,0x0002) => 1//1"
      ]
     },
     "execution_count": 43,
     "metadata": {},
     "output_type": "execute_result"
    }
   ],
   "source": [
    "a[1]*G[1]+a[2]*G[2]"
   ]
  },
  {
   "cell_type": "code",
   "execution_count": 44,
   "metadata": {
    "collapsed": false
   },
   "outputs": [
    {
     "data": {
      "text/latex": [
       "$x^{2}$"
      ],
      "text/plain": [
       "Dict{Tuple{UInt16,UInt16},Rational{BigInt}} with 1 entry:\n",
       "  (0x0002,0x0000) => 1//1"
      ]
     },
     "execution_count": 44,
     "metadata": {},
     "output_type": "execute_result"
    }
   ],
   "source": [
    "(x+2//1*y^2)*(x-2//1*y^2)+(4y+0)*(y^3+0)"
   ]
  },
  {
   "cell_type": "code",
   "execution_count": 50,
   "metadata": {
    "collapsed": false
   },
   "outputs": [
    {
     "name": "stdout",
     "output_type": "stream",
     "text": [
      "(1,2)\n",
      "\tx^2\n",
      "(1,3)\n",
      "\tx-2//1*y^2\n",
      "(3,4)\n",
      "\t4//1*y^4\n",
      "(4,5)\n",
      "(1,4)\n",
      "(1,5)\n",
      "(3,5)\n",
      "(2,3)\n",
      "\t-4//1*y^3\n",
      "(5,6)\n",
      "(4,6)\n",
      "(1,6)\n",
      "(3,6)\n",
      "(2,4)\n",
      "(2,6)\n",
      "(2,5)\n"
     ]
    },
    {
     "data": {
      "text/plain": [
       "2-element Array{Dict{Tuple{UInt16,UInt16},Rational{BigInt}},1}:\n",
       " x-2//1*y^2\n",
       " y^3       "
      ]
     },
     "execution_count": 50,
     "metadata": {},
     "output_type": "execute_result"
    }
   ],
   "source": [
    "@variables Rational{BigInt} x y\n",
    "set_order_lex()\n",
    "G=groebner(x^2*y-2*y^2+x, x^3-2*x*y)"
   ]
  },
  {
   "cell_type": "code",
   "execution_count": 51,
   "metadata": {
    "collapsed": false
   },
   "outputs": [
    {
     "data": {
      "text/latex": [
       "$0$"
      ],
      "text/plain": [
       "Dict{Tuple{UInt16,UInt16},Rational{BigInt}} with 0 entries"
      ]
     },
     "execution_count": 51,
     "metadata": {},
     "output_type": "execute_result"
    }
   ],
   "source": [
    "rem(5*G[1]-3*G[2]+x^2, G...)"
   ]
  },
  {
   "cell_type": "code",
   "execution_count": 52,
   "metadata": {
    "collapsed": false
   },
   "outputs": [
    {
     "name": "stdout",
     "output_type": "stream",
     "text": [
      "(1,2)\n",
      "\tx*y^3+x^2*y\n",
      "(2,3)\n",
      "(1,3)\n",
      "\tx*y^2-x^3*y\n",
      "(1,4)\n",
      "(3,4)\n",
      "(2,4)\n"
     ]
    },
    {
     "data": {
      "text/plain": [
       "4-element Array{Dict{Tuple{UInt16,UInt16},Rational{BigInt}},1}:\n",
       " x^2*y^2+x*y \n",
       " -y+y^4      \n",
       " x*y^3+x^2*y \n",
       " -x*y^2+x^3*y"
      ]
     },
     "execution_count": 52,
     "metadata": {},
     "output_type": "execute_result"
    }
   ],
   "source": [
    "set_order_grlex()\n",
    "G=groebner(x^2*y^2+x*y, y^4-y)"
   ]
  },
  {
   "cell_type": "code",
   "execution_count": 15,
   "metadata": {
    "collapsed": false
   },
   "outputs": [
    {
     "data": {
      "text/plain": [
       "(x,y,z)"
      ]
     },
     "execution_count": 15,
     "metadata": {},
     "output_type": "execute_result"
    }
   ],
   "source": [
    "@variables Rational{BigInt} x y z"
   ]
  },
  {
   "cell_type": "code",
   "execution_count": 16,
   "metadata": {
    "collapsed": false
   },
   "outputs": [
    {
     "data": {
      "text/plain": [
       "2-element Array{Dict{Tuple{UInt16,UInt16,UInt16},Rational{BigInt}},1}:\n",
       " y^4+z^3-1//1+x^5\n",
       " z^2-1//1+x^3+y^2"
      ]
     },
     "execution_count": 16,
     "metadata": {},
     "output_type": "execute_result"
    }
   ],
   "source": [
    "I=[x^5+y^4+z^3-1, x^3+y^2+z^2-1]"
   ]
  },
  {
   "cell_type": "code",
   "execution_count": 17,
   "metadata": {
    "collapsed": false
   },
   "outputs": [
    {
     "data": {
      "text/plain": [
       "4-element Array{Dict{Tuple{UInt16,UInt16,UInt16},Rational{BigInt}},1}:\n",
       " z^2-1//1+x^3+y^2                                                                                                                                   \n",
       " -y^4-z^3+x^2*z^2+1//1+x^2*y^2-x^2                                                                                                                  \n",
       " -2//1*z^2+x*y^4+y^4+z^4+x*z^3+1//1-x-2//1*y^2+2//1*y^2*z^2                                                                                         \n",
       " x^2*z^3-z^4-2//1+x^2*z^4+2//1*x*y^2*z^2-2//1*x^2*z^2-y^4*z^2+x*z^4-2//1*x*y^2-x*z^3+2//1*x+y^6-2//1*y^2*z^2-2//1*x*z^2+3//1*z^2+y^2*z^3+z^3+y^2-z^5"
      ]
     },
     "execution_count": 17,
     "metadata": {},
     "output_type": "execute_result"
    }
   ],
   "source": [
    "set_order_grevlex()\n",
    "groebner(I...)"
   ]
  },
  {
   "cell_type": "code",
   "execution_count": 18,
   "metadata": {
    "collapsed": false
   },
   "outputs": [
    {
     "data": {
      "text/plain": [
       "7-element Array{Dict{Tuple{UInt16,UInt16,UInt16},Rational{BigInt}},1}:\n",
       " z^2-1//1+x^3+y^2                                                                                                                                                                                                                                                                                                                                                                                                                                                                                                                                                                                                              \n",
       " -y^4-z^3+x^2*z^2+1//1+x^2*y^2-x^2                                                                                                                                                                                                                                                                                                                                                                                                                                                                                                                                                                                             \n",
       " -2//1*z^2+x*y^4+y^4+z^4+x*z^3+1//1-x-2//1*y^2+2//1*y^2*z^2                                                                                                                                                                                                                                                                                                                                                                                                                                                                                                                                                                    \n",
       " 1//3*y^8*z^3-5//12*y^10-7//6*z^9+17//6*y^6*z^2+1//4*y^8*z^2+12//1*y^2*z^2+y^6*z^5-17//6*y^2*z^8-14//3*y^2*z^3-7//2*y^4*z^6+83//12*z^4-2//1*x^2*z^2-13//1*y^4*z^2+x*z^4-31//4*z^6+1//3*y^10*z-7//6*z^10-1//3*y^6+55//12*z^8+x^2*z^3+29//6*y^4-16//1*y^2*z^4+1//2*y^10*z^2+1//2*y^8-1//12*x*z^6+x^2*z^4+131//12*y^4*z^4-4//1*y^2*z^7+119//12*y^2*z^6-1//6*y^8*z^4-8//3*y^4*z-2//3*x*z^9-1//6*x*z^10-1//4*x*z^8-15//2*z^5+7//6*x*z^7+21//4*z^7+5//3*y^2*z-5//3*y^6*z^4-17//6*y^6*z^3+17//2*y^2*z^5+23//4*y^4*z^3+2//3*y^6*z-1//3*y^4*z^7-3//1*y^4*z^5-31//12*z^2-x*z^5+41//12*z^3-55//12*y^2                                     \n",
       " -x*z+x*y^2*z+11//24*y^8*z^3-7//24*y^10+7//12*z^9+31//12*y^6*z^2-x*y^2-3//8*y^8*z^2+43//8*y^2*z^2+3//4*y^6*z^5-17//8*y^2*z^8+1//4*y^8*z+85//12*y^2*z^3-53//24*y^4*z^6+127//24*z^4-29//4*y^4*z^2+1//2*x*z^4-103//12*z^6+z+x-3//8*y^10*z-7//8*z^10-1//3*y^6+31//8*z^8-151//12*y^2*z^4+19//12*y^4+3//8*y^10*z^2-1//4*y^8-23//24*x*z^6+113//12*y^4*z^4+13//24*y^2*z^7+239//24*y^2*z^6-1//8*y^8*z^4+15//4*y^4*z-1//2*x*z^3-7//24*x*z^9-1//8*x*z^10+1//2*x*z^8+17//6*z^5+7//8*x*z^7-11//12*z^7-1//1-29//8*y^2*z-5//2*y^6*z^4+5//6*y^6*z^3-59//12*y^2*z^5-55//8*y^4*z^3-y^6*z-1//4*y^4*z^7+11//6*y^4*z^5-17//24*z^2-3//2*z^3+7//24*y^2\n",
       " -2//1*y^8*z^3+4//1*y^10-31//1*z^9+x*z^11-24//1*y^6*z^2+y^8*z^5-70//1*y^2*z^2+17//1*y^2*z^9+10//1*y^6*z^5+24//1*y^2*z^8-77//1*y^2*z^3+17//1*y^4*z^6-62//1*z^4+76//1*y^4*z^2+77//1*z^6+4//1*y^10*z+7//1*z^10+8//1*y^6-3//1*y^10*z^3-6//1*y^6*z^6-42//1*z^8+108//1*y^2*z^4-32//1*y^4-2//1*y^10*z^2+8//1*x*z^6-64//1*y^4*z^4-68//1*y^2*z^7-80//1*y^2*z^6-2//1*y^8*z^4-32//1*y^4*z+x*z^9+4//1*x*z^10-10//1*x*z^8-39//1*z^5-4//1*x*z^7+55//1*z^7+20//1*y^2*z+20//1*y^6*z^4+7//1*z^11-16//1*y^6*z^3+106//1*y^2*z^5+90//1*y^4*z^3+8//1*y^6*z+21//1*y^4*z^7-78//1*y^4*z^5+20//1*z^2+8//1*z^3+2//1*y^4*z^8+20//1*y^2                    \n",
       " 5//1*z^8-30//1*y^2*z^4+13//1*y^4+y^12+10//1*z^4+2//1*y^8+3//1*y^8*z^3-y^10-10//1*y^6*z^4+z^9-6//1*y^4*z^3-30//1*y^4*z^2+20//1*y^6*z^2+30//1*y^4*z^4+20//1*y^2*z^6-13//1*z^6-5//1*y^8*z^2-z^10-10//1*y^6+20//1*y^2*z^2-5//1*z^2-5//1*y^2*z^8+3//1*z^3-5//1*y^2-7//1*y^4*z^6                                                                                                                                                                                                                                                                                                                                                    "
      ]
     },
     "execution_count": 18,
     "metadata": {},
     "output_type": "execute_result"
    }
   ],
   "source": [
    "set_order_lex()\n",
    "groebner(I...)"
   ]
  },
  {
   "cell_type": "code",
   "execution_count": 9,
   "metadata": {
    "collapsed": false
   },
   "outputs": [
    {
     "data": {
      "text/plain": [
       "2-element Array{Dict{Tuple{UInt16,UInt16,UInt16},Rational{BigInt}},1}:\n",
       " y^4+z^3-1//1+x^5\n",
       " z^2-1//1+x^3+y^3"
      ]
     },
     "execution_count": 9,
     "metadata": {},
     "output_type": "execute_result"
    }
   ],
   "source": [
    "I=[x^5+y^4+z^3-1, x^3+y^3+z^2-1]"
   ]
  },
  {
   "cell_type": "code",
   "execution_count": 10,
   "metadata": {
    "collapsed": false
   },
   "outputs": [
    {
     "name": "stdout",
     "output_type": "stream",
     "text": [
      "(1,2)\n",
      "\t-x^2*y^3+y^4+z^3-x^2*z^2-1//1+x^2\n",
      "(2,3)\n",
      "\t2//1*y^3*z^2+x*y^4+z^4-2//1*z^2+x*z^3+1//1-x+y^6-2//1*y^3\n",
      "(3,4)\n",
      "(1,3)\n",
      "(2,4)\n",
      "(1,4)\n"
     ]
    },
    {
     "data": {
      "text/plain": [
       "3-element Array{Dict{Tuple{UInt16,UInt16,UInt16},Rational{BigInt}},1}:\n",
       " z^2-1//1+x^3+y^3                                         \n",
       " x^2*y^3-y^4-z^3+x^2*z^2+1//1-x^2                         \n",
       " 2//1*y^3*z^2+x*y^4+z^4-2//1*z^2+x*z^3+1//1-x+y^6-2//1*y^3"
      ]
     },
     "execution_count": 10,
     "metadata": {},
     "output_type": "execute_result"
    }
   ],
   "source": [
    "set_order_grevlex()\n",
    "groebner(I...)"
   ]
  },
  {
   "cell_type": "code",
   "execution_count": 12,
   "metadata": {
    "collapsed": false
   },
   "outputs": [
    {
     "name": "stdout",
     "output_type": "stream",
     "text": [
      "(1,2)\n",
      "\t-x^2*y^3+y^4+z^3-x^2*z^2-1//1+x^2\n",
      "(2,3)\n",
      "\t2//1*y^3*z^2+x*y^4+z^4-2//1*z^2+x*z^3+1//1-x+y^6-2//1*y^3\n",
      "(3,4)\n",
      "\t-x^2*z^3+y^2*z^4+y^8-y*z^3+y+x^2*y*z^2-3//1*y^5+x^2-2//1*x*y^3*z^2-x*z^4-x*y^2-x^2*y+x*y^2*z^3-x+2//1*x*y^3-2//1*y^2*z^2+2//1*x*z^2+y^2+2//1*y^5*z^2\n",
      "(3,5)\n",
      "\t-2//1*x*z-y^10-x*y^2*z^2+3//1*y^5-3//1*y^3*z^5+2//1*x*y^2-2//1*y*z^6-2//1*y^5*z^4+x^2*y^2*z+x*y^3*z-y^8*z^2+x*y^3*z^4+x*y^2*z^4+y^2*z^2-x^2*y^2-2//1*x*y-x*y*z^5+9//1*y^3*z^3-z^4-7//1*y*z^2-y^9*z-3//1*x^2*z^2+9//1*y^4*z^2+x*z^4-5//1*y^3*z+x^2*z^5+2//1*z+x*y*z+2//1*x-x*y^2*z^5-y^6-x*z^2-2//1*y^3*z^2+x^2*z^3-4//1*y^4+2//1*y^2*z^4-x^2*y*z-y^8+x^2*z^4-5//1*y^4*z^4-y^2*z^6+y*z^5-2//1*x*y^3+y^5*z^2+3//1*z^5+y^3-z^7-2//1-4//1*y^7*z^2-y^2*z+y*z^3+y-3//1*y^6*z^3+5//1*y^7+5//1*y^6*z+x^2*y-x*y^2*z^3+6//1*y*z^4+2//1*x*y*z^2+3//1*z^2-4//1*z^3-y^2\n",
      "(5,6)\n",
      "\tx*y*z^6-x*z-3//1*x*y^2*z+y^8*z^3+y^10+2//1*y^5*z^5+x*y^2*z^2+3//1*y^3*z^5-y^6*z^2-x*y^3*z^5-x*y^2+y*z^6+2//1*y^5*z^4+3//1*x*y^3*z+y^8*z^2-x*y^3*z^4+x*y^2*z^4-4//1*y^3*z^4+2//1*y^2*z^2-4//1*y^2*z^3+2//1*y^8*z+x*y+x*y*z^5-7//1*y^3*z^3-z^4+7//1*y*z^2+y^9*z+3//1*x^2*z^2-9//1*y^4*z^2+x*y^3*z^2+4//1*y^3*z-2//1*x^2*z^5+3//1*y^3*z^6-z^6+x*y*z+x+y^10*z-4//1*y^6+y^9*z^2-x*z^2+y^9-3//1*y^3*z^2+3//1*x^2*z^3+y^5*z^3+4//1*y^4-x^2*y*z-3//1*y^2*z^4+z^8-3//1*x^2*z^4+5//1*y^4*z^4+y^2*z^7+y^2*z^6+4//1*y^7*z^3-7//1*y*z^5+4//1*y^4*z+x*z^3-6//1*y^5*z-x*y^3-x*y^3*z^3-x^2*z^6-3//1*y^5*z^2-2//1*z^5+4//1*y^3-5//1*y^7*z-2//1*x*y*z^3+z^7+4//1*y^7*z^2+3//1*y^2*z+3//1*y^6*z^4+7//1*y*z^3-2//1*y+3//1*y^6*z^3-y^2*z^5-9//1*y^4*z^3+x^2*z-x^2-5//1*y^7-4//1*y^6*z+5//1*y^4*z^5+x^2*y+x*y^2*z^3-8//1*y*z^4-x*y*z^4-x*y*z^2+z^2+2//1*y*z^7+x*y^2*z^6+z^3+y^2\n",
      "(5,7)\n",
      "\t2//1*x*y*z^6-4//1*x*y^2*z+2//1*y^8*z^3+y^10+4//1*y^5*z^5-2//1*x*y^2*z^2+z^9-3//1*y^5-y^3*z^5-5//1*y^6*z^2-2//1*x*y^3*z^5-2//1*x*y^2-6//1*y*z^6+3//1*y^5*z^4+2//1*x*y^3*z+3//1*y^8*z^2+2//1*y^5*z^6-2//1*x*y^3*z^4+2//1*x*y^2*z^4-11//1*y^3*z^4+3//1*y^2*z^2+3//1*y^6*z^5+y^2*z^8+2//1*y^8*z-2//1*y^2*z^3+5//1*y^4*z^6+4//1*y^7*z^4+x*y-10//1*y^3*z^3+3//1*y^3*z^7+7//1*y*z^2+2//1*y^9*z-x^2*z^7+4//1*x^2*z^2-5//1*y^4*z^2+2//1*x*y^3*z^2+8//1*y^3*z-5//1*x^2*z^5+6//1*y^3*z^6-3//1*z^6+2//1*x*y*z+2//1*y^10*z+x*y^2*z^5-4//1*y^6+2//1*y^9*z^2+y^9+x*y^2*z^7+x*y*z^7+y^3*z^2+5//1*x^2*z^3-2//1*y^5*z^3+4//1*y^4-6//1*y^2*z^4+2//1*z^8+y^10*z^2+y^8-4//1*y^4*z^4+2//1*y^2*z^7+y^8*z^4+8//1*y^7*z^3+8//1*y^4*z-15//1*y*z^5-6//1*y^5*z+x*y^3-3//1*x^2*z^6-7//1*y^5*z^2-3//1*z^5+4//1*y^3+2//1*y*z^8-10//1*y^7*z-3//1*x*y*z^3-y^7*z^2-x*y^3*z^6+4//1*y^2*z+6//1*y^6*z^4+13//1*y*z^3-y+2//1*y^6*z^3-4//1*y^2*z^5-18//1*y^4*z^3-5//1*y^7+y^9*z^3-8//1*y^6*z+10//1*y^4*z^5+3//1*x*y^2*z^3-2//1*y*z-y*z^4-3//1*x*y*z^4+z^2+3//1*y*z^7+x*y^2*z^6+2//1*z^3+2//1*y^2\n",
      "(5,8)\n",
      "\t-x*y*z^6+2//1*y^11*z+2//1*x*z+6//1*x*y^2*z+10//1*y^8*z^3+y^11+14//1*y^5*z^5+7//1*y^5-6//1*x*y^3*z^5+3//1*x*y^2+5//1*y*z^6-7//1*y^5*z^4-6//1*x*y^3*z-y^8*z^2+7//1*y^5*z^6-9//1*x*y^2*z^4+3//1*x*y^3*z^4+6//1*y^2*z^2+3//1*y^2*z^8+18//1*y^2*z^3-12//1*y^8*z-4//1*y^4*z^6-2//1*y^7*z^4-x*y+2//1*x*y*z^5+4//1*z^4-y*z^2+2//1*y^4*z^2+3//1*x*y^3*z^2-z^6-2//1*z-2//1*x*y*z+x-2//1*x*z^2+3//1*x*y^2*z^7-2//1*x*y*z^7-z^8-28//1*y^5*z^3-6//1*y^8+2//1*x*z^6+2//1*y^4*z^4+6//1*y^2*z^7+y^11*z^2-6//1*y^2*z^6+5//1*y^8*z^4-y^7*z^3+3//1*y*z^5-6//1*x*z^3+14//1*y^5*z-3//1*x*y^3+12//1*x*y^3*z^3-x*z^8-7//1*y^5*z^2+2//1*z^5-2//1*y*z^8-2//1*x*z^7+2//1*y^7*z+2//1*x*y*z^3-2//1*z^7-1//1+y^7*z^2-3//1*x*y^3*z^6-6//1*y^2*z-y*z^9-5//1*y*z^3+y-18//1*y^2*z^5+4//1*y^4*z^3+y^7-2//1*y^4*z^5-2//1*y^4*z^7-9//1*x*y^2*z^3+2//1*y*z-3//1*y*z^4-y^7*z^5+4//1*x*y*z^4-x*y*z^2-z^2+y*z^7+6//1*x*z^5+6//1*x*y^2*z^6+2//1*z^3-3//1*y^2-x*y*z^8\n",
      "(4,9)\n",
      "\t4//3*x*y*z^6+1//3*y^12+1//3*y^11*z-5//3*x*z+1//3*x*y^2*z-2//3*y^8*z^3-3//1*y^5*z^5+5//3*x*y^2*z^2+5//3*z^9-18//1*y^3*z^5-10//3*y^6*z^2+x*y^3*z^5-1//3*x*y^2+4//3*y^8*z^5+2//3*y*z^6-26//3*y^5*z^4+5//3*y^5*z^7+x*y^3*z-11//3*y^8*z^2+10//3*y^5*z^6-5//3*x*y^2*z^4+x*y^3*z^4+5//3*y^9*z^4-7//3*y^2*z^2+2//3*y^2*z^9+20//3*y^6*z^5+4//3*y^2*z^8-4//3*y^8*z+1//3*y^2*z^3-2//3*y^4*z^6+1//3*x*y-1//3*y^7*z^4+10//3*x*y*z^5+18//1*y^3*z^3+8//3*z^4+6//1*y^3*z^7+1//3*y*z^2-4//1*y^9*z+x*z^4-2//1*x*y^3*z^2-6//1*y^3*z+3//1*y^3*z^8-6//1*y^3*z^6+8//3*z^6+5//3*z+1//3*x*y*z-x+z^10-7//3*x*y^2*z^5+10//3*y^6-1//3*y^9*z^2+5//3*x*z^2-1//3*x*y*z^9+2//3*x*y^2*z^8-2//1*y^9+4//3*x*y^2*z^7-x*y*z^7+10//3*y^6*z^6+6//1*y^3*z^2+5//1*y^2*z^4-y^5*z^3-11//3*z^8+1//3*y^8-3//1*x*z^6+1//3*y^12*z^2+4//3*y^4*z^4-5//3*y^2*z^7+2//3*y^11*z^2-13//3*y^2*z^6+8//3*y^8*z^4+1//3*y^7*z^3-1//3*y*z^5+13//3*x*z^3+2//3*x*z^9+7//3*y^5*z+x*y^3-2//1*x*y^3*z^3+4//3*x*z^8+16//3*y^5*z^2+40//3*z^5-3//1*y^3-1//3*x*z^7+1//3*y^7*z-7//3*x*y*z^3+1//3*y^11*z^3-25//3*z^7+1//1+2//3*y^7*z^2-1//3*y^2*z-2//3*y*z^9-10//3*y^6*z^4+1//3*y*z^3-1//3*y-40//3*y^6*z^3+y^2*z^5+2//3*y^4*z^3-1//3*y*z^10+10//3*y^9*z^3+20//3*y^6*z-4//3*y^4*z^7+2//3*y^4*z^5+2//3*x*y^2*z^3-1//3*y*z-1//3*y*z^4-1//3*y^7*z^6-2//3*y^7*z^5+2//3*x*y*z^4-4//3*x*y*z^2-11//3*z^2+y*z^7-3//1*x*z^5-1//3*x*y^2*z^6-25//3*z^3-2//3*y^4*z^8+1//3*y^2+2//3*y^12*z-x*y*z^8\n",
      "(9,10)\n",
      "\t-13//3*x*y*z^6-1//3*y^12-y^11*z+2//1*x*z-2//1*x*y^2*z+y^8*z^3-1//3*y^11+7//1*y^5*z^5-2//1*x*y^2*z^2+2//1*z^9-7//3*y^5+18//1*y^3*z^5-3//1*y^3*z^9-10//3*y^6*z^2-2//3*x*y^2+1//3*x*y*z^10-4//1*y^8*z^5-2//1*y*z^6+12//1*y^5*z^4-5//1*y^5*z^7-2//3*x*y^2*z^9+16//3*y^8*z^2-8//3*y^5*z^6+4//1*x*y^2*z^4-5//1*y^9*z^4-18//1*y^3*z^4+2//3*y^2*z^2-2//1*y^2*z^9-10//3*y^6*z^5-2//3*y^2*z^8+5//1*y^8*z-4//1*y^2*z^3+4//3*y^4*z^6-1//3*y^11*z^4+2//3*y^7*z^4-14//3*x*y*z^5-24//1*y^3*z^3+13//3*z^4+1//3*y*z^2-10//3*y^6*z^7+6//1*y^9*z-2//3*y^4*z^2-16//3*x*z^4+9//1*y^3*z-9//1*y^3*z^8+24//1*y^3*z^6-47//3*z^6-2//1*z+2//3*x-8//3*z^10+4//1*x*y^2*z^5-10//3*y^6+13//3*y^9*z^2+2//3*x*z^2+4//3*x*y*z^9-2//1*x*y^2*z^8-2//3*y^2*z^10+2//1*y^9-2//1*x*y^2*z^7+1//3*x*y*z^7-5//3*y^5*z^8-10//1*y^6*z^6+37//3*z^8-16//3*y^2*z^4+5//1*y^5*z^3+1//3*y^7*z^7+1//3*y*z^11+5//3*y^8+16//3*x*z^6-y^12*z^2-4//3*y^8*z^6-8//3*y^4*z^4-5//3*y^9*z^5-4//3*y^11*z^2+4//1*y^2*z^7-11//3*y^8*z^4-2//3*y^7*z^3+16//3*y^2*z^6-4//1*x*z^3-1//3*y*z^5-2//1*x*z^9-7//1*y^5*z-2//3*x*z^10-2//3*x*z^8-16//3*y^5*z^2-50//3*z^5+3//1*y^3+4//1*x*z^7-1//3*y*z^8-y^7*z+3//1*x*y*z^3-y^11*z^3+19//3*z^7-2//3-4//3*y^7*z^2-1//3*y^12*z^3+2//1*y^2*z+y*z^9+50//3*y^6*z^4+y*z^3-z^11+50//3*y^6*z^3-2//1*y^4*z^3+y*z^10-1//3*y^7-3//1*y^9*z^3-10//1*y^6*z+8//3*y^4*z^7-4//3*y^4*z^5+2//3*x*y^2*z^3+y*z^4+y^7*z^6+4//3*y^7*z^5+1//3*x*y*z^4+4//3*x*y*z^2+2//3*y^4*z^9-2//1*y*z^7+7//3*z^2+2//3*x*y^2*z^6+34//3*z^3+2//1*y^4*z^8+2//3*y^2-y^12*z+7//3*x*y*z^8\n",
      "(10,11)\n",
      "\t1//12*y^7*z^8+25//4*x*y*z^6-5//12*y^12-5//6*y^11*z-4//3*x*z-8//3*x*y^2*z+7//4*y^8*z^3+3//1*y^10-1//4*y^11+91//12*y^5*z^5-4//3*x*y^2*z^2-53//12*z^9+1//6*y^4*z^10+5//6*x*z^11-7//4*y^5+9//1*y^3*z^5+3//2*y^3*z^9-19//3*y^6*z^2-5//6*x*y^2-3//4*x*y*z^10-13//4*y^8*z^5-281//12*y*z^6+107//12*y^5*z^4-37//12*y^5*z^7+55//12*y^8*z^2+5//12*y^5*z^6+16//3*x*y^2*z^4-16//3*y^9*z^4-7//2*y^3*z^4+13//6*y^2*z^2+1//12*x*y*z^11-5//6*y^2*z^9+13//6*y^6*z^5+4//3*y^2*z^8+11//3*y^8*z-8//3*y^2*z^3-1//4*y^12*z^4-3//4*y^9*z^6+110//3*y^4*z^6-1//2*y^11*z^4+4//3*x*y+76//3*y^7*z^4-41//12*x*y*z^5-5//2*y^10*z^5-6//1*y^3*z^3-35//12*z^4-6//1*y^3*z^7+29//12*y*z^2-5//2*y^6*z^7-1//12*y^5*z^9+3//4*z^12+13//2*y^9*z-1//2*y^4*z^2+4//1*x*z^4+3//2*y^3*z-1//2*y^13-19//4*y^3*z^8+13//2*y^3*z^6+1//12*z^6+4//3*z+4//1*x*y*z-1//2*x+9//1*y^10*z-3//2*z^10-1//3*x*y^2*z^5-1//6*y^8*z^7+77//12*y^9*z^2-x*z^2-29//12*x*y*z^9+1//6*x*y^2*z^8-8//3*y^6+1//12*y*z^12-1//2*y^2*z^10+2//1*y^9-7//6*x*y^2*z^7+43//6*x*y*z^7-9//2*y^10*z^3-3//2*y^5*z^8-17//3*y^6*z^6+1//4*y^3*z^2-13//2*y^2*z^4+17//12*y^5*z^3+9//2*y^4-3//2*y^13*z^2+11//6*z^8+13//2*y^10*z^2-9//2*y^7*z^7+13//12*y^8-y*z^11-x*z^6-5//3*y^12*z^2-3//2*y^8*z^6-59//2*y^4*z^4-7//2*y^9*z^5-5//4*y^11*z^2+5//4*y^3*z^10-13//6*y^8*z^4+145//6*y^7*z^3+27//2*y^4*z+7//6*x*z^3+13//3*y^2*z^7+1//3*x*z^9-35//6*y^5*z+8//3*y^2*z^6-67//3*y*z^5-3//2*y^13*z+2//1*x*z^10-7//2*x*z^8-73//12*y^5*z^2-65//12*z^5+1//4*y^3-14//3*x*z^7+197//12*y*z^8-95//6*y^7*z-65//12*x*y*z^3-13//12*y^11*z^3+41//6*z^7+1//2-25//4*y^7*z^2-y^12*z^3-15//2*y^10*z^4+8//3*y^2*z+8//3*y*z^9-1//12*y^11*z^5-1//2*y^13*z^3+44//3*y^6*z^4+35//2*y*z^3+55//6*y^6*z^3-7//2*y^2*z^5-4//3*y+19//12*z^11-113//3*y^4*z^3-10//3*y*z^10-21//4*y^7-2//3*y^9*z^3-53//6*y^6*z+7//3*y^4*z^7+76//3*y^4*z^5+25//6*x*y^2*z^3-4//1*y*z+55//6*y*z^4-167//12*y^7*z^6-23//6*y^7*z^5-29//3*x*y*z^4+7//3*x*y*z^2-7//2*y^4*z^9+43//6*y*z^7+11//3*x*z^5-10//3*x*y^2*z^6+1//12*z^3+5//4*z^2-34//3*y^4*z^8+5//6*y^2-4//3*y^12*z+1//2*x*y*z^8\n",
      "(11,12)\n",
      "\t22//1*y^7*z^8-348//1*x*y*z^6+51//2*y^12+53//1*y^11*z+80//1*x*z+168//1*x*y^2*z+3//2*y^12*z^5-180//1*y^10+31//2*y^11-134//1*y^8*z^3-519//1*y^5*z^5+99//1*x*y^2*z^2+251//1*z^9+11//1*y^4*z^10-62//1*x*z^11+217//2*y^5-y^4*z^11-57//1*y^3*z^9+438//1*y^6*z^2-546//1*y^3*z^5+51//1*x*y^2+59//1*x*y*z^10+214//1*y^8*z^5+1542//1*y*z^6-1123//2*y^5*z^4+190//1*y^5*z^7+9//2*y^9*z^7-305//1*y^8*z^2-133//2*y^5*z^6-351//1*x*y^2*z^4+663//2*y^9*z^4+273//1*y^3*z^4-147//1*y^2*z^2-1//2*x*y*z^11+45//1*y^2*z^9-213//1*y^6*z^5-105//1*y^2*z^8-234//1*y^8*z+153//1*y^2*z^3+21//1*y^12*z^4+66//1*y^9*z^6-2354//1*y^4*z^6+37//1*y^11*z^4-80//1*x*y-1666//1*y^7*z^4-9//2*z^13+270//1*x*y*z^5+195//1*y^10*z^5+789//2*y^3*z^3+168//1*z^4+321//1*y^3*z^7-243//2*y*z^2+189//1*y^6*z^7+14//1*y^5*z^9-109//2*z^12-411//1*y^9*z-50//1*y^4*z^2-1//2*x*y*z^12-15//2*y^3*z^11-239//1*x*z^4-105//1*y^3*z+30//1*y^13+669//2*y^3*z^8-480//1*y^3*z^6+51//1*z^6-80//1*z-248//1*x*y*z+29//1*x-558//1*y^10*z+241//2*z^10-18//1*x*y^2*z^5+3//1*y^13*z^4-861//2*y^9*z^2+67//1*x*z^2+140//1*x*y*z^9+19//1*y^8*z^7+165//1*y^6+y*z^12+36//1*y^2*z^10-123//1*y^9+93//1*x*y^2*z^7-468//1*x*y*z^7+231//1*y^10*z^3+111//1*y^5*z^8-1//2*y*z^13+342//1*y^6*z^6-24//1*y^3*z^2+414//1*y^2*z^4-56//1*y^5*z^3-270//1*y^4+99//1*y^13*z^2-339//2*z^8-444//1*y^10*z^2-1//2*y^7*z^9-135//2*y^8+353//1*y^7*z^7+159//2*y*z^11+30//1*x*z^6+219//2*y^12*z^2+15//1*y^10*z^6+223//2*y^8*z^6+2000//1*y^4*z^4+489//2*y^9*z^5+82//1*y^11*z^2-84//1*y^3*z^10-5//1*x*z^12+125//1*y^8*z^4-2823//2*y^7*z^3-58//1*x*z^3-837//1*y^4*z+4//1*x*z^9+371//1*y^5*z-282//1*y^2*z^7-147//1*y^2*z^6+15//1*y^6*z^8+2571//2*y*z^5+93//1*y^13*z-121//1*x*z^10+1//2*y^11*z^6+239//1*x*z^8+408//1*y^5*z^2+735//2*z^5-39//2*y^3+280//1*x*z^7-2055//2*y*z^8+983//1*y^7*z+1//2*y^5*z^10+613//2*x*y*z^3+74//1*y^11*z^3-420//1*z^7-29//1+472//1*y^7*z^2+141//2*y^12*z^3+477//1*y^10*z^4-168//1*y^2*z-260//1*y*z^9+8//1*y^11*z^5+39//1*y^13*z^3-960//1*y^6*z^4-1066//1*y*z^3-537//1*y^6*z^3+249//1*y^2*z^5+80//1*y-169//2*z^11+2266//1*y^4*z^3+365//2*y*z^10+631//2*y^7+6//1*y^9*z^3+561//1*y^6*z-364//1*y^4*z^7-1341//1*y^4*z^5-243//1*x*y^2*z^3+248//1*y*z-1313//2*y*z^4+1713//2*y^7*z^6+76//1*y^7*z^5+612//1*x*y*z^4+y^8*z^8-166//1*x*y*z^2+277//1*y^4*z^9+3//1*y^2*z^11-244//1*x*z^5+201//1*x*y^2*z^6-573//2*y*z^7-59//2*z^3+663//1*y^4*z^8-51//1*y^2-173//2*z^2+84//1*y^12*z-153//2*x*y*z^8\n",
      "(12,13)\n",
      "\t5//93*x*z^13+607//1922*x*y*z^6-1243//2883*x*z+1//961*x*y^2*z+258//961*y^10+1187//2883*y^5*z^5+139//2883*z^9-2615//961*y^3*z^5-2328//961*y*z^6-6979//5766*y^5*z^4-256//961*y^9*z^7+8821//5766*y^5*z^6+568//961*y^9*z^4+313//961*y^2*z^2+662//961*y^2*z^8-625//1922*y^8*z-603//961*y^9*z^6-929//1922*x*y*z^5-781//5766*y*z^2+115//2883*z^12-158//961*y^9*z-253//5766*x*y*z^12+1//93*y^4*z^12+1921//1922*y^3*z^8+494//2883*z^10+244//961*y^6+1//186*x*y*z^13+509//1922*y^3*z^2-8093//5766*y^5*z^3+1213//961*y^10*z^2-287//1922*y^8-1113//961*y^2*z^6+2537//2883*y^7*z^3-169//961*x*z^9+2191//5766*y^5*z-106//2883*y^11*z^6-1//186*y^5*z^11-1//62*y^12*z^6-809//1922*y^3-2134//2883*x*z^7-8987//5766*y^7*z-292//2883*y^5*z^10-447//1922*y^12*z^3-476//961*y^10*z^4-1//93*y^8*z^9-211//1922*y^11*z^5-115//961*z^11-887//961*y^2*z^5+3320//961*y^4*z^7-5815//5766*x*y*z^4-309//1922*z^2-1733//961*y*z^7+3532//2883*y^4*z^8+23//1922*y^12+313//5766*y^11*z+5//186*y^11-860//961*y^4*z^10+35//186*y^5-625//2883*y^4*z^11+23//961*x*y^2-167//5766*y^8*z^2-353//1922*x*y*z^11+540//961*y^2*z^9-182//961*y^12*z^4+17657//5766*y^7*z^4-1826//2883*z^4+752//961*y^3*z^7+158//961*y^3*z^11-2179//1922*y^3*z-119//961*y^13*z^4-629//1922*y^8*z^7-3//62*y^9*z^8+328//2883*x*y*z^9-739//2883*y*z^12-112//961*y^9-173//2883*y*z^13+1903//961*y^6*z^6-112//961*y^12*z^2-305//961*y^8*z^6+1//186*y^7*z^10-4179//961*y^4*z^4-311//1922*y^3*z^10+45//31*y^4*z-533//961*y^6*z^8+3643//1922*z^5+1//186*y*z^14+349//961*y*z^8-3025//1922*y^7*z^2-5//31*y^10*z^7-2507//961*y^6*z^3-6464//2883*y^4*z^3-2//961*x*y^2*z^3-40//93*y*z+2307//961*y^7*z^5-23//961*y^2+477//961*x*y*z^8-2169//1922*y^7*z^8+3341//5766*y^8*z^3+6//31*x*z^11-407//1922*y^3*z^9-851//961*y^6*z^2-1115//5766*x*y*z^10+455//1922*y^8*z^5+35//961*x*y^2*z^4+3173//1922*y^3*z^4+2249//961*y^6*z^5-57//961*y^6*z^7-1813//5766*y^5*z^9-43//961*y^13+1511//961*z^6+40//93*x*y*z+30//31*y^10*z+1//961*x*y^2*z^5+983//1922*y^9*z^2-250//961*x*z^2+615//961*x*y*z^7+509//961*y^10*z^3-1135//961*z^8+387//961*y^4-238//961*y^13*z^2-824//2883*y^7*z^9-8281//5766*y^7*z^7-595//961*y^10*z^6-921//1922*y^9*z^5+15//1922*y^11*z^2-191//961*y^2*z^7+502//2883*x*z^12+725//961*y^8*z^4+36//961*x*z^10-1717//5766*y^5*z^2-1//31*y^13*z^5-3011//5766*x*y*z^3-1//961*y^2*z+7475//5766*y*z^3-1//31*y^2*z^12-305//2883*y^8*z^8-5//31*y^6*z^9-88//961*y^2*z^11-6//961*x*y^2*z^6-4255//2883*z^3+1//1922*y^12*z+3//62*z^14-75//961*y^12*z^5-1//186*y^11*z^7-52//961*x*y^2*z^2+2686//2883*y^5*z^7+627//961*y^2*z^3+7295//2883*y^4*z^6+823//5766*z^13-145//961*y^11*z^4+344//2883*x*y-884//961*y^10*z^5+2998//961*y^3*z^3+3098//2883*y^4*z^2+1038//961*x*z^4-2319//961*y^3*z^6+1243//2883*z-413//2883*x+60//961*y^2*z^10-313//2883*y^5*z^8+132//961*y^2*z^4-755//5766*y*z^11-1214//2883*x*z^6-1777//5766*y*z^5+544//961*x*z^3-5//31*y^13*z-449//961*x*z^8-177//1922*y^11*z^3-886//961*z^7+413//2883+8281//5766*y*z^9-763//961*y^6*z^4-214//961*y^13*z^3-344//2883*y+2230//2883*y*z^10-2425//5766*y^7+2345//1922*y^9*z^3+5//62*y^3*z^12+470//961*y^6*z-4628//2883*y^4*z^5+5165//2883*y*z^4+319//5766*y^7*z^6+302//961*x*y*z^2-2428//2883*y^4*z^9+513//961*x*z^5\n",
      "(13,14)\n",
      "\t5177//108*x*z^13+2635//72*x*y*z^6-19747//108*x*z+217//36*x*y^2*z-31//36*y^5*z^12+589//6*y^10+31//36*x*y*z^14-1240//27*y^5*z^5-18197//108*z^9-13609//18*y^3*z^5-33697//36*y*z^6-147343//216*y^5*z^4-1798//9*y^9*z^7+137299//216*y^5*z^6+15097//36*y^9*z^4+4309//36*y^2*z^2+2015//9*y^2*z^8-10633//72*y^8*z-310//1*y^9*z^6-24397//72*x*y*z^5-26071//216*y*z^2-527//108*z^12-1519//18*y^9*z-9889//216*x*y*z^12-3317//108*y^4*z^12+36115//72*y^3*z^8+3937//54*z^10+868//9*y^6-1085//216*x*y*z^13-5983//72*y^3*z^2-123473//216*y^5*z^3+22351//36*y^10*z^2-4061//72*y^8+155//18*x*z^14-2325//4*y^2*z^6+1643//27*y^7*z^3-5053//36*x*z^9+37975//216*y^5*z-3379//108*y^11*z^6-3937//216*y^5*z^11-1333//72*y^12*z^6-11315//72*y^3-18383//54*x*z^7-137795//216*y^7*z-9517//108*y^5*z^10-837//8*y^12*z^3-1705//18*y^10*z^4+155//12*y^3*z^13-2263//108*y^8*z^9-4681//72*y^11*z^5-217//12*z^11-11501//36*y^2*z^5+3379//2*y^4*z^7-97867//216*x*y*z^4+589//72*z^2-38285//36*y*z^7+27466//27*y^4*z^8+341//72*y^12+5425//216*y^11*z+2201//216*y^11-31//12*y^12*z^7-4216//9*y^4*z^10-31//6*y^2*z^13+15407//216*y^5-24211//108*y^4*z^11+341//36*x*y^2-14291//216*y^8*z^2-2387//24*x*y*z^11+961//3*y^2*z^9-3875//36*y^12*z^4+273203//216*y^7*z^4-12710//27*z^4-1643//18*y^3*z^7+1271//36*y^3*z^11-35371//72*y^3*z-2945//36*y^13*z^4-12431//72*y^8*z^7-1457//24*y^9*z^8+6665//54*x*y*z^9-6293//54*y*z^12-403//9*y^9-6851//108*y*z^13+40207//36*y^6*z^6-1519//36*y^12*z^2-713//9*y^8*z^6-9455//216*y^7*z^10-70525//36*y^4*z^4-6851//72*y^3*z^10+2387//4*y^4*z-7781//36*y^6*z^8+43865//72*z^5-1643//216*y*z^14-5921//36*y*z^8-59861//72*y^7*z^2-5735//36*y^10*z^7-40331//36*y^6*z^3-17267//27*y^4*z^3-217//18*x*y^2*z^3-4774//27*y*z+24955//18*y^7*z^5-341//36*y^2+1147//4*x*y*z^8-46841//72*y^7*z^8-31//18*y^8*z^10+45353//216*y^8*z^3+155//2*x*z^11+5797//72*y^3*z^9-8897//36*y^6*z^2-11501//216*x*y*z^10+15221//72*y^8*z^5+341//36*x*y^2*z^4+80507//72*y^3*z^4+26753//36*y^6*z^5-155//6*y^10*z^8+31//4*z^15+3565//12*y^6*z^7-29047//216*y^5*z^9+31//36*y*z^15-589//36*y^13+16027//18*z^6+4774//27*x*y*z+2387//6*y^10*z+217//36*x*y^2*z^5+11501//72*y^9*z^2-496//3*x*z^2+1705//6*x*y*z^7+14477//36*y^10*z^3-31//6*y^13*z^6-21235//36*z^8+589//4*y^4-1054//9*y^13*z^2-31031//108*y^7*z^9-112933//216*y^7*z^7-13609//36*y^10*z^6-651//8*y^9*z^5+899//72*y^11*z^2-9455//36*y^2*z^7+5177//54*x*z^12+3379//9*y^8*z^4-31//2*x*z^10-9889//216*y^5*z^2-1147//36*y^13*z^5-30473//216*x*y*z^3-217//36*y^2*z+97247//216*y*z^3-961//36*y^2*z^12-155//6*y^6*z^10-2480//27*y^8*z^8-5363//36*y^6*z^9-217//9*y^2*z^11-15562//27*z^3+217//72*y^12*z+2945//72*z^14-713//12*y^12*z^5-1705//216*y^11*z^7-31//36*y^11*z^8-341//18*x*y^2*z^2+64201//108*y^5*z^7+3565//12*y^2*z^3+71393//108*y^4*z^6+12865//216*z^13-1271//18*y^11*z^4+1178//27*x*y-3782//9*y^10*z^5+43555//36*y^3*z^3-31//4*y^9*z^9+31//36*y^7*z^11+17081//27*y^4*z^2+2945//6*x*z^4-5363//4*y^3*z^6+19747//108*z-5735//108*x+31//18*y^4*z^13+341//3*y^2*z^10+11873//108*y^5*z^8+961//6*y^2*z^4+16399//216*y*z^11-1922//27*x*z^6+40145//216*y*z^5+1519//9*x*z^3-2387//36*y^13*z-10447//36*x*z^8-775//24*y^11*z^3-868//9*z^7+5735//108+127627//216*y*z^9-26071//36*y^6*z^4-2201//18*y^13*z^3-1178//27*y+56203//108*y*z^10-33139//216*y^7+38657//72*y^9*z^3+4061//72*y^3*z^12+4123//18*y^6*z-70711//54*y^4*z^5+46903//54*y*z^4+89497//216*y^7*z^6+3317//18*x*y*z^2-3100//27*y^4*z^9+4433//12*x*z^5\n",
      "(14,15)\n",
      "\t-524//49*x*z^13+793//49*x*y*z^6+176//7*x*z+136//49*y^5*z^12-720//49*y^10+53//49*x*y*z^14+1665//49*y^5*z^5+2036//49*z^9+1584//49*y^3*z^5+4276//49*y*z^6+92//1*y^5*z^4+1788//49*y^9*z^7-2652//49*y^5*z^6-3078//49*y^9*z^4-816//49*y^2*z^2+3//7*y^12*z^8-108//49*y^2*z^8+132//7*y^8*z+1206//49*y^9*z^6+2689//49*x*y*z^5+795//49*y*z^2-235//49*z^12+66//7*y^9*z+506//49*x*y*z^12+1304//49*y^4*z^12-15//49*y^3*z^8+1055//49*z^10-90//7*y^6+37//7*x*y*z^13+1//7*y^11*z^9+741//49*y^3*z^2+473//7*y^5*z^3-624//7*y^10*z^2+375//49*y^8-268//49*x*z^14+3474//49*y^2*z^6+712//49*y^7*z^3+1756//49*x*z^9-22//1*y^5*z+375//49*y^11*z^6+501//49*y^5*z^11+348//49*y^12*z^6+1083//49*y^3+1578//49*x*z^7+638//7*y^7*z+643//49*y^5*z^10+690//49*y^12*z^3-720//49*y^10*z^4-276//49*y^3*z^13+535//49*y^8*z^9+517//49*y^11*z^5-2//7*y^4*z^14+13//7*z^11+204//7*y^2*z^5-1//7*y*z^16-8616//49*y^4*z^7+380//7*x*y*z^4-109//49*z^2+6736//49*y*z^7-8976//49*y^4*z^8-27//49*y^12-22//7*y^11*z-67//49*y^11+114//49*y^12*z^7+1338//49*y^4*z^10+144//49*y^2*z^13-67//7*y^5+2342//49*y^4*z^11-54//49*x*y^2+493//49*y^8*z^2+67//7*x*y*z^11-1704//49*y^2*z^9+816//49*y^12*z^4-1//7*y^7*z^12-951//7*y^7*z^4+3005//49*z^4+3468//49*y^3*z^7-18//49*y^3*z^11+66//1*y^3*z+2//7*y^8*z^11+810//49*y^13*z^4+773//49*y^8*z^7+1146//49*y^9*z^8-1480//49*x*y*z^9-36//7*y*z^12+282//49*y^9+522//49*y*z^13-5802//49*y^6*z^6+6//1*y^12*z^2-347//49*y^8*z^6+1675//49*y^7*z^10+1664//7*y^4*z^4-729//49*y^3*z^10-594//7*y^4*z-10//7*x*z^15-1116//49*y^6*z^8-2441//49*z^5+366//49*y*z^14+3471//49*y*z^8+5791//49*y^7*z^2+2088//49*y^10*z^7+6654//49*y^6*z^3+3418//49*y^4*z^3+176//7*y*z-1362//7*y^7*z^5+30//7*y^10*z^9+54//49*y^2-2154//49*x*y*z^8+3915//49*y^7*z^8+146//49*y^8*z^10-149//7*y^8*z^3-298//49*x*z^11-1278//49*y^3*z^9+228//7*y^6*z^2-34//7*x*y*z^10-1923//49*y^8*z^5+1//7*y^5*z^13-54//49*x*y^2*z^4-999//7*y^3*z^4-1980//49*y^6*z^5+930//49*y^10*z^8-223//49*z^15-4416//49*y^6*z^7-326//49*y^5*z^9+74//49*y*z^15+120//49*y^13-4712//49*z^6-176//7*x*y*z-396//7*y^10*z-153//7*y^9*z^2+1192//49*x*z^2-1305//49*x*y*z^7-3522//49*y^10*z^3+186//49*y^13*z^6-1//7*x*y*z^15+1719//49*z^8-1080//49*y^4+828//49*y^13*z^2+496//7*y^7*z^9+516//49*y^7*z^7+9//7*y^9*z^10+2934//49*y^10*z^6-114//7*y^9*z^5-89//49*y^11*z^2+2574//49*y^2*z^7-642//49*x*z^12-2323//49*y^8*z^4+628//49*x*z^10+261//49*y^5*z^2+468//49*y^13*z^5+607//49*x*y*z^3-2832//49*y*z^3+72//49*y^2*z^12+846//49*y^6*z^10-15//7*y^3*z^14+936//49*y^8*z^8+918//49*y^6*z^9-78//7*y^2*z^11+3373//49*z^3-9//7*z^16-286//49*z^14+648//49*y^12*z^5+185//49*y^11*z^7+52//49*y^11*z^8+108//49*x*y^2*z^2-4080//49*y^5*z^7-1896//49*y^2*z^3+18//7*y^4*z^6-239//49*z^13+449//49*y^11*z^4-320//49*x*y+2052//49*y^10*z^5-6714//49*y^3*z^3+384//49*y^9*z^9+368//49*y^7*z^11-4346//49*y^4*z^2-2914//49*x*z^4+6141//49*y^3*z^6-176//7*z+374//49*x+274//49*y^4*z^13-1488//49*y^2*z^10-2427//49*y^5*z^8-1230//49*y^2*z^4-2130//49*y*z^11-704//49*x*z^6-288//7*y*z^5-102//7*x*z^3+66//7*y^13*z+2334//49*x*z^8+6//7*y^2*z^14+30//7*y^6*z^11+165//49*y^11*z^3-195//7*z^7-374//49-1586//49*y*z^9+5106//49*y^6*z^4+972//49*y^13*z^3+320//49*y-503//7*y*z^10+1133//49*y^7-3288//49*y^9*z^3-123//49*y^3*z^12-198//7*y^6*z+10022//49*y^4*z^5-5448//49*y*z^4-5850//49*y^7*z^6-1300//49*x*y*z^2-3282//49*y^4*z^9-2960//49*x*z^5+6//7*y^13*z^7\n",
      "(15,16)\n",
      "\t-518//27*x*z^13+1421//18*x*y*z^6+112//9*x*z+707//54*y^5*z^12-14//3*y^10+175//27*x*y*z^14+6713//54*y^5*z^5+3409//54*z^9-1253//6*y^3*z^5-1841//27*y*z^6+238//3*y^5*z^4+371//9*y^9*z^7+532//9*y^5*z^6-728//9*y^9*z^4-35//9*y^2*z^2+49//18*y^12*z^8+245//3*y^2*z^8+28//3*y^8*z-280//9*y^9*z^6+1925//27*x*y*z^5+700//27*y*z^2-161//27*z^12+7//6*y^9*z^11+14//3*y^9*z+427//27*x*y*z^12+686//9*y^4*z^12+147//1*y^3*z^8+161//2*z^10-7//3*y^6+434//27*x*y*z^13+7//6*y^11*z^9+203//3*y^3*z^2+343//54*y^5*z^3-679//9*y^10*z^2+14//9*y^8-434//27*x*z^14+35//9*y^6*z^12+280//9*y^2*z^6+2485//18*y^7*z^3+1918//27*x*z^9-98//9*y^5*z+413//27*y^11*z^6+1267//54*y^5*z^11+343//18*y^12*z^6+49//9*y^3-637//27*x*z^7+406//9*y^7*z-35//18*y^5*z^10+49//6*y^12*z^3-917//9*y^10*z^4-49//6*y^3*z^13+1589//54*y^8*z^9+679//54*y^11*z^5+14//3*y^4*z^14+518//27*z^11-308//9*y^2*z^5-7//54*y^7*z^13+7//6*y*z^16+287//9*y^4*z^7+364//27*x*y*z^4-665//27*z^2+889//9*y*z^7-252//1*y^4*z^8+7//9*y^2*z^15-14//9*y^11*z-7//27*y^11+28//3*y^12*z^7-896//9*y^4*z^10+14//3*y^2*z^13-49//27*y^5+1505//27*y^4*z^11+553//27*y^8*z^2-196//27*x*y*z^11+14//9*y^2*z^9-7//27*y^4*z^15+56//3*y^12*z^4+119//18*y^7*z^12+791//27*y^7*z^4+1939//27*z^4+7//54*y^5*z^14+399//2*y^3*z^7-49//6*y^3*z^11+98//3*y^3*z+28//9*y^8*z^11+28//1*y^13*z^4-679//54*y^8*z^7+1015//18*y^9*z^8-1687//27*x*y*z^9-595//9*y*z^12+7//9*y^9+7//54*y^11*z^10-182//9*y^6*z^6+14//9*y^12*z^2-1589//27*y^8*z^6+952//9*y^7*z^10+2086//27*y^4*z^4-182//3*y^3*z^10-42//1*y^4*z-7//1*x*z^15-1351//9*y^6*z^8+4627//54*z^5+343//18*y*z^14+10717//54*y*z^8+3059//27*y^7*z^2+266//3*y^10*z^7+112//3*y^6*z^3-7//54*x*y*z^16-784//9*y^4*z^3+7//18*y^12*z^9+112//9*y*z-3073//18*y^7*z^5+70//3*y^10*z^9-707//18*x*y*z^8+140//9*y^7*z^8-7//6*z^17+749//54*y^8*z^10+245//18*y^8*z^3+427//27*x*z^11-217//9*y^3*z^9-182//9*y^6*z^2-259//6*x*y*z^10-3451//54*y^8*z^5+49//18*y^5*z^13-427//3*y^3*z^4+1442//9*y^6*z^5+553//9*y^10*z^8-21//2*z^15-560//3*y^6*z^7-2072//27*y^5*z^9+245//27*y*z^15+7//9*y^13-623//18*z^6-112//9*x*y*z-28//1*y^10*z+35//9*y^9*z^2+812//27*x*z^2+644//27*x*y*z^7-350//3*y^10*z^3+119//9*y^13*z^6+7//9*x*y*z^15-658//9*z^8-7//1*y^4+119//9*y^13*z^2+6797//54*y^7*z^9-3241//18*y^7*z^7+161//18*y^9*z^10+7//27*y^8*z^12+182//3*y^10*z^6+7//9*y^13*z^8-1687//18*y^9*z^5-91//27*y^11*z^2+287//3*y^2*z^7-224//27*x*z^12-665//27*y^8*z^4-35//18*y^3*z^15+434//9*x*z^10-539//27*y^5*z^2+70//3*y^13*z^5-805//27*x*y*z^3+7//1*y*z^3-112//9*y^2*z^12+112//3*y^6*z^10-49//6*y^3*z^14+1421//54*y^8*z^8-56//3*y^6*z^9-427//9*y^2*z^11+14//27*z^3-7//54*y*z^17-161//27*z^16-161//27*z^14+217//9*y^12*z^5+595//54*y^11*z^7+259//54*y^11*z^8-623//9*y^5*z^7-21//1*y^2*z^3+8071//27*y^4*z^6-77//54*z^13+119//27*y^11*z^4-56//27*x*y-70//3*y^10*z^5+343//18*y^3*z^3+280//9*y^9*z^9+2261//54*y^7*z^11-2660//27*y^4*z^2-448//27*x*z^4-259//18*y^3*z^6-112//9*z+56//27*x+875//27*y^4*z^13-56//1*y^2*z^10-2303//18*y^5*z^8-133//3*y^2*z^4-3094//27*y*z^11-784//9*x*z^6-2317//18*y*z^5+791//27*x*z^3+14//3*y^13*z+49//1*x*z^8+35//9*y^2*z^14+196//9*y^6*z^11-119//54*y^11*z^3-7721//54*z^7-56//27+3136//27*y*z^9-35//27*x*z^16+70//3*y^13*z^3+455//3*y^6*z^4+56//27*y-91//2*y*z^10+203//27*y^7-238//9*y^9*z^3+49//9*y^3*z^12-14//1*y^6*z+2611//9*y^4*z^5-602//9*y*z^4-5005//18*y^7*z^6-812//27*x*y*z^2-2527//9*y^4*z^9-2128//27*x*z^5+14//3*y^13*z^7+35//9*y^10*z^10\n",
      "(14,16)\n",
      "(13,16)\n",
      "(13,15)\n",
      "(12,16)\n",
      "(12,14)\n",
      "(12,15)\n",
      "(11,14)\n",
      "(11,13)\n",
      "(11,15)\n",
      "(11,16)\n",
      "(13,17)\n",
      "\t1528//1*x*z^13-6762//1*x*y*z^6-1056//1*x*z-858//1*y^5*z^12+366//1*y^10-624//1*x*y*z^14-9458//1*y^5*z^5-5816//1*z^9+19110//1*y^3*z^5+6126//1*y*z^6-5964//1*y^5*z^4-2910//1*y^9*z^7-4606//1*y^5*z^6+6366//1*y^9*z^4+300//1*y^2*z^2-246//1*y^12*z^8-6300//1*y^2*z^8-612//1*y^8*z+3354//1*y^9*z^6+6//1*x*z^17-6108//1*x*y*z^5-2230//1*y*z^2+102//1*y^14*z^2+960//1*z^12-120//1*y^9*z^11-576//1*y^9*z-1284//1*x*y*z^12-6226//1*y^4*z^12+6//1*y^14-14490//1*y^3*z^8-8340//1*z^10+246//1*y^6+6//1*y^6*z^14-1388//1*x*y*z^13+42//1*y^11*z^9-6162//1*y^3*z^2-394//1*y^5*z^3+5922//1*y^10*z^2-102//1*y^8+1272//1*x*z^14+12//1*y^3*z^16-558//1*y^6*z^12-2400//1*y^2*z^6-10808//1*y^7*z^3-6128//1*x*z^9+852//1*y^5*z-864//1*y^11*z^6-1618//1*y^5*z^11-1584//1*y^12*z^6-492//1*y^3+1904//1*x*z^7-3540//1*y^7*z+210//1*y^5*z^10-516//1*y^12*z^3+8040//1*y^10*z^4+210//1*y^3*z^13-1754//1*y^8*z^9+180//1*y^14*z^3-1150//1*y^11*z^5-516//1*y^4*z^14-2438//1*z^11+2640//1*y^2*z^5-12//1*y^7*z^13-150//1*y*z^16-3850//1*y^4*z^7-1168//1*x*y*z^4+2060//1*z^2-7578//1*y*z^7+19886//1*y^4*z^8-60//1*y^2*z^15+6//1*y^12-48//1*y^11*z-8//1*y^11-810//1*y^12*z^7+9062//1*y^4*z^10-360//1*y^2*z^13+142//1*y^5-3966//1*y^4*z^11+36//1*y^14*z-1318//1*y^8*z^2+682//1*x*y*z^11-120//1*y^2*z^9-6//1*y^4*z^15-1386//1*y^12*z^4-642//1*y^7*z^12-2186//1*y^7*z^4-6460//1*z^4-17760//1*y^3*z^7-24//1*y^6*z^13+1860//1*y^3*z^11-2952//1*y^3*z-84//1*y^8*z^11-2160//1*y^13*z^4+538//1*y^8*z^7-4704//1*y^9*z^8+5368//1*x*y*z^9+5762//1*y*z^12-96//1*y^9+12//1*y^11*z^10+270//1*y*z^13-12//1*y^6*z^6+180//1*y^14*z^5-30//1*y^12*z^2+3704//1*y^8*z^6-8738//1*y^7*z^10-5830//1*y^4*z^4+6336//1*y^3*z^10+3492//1*y^4*z+582//1*x*z^15+13788//1*y^6*z^8-7560//1*z^5-1544//1*y*z^14-16302//1*y*z^8-8888//1*y^7*z^2-7020//1*y^10*z^7-2292//1*y^6*z^3+7530//1*y^4*z^3-36//1*y^12*z^9-1056//1*y*z+13678//1*y^7*z^5-1902//1*y^10*z^9+3408//1*x*y*z^8-1196//1*y^7*z^8+36//1*y^14*z^7+108//1*z^17-672//1*y^8*z^10-774//1*y^8*z^3-1100//1*x*z^11+1320//1*y^3*z^9+2442//1*y^6*z^2+3702//1*x*y*z^10+4306//1*y^8*z^5-150//1*y^5*z^13+12534//1*y^3*z^4-14844//1*y^6*z^5-4914//1*y^10*z^8+756//1*z^15+15360//1*y^6*z^7+5716//1*y^5*z^9-834//1*y*z^15-60//1*y^13+3318//1*z^6+1056//1*x*y*z+2196//1*y^10*z-810//1*y^9*z^2-2552//1*x*z^2-2022//1*x*y*z^7+9174//1*y^10*z^3-1020//1*y^13*z^6-114//1*x*y*z^15+7206//1*z^8+582//1*y^4-1020//1*y^13*z^2-10200//1*y^7*z^9+14476//1*y^7*z^7-870//1*y^9*z^10+6//1*y^8*z^12+216//1*y^14*z^4-4758//1*y^10*z^6-60//1*y^13*z^8-6//1*y^10*z^11+8124//1*y^9*z^5-194//1*y^11*z^2-7380//1*y^2*z^7+774//1*x*z^12+1826//1*y^8*z^4+6//1*y^14*z^8+168//1*y^3*z^15-3934//1*x*z^10+1580//1*y^5*z^2-1800//1*y^13*z^5+2526//1*x*y*z^3-752//1*y*z^3+960//1*y^2*z^12-3156//1*y^6*z^10+492//1*y^3*z^14-1824//1*y^8*z^8+2616//1*y^6*z^9+3660//1*y^2*z^11-210//1*z^3+36//1*y^12*z+102//1*y^14*z^6+450//1*z^16+624//1*z^14-1914//1*y^12*z^5-358//1*y^11*z^7-24//1*y^11*z^8+5052//1*y^5*z^7+1620//1*y^2*z^3-25204//1*y^4*z^6+772//1*z^13-974//1*y^11*z^4+176//1*x*y+1878//1*y^10*z^5-1956//1*y^3*z^3-2814//1*y^9*z^9-3594//1*y^7*z^11+8246//1*y^4*z^2+1432//1*x*z^4+2262//1*y^3*z^6+1056//1*z-176//1*x-2874//1*y^4*z^13+4320//1*y^2*z^10+6//1*z^18+9496//1*y^5*z^8+3420//1*y^2*z^4+9352//1*y*z^11+7430//1*x*z^6+10724//1*y*z^5-2482//1*x*z^3-360//1*y^13*z-4372//1*x*z^8-300//1*y^2*z^14-2292//1*y^6*z^11-538//1*y^11*z^3+13332//1*z^7+176//1-10126//1*y*z^9+126//1*x*z^16-1800//1*y^13*z^3-12756//1*y^6*z^4-176//1*y+3156//1*y*z^10-590//1*y^7+1536//1*y^9*z^3-492//1*y^3*z^12+1476//1*y^6*z-23650//1*y^4*z^5+5358//1*y*z^4+22240//1*y^7*z^6+2552//1*x*y*z^2+23324//1*y^4*z^9+6746//1*x*z^5-360//1*y^13*z^7-336//1*y^10*z^10\n",
      "(17,18)\n",
      "\t1085//1083*x*z^13+6495//361*x*y*z^6+9464//1083*x*z-31232//1083*y^5*z^12-302//361*y^10+680//1083*x*y*z^14-64333//1083*y^5*z^5+174980//1083*z^9-10//19*y^2*z^16-73068//361*y^3*z^5+3802//1083*y*z^6-16463//1083*y^5*z^4+1553//361*y^9*z^7-27215//361*y^5*z^6-1170//361*y^9*z^4-70//361*y^2*z^2-1208//361*y^12*z^8-21900//361*y^2*z^8-4079//361*y^8*z-9496//361*y^9*z^6+181//361*x*z^17+59026//1083*x*y*z^5+16438//1083*y*z^2-3592//361*y^14*z^2-77983//1083*z^12-1644//361*y^9*z^11+7628//361*y^9*z+14309//1083*x*y*z^12+4153//1083*y^4*z^12-218//361*y^14+60856//361*y^3*z^8+181265//1083*z^10-2440//361*y^6-294//361*y^6*z^14+4802//1083*x*y*z^13-4851//361*y^11*z^9+26096//361*y^3*z^2+4889//1083*y^5*z^3+1890//361*y^10*z^2-626//361*y^8+10160//1083*x*z^14-1//19*y^4*z^16+96//361*y^3*z^16+2186//361*y^6*z^12+8920//361*y^2*z^6+2//19*y^3*z^17-59759//1083*y^7*z^3+10978//361*x*z^9-547//1083*y^5*z-44543//1083*y^11*z^6-17666//1083*y^5*z^11-1576//361*y^12*z^6+2714//361*y^3+60155//1083*x*z^7+3371//1083*y^7*z+47657//1083*y^5*z^10-4090//361*y^12*z^3+20677//361*y^10*z^4+13555//361*y^3*z^13-71983//1083*y^8*z^9-6217//361*y^14*z^3+3682//361*y^11*z^5-3349//361*y^4*z^14+26228//1083*z^11+10214//361*y^2*z^5-1236//361*y^7*z^13-440//361*y*z^16-86206//1083*y^4*z^7+38677//1083*x*y*z^4-8738//1083*z^2+19651//361*y*z^7-98797//1083*y^4*z^8-10//19*y^13*z^9-936//361*y^2*z^15-218//361*y^12+18152//1083*y^11*z+3038//1083*y^11-1578//361*y^12*z^7+65564//1083*y^4*z^10+3124//361*y^2*z^13-316//1083*y^5+52693//1083*y^4*z^11-1289//361*y^14*z-33266//1083*y^8*z^2+21479//1083*x*y*z^11-19922//361*y^2*z^9-694//361*y^4*z^15-3260//361*y^12*z^4-6466//361*y^7*z^12-109160//1083*y^7*z^4+283//3*z^4+1//19*y^14*z^9-44//19*y^5*z^14+96864//361*y^3*z^7-895//361*y^6*z^13-24773//361*y^3*z^11+14726//361*y^3*z-7740//361*y^8*z^11-5196//361*y^13*z^4+27199//361*y^8*z^7+4662//361*y^9*z^8-30730//1083*x*y*z^9+4372//361*y*z^12+1322//361*y^9-664//361*y^11*z^10+25309//1083*y*z^13+9746//361*y^6*z^6-5856//361*y^14*z^5-3128//361*y^12*z^2+1//19*y^8*z^13+42951//361*y^8*z^6-28186//1083*y^7*z^10+61537//1083*y^4*z^4-57080//361*y^3*z^10-8069//361*y^4*z+2376//361*x*z^15-34286//361*y^6*z^8+46807//1083*z^5+11660//1083*y*z^14+822//19*y*z^8-11380//1083*y^7*z^2-6931//361*y^10*z^7-12959//361*y^6*z^3-14657//1083*y^4*z^3-554//361*y^12*z^9+9464//1083*y*z-85358//1083*y^7*z^5-11435//361*y^10*z^9-20844//361*x*y*z^8+137926//1083*y^7*z^8-985//361*y^14*z^7+1//19*z^19+750//361*z^17-59296//1083*y^8*z^10-41870//1083*y^8*z^3-16533//361*x*z^11-26699//361*y^3*z^9-27736//361*y^6*z^2+8117//1083*x*y*z^10+27304//361*y^8*z^5-4848//361*y^5*z^13-65218//361*y^3*z^4+52742//361*y^6*z^5-14802//361*y^10*z^8+3749//361*z^15-38278//361*y^6*z^7+108304//1083*y^5*z^9+428//1083*y*z^15+14//361*y^13-48107//361*z^6-9464//1083*x*y*z-653//361*y^10*z+16776//361*y^9*z^2+16880//1083*x*z^2-14371//361*x*y*z^7+10331//361*y^10*z^3-5462//361*y^13*z^6-15996//361*z^8-1652//361*y^4-902//361*y^13*z^2+48845//1083*y^7*z^9+137683//1083*y^7*z^7-2210//361*y^9*z^10-20//19*y^9*z^12-7278//361*y^14*z^4-1206//361*y^8*z^12+9873//361*y^10*z^6-1126//361*y^13*z^8-846//361*y^10*z^11-14010//361*y^9*z^5+48848//1083*y^11*z^2-5878//361*y^2*z^7-25504//1083*x*z^12-617//1083*y^8*z^4+1//19*y^6*z^15-104//361*y^14*z^8+869//361*y^3*z^15-10762//361*x*z^10+2656//1083*y^5*z^2-6420//361*y^13*z^5-2000//1083*x*y*z^3+767//361*y*z^3+11366//361*y^2*z^12+18984//361*y^6*z^10+5532//361*y^3*z^14-838//57*y^8*z^8+598//361*y^6*z^9-1//19*y^10*z^12+12826//361*y^2*z^11+38128//1083*z^3-1289//361*y^12*z-6//19*y*z^17-3136//361*y^14*z^6+2650//361*z^16-10864//1083*z^14-6//19*y^12*z^10-1993//361*y^12*z^5-61241//1083*y^11*z^7-40856//1083*y^11*z^8-16103//1083*y^5*z^7+1//19*x*z^18+572//361*y^2*z^3+25163//1083*y^4*z^6-63115//1083*z^13+21411//361*y^11*z^4-1856//1083*x*y+22206//361*y^10*z^5-1512//361*y^3*z^3+706//361*y^9*z^9-41074//1083*y^7*z^11-2240//57*y^4*z^2-13681//361*x*z^4+18400//361*y^3*z^6-9464//1083*z+1856//1083*x-16631//1083*y^4*z^13-1388//361*y^2*z^10+124//361*z^18+81851//1083*y^5*z^8+2//19*y^11*z^11+12//1*y^2*z^4-32014//1083*y*z^11-18007//1083*x*z^6-2//19*y^7*z^14-42596//1083*y*z^5+512//361*x*z^3-106//361*y^13*z+85262//1083*x*z^8-1070//361*y^2*z^14+12634//361*y^6*z^11+25070//361*y^11*z^3-75706//361*z^7-1856//1083-21503//1083*y*z^9+875//361*x*z^16-2810//361*y^13*z^3+33840//361*y^6*z^4+1856//1083*y-60068//1083*y*z^10+1496//1083*y^7+15271//361*y^9*z^3+8604//361*y^3*z^12-13861//361*y^6*z+98711//1083*y^4*z^5-1702//57*y*z^4+28816//1083*y^7*z^6-16880//1083*x*y*z^2-7621//1083*y^4*z^9-21082//361*x*z^5-3146//361*y^13*z^7-4645//361*y^10*z^10\n",
      "(18,19)\n",
      "\t3694987//138720*x*z^13+833169//46240*x*y*z^6+827583//28900*x*z-1139639//28900*y^5*z^12-615733//115600*y^10-29872579//693600*y^5*z^5+3677735//6936*z^9+12939//4624*y^2*z^16-22648171//57800*y^3*z^5+2055781//115600*y*z^6+1543997//231200*y^5*z^4+18103219//231200*y^9*z^7-1544339//27744*y^5*z^6-3038233//23120*y^9*z^4-72181//23120*y^2*z^2+9481//14450*y^12*z^8-835107//11560*y^2*z^8-4727637//231200*y^8*z-493373//14450*y^9*z^6-611477//231200*x*z^17+15554103//115600*x*y*z^5-57//680*y^6*z^16+15270737//346800*y*z^2-1177639//57800*y^14*z^2-52971183//231200*z^12-41363//57800*y^9*z^11+3043971//57800*y^9*z+3027289//231200*x*y*z^12-9139361//693600*y^4*z^12-182647//115600*y^14+3645321//28900*y^3*z^8+11058893//46240*z^10-111283//5780*y^6+212249//115600*y^6*z^14+814093//346800*x*y*z^13+5948007//231200*y^11*z^9+4968481//28900*y^3*z^2+7607467//693600*y^5*z^3-828267//23120*y^10*z^2-403579//115600*y^8+126863//11560*x*z^14+677103//231200*y^4*z^16-188803//57800*y^3*z^16-4107021//115600*y^6*z^12+55613//1445*y^2*z^6-18183//115600*y^3*z^17-19434397//693600*y^7*z^3-57//680*x*z^19+1832341//346800*x*z^9-1915827//231200*y^5*z-26054263//231200*y^11*z^6-33691009//346800*y^5*z^11+673113//57800*y^12*z^6+2697031//115600*y^3+20844881//138720*x*z^7+8490891//231200*y^7*z-11516983//231200*y^5*z^10-238811//23120*y^12*z^3+6650171//231200*y^10*z^4+2550997//46240*y^3*z^13-89688949//693600*y^8*z^9-6771771//231200*y^14*z^3-20314021//346800*y^11*z^5+75069//13600*y^4*z^14-3986618//21675*z^11+3386161//115600*y^2*z^5+1154383//57800*y^7*z^13-13851//5780*y*z^16-70941079//346800*y^4*z^7+71796991//693600*x*y*z^4-501011//20400*z^2+45907553//231200*y*z^7-193096031//693600*y^4*z^8+16815//4624*y^13*z^9-18943//14450*y^2*z^15+57//340*y^7*z^15-182647//115600*y^12+554097//14450*y^11*z+2484877//346800*y^11+347073//115600*y^12*z^7+1838801//21675*y^4*z^10-1450707//57800*y^2*z^13-343957//173400*y^5-57//340*y^3*z^18+14203013//231200*y^4*z^11-1938627//231200*y^14*z-57//340*y^11*z^12-16692469//346800*y^8*z^2+22363817//693600*x*y*z^11-4844563//115600*y^2*z^9+1151989//115600*y^4*z^15+85101//11560*y^12*z^4+2396641//115600*y^7*z^12-1025677//6936*y^7*z^4+165901369//693600*z^4+136857//231200*y^14*z^9+897693//57800*y^5*z^14+5442341//7225*y^3*z^7-726161//46240*y^6*z^13+14321041//231200*y^3*z^11+13536189//115600*y^3*z+389671//11560*y^8*z^11-292467//57800*y^13*z^4-2529109//693600*y^8*z^7+7753843//115600*y^9*z^8-373103//13872*x*y*z^9+4710727//173400*y*z^12+1168063//115600*y^9-57//680*z^20+962027//57800*y^11*z^10+8658509//231200*y*z^13-18992761//115600*y^6*z^6-303411//28900*y^14*z^5-54283//3400*y^12*z^2+1260897//231200*y^8*z^13+102635359//693600*y^8*z^6-1244557//20400*y^7*z^10+150101311//693600*y^4*z^4-3903873//11560*y^3*z^10-18467487//231200*y^4*z-98249//28900*x*z^15-22228689//115600*y^6*z^8+5870107//231200*z^5+12331//3468*y*z^14+19158137//115600*y*z^8+402553//8670*y^7*z^2-7060533//231200*y^10*z^7+11947523//231200*y^6*z^3-8714977//231200*y^4*z^3+171//340*y^12*z^11+203889//115600*y^12*z^9+827583//28900*y*z-55071557//346800*y^7*z^5+86507//46240*y^10*z^9-1626077//14450*x*y*z^8-57//680*y^8*z^14+45129199//346800*y^7*z^8+306033//46240*y^14*z^7-95703//231200*z^19-34143//4624*z^17-90877//3400*y^8*z^10-972743//23120*y^8*z^3-40718197//693600*x*z^11-107998337//231200*y^3*z^9-8935567//57800*y^6*z^2+7323037//231200*x*y*z^10+26778809//173400*y^8*z^5+57//680*y^10*z^13+191881//14450*y^5*z^13-64760227//115600*y^3*z^4+40510793//115600*y^6*z^5-3470673//115600*y^10*z^8+8233327//231200*z^15+57//680*y^4*z^17-51548197//115600*y^6*z^7+14292503//173400*y^5*z^9-510473//57800*y*z^15+72181//115600*y^13-100569261//231200*z^6-827583//28900*x*y*z-5203359//231200*y^10*z+2629581//28900*y^9*z^2+415207//8670*x*z^2-25802893//231200*x*y*z^7-3798727//231200*y^10*z^3-115273//115600*y^13*z^6+9173713//57800*z^8-964079//57800*y^4+357827//115600*y^13*z^2+33041//46240*y^7*z^9+6209257//40800*y^7*z^7-2983//272*y^9*z^10+53067//11560*y^9*z^12-2942967//115600*y^14*z^4+2964551//115600*y^8*z^12+2992139//231200*y^10*z^6+57//68*y^13*z^10+753331//115600*y^13*z^8+1689841//115600*y^10*z^11+3861959//43350*y^11*z^2-3797663//23120*y^9*z^5+380779//57800*x*z^12+30598189//693600*y^8*z^4-57//680*y^14*z^10-1826337//115600*y^2*z^7+330657//231200*y^6*z^15+206017//57800*y^14*z^8-4575713//231200*y^3*z^15-30977809//346800*x*z^10-1188203//173400*y^5*z^2-72447//11560*y^13*z^5-1159//578*x*y*z^3-8464177//693600*y*z^3+1690829//115600*y^2*z^12+2283857//14450*y^6*z^10-183217//7225*y^3*z^14-16320411//115600*y^8*z^8+15317477//115600*y^6*z^9+832143//231200*y^10*z^12+7384559//115600*y^2*z^11+2997991//28900*z^3-1938627//231200*y^12*z+132069//115600*y*z^17+21451//7225*y^14*z^6-44403//23120*z^16+3581899//57800*z^14+190209//115600*y^12*z^10+3978581//231200*y^12*z^5-51588743//693600*y^11*z^7-297369//57800*y^11*z^8+8818717//231200*y^5*z^7-153843//231200*x*z^18+57//68*y^2*z^17-571881//57800*y^2*z^3+93421309//693600*y^4*z^6-5478137//138720*z^13+33259139//693600*y^11*z^4-127414//21675*x*y+5535479//115600*y^10*z^5-3137527//28900*y^3*z^3+1047679//115600*y^9*z^9-2652837//115600*y^7*z^11-4720987//34680*y^4*z^2-76762489//693600*x*z^4+1246837//2890*y^3*z^6-827583//28900*z+127414//21675*x+171//340*y*z^18+57//34*y^9*z^13-4563211//231200*y^4*z^13+2327709//57800*y^2*z^10-144077//57800*z^18+91235093//693600*y^5*z^8+369417//115600*y^11*z^11-125571//57800*y^2*z^4-23743901//346800*y*z^11-9863261//693600*x*z^6+599583//115600*y^7*z^14-25315277//173400*y*z^5+11609//21675*x*z^3+272061//115600*y^13*z+51676523//346800*x*z^8-431129//23120*y^2*z^14+2874871//115600*y^6*z^11+7527667//69360*y^11*z^3-50300429//115600*z^7-127414//21675-21013829//693600*y*z^9-252339//46240*x*z^16+1881//23120*y^13*z^3+939037//2312*y^6*z^4+127414//21675*y-3940391//28900*y*z^10+44213//5100*y^7+4509973//231200*y^9*z^3+1256356//7225*y^3*z^12-22957263//231200*y^6*z+241020073//693600*y^4*z^5-14554779//115600*y*z^4-196289//86700*y^7*z^6-415207//8670*x*y*z^2-53480003//693600*y^4*z^9-50814379//346800*x*z^5+602661//115600*y^13*z^7+627//170*y^5*z^15+964193//46240*y^10*z^10\n",
      "(19,20)\n",
      "\t-66267718785//3671730818*x*z^13-147065546925//3671730818*x*y*z^6-12278075580//1835865409*x*z+37418888700//1835865409*y^5*z^12+3735186705//1835865409*y^10-257856956505//3671730818*y^5*z^5-267047566290//1835865409*z^9-3760938135//1835865409*y^2*z^16+43005132900//262266487*y^3*z^5+14829192225//262266487*y*z^6-17364166605//524532974*y^5*z^4-103172268915//3671730818*y^9*z^7-244290890205//3671730818*y^5*z^6+127768743990//1835865409*y^9*z^4+3056087025//1835865409*y^2*z^2-12893562450//1835865409*y^12*z^8-11598100740//262266487*y^2*z^8-13154575095//3671730818*y^8*z+91172885130//1835865409*y^9*z^6+17606232495//3671730818*x*z^17-77740568370//1835865409*x*y*z^5-1021223745//1835865409*y^6*z^16-29115945135//1835865409*y*z^2+1108759635//1835865409*y^14*z^2+398376442035//3671730818*z^12-558293940//262266487*y^9*z^11-1033649640//262266487*y^9*z-3560110335//3671730818*x*y*z^12-6154376805//524532974*y^4*z^12+67882275//1835865409*y^14-30600//42847*y^9*z^14-242587307880//1835865409*y^3*z^8-405697612905//3671730818*z^10+2580357240//1835865409*y^6+7769825010//1835865409*y^6*z^14-130243984875//3671730818*y^11*z^9-11389202190//262266487*y^3*z^2+237963195//74933282*y^5*z^3+74483007120//1835865409*y^10*z^2-1018787985//1835865409*y^8-6136968465//1835865409*x*z^14-3241743345//524532974*y^4*z^16+20046317805//1835865409*y^3*z^16+39485367135//1835865409*y^6*z^12+4675326570//1835865409*y^2*z^6+3044936385//1835865409*y^3*z^17-330266357685//3671730818*y^7*z^3+617674005//1835865409*x*z^19-688820535//37466641*x*z^9+19381616955//3671730818*y^5*z+112658926815//3671730818*y^11*z^6+104002172280//1835865409*y^5*z^11-5676758235//262266487*y^12*z^6-5093109135//1835865409*y^3-1706036445//3671730818*x*z^7-80595986715//3671730818*y^7*z+244020984435//3671730818*y^5*z^10-9180//42847*y^12*z^12-8653501755//1835865409*y^12*z^3+293882836815//3671730818*y^10*z^4-180458213085//3671730818*y^3*z^13+1530//42847*y^14*z^11+18895467105//524532974*y^8*z^9-859306905//3671730818*y^14*z^3+1230542280//37466641*y^11*z^5-36189477855//3671730818*y^4*z^14+97212290085//1835865409*z^11+50433468795//1835865409*y^2*z^5-49402090440//1835865409*y^7*z^13+6124225860//1835865409*y*z^16-100689313770//1835865409*y^4*z^7-4039211475//524532974*x*y*z^4+3900755655//262266487*z^2-170348921685//3671730818*y*z^7+432643957605//3671730818*y^4*z^8-10855460925//1835865409*y^13*z^9+8523891630//1835865409*y^2*z^15-4250919870//1835865409*y^7*z^15+67882275//1835865409*y^12-1096509690//1835865409*y^11*z-113044815//1835865409*y^11-25372696095//1835865409*y^12*z^7+138861653265//1835865409*y^4*z^10+42990206220//1835865409*y^2*z^13+1448801370//1835865409*y^5+317565270//1835865409*y^3*z^18+9246361455//3671730818*y^4*z^11+1052507655//3671730818*y^14*z-2304671130//1835865409*y^11*z^12-9180//42847*y*z^19-17962302510//1835865409*y^8*z^2-1199956815//524532974*x*y*z^11-56225248605//1835865409*y^2*z^9-21502407330//1835865409*y^4*z^15-26869006260//1835865409*y^12*z^4-58482829395//1835865409*y^7*z^12-101188013445//1835865409*y^7*z^4-67320//42847*y^5*z^16-165768136875//3671730818*z^4-135534285//74933282*y^14*z^9-35179670970//1835865409*y^5*z^14-427020276600//1835865409*y^3*z^7+77521499145//3671730818*y^6*z^13-2405752875//524532974*y^3*z^11-34861217535//1835865409*y^3*z-80904019320//1835865409*y^8*z^11-5182302780//262266487*y^13*z^4+217601016345//3671730818*y^8*z^7-101316679560//1835865409*y^9*z^8+36254964915//1835865409*x*y*z^9+1172019780//37466641*y*z^12-1018511055//1835865409*y^9+421006275//1835865409*z^20-44813231055//1835865409*y^11*z^10+7244983755//3671730818*y*z^13-4467368205//1835865409*y^6*z^6-15336518040//1835865409*y^14*z^5-249439725//1835865409*y^12*z^2-52462336005//3671730818*y^8*z^13+1530//42847*y^6*z^17+110754505215//3671730818*y^8*z^6-5857069500//1835865409*y^7*z^10-111042940815//3671730818*y^4*z^4+294908495265//1835865409*y^3*z^10+80771994855//3671730818*y^4*z+14606706510//1835865409*x*z^15+42027497325//262266487*y^6*z^8-180314484885//3671730818*z^5-1935354375//1835865409*y*z^14-221117319720//1835865409*y*z^8-113327400645//1835865409*y^7*z^2-61637605245//3671730818*y^10*z^7-1530//42847*y^10*z^14-12578745825//524532974*y^6*z^3+221272180965//3671730818*y^4*z^3-1870478550//1835865409*y^12*z^11-1006714755//262266487*y^12*z^9-12278075580//1835865409*y*z+69484500945//1835865409*y^7*z^5-15300//42847*y^2*z^18-142615145655//3671730818*y^10*z^9+49048954965//1835865409*x*y*z^8-4167907425//1835865409*y^8*z^14+102337396110//1835865409*y^7*z^8-733892805//74933282*y^14*z^7+5167424295//3671730818*z^19+16145406855//1835865409*z^17-27940453785//1835865409*y^8*z^10-26571679065//1835865409*y^8*z^3+3060//42847*y^11*z^13-15300//42847*y^13*z^11+8155131795//3671730818*x*z^11+454385340225//3671730818*y^3*z^9+32415797115//1835865409*y^6*z^2+12383565255//3671730818*x*y*z^10+7427425545//1835865409*y^8*z^5-2912130855//1835865409*y^10*z^13-23835857760//1835865409*y^5*z^13+4220244135//37466641*y^3*z^4-297144099135//1835865409*y^6*z^5+3060//42847*y^3*z^19-61162724610//1835865409*y^10*z^8-118853912115//3671730818*z^15-2387683575//1835865409*y^4*z^17+335943901575//1835865409*y^6*z^7+93874143735//1835865409*y^5*z^9+8623796040//1835865409*y*z^15-611217405//1835865409*y^13+190603167255//3671730818*z^6+12278075580//1835865409*x*y*z+7141257405//524532974*y^10*z-10902339360//1835865409*y^9*z^2-32398398720//1835865409*x*z^2-1946855385//3671730818*x*y*z^7+261519389415//3671730818*y^10*z^3-38180488275//1835865409*y^13*z^6+26554433670//1835865409*z^8+5976132570//1835865409*y^4-12738389085//1835865409*y^13*z^2+58543019595//3671730818*y^7*z^9+393752557125//3671730818*y^7*z^7-12260654235//1835865409*y^9*z^10-160109910//37466641*y^9*z^12-6497099100//1835865409*y^14*z^4-65890829295//1835865409*y^8*z^12+54994926645//3671730818*y^10*z^6-3816727290//1835865409*y^13*z^10-20759646645//1835865409*y^13*z^8-40123712970//1835865409*y^10*z^11-1494136800//1835865409*y^11*z^2+179919841275//1835865409*y^9*z^5-4369850595//262266487*x*z^12-39911903595//3671730818*y^8*z^4-365664645//1835865409*y^14*z^10-59373277155//1835865409*y^2*z^7-3060//42847*y^7*z^16-5883478065//3671730818*y^6*z^15-1450668735//262266487*y^14*z^8+99676006245//3671730818*y^3*z^15+1530//42847*z^21+12361859145//1835865409*x*z^10+21603333015//1835865409*y^5*z^2-40768130610//1835865409*y^13*z^5+34380804420//1835865409*x*y*z^3-28126416105//3671730818*y*z^3+3589302735//262266487*y^2*z^12-133285523130//1835865409*y^6*z^10+31088563425//1835865409*y^3*z^14+123702450750//1835865409*y^8*z^8+208397475//262266487*y^6*z^9-31526092935//3671730818*y^10*z^12-249191865//262266487*y^2*z^11+1760532750//1835865409*z^3+1052507655//3671730818*y^12*z-53573715//262266487*y*z^17-20634522480//1835865409*y^14*z^6-4158342630//1835865409*z^16-70361994195//1835865409*z^14-4212171855//1835865409*y^12*z^10-83739030525//3671730818*y^12*z^5+18217485855//3671730818*y^11*z^7-46163647305//1835865409*y^11*z^8-1530//42847*y^4*z^18-88412799555//3671730818*y^5*z^7+5989008285//3671730818*x*z^18-3161168190//1835865409*y^2*z^17+18556470360//1835865409*y^2*z^3-720267347925//3671730818*y^4*z^6+1530//42847*x*z^20+65782245195//3671730818*y^11*z^4+258704640//262266487*x*y+15603872535//524532974*z^13+1530//42847*y^8*z^15+101790711810//1835865409*y^10*z^5-20711916000//1835865409*y^3*z^3-57256433415//1835865409*y^9*z^9-36548106795//1835865409*y^7*z^11+105542095095//1835865409*y^4*z^2+34413518115//3671730818*x*z^4-45195701220//1835865409*y^3*z^6+12278075580//1835865409*z-258704640//262266487*x-1477143090//1835865409*y*z^18-5535665460//1835865409*y^9*z^13-23381529615//3671730818*y^4*z^13-25201688760//1835865409*y^2*z^10+9671745060//1835865409*z^18+77005287855//3671730818*y^5*z^8-16417551015//1835865409*y^11*z^11+45345697830//1835865409*y^2*z^4+99653750865//1835865409*y*z^11+164957907015//3671730818*x*z^6-21946389615//1835865409*y^7*z^14+152889884370//1835865409*y*z^5-33928071300//1835865409*x*z^3-4078024515//1835865409*y^13*z-60251038920//1835865409*x*z^8+32602660605//1835865409*y^2*z^14-50140406475//1835865409*y^6*z^11+1061640225//262266487*y^11*z^3+231972637590//1835865409*z^7+258704640//262266487-305011654425//3671730818*y*z^9+32157321975//3671730818*x*z^16-25274558835//1835865409*y^13*z^3-237669712695//1835865409*y^6*z^4-258704640//262266487*y+2821334535//262266487*y*z^10-6021572040//1835865409*y^7+59777876475//3671730818*y^9*z^3-180552370815//1835865409*y^3*z^12+5149390185//524532974*y^6*z-87429952035//524532974*y^4*z^5+68349812400//1835865409*y*z^4+204616990350//1835865409*y^7*z^6+32398398720//1835865409*x*y*z^2+573259465935//3671730818*y^4*z^9+12262881150//262266487*x*z^5-30750854175//1835865409*y^13*z^7-16426486980//1835865409*y^5*z^15-126566320815//3671730818*y^10*z^10\n",
      "(20,21)\n",
      "\t-1423892191951432//21657286680121*x*z^13-3659037041704884//21657286680121*x*y*z^6-238629774231968//21657286680121*x*z+2366810169184720//21657286680121*y^5*z^12+97123255064556//21657286680121*y^10-6185414790651292//21657286680121*y^5*z^5-5242165281841908//21657286680121*z^9-17749325874672//21657286680121*y^2*z^16+10689020687458316//21657286680121*y^3*z^5+6089045563605480//21657286680121*y*z^6-2247295086830920//21657286680121*y^5*z^4-188368066604368//21657286680121*y^9*z^7-6865205668896680//21657286680121*y^5*z^6+4154487293273772//21657286680121*y^9*z^4+90868285986240//21657286680121*y^2*z^2-807539332316136//21657286680121*y^12*z^8-4568010547679040//21657286680121*y^2*z^8-458605523437796//21657286680121*y^8*z+5444206484790360//21657286680121*y^9*z^6+515939222164632//21657286680121*x*z^17-171388//4653739*y^10*z^15-1974849233403648//21657286680121*x*y*z^5+171388//4653739*x*z^21-76553988505260//21657286680121*y^6*z^16-883272108021100//21657286680121*y*z^2-138152048103972//21657286680121*y^14*z^2+6868868438521712//21657286680121*z^12-308806794538872//21657286680121*y^9*z^11+190147027426832//21657286680121*y^9*z-908804562309812//21657286680121*y^4*z^12-11918688118932//21657286680121*y^14-118691829350752//21657286680121*y^9*z^14-13531034529950700//21657286680121*y^3*z^8-8985826418703260//21657286680121*z^10-76584597716508//21657286680121*y^6+792781877911884//21657286680121*y^6*z^14-2874382513007880//21657286680121*y^11*z^9-1959914661841332//21657286680121*y^3*z^2+592328285711372//21657286680121*y^5*z^3+2890223604033612//21657286680121*y^10*z^2-72103378751292//21657286680121*y^8-542194055107068//21657286680121*x*z^14-678888648966388//21657286680121*y^4*z^16+1361207900059980//21657286680121*y^3*z^16+608369883729692//21657286680121*y^6*z^12+1151757373466560//21657286680121*y^2*z^6+361680197004756//21657286680121*y^3*z^17-8103683545081040//21657286680121*y^7*z^3+59846872887200//21657286680121*x*z^19-2005991869577864//21657286680121*x*z^9+320654329558500//21657286680121*y^5*z+1899701636145096//21657286680121*y^11*z^6+4660743474091152//21657286680121*y^5*z^11-1958022881268720//21657286680121*y^12*z^6+15808657046448//21657286680121*y^3+2356427709005776//21657286680121*x*z^7-1312446040012996//21657286680121*y^7*z+5460298966877552//21657286680121*y^5*z^10-38159852868368//21657286680121*y^12*z^12-437188999957724//21657286680121*y^12*z^3+7610279426631728//21657286680121*y^10*z^4-5220969120825612//21657286680121*y^3*z^13-1881839725836//21657286680121*y^14*z^11+2901759002086000//21657286680121*y^8*z^9-273558466960688//21657286680121*y^14*z^3+2220883139766676//21657286680121*y^11*z^5-799874747325892//21657286680121*y^4*z^14-358196410267556//21657286680121*z^11+2796848279577408//21657286680121*y^2*z^5-2461789984735760//21657286680121*y^7*z^13+322629303237416//21657286680121*y*z^16-10211699168178564//21657286680121*y^4*z^7+819712381479180//21657286680121*x*y*z^4-1713880//4653739*y^2*z^19-7541072//4653739*y^5*z^17+992034040746560//21657286680121*z^2-240436833431480//21657286680121*y*z^7+4677325479040032//21657286680121*y^4*z^8-644108759926744//21657286680121*y^13*z^9+718352823643616//21657286680121*y^2*z^15-431926628251944//21657286680121*y^7*z^15-11918688118932//21657286680121*y^12+309461914542816//21657286680121*y^11*z+61678430287432//21657286680121*y^11-1449326063176992//21657286680121*y^12*z^7+9707611961115880//21657286680121*y^4*z^10+1757560600724936//21657286680121*y^2*z^13+38432304087268//21657286680121*y^5+47935314509068//21657286680121*y^3*z^18+2437279534572624//21657286680121*y^4*z^11-55926638552764//21657286680121*y^14*z-291540506718132//21657286680121*y^11*z^12-33374282749976//21657286680121*y*z^19-1227469038968788//21657286680121*y^8*z^2+208345399802008//21657286680121*x*y*z^11-3576103563026848//21657286680121*y^2*z^9-970214698051508//21657286680121*y^4*z^15-1089515226109464//21657286680121*y^12*z^4-2543492860039824//21657286680121*y^7*z^12-7335786518702992//21657286680121*y^7*z^4-312806181850288//21657286680121*y^5*z^16-1017460073884716//21657286680121*z^4-248116372881664//21657286680121*y^14*z^9-1524296826753232//21657286680121*y^5*z^14-10321788236683728//21657286680121*y^3*z^7+1853330830824060//21657286680121*y^6*z^13+3829798416155656//21657286680121*y^3*z^11-346769964595096//21657286680121*y^3*z-3197027472367708//21657286680121*y^8*z^11-1774706935969744//21657286680121*y^13*z^4+4900576299704988//21657286680121*y^8*z^7-3976211087696904//21657286680121*y^9*z^8+1768308950289560//21657286680121*x*y*z^9+3711920684260992//21657286680121*y*z^12+53338471516344//21657286680121*y^9+47147706610872//21657286680121*z^20-2393576970304100//21657286680121*y^11*z^10+1186081742852328//21657286680121*y*z^13-5305971201761412//21657286680121*y^6*z^6-776462126424516//21657286680121*y^14*z^5-1713880//4653739*y^13*z^12-150661986260604//21657286680121*y^12*z^2-1778527059145620//21657286680121*y^8*z^13-9857789923156//21657286680121*y^6*z^17+3624058054310624//21657286680121*y^8*z^6-436069445381696//21657286680121*y^7*z^10+1168502898506524//21657286680121*y^4*z^4+11196700761836352//21657286680121*y^3*z^10+917228765138420//21657286680121*y^4*z+465945535204744//21657286680121*x*z^15-1028328//4653739*y*z^20+13833390340669536//21657286680121*y^6*z^8-4304597403147468//21657286680121*z^5+1092131639088//21657286680121*y*z^14-8165914662420620//21657286680121*y*z^8-4499655408891440//21657286680121*y^7*z^2-1154012356232400//21657286680121*y^10*z^7-37997911260764//21657286680121*y^10*z^14-852825309354928//21657286680121*y^6*z^3+5268666952066644//21657286680121*y^4*z^3-119852972424696//21657286680121*y^12*z^11-416549067897984//21657286680121*y^12*z^9-238629774231968//21657286680121*y*z+24722682322968//21657286680121*y^7*z^5-64131484793768//21657286680121*y^2*z^18-3519180617751064//21657286680121*y^10*z^9+870635816460900//21657286680121*x*y*z^8-483127378958168//21657286680121*y^8*z^14+7603269435655656//21657286680121*y^7*z^8-894076431192644//21657286680121*y^14*z^7+215027878079196//21657286680121*z^19+513513622130628//21657286680121*z^17-536070499663020//21657286680121*y^8*z^10-1647215022484304//21657286680121*y^8*z^3-22905959925240//21657286680121*y^11*z^13-72107434991088//21657286680121*y^13*z^11-231538826934380//21657286680121*x*z^11+1635433263436868//21657286680121*y^3*z^9+62355534744300//21657286680121*y^6*z^2+975783542522516//21657286680121*x*y*z^10+1472841211636340//21657286680121*y^8*z^5-305044540178420//21657286680121*y^10*z^13-3427760//4653739*y^9*z^15-355603342905440//21657286680121*y^5*z^13+2677222026226020//21657286680121*y^3*z^4-11294230271931124//21657286680121*y^6*z^5+8997840864040//21657286680121*y^3*z^19-3046990933706608//21657286680121*y^10*z^8-2854591657323924//21657286680121*z^15-230768615775124//21657286680121*y^4*z^17+8986694282802992//21657286680121*y^6*z^7+4904862124867208//21657286680121*y^5*z^9+232667395833656//21657286680121*y*z^15-18173657197248//21657286680121*y^13-1378206263704452//21657286680121*z^6+238629774231968//21657286680121*x*y*z+816550184785748//21657286680121*y^10*z+324504487281660//21657286680121*y^9*z^2-976225383700112//21657286680121*x*z^2-1962414721220548//21657286680121*x*y*z^7+5874972203570204//21657286680121*y^10*z^3-2000300672584760//21657286680121*y^13*z^6+171388//4653739*y^6*z^18+5326446005082300//21657286680121*z^8+342776//4653739*y^3*z^20+80132097942708//21657286680121*y^4-519873989687304//21657286680121*y^13*z^2+2397922205402640//21657286680121*y^7*z^9+11602945530881404//21657286680121*y^7*z^7-1277906560005936//21657286680121*y^9*z^10-342776//4653739*y^7*z^17-312409089565328//21657286680121*y^9*z^12-494518879302980//21657286680121*y^14*z^4-3327916914209664//21657286680121*y^8*z^12+2434609171736672//21657286680121*y^10*z^6-273798209293952//21657286680121*y^13*z^10-1126928145393960//21657286680121*y^13*z^8-2206262459841944//21657286680121*y^10*z^11+750067488348556//21657286680121*y^11*z^2+7084466668442828//21657286680121*y^9*z^5-1087427495922572//21657286680121*x*z^12-697731422397212//21657286680121*y^8*z^4-55492634777020//21657286680121*y^14*z^10-2413842044929672//21657286680121*y^2*z^7-56853542047960//21657286680121*y^7*z^16-7466688922448//21657286680121*y^6*z^15-583518569571084//21657286680121*y^14*z^8+2147232310760544//21657286680121*y^3*z^15+171388//4653739*z^22+7689300510948//21657286680121*z^21-750680826528920//21657286680121*x*z^10+900638737688648//21657286680121*y^5*z^2-2095595470143840//21657286680121*y^13*z^5+1721979830300660//21657286680121*x*y*z^3+342776//4653739*y^11*z^14-1017523070971876//21657286680121*y*z^3+1097581802853424//21657286680121*y^2*z^12-3743332872626088//21657286680121*y^6*z^10-114361597900508//21657286680121*y^3*z^14+4865222068739396//21657286680121*y^8*z^8+4858927951899672//21657286680121*y^6*z^9-1072221377384444//21657286680121*y^10*z^12+214427829667128//21657286680121*y^2*z^11+1358218708583716//21657286680121*z^3-55926638552764//21657286680121*y^12*z+70366463347152//21657286680121*y*z^17-967218650883856//21657286680121*y^14*z^6-903579392426088//21657286680121*z^16-1519070430759756//21657286680121*z^14-235500203300992//21657286680121*y^12*z^10-1807688858114664//21657286680121*y^12*z^5+355817953416548//21657286680121*y^11*z^7-1744340733196124//21657286680121*y^11*z^8-171388//4653739*y^4*z^19-31617151102908//21657286680121*y^4*z^18-1028328//4653739*y^12*z^13-2865248684849404//21657286680121*y^5*z^7+218225530322352//21657286680121*x*z^18-161811023316264//21657286680121*y^2*z^17+672543047857016//21657286680121*y^2*z^3-16582694389845108//21657286680121*y^4*z^6+10082085570144//21657286680121*x*z^20+1820778256014312//21657286680121*y^11*z^4+16679917542176//21657286680121*x*y+4197697861894544//21657286680121*z^13-48142350870292//21657286680121*y^8*z^15+6215532740991896//21657286680121*y^10*z^5-2782635393575744//21657286680121*y^3*z^3-3391143995839040//21657286680121*y^9*z^9-1714149030485808//21657286680121*y^7*z^11+3368307062944964//21657286680121*y^4*z^2-760054937921188//21657286680121*x*z^4+5873147488664484//21657286680121*y^3*z^6+238629774231968//21657286680121*z-16679917542176//21657286680121*x-57765268964368//21657286680121*y*z^18-296753232119176//21657286680121*y^9*z^13-901958212596140//21657286680121*y^4*z^13-1299388244518056//21657286680121*y^2*z^10+552168875954920//21657286680121*z^18+2183423586492932//21657286680121*y^5*z^8-1158629891214236//21657286680121*y^11*z^11+1981394964794784//21657286680121*y^2*z^4+3510914078342804//21657286680121*y*z^11+171388//4653739*y^14*z^12+4142940473410900//21657286680121*x*z^6-1412592488561912//21657286680121*y^7*z^14+5471599667231068//21657286680121*y*z^5-1717809850915116//21657286680121*x*z^3-145412803889752//21657286680121*y^13*z-994968621321892//21657286680121*x*z^8+1627677175764528//21657286680121*y^2*z^14-3355618392983920//21657286680121*y^6*z^11+1274118147037820//21657286680121*y^11*z^3+6228773607149856//21657286680121*z^7+16679917542176//21657286680121-8941665386221708//21657286680121*y*z^9+756983148740532//21657286680121*x*z^16-1143946000310120//21657286680121*y^13*z^3-6095252571465876//21657286680121*y^6*z^4-16679917542176//21657286680121*y+171388//4653739*y^8*z^16-2340041984278628//21657286680121*y*z^10-155814206041844//21657286680121*y^7+1217728463869652//21657286680121*y^9*z^3-5568306548689276//21657286680121*y^3*z^12-178954612411148//21657286680121*y^6*z-9452268713456604//21657286680121*y^4*z^5+1343771828602308//21657286680121*y*z^4+8836995034012012//21657286680121*y^7*z^6+976225383700112//21657286680121*x*y*z^2+13144531751299984//21657286680121*y^4*z^9+2218905579328676//21657286680121*x*z^5-1620587091062744//21657286680121*y^13*z^7-1037227214953888//21657286680121*y^5*z^15-3153267674790464//21657286680121*y^10*z^10\n",
      "(21,22)\n",
      "\t2936978048549197146//369442639676392489*x*z^13+14735382963173261389//1477770558705569956*x*y*z^6+1594411145187292726//369442639676392489*x*z-6276702248293380911//369442639676392489*y^5*z^12-1499852228080145183//1477770558705569956*y^10+21010124714145150507//1477770558705569956*y^5*z^5+97503525226455238439//1477770558705569956*z^9-566380260058226039//369442639676392489*y^2*z^16-92700168400526472677//1477770558705569956*y^3*z^5-6152686488510297269//369442639676392489*y*z^6+2301750322924756183//369442639676392489*y^5*z^4+276398110786188205//369442639676392489*y^9*z^7+8026389234545694898//369442639676392489*y^5*z^6-46223681214617012101//1477770558705569956*y^9*z^4-259796502890312090//369442639676392489*y^2*z^2+3835992575895490113//738885279352784978*y^12*z^8+2304810089340644495//369442639676392489*y^2*z^8-1588140842962607077//1477770558705569956*y^8*z-9048525769140897388//369442639676392489*y^9*z^6-1043089409700397140//369442639676392489*x*z^17+256366920082296627//1477770558705569956*y^10*z^15+13085102433753847455//738885279352784978*x*y*z^5-58363098703192537//1477770558705569956*x*z^21+23268695//607817933*y^13*z^13-361196473326454905//1477770558705569956*y^6*z^16+11303767963231444223//1477770558705569956*y*z^2-2801167272318606465//1477770558705569956*y^14*z^2-24795818845029802949//738885279352784978*z^12+3608952159889987231//738885279352784978*y^9*z^11+2190747749076356086//369442639676392489*y^9*z-14386200020189114243//1477770558705569956*y^4*z^12-252829014206647151//1477770558705569956*y^14+309180505462328929//369442639676392489*y^9*z^14+51549848377492311007//1477770558705569956*y^3*z^8+57456206097893999309//1477770558705569956*z^10-3404630763209867677//1477770558705569956*y^6-6527178926702436265//1477770558705569956*y^6*z^14+4763153659999668682//369442639676392489*y^11*z^9+36337078132254173877//1477770558705569956*y^3*z^2-1463903108075648943//1477770558705569956*y^5*z^3-19982116980301902589//1477770558705569956*y^10*z^2-342812637995442109//1477770558705569956*y^8+6256480210498805343//1477770558705569956*x*z^14+5109777245699883811//1477770558705569956*y^4*z^16-9433264609961877639//1477770558705569956*y^3*z^16+1049676630247935869//1477770558705569956*y^6*z^12-1183222664533788720//369442639676392489*y^2*z^6-6220608490196925139//1477770558705569956*y^3*z^17+8855138175596423094//369442639676392489*y^7*z^3-268520477596433450//369442639676392489*x*z^19+502448705438686450//369442639676392489*x*z^9-3031889296745730439//1477770558705569956*y^5*z-7800114885730054807//369442639676392489*y^11*z^6-12059939119850217831//369442639676392489*y^5*z^11+3383450551460672808//369442639676392489*y^12*z^6+1122202146666378379//369442639676392489*y^3+5083712378082893765//738885279352784978*x*z^7+12924762759576568119//1477770558705569956*y^7*z-11517493782359309579//369442639676392489*y^5*z^10+136898867183521370//369442639676392489*y^12*z^12+1045745134005447317//1477770558705569956*y^12*z^3-19103295273371424789//738885279352784978*y^10*z^4+28336610872585928277//1477770558705569956*y^3*z^13+308158368392134905//1477770558705569956*y^14*z^11-20788824741068938059//738885279352784978*y^8*z^9-1586451741940704601//738885279352784978*y^14*z^3-26361448085595530965//1477770558705569956*y^11*z^5+8233839110270226107//1477770558705569956*y^4*z^14-22873188445493880385//1477770558705569956*z^11-2454494247035753722//369442639676392489*y^2*z^5+4617982752165367339//369442639676392489*y^7*z^13-708053077932526643//738885279352784978*y*z^16-4653739//607817933*y^11*z^15-4653739//1215635866*y^8*z^17+32874315512677453283//1477770558705569956*y^4*z^7+13035277539397391215//1477770558705569956*x*y*z^4+161698696609694283//738885279352784978*y^2*z^19+410046752119595973//369442639676392489*y^5*z^17-2001925198408369502//369442639676392489*z^2+11778964733238991883//738885279352784978*y*z^7+4653739//1215635866*y^4*z^20-15026308018119821767//738885279352784978*y^4*z^8+3193668994907760849//738885279352784978*y^13*z^9-1694896502545966796//369442639676392489*y^2*z^15+3214139179810745883//738885279352784978*y^7*z^15-252829014206647151//1477770558705569956*y^12+1393542176482709723//369442639676392489*y^11*z+555294832763468407//738885279352784978*y^11+2765124971349747462//369442639676392489*y^12*z^7-24243738016813955353//738885279352784978*y^4*z^10-7251062239310649297//738885279352784978*y^2*z^13-569229810130798285//1477770558705569956*y^5-2038801580957922557//1477770558705569956*y^3*z^18-8128900885053659769//369442639676392489*y^4*z^11-1274274855704897051//1477770558705569956*y^14*z+5325412166781597467//1477770558705569956*y^11*z^12-4653739//1215635866*y^6*z^19+93051186218062155//738885279352784978*y*z^19-2069462357319472945//1477770558705569956*y^8*z^2+5031775999770846448//369442639676392489*y^2*z^9+7530779736339626071//1477770558705569956*y^4*z^15+1861732453712443562//369442639676392489*y^12*z^4+4695330574722189257//369442639676392489*y^7*z^12+5138952866432315377//369442639676392489*y^7*z^4+1148772964087172035//369442639676392489*y^5*z^16+42402823321340673365//1477770558705569956*z^4+1402718916564838735//738885279352784978*y^14*z^9+1650109020042972817//369442639676392489*y^5*z^14+71348507547316463799//738885279352784978*y^3*z^7-5942248317409118561//1477770558705569956*y^6*z^13-4647074593319235423//738885279352784978*y^3*z^11+11556345651495529439//738885279352784978*y^3*z+18265790587971773845//1477770558705569956*y^8*z^11+2243603433240434880//369442639676392489*y^13*z^4-35245460995890614671//1477770558705569956*y^8*z^7+9950654342039207073//738885279352784978*y^9*z^8-1780940274652929127//369442639676392489*x*y*z^9-5694829694775954943//738885279352784978*y*z^12+862405643776066289//738885279352784978*y^9-274367851115535534//369442639676392489*z^20+18133765285451080081//1477770558705569956*y^11*z^10-4891764786399295339//738885279352784978*y*z^13-3649166182778099317//1477770558705569956*y^6*z^6+3440037810678913275//1477770558705569956*y^14*z^5+189984956806709153//738885279352784978*y^13*z^12-4653739//1215635866*x*z^22-1879834839280812819//1477770558705569956*y^12*z^2+13961217//607817933*y^12*z^14+16062959076553262981//1477770558705569956*y^8*z^13+326064151483762875//1477770558705569956*y^6*z^17+1660542582246750459//738885279352784978*y^8*z^6-4833542593419395242//369442639676392489*y^7*z^10+27985143645201553123//1477770558705569956*y^4*z^4-35927552681576251239//738885279352784978*y^3*z^10-18976000748618657699//1477770558705569956*y^4*z-149900542369359016//369442639676392489*x*z^15+78916011439727053//738885279352784978*y*z^20-19984420779053690954//369442639676392489*y^6*z^8+11104292249947127469//1477770558705569956*z^5-1697011064787025508//369442639676392489*y*z^14+50661591483111153859//1477770558705569956*y*z^8+4653739//1215635866*y^10*z^16+14608303864494316173//738885279352784978*y^7*z^2-4653739//607817933*y^3*z^21-2676641963274020968//369442639676392489*y^10*z^7+1591691199674956625//1477770558705569956*y^10*z^14+11024278720866291503//738885279352784978*y^6*z^3-28887503311204753915//1477770558705569956*y^4*z^3+623745684205236483//738885279352784978*y^12*z^11+1177863969178213813//369442639676392489*y^12*z^9+1594411145187292726//369442639676392489*y*z-2622679704724983103//738885279352784978*y^7*z^5-4653739//1215635866*z^23+23268695//607817933*y^2*z^20+317380866409518807//738885279352784978*y^2*z^18+11399056527999949061//738885279352784978*y^10*z^9-12448344803090772687//1477770558705569956*x*y*z^8+2027718466180533849//369442639676392489*y^8*z^14-10480135804599914563//369442639676392489*y^7*z^8+7048906694836697337//1477770558705569956*y^14*z^7-2516784235487193139//1477770558705569956*z^19+4653739//607817933*y^7*z^18-6223063699329017433//1477770558705569956*y^8*z^10+1470400513196332319//1477770558705569956*z^17+1806012702607009661//738885279352784978*y^8*z^3+395355674656715425//369442639676392489*y^11*z^13+324398562100651155//369442639676392489*y^13*z^11-1877444623839450537//1477770558705569956*x*z^11-65677857323005186031//1477770558705569956*y^3*z^9-24613817229204815517//1477770558705569956*y^6*z^2+102382258//607817933*y^5*z^18-1597363075130496865//1477770558705569956*x*y*z^10+23061953152159282305//1477770558705569956*y^8*z^5+4994220606796266579//1477770558705569956*y^10*z^13+144726940491485361//369442639676392489*y^9*z^15-715343336503925872//369442639676392489*y^5*z^13-107805307476508720485//1477770558705569956*y^3*z^4+103736331570101526007//1477770558705569956*y^6*z^5-75130271587150465//369442639676392489*y^3*z^19+2183298240207900317//369442639676392489*y^10*z^8+13053121961385955359//1477770558705569956*z^15+2993374745597270159//1477770558705569956*y^4*z^17-46559181244022056015//738885279352784978*y^6*z^7-3141236630838022998//369442639676392489*y^5*z^9-1665825307374756743//738885279352784978*y*z^15+51959300578062418//369442639676392489*y^13-71304800584021357773//1477770558705569956*z^6-1594411145187292726//369442639676392489*x*y*z-7978326028161149279//1477770558705569956*y^10*z+13051553251242398573//1477770558705569956*y^9*z^2+3124127345074747881//369442639676392489*x*z^2-5588283076210858145//1477770558705569956*x*y*z^7-32208098107831902841//1477770558705569956*y^10*z^3+6793258287833289215//738885279352784978*y^13*z^6+83068202281881813//1477770558705569956*y^6*z^18+21579106348300396309//1477770558705569956*z^8-18762334427371719//738885279352784978*y^3*z^20-3640337920256777105//1477770558705569956*y^4+1518344643295378707//738885279352784978*y^13*z^2-9675284114718246441//369442639676392489*y^7*z^9-34853583053915248297//1477770558705569956*y^7*z^7+3291463869375597041//369442639676392489*y^9*z^10+188479895609460939//738885279352784978*y^7*z^17+888376677183350142//369442639676392489*y^9*z^12-817829437631096579//1477770558705569956*y^14*z^4+11259159084599692169//738885279352784978*y^8*z^12-6695131227991090282//369442639676392489*y^10*z^6+805931986594294485//369442639676392489*y^13*z^10+5076010550862034311//738885279352784978*y^13*z^8+9653254161766040775//738885279352784978*y^10*z^11+11409960726281871041//1477770558705569956*y^11*z^2-62049284333424804425//1477770558705569956*y^9*z^5+9110926975755656457//1477770558705569956*x*z^12+16748796221644254159//1477770558705569956*y^8*z^4+1148658260813175107//1477770558705569956*y^14*z^10+665120200978139865//738885279352784978*y^2*z^7+1117624096812765141//738885279352784978*y^7*z^16-1652008968967111049//738885279352784978*y^6*z^15+5152774503522034125//1477770558705569956*y^14*z^8-2583649789519331597//738885279352784978*y^3*z^15-41391342584983615//1477770558705569956*z^22-262082019139907137//1477770558705569956*z^21-4204483477096729303//738885279352784978*x*z^10-1340609735329946966//369442639676392489*y^5*z^2+2971953134028307320//369442639676392489*y^13*z^5-7080516111935949353//1477770558705569956*x*y*z^3+94382706360687761//738885279352784978*y^11*z^14+1166557430392542875//1477770558705569956*y*z^3-1071547840034985042//369442639676392489*y^2*z^12+7240135986391850159//738885279352784978*y^6*z^10+9337368079408750925//1477770558705569956*y^3*z^14-57253791935305813103//1477770558705569956*y^8*z^8-9616223987741316963//738885279352784978*y^6*z^9+11059878098963554467//1477770558705569956*y^10*z^12+7099643367915538111//738885279352784978*y^2*z^11+13891689498878477603//1477770558705569956*z^3-1274274855704897051//1477770558705569956*y^12*z-204270377665002730//369442639676392489*y*z^17+3346801196672501325//738885279352784978*y^14*z^6+2201093006526763860//369442639676392489*z^16+13961217//607817933*y*z^21+3598283310813227503//1477770558705569956*z^14+642322379867000842//369442639676392489*y^12*z^10+6344094437747876073//738885279352784978*y^12*z^5-15170786456985714381//1477770558705569956*y^11*z^7+7045781783948935413//1477770558705569956*y^11*z^8+211108903767072835//1477770558705569956*y^4*z^19+1170044426364640121//1477770558705569956*y^4*z^18+95887767557935975//738885279352784978*y^12*z^13+38161144624150959371//1477770558705569956*y^5*z^7-637032943707633611//369442639676392489*x*z^18+41428325150755765//738885279352784978*y^2*z^17-2481598851721730587//738885279352784978*y^2*z^3+92662100994386892359//1477770558705569956*y^4*z^6-78177942595654830//369442639676392489*x*z^20-1582019925871511164//369442639676392489*y^11*z^4-307110811012597882//369442639676392489*x*y-6215530306526554846//369442639676392489*z^13+2578739441414916173//1477770558705569956*y^8*z^15-18011696338283698395//738885279352784978*y^10*z^5-7387199350188394529//738885279352784978*y^3*z^3+4958646395216690249//369442639676392489*y^9*z^9+1294398575193514193//369442639676392489*y^7*z^11-38599932663649152907//1477770558705569956*y^4*z^2-14629688684584683941//1477770558705569956*x*z^4+58520910591377022049//1477770558705569956*y^3*z^6-1594411145187292726//369442639676392489*z+307110811012597882//369442639676392489*x-56259565916638605//369442639676392489*y*z^18+959824102686992465//738885279352784978*y^9*z^13+1283131474900605353//1477770558705569956*y^4*z^13+12433528273640849345//738885279352784978*y^2*z^10-642336511410848242//369442639676392489*z^18+24351447617925233521//1477770558705569956*y^5*z^8+11507430692180370625//1477770558705569956*y^11*z^11-2438262205900791059//369442639676392489*y^2*z^4-8257262407096315195//1477770558705569956*y*z^11+26495681887852073//1477770558705569956*y^14*z^12-15916473299472982211//1477770558705569956*x*z^6+46537390//607817933*y^9*z^16+6197370403434006731//738885279352784978*y^7*z^14-46260803292317624041//1477770558705569956*y*z^5+6773405300923351471//1477770558705569956*x*z^3+558670931038021019//738885279352784978*y^13*z+16903856654808304341//1477770558705569956*x*z^8-3175198316046233056//369442639676392489*y^2*z^14+3215207451643402844//369442639676392489*y^6*z^11-4653739//1215635866*y^14*z^13+9513648104228837803//1477770558705569956*y^11*z^3-40062775845423678633//738885279352784978*z^7-307110811012597882//369442639676392489+37128150035329814621//1477770558705569956*y*z^9-4174586729908467697//1477770558705569956*x*z^16+2906227745711445915//738885279352784978*y^13*z^3+102880655886122919497//1477770558705569956*y^6*z^4+307110811012597882//369442639676392489*y+354616300173224565//1477770558705569956*y^8*z^16+8452108296973275383//1477770558705569956*y*z^10+2430474646029492081//1477770558705569956*y^7-7041226793446526999//1477770558705569956*y^9*z^3+30935989932237995223//1477770558705569956*y^3*z^12-17369048998981993675//1477770558705569956*y^6*z+89935281132196536277//1477770558705569956*y^4*z^5-27374148987972910399//1477770558705569956*y*z^4-24370806052131253435//1477770558705569956*y^7*z^6-3124127345074747881//369442639676392489*x*y*z^2-13612220976360128322//369442639676392489*y^4*z^9-29294332212582442791//1477770558705569956*x*z^5+6501030555510835349//738885279352784978*y^13*z^7+1837603101703888104//369442639676392489*y^5*z^15+6379372349083438310//369442639676392489*y^10*z^10\n",
      "(22,23)\n",
      "\t60712173993655910624018//117815718629814142081225*x*z^13+104317845872446499832448//117815718629814142081225*x*y*z^6+60933125863124047098048//117815718629814142081225*x*z-2634009493521418793181568//117815718629814142081225*y^5*z^12+30165146191171147445044//117815718629814142081225*y^10-2471879448032383068106896//117815718629814142081225*y^5*z^5+236624055694396103435058//117815718629814142081225*z^9-547469069570617339469452//117815718629814142081225*y^2*z^16-3436970452358380620889314//117815718629814142081225*y^3*z^5-375001404240921049413072//117815718629814142081225*y*z^6-1226809065213500973013296//117815718629814142081225*y^5*z^4-551563229302132733121848//23563143725962828416245*y^9*z^7-1802593944008441737745776//117815718629814142081225*y^5*z^6+1066992953970969250084008//117815718629814142081225*y^9*z^4+6846353718332964464396//23563143725962828416245*y^2*z^2+485765748624897275221752//117815718629814142081225*y^12*z^8-466569115060260558135188//23563143725962828416245*y^2*z^8-310831762607836366126324//117815718629814142081225*y^8*z-2431271732//343242944035*y^11*z^16-2095341409384558374765864//117815718629814142081225*y^9*z^6-2431271732//343242944035*y^3*z^22-3400644777163575989608//4712628745192565683249*x*z^17+121177915890907259667364//117815718629814142081225*y^10*z^15+55330791903982786893824//23563143725962828416245*x*y*z^5-23576796150528993335784//117815718629814142081225*x*z^21+5791796893832094695164//23563143725962828416245*y^13*z^13-58588844764885094957066//23563143725962828416245*y^6*z^16+157495471759092802612196//117815718629814142081225*y*z^2-43668842371742779188844//23563143725962828416245*y^14*z^2+1378629268855927310429214//117815718629814142081225*z^12+915578775579992870347744//117815718629814142081225*y^9*z^11+379381529203850919111628//117815718629814142081225*y^9*z-3149603304732811475218666//117815718629814142081225*y^4*z^12-10912976118826639341332//117815718629814142081225*y^14+94881307138154385554812//117815718629814142081225*y^9*z^14+3724124803313822211638794//117815718629814142081225*y^3*z^8+3058542719214440916510698//117815718629814142081225*z^10-99503676152094139361464//117815718629814142081225*y^6-19542219018501330005604//23563143725962828416245*y^6*z^14-791262130760518718967434//117815718629814142081225*y^11*z^9+1196185908118942017664684//117815718629814142081225*y^3*z^2-84725692220519785934736//117815718629814142081225*y^5*z^3+716096655767416322434392//117815718629814142081225*y^10*z^2-46431635793145846952788//117815718629814142081225*y^8+663150807185508523667886//117815718629814142081225*x*z^14+255884617440729663661942//117815718629814142081225*y^4*z^16+232913910737153623859042//117815718629814142081225*y^3*z^16+1309916730114745544145048//117815718629814142081225*y^6*z^12-30192016641730646417376//23563143725962828416245*y^2*z^6-593916148651884125976058//117815718629814142081225*y^3*z^17-1842934363605810912474128//117815718629814142081225*y^7*z^3-34365453529811435121292//23563143725962828416245*x*z^19+29117402381155340795518//23563143725962828416245*x*z^9+89296157671838219369152//117815718629814142081225*y^5*z-1385067486849408783332996//117815718629814142081225*y^11*z^6-1558624231989158564240408//117815718629814142081225*y^5*z^11+51994078728595724535864//117815718629814142081225*y^12*z^6+83031237397588920845212//117815718629814142081225*y^3+65279976721801851718014//23563143725962828416245*x*z^7-349567989954462371589352//117815718629814142081225*y^7*z+1400534340990974271161208//117815718629814142081225*y^5*z^10+3178810160082849921852//4712628745192565683249*y^12*z^12-368611689490326514748316//117815718629814142081225*y^12*z^3+1297295375895944580206014//117815718629814142081225*y^10*z^4-202920489265209196273716//117815718629814142081225*y^3*z^13+17748630297876852196318//23563143725962828416245*y^14*z^11-3268213454164143798323146//117815718629814142081225*y^8*z^9-413668088346342357427114//117815718629814142081225*y^14*z^3+70803191164205135501086//23563143725962828416245*y^11*z^5-221769473671934156552706//117815718629814142081225*y^4*z^14+731533184542671105292588//23563143725962828416245*z^11+700165424399385813368544//117815718629814142081225*y^2*z^5+298038103880658124744312//117815718629814142081225*y^7*z^13-86663273367105957341892//117815718629814142081225*y*z^16+13735897794921537640544//117815718629814142081225*y^11*z^15-1215635866//343242944035*x*z^23+26061836839398099748532//117815718629814142081225*y^8*z^17+1602501339109407465996016//117815718629814142081225*y^4*z^7+31291719163559698126912//23563143725962828416245*x*y*z^4+47645423095870173843872//117815718629814142081225*y^2*z^19+346144913392080629744744//117815718629814142081225*y^5*z^17-41588006570003617737316//117815718629814142081225*z^2-1562318160731792723052828//117815718629814142081225*y*z^7+15664006512639576182468//117815718629814142081225*y^4*z^20+4573592411695566109648182//117815718629814142081225*y^4*z^8+489972576707292545390516//117815718629814142081225*y^13*z^9-642451449473240375940148//117815718629814142081225*y^2*z^15+776048545205427124349092//117815718629814142081225*y^7*z^15-10912976118826639341332//117815718629814142081225*y^12+348914966272288895562604//117815718629814142081225*y^11*z+53209339793968638414348//117815718629814142081225*y^11+361198685950254414668616//117815718629814142081225*y^12*z^7+673205761233164532547088//117815718629814142081225*y^4*z^10+438365888355550822625372//117815718629814142081225*y^2*z^13+2467433327300274127296//23563143725962828416245*y^5-465355180201260013508084//117815718629814142081225*y^3*z^18-2734719824287850868441122//117815718629814142081225*y^4*z^11-71306321401035880289972//117815718629814142081225*y^14*z+771785913497703473783244//117815718629814142081225*y^11*z^12+6033432030420015301652//117815718629814142081225*y^6*z^19-6479760926481371494816//23563143725962828416245*y*z^19-169081262187358390400544//23563143725962828416245*y^8*z^2-1010031417938146090077856//117815718629814142081225*y^2*z^9+182960657608715405901352//117815718629814142081225*y^4*z^15-416053536904762191753584//117815718629814142081225*y^12*z^4-746418421606964859815924//117815718629814142081225*y^7*z^12-1196476923614024968001904//117815718629814142081225*y^7*z^4+88219868809966577219784//23563143725962828416245*y^5*z^16+45965615525388542416492//4712628745192565683249*z^4-1215635866//343242944035*y^14*z^14+57210137624642547492998//23563143725962828416245*y^14*z^9-964062046207861559023744//117815718629814142081225*y^5*z^14+834837047501444082694396//117815718629814142081225*y^3*z^7+1027364855360254606928808//117815718629814142081225*y^6*z^13-3287495816522610085504292//117815718629814142081225*y^3*z^11+516481062395880025082236//117815718629814142081225*y^3*z-393072301507504159198266//23563143725962828416245*y^8*z^11+7293815196//343242944035*y*z^22-85345966274267106422792//23563143725962828416245*y^13*z^4+2434385135827992149792948//117815718629814142081225*y^8*z^7-1838445551614843178844728//117815718629814142081225*y^9*z^8-35780653437969828710336//117815718629814142081225*x*y*z^9+1302004833953628322646148//117815718629814142081225*y*z^12+58631502994626871583596//117815718629814142081225*y^9-177082409486000838575962//117815718629814142081225*z^20+351039203077463515016262//117815718629814142081225*y^11*z^10-330837068098045852265236//117815718629814142081225*y*z^13+4590548745218684332405836//117815718629814142081225*y^6*z^6-88523040211289974215382//23563143725962828416245*y^14*z^5+97467329241049485285192//117815718629814142081225*y^13*z^12+53487978104//343242944035*y^5*z^19-4398028807589403681098//117815718629814142081225*x*z^22-210210967057726546190348//117815718629814142081225*y^12*z^2+14704936706965872825908//117815718629814142081225*y^12*z^14+920276564329238598622212//117815718629814142081225*y^8*z^13-1073319194317852031866//4712628745192565683249*y^6*z^17+3805125731194580725598426//117815718629814142081225*y^8*z^6-3420172877064801195308136//117815718629814142081225*y^7*z^10-1007950217749034587339814//117815718629814142081225*y^4*z^4+301348098719963636997664//117815718629814142081225*y^3*z^10-63036656985971898375968//117815718629814142081225*y^4*z+715042513741647122496522//117815718629814142081225*x*z^15+13625235988193826341492//117815718629814142081225*y*z^20-364971925846462692505462//117815718629814142081225*y^6*z^8+876589482288689754345158//117815718629814142081225*z^5-833022760397160851086444//117815718629814142081225*y*z^14-2043921922686930107854572//117815718629814142081225*y*z^8+1215635866//343242944035*y^4*z^21+19002073980802590256948//117815718629814142081225*y^10*z^16-1108947870502073413248968//117815718629814142081225*y^7*z^2-1215635866//343242944035*y^6*z^20-2954439545893532731856//117815718629814142081225*y^3*z^21-2804529878214062528495174//117815718629814142081225*y^10*z^7+74628146054224036625292//23563143725962828416245*y^10*z^14-1933753280593900044355038//117815718629814142081225*y^6*z^3-68892970003465283606962//23563143725962828416245*y^4*z^3+142317650209152463005232//117815718629814142081225*y^12*z^11+408073268766370587216904//117815718629814142081225*y^12*z^9+7293815196//343242944035*y^12*z^15+60933125863124047098048//117815718629814142081225*y*z+1443523250271426855543428//117815718629814142081225*y^7*z^5-3146253507028273403168//117815718629814142081225*z^23-1215635866//343242944035*y^8*z^18+4957280026791341176544//23563143725962828416245*y^2*z^20-19676740286037699756852//117815718629814142081225*y^2*z^18-969604231216488432797026//117815718629814142081225*y^10*z^9-125312871321335985545984//117815718629814142081225*x*y*z^8+1045422620551008550145562//117815718629814142081225*y^8*z^14+1036907913066041348755756//117815718629814142081225*y^7*z^8+104459508492764054421184//117815718629814142081225*y^14*z^7-109452846971050515529568//117815718629814142081225*z^19+27989945557116138290456//117815718629814142081225*y^7*z^18-3472472638225911536812326//117815718629814142081225*y^8*z^10+964031928270063382310558//117815718629814142081225*z^17-1024488005270240734035596//117815718629814142081225*y^8*z^3+81186593541528281771076//23563143725962828416245*y^11*z^13+43682585393122077062868//23563143725962828416245*y^13*z^11-782135033023131722587774//117815718629814142081225*x*z^11+3642868908510113807155588//117815718629814142081225*y^3*z^9-1652089810542213872992744//117815718629814142081225*y^6*z^2+125082884436591973441472//117815718629814142081225*y^5*z^18+489770906495967350835094//23563143725962828416245*y^8*z^5+725673150279141668559658//117815718629814142081225*y^10*z^13+91750995656071961113148//117815718629814142081225*y^9*z^15-2100104364596856694863776//117815718629814142081225*y^5*z^13-271040882942505759780158//23563143725962828416245*y^3*z^4+2913671962576815135497054//117815718629814142081225*y^6*z^5-6009874611626175292244//4712628745192565683249*y^3*z^19-2368549347914545637980404//117815718629814142081225*y^10*z^8-1133372631983646059964092//117815718629814142081225*z^15+295791285763871915906528//117815718629814142081225*y^4*z^17+655134148219272651965692//23563143725962828416245*y^6*z^7+4362293855804639626189896//117815718629814142081225*y^5*z^9-424083998134452351633532//117815718629814142081225*y*z^15-6846353718332964464396//117815718629814142081225*y^13-1137287548056179650697826//117815718629814142081225*z^6-60933125863124047098048//117815718629814142081225*x*y*z+219432073813150295479252//117815718629814142081225*y^10*z+1045255482382593573651996//117815718629814142081225*y^9*z^2+124619243967592538582528//117815718629814142081225*x*z^2+1215635866//343242944035*y^10*z^17-23024512506912849543616//23563143725962828416245*x*y*z^7+1316763650888977033987878//117815718629814142081225*y^10*z^3-6015209135445099263708//23563143725962828416245*y^13*z^6+25871451178751468591716//117815718629814142081225*y^6*z^18-2541575576664502008981002//117815718629814142081225*z^8-21882672711079113196166//117815718629814142081225*y^3*z^20-2954729873357959041952//23563143725962828416245*y^4-161445439369632506783432//117815718629814142081225*y^13*z^2-2374720153902415401652228//117815718629814142081225*y^7*z^9+4188473591839501061146196//117815718629814142081225*y^7*z^7+957607161620197636278688//117815718629814142081225*y^9*z^10+170183815081298971733176//117815718629814142081225*y^7*z^17+414358301291868410652156//117815718629814142081225*y^9*z^12-527162736884941958850558//117815718629814142081225*y^14*z^4-162976278880918972472884//117815718629814142081225*y^8*z^12-1722261701228755045784846//117815718629814142081225*y^10*z^6+14779569305792571492712//4712628745192565683249*y^13*z^10+489294593962555673019724//117815718629814142081225*y^13*z^8+38125809201668746615776//4712628745192565683249*y^10*z^11+1023612084403734053130092//117815718629814142081225*y^11*z^2-85465170761018292104888//23563143725962828416245*y^9*z^5-603011127553846048946606//117815718629814142081225*x*z^12+148308417273176676508268//117815718629814142081225*y^8*z^4+194498425429163664865674//117815718629814142081225*y^14*z^10-338422002332204694442148//23563143725962828416245*y^2*z^7+478871578046088595490264//117815718629814142081225*y^7*z^16-540179083854370894635886//117815718629814142081225*y^6*z^15+54996648638093202130746//23563143725962828416245*y^14*z^8+1817622387573163852894942//117815718629814142081225*y^3*z^15-3912479053041814199462//23563143725962828416245*z^22-80923245170316448362574//117815718629814142081225*z^21-415059188156846214934242//117815718629814142081225*x*z^10+197162693067416408670392//117815718629814142081225*y^5*z^2-65376790505801235357348//23563143725962828416245*y^13*z^5-64817617684255810942656//117815718629814142081225*x*y*z^3+120657804910866893302954//117815718629814142081225*y^11*z^14+55517674201604733302184//23563143725962828416245*y*z^3+1597204171714050710520804//117815718629814142081225*y^2*z^12-3296296153115481527837564//117815718629814142081225*y^6*z^10+435891556146464204639376//23563143725962828416245*y^3*z^14-793402688907704834459386//117815718629814142081225*y^8*z^8-3465722872185419655122372//117815718629814142081225*y^6*z^9+1000208506109456895124594//117815718629814142081225*y^10*z^12+2189730968064014280879504//117815718629814142081225*y^2*z^11+406724649153663271484776//117815718629814142081225*z^3-71306321401035880289972//117815718629814142081225*y^12*z-15628498497330147670276//23563143725962828416245*y*z^17-7309476271270908822136//4712628745192565683249*y^14*z^6+119423276988521241363288//23563143725962828416245*z^16+12201386105843612270048//117815718629814142081225*y*z^21-2633355299398330874922264//117815718629814142081225*z^14+256737014554107791807056//117815718629814142081225*y^12*z^10-263528517800985797203408//117815718629814142081225*y^12*z^5-2350431178623762008744012//117815718629814142081225*y^11*z^7-1989040003310391954359174//117815718629814142081225*y^11*z^8+17866350579671008858612//23563143725962828416245*y^4*z^19+222214142128725726444832//117815718629814142081225*y^4*z^18+1633917028030840077868//4712628745192565683249*y^12*z^13+1377624216022815713838152//117815718629814142081225*y^5*z^7-226394381409635514381608//117815718629814142081225*x*z^18-51446068806887567965896//23563143725962828416245*y^2*z^17+221742934856822919747832//117815718629814142081225*y^2*z^3-1214456846236551398577582//117815718629814142081225*y^4*z^6-15736146113119604533288//23563143725962828416245*x*z^20+1626860352614016993357378//117815718629814142081225*y^11*z^4-10844326401316466338496//117815718629814142081225*x*y-1215635866//343242944035*z^24+613569383835614824561426//117815718629814142081225*y^8*z^15-1694345261818483751032008//117815718629814142081225*z^13+4087950401441557916354//4712628745192565683249*y^10*z^5+862694805654030175854174//117815718629814142081225*y^3*z^3-122397560462433408249288//117815718629814142081225*y^9*z^9-2309879315682664205319116//117815718629814142081225*y^7*z^11-132007447253704195585984//117815718629814142081225*y^4*z^2-171691877283579502409072//117815718629814142081225*x*z^4-2550126741684802822684612//117815718629814142081225*y^3*z^6-60933125863124047098048//117815718629814142081225*z+10844326401316466338496//117815718629814142081225*x-19328937675268159055668//23563143725962828416245*y*z^18+25194089733096497900796//23563143725962828416245*y^9*z^13-1549936595946650220782324//117815718629814142081225*y^4*z^13+232034661544496002764472//23563143725962828416245*y^2*z^10+378284059127374910840834//117815718629814142081225*z^18+4451258119769906152955912//117815718629814142081225*y^5*z^8+174447190471074676189938//23563143725962828416245*y^11*z^11+593394462057739801388588//117815718629814142081225*y^2*z^4+494492946564313928542416//23563143725962828416245*y*z^11+23617006454895107711736//117815718629814142081225*y^14*z^12-80598083018656430506642//117815718629814142081225*x*z^6+2431271732//68648588807*y^2*z^21+8913139813133778130744//23563143725962828416245*y^9*z^16+768212207765970442535724//117815718629814142081225*y^7*z^14+311501735001885425626628//117815718629814142081225*y*z^5+62106536083926694358032//117815718629814142081225*x*z^3+2431271732//343242944035*y^7*z^19-48456399202364362628204//117815718629814142081225*y^13*z+466287860810050528618062//117815718629814142081225*x*z^8-358838641853280991947328//117815718629814142081225*y^2*z^14-617252436767914527340948//117815718629814142081225*y^6*z^11+1860847695216247708552//117815718629814142081225*y^14*z^13+1719080260703941902991286//117815718629814142081225*y^11*z^3-3059462672806518942649032//117815718629814142081225*z^7-10844326401316466338496//117815718629814142081225-706908826717097871440668//117815718629814142081225*y*z^9+314931178431283080318736//117815718629814142081225*x*z^16-65393358637610485507156//23563143725962828416245*y^13*z^3-122402783505476610872706//117815718629814142081225*y^6*z^4+10844326401316466338496//117815718629814142081225*y+2431271732//68648588807*y^13*z^14+7860110635662651985254//4712628745192565683249*y^8*z^16+1554694151956389440174696//117815718629814142081225*y*z^10-47993125745840924253608//117815718629814142081225*y^7+1535018090467060223968652//117815718629814142081225*y^9*z^3-3323658212843079932394004//117815718629814142081225*y^3*z^12-127800067560860319061016//23563143725962828416245*y^6*z-1796550958758588381157366//117815718629814142081225*y^4*z^5+394086478408715642305432//117815718629814142081225*y*z^4+841605514819697767111268//23563143725962828416245*y^7*z^6-124619243967592538582528//117815718629814142081225*x*y*z^2+4862543464//68648588807*y^9*z^17+4317706592182517577935324//117815718629814142081225*y^4*z^9-307808770511812069114752//117815718629814142081225*x*z^5+300288726824456276305536//117815718629814142081225*y^13*z^7+21615222872647346594232//117815718629814142081225*y^5*z^15+63915298176058450327262//23563143725962828416245*y^10*z^10\n",
      "(23,24)\n",
      "\t-611393280304683084792417545//27073197207993879100275488*x*z^13+156945817396879741845565//120862487535686960269087*x*y*z^6-248859592257940062177285//120862487535686960269087*x*z-665499015990104391612476725//6768299301998469775068872*y^5*z^12+422085443176622362180195//241724975071373920538174*y^10-54912443698379503278112335//483449950142747841076348*y^5*z^5-69473490983882013838674075//552514228734568961230112*z^9-422160735008418941522238435//13536598603996939550137744*y^2*z^16-1944164241960079285076021685//27073197207993879100275488*y^3*z^5+190573375756711051734822375//13536598603996939550137744*y*z^6-138613992179507199799486855//3384149650999234887534436*y^5*z^4-900514150980091397008985195//6768299301998469775068872*y^9*z^7-465045275165483283150868615//3384149650999234887534436*y^5*z^6+1358935884351878106892855925//13536598603996939550137744*y^9*z^4+2650746105381481256379325//1692074825499617443767218*y^2*z^2+123795045014783031729071415//6768299301998469775068872*y^12*z^8-343242944035//29433693459296*z^25-31904093253698974923203875//276257114367284480615056*y^2*z^8-116698234826096128367152315//13536598603996939550137744*y^8*z+305894182157947171019680//846037412749808721883609*y^11*z^16-306963752400805960060174685//6768299301998469775068872*y^9*z^6-355002583367036703186805//3384149650999234887534436*y^3*z^22+30927111521108880833788955//3384149650999234887534436*x*z^17+182888199793192385317369905//13536598603996939550137744*y^10*z^15-3898310098766573657946635//846037412749808721883609*x*y*z^5-18906055948992436680457695//6768299301998469775068872*x*z^21+23442109841686396530277315//6768299301998469775068872*y^13*z^13-87831965336492564758260415//3867599601141982728610784*y^6*z^16-1961385550258989173313145//1692074825499617443767218*y*z^2-11761157271118908898389205//1933799800570991364305392*y^14*z^2-343242944035//29433693459296*x*z^24+79095101318770032638919015//1692074825499617443767218*y^9*z^11+85341926201595680532814405//13536598603996939550137744*y^9*z+329057557198529169994005635//1933799800570991364305392*z^12-4107101718077572613052732175//27073197207993879100275488*y^4*z^12-226297224221420972393825//1692074825499617443767218*y^14+71545198062068398366436165//13536598603996939550137744*y^9*z^14+1227951731904460777139730565//13536598603996939550137744*y^3*z^8+1420985536081114277468326535//27073197207993879100275488*z^10-64201557371910138750320//120862487535686960269087*y^6+204297361710682767770964575//6768299301998469775068872*y^6*z^14-2401138342011200477206587085//27073197207993879100275488*y^11*z^9+320749940471322821130963665//13536598603996939550137744*y^3*z^2+343242944035//29433693459296*y^10*z^18+28153451477586823692130985//6768299301998469775068872*y^5*z^3+73105465293050387752312725//1933799800570991364305392*y^10*z^2-1739190114816855419733205//1692074825499617443767218*y^8+1029728832105//14716846729648*y^12*z^16+420316060641698903273421575//27073197207993879100275488*x*z^14+59301717088401722010908525//6768299301998469775068872*y^4*z^16+243415325917690485341114935//3867599601141982728610784*y^3*z^16+232067362868976276732595325//13536598603996939550137744*y^6*z^12+31289327795043707801828025//1692074825499617443767218*y^2*z^6-148596936445244706208968065//27073197207993879100275488*y^3*z^17-99089937517314317790214025//966899900285495682152696*y^7*z^3-69393830190504547133974135//6768299301998469775068872*x*z^19+424220374822955386321898905//27073197207993879100275488*x*z^9+3919115729490611959442380//846037412749808721883609*y^5*z-29533947439572014338325765//3867599601141982728610784*y^11*z^6+187041145336428734677176225//6768299301998469775068872*y^5*z^11-6984111871292692227384785//483449950142747841076348*y^12*z^6-995477856877022090205155//1692074825499617443767218*y^3+3150998253022741752507465//27073197207993879100275488*x*z^7-127153720489505163137397155//6768299301998469775068872*y^7*z+1274034861143889432344911495//6768299301998469775068872*y^5*z^10+19496836567303065081894495//3384149650999234887534436*y^12*z^12-221909211123348617771545485//13536598603996939550137744*y^12*z^3+2583693784961297011900753965//27073197207993879100275488*y^10*z^4-224435540628929137790351165//1933799800570991364305392*y^3*z^13+206232801263889383180620875//27073197207993879100275488*y^14*z^11-2263284390997846541178821155//27073197207993879100275488*y^8*z^9-205556418232825839784813325//13536598603996939550137744*y^14*z^3+1934210843406751691167786895//27073197207993879100275488*y^11*z^5-736481172068505951233641575//13536598603996939550137744*y^4*z^14+5351682171367361928857930275//27073197207993879100275488*z^11+561311303244693123443688845//13536598603996939550137744*y^2*z^5-330967319497428467573052635//13536598603996939550137744*y^7*z^13-179831103359768508477302545//13536598603996939550137744*y*z^16+101437635513400169794866515//27073197207993879100275488*y^11*z^15-3630021370266502354918955//27073197207993879100275488*x*z^23+167658836598596428447388045//27073197207993879100275488*y^8*z^17-315159662554944506147007745//27073197207993879100275488*y^4*z^7-4894644093446151482134780//846037412749808721883609*x*y*z^4+7073576291295917055536325//13536598603996939550137744*y^2*z^19+139179900866470902441499395//6768299301998469775068872*y^5*z^17+343242944035//29433693459296*y^4*z^22-226854381216087462460489165//3384149650999234887534436*y*z^7+3717937797715073432447995//1692074825499617443767218*z^2+39422073601270246732155855//13536598603996939550137744*y^4*z^20+44957143827233150017159055//241724975071373920538174*y^4*z^8+308461904855174182849494365//13536598603996939550137744*y^13*z^9-38876872378634265813621765//1692074825499617443767218*y^2*z^15+517259008412589193553889285//13536598603996939550137744*y^7*z^15-226297224221420972393825//1692074825499617443767218*y^12+99278063368040324014742365//13536598603996939550137744*y^11*z+1232770120058729954929805//1692074825499617443767218*y^11+4055336980584429288921135//966899900285495682152696*y^12*z^7+1716214720175//7358423364824*y^9*z^18+2288232577484371357781545665//13536598603996939550137744*y^4*z^10+885939429748624296652771095//13536598603996939550137744*y^2*z^13+580791220552108797756205//846037412749808721883609*y^5-751952979154187091361684155//27073197207993879100275488*y^3*z^18-28771453765808914710638975//846037412749808721883609*y^4*z^11-19158805815285832628852075//13536598603996939550137744*y^14*z+1128830978356858681897055675//27073197207993879100275488*y^11*z^12+12021124739290763962114695//13536598603996939550137744*y^6*z^19-49875490314117962770199335//13536598603996939550137744*y*z^19-406283155577239861942798555//13536598603996939550137744*y^8*z^2-1418987265263571189166644495//13536598603996939550137744*y^2*z^9-162891886284719345190220295//27073197207993879100275488*y^4*z^15-7209510591514718225134145//276257114367284480615056*y^12*z^4-1303407182579904952774354845//13536598603996939550137744*y^7*z^12-326202793878051943510571135//3384149650999234887534436*y^7*z^4+64506852823830429270363865//6768299301998469775068872*y^5*z^16+105391259637325086437001975//6768299301998469775068872*z^4+276429141432493451719405//6768299301998469775068872*y^14*z^14+367744391407860456996584735//27073197207993879100275488*y^14*z^9-21422418386746055658806485//241724975071373920538174*y^5*z^14-267376258399389497033247545//1933799800570991364305392*y^3*z^7+459031170054096174999149125//6768299301998469775068872*y^6*z^13-343242944035//29433693459296*y^8*z^19-62377505416654682559492820//846037412749808721883609*y^3*z^11+22629308952594784864138585//13536598603996939550137744*y^3*z-622972170456859178872850075//3867599601141982728610784*y^8*z^11+345180903125218796753380//846037412749808721883609*y*z^22-354322474006016532782695375//13536598603996939550137744*y^13*z^4+748581543281126459563415965//3867599601141982728610784*y^8*z^7-938960253778998006445642765//6768299301998469775068872*y^9*z^8+375880948133287488363796805//3384149650999234887534436*y*z^12+118233446321747083298155//241724975071373920538174*y^9-24062865675295200414557665//3384149650999234887534436*z^20-93105340346216086306218925//3867599601141982728610784*y^11*z^10+455648701112457826018243535//13536598603996939550137744*y*z^13+5592069095801361016685023225//27073197207993879100275488*y^6*z^6-777829636283971778542884225//27073197207993879100275488*y^14*z^5+114715323303353586631019855//13536598603996939550137744*y^13*z^12+3373235589317644716066400//846037412749808721883609*y^5*z^19-5232371182528773679511065//6768299301998469775068872*x*z^22-87189732847510366750837075//13536598603996939550137744*y^12*z^2+20492483291407908276501245//13536598603996939550137744*y^12*z^14+135565391973917375063336045//13536598603996939550137744*y^8*z^13-246619761102709164124654855//27073197207993879100275488*y^6*z^17+4553234038842195594211121465//27073197207993879100275488*y^8*z^6-1973431047393588075664801015//13536598603996939550137744*y^7*z^10-1465154958279885705202470355//27073197207993879100275488*y^4*z^4+2096256464629115248652634695//13536598603996939550137744*y^3*z^10+16548317188009126095089735//1692074825499617443767218*y^4*z+1029941658461906702821729625//27073197207993879100275488*x*z^15-77315291788728325555470//120862487535686960269087*y*z^20+1784475131153478306869764185//13536598603996939550137744*y^6*z^8+658164576730157146861315145//13536598603996939550137744*z^5-369379113942000033246936555//13536598603996939550137744*y*z^14-1760739135793724376599654185//13536598603996939550137744*y*z^8+6077174827530079723076395//13536598603996939550137744*y^4*z^21+52679295632737195842019255//13536598603996939550137744*y^10*z^16-390763841060436832025143795//6768299301998469775068872*y^7*z^2+2131437594863812290704335//13536598603996939550137744*y^6*z^20-18505950305278718205643285//27073197207993879100275488*y^3*z^21-3153409375496316478487621625//27073197207993879100275488*y^10*z^7+792419492397735572371188675//27073197207993879100275488*y^10*z^14-756159715755054291068935605//6768299301998469775068872*y^6*z^3+17521993279541174534249585//3384149650999234887534436*y^4*z^3+34527082144767500441226995//3384149650999234887534436*y^12*z^11+145831501804685873761163665//6768299301998469775068872*y^12*z^9+6470042037202795980413395//13536598603996939550137744*y^12*z^15-248859592257940062177285//120862487535686960269087*y*z+28668965383472475948751325//3384149650999234887534436*y^7*z^5-16985169592110419357255705//27073197207993879100275488*z^23+9708618292458174149578855//13536598603996939550137744*y^8*z^18+3315512724405240717973515//1692074825499617443767218*y^2*z^20-54911196892206356456641335//6768299301998469775068872*y^2*z^18-1440486139329581297717750935//13536598603996939550137744*y^10*z^9+1034179548565445156046530//846037412749808721883609*x*y*z^8+658103004977769139636302435//13536598603996939550137744*y^8*z^14+2315431985388228661059466715//13536598603996939550137744*y^7*z^8-45515241845389202833992265//6768299301998469775068872*y^14*z^7+249589532762879248848250855//27073197207993879100275488*z^19+37213484659133483261567625//6768299301998469775068872*y^7*z^18-4883022326649836312016879595//27073197207993879100275488*y^8*z^10+281318247294773071504956995//6768299301998469775068872*z^17-6442310632427239112283400//120862487535686960269087*y^8*z^3+60802906549230205109263355//1933799800570991364305392*y^11*z^13+103951927431841096996442575//6768299301998469775068872*y^13*z^11-848847063971793205717740255//27073197207993879100275488*x*z^11+6570053522745757423041115955//27073197207993879100275488*y^3*z^9-315793839472221030481071865//6768299301998469775068872*y^6*z^2+87076341373535216740965595//6768299301998469775068872*y^5*z^18+747706234674065509434387265//13536598603996939550137744*y^8*z^5+1197867575992600366767229735//27073197207993879100275488*y^10*z^13+64224169834853565293746625//13536598603996939550137744*y^9*z^15-108310126662347498004343750//846037412749808721883609*y^5*z^13+214019462411888099291271255//3867599601141982728610784*y^3*z^4+1716214720175//14716846729648*y^13*z^15+259991945421282386236682305//27073197207993879100275488*y^6*z^5-227930210352489353108991075//13536598603996939550137744*y^3*z^19-569419140194747594617355955//3867599601141982728610784*y^10*z^8-758703191490707030800373985//6768299301998469775068872*z^15+357164806183017076613938365//27073197207993879100275488*y^4*z^17+3712346124065592075492858605//13536598603996939550137744*y^6*z^7+1685306430265990086516855455//6768299301998469775068872*y^5*z^9+1716214720175//14716846729648*y^2*z^22-62932896982888313918751955//1933799800570991364305392*y*z^15-530149221076296251275865//1692074825499617443767218*y^13+149697621030741944411422235//3867599601141982728610784*z^6+248859592257940062177285//120862487535686960269087*x*y*z+158506646325430058812936195//13536598603996939550137744*y^10*z+411541120317499207174944765//13536598603996939550137744*y^9*z^2-2356707827296047761326575//846037412749808721883609*x*z^2+7340038277129140032888815//13536598603996939550137744*y^10*z^17+2820163622286077046593815//846037412749808721883609*x*y*z^7+510410058874546209355588775//6768299301998469775068872*y^10*z^3-249698321197468826982849475//13536598603996939550137744*y^13*z^6-2968397255791601645227555//27073197207993879100275488*y^6*z^18-1130474212356004433264237045//6768299301998469775068872*z^8-64450076130173733096598495//13536598603996939550137744*y^3*z^20+1593631210068359727363005//846037412749808721883609*y^4-102545387798706154434324685//13536598603996939550137744*y^13*z^2-139928163353062327065232075//13536598603996939550137744*y^7*z^9+486359023237128040703746485//1933799800570991364305392*y^7*z^7+94495133321886232927144625//6768299301998469775068872*y^9*z^10+119808811221039381628984085//6768299301998469775068872*y^7*z^17+29147503287854022987138035//846037412749808721883609*y^9*z^12-681039636754411502406047835//27073197207993879100275488*y^14*z^4-1986801403603454807808884135//27073197207993879100275488*y^8*z^12-716464897649117389824558425//27073197207993879100275488*y^10*z^6+291886004600336127377398315//13536598603996939550137744*y^13*z^10+25601011360745082487965225//1692074825499617443767218*y^13*z^8+605088906492433635952162285//27073197207993879100275488*y^10*z^11+406086623187477566954994165//13536598603996939550137744*y^11*z^2+387352946378287831397238355//6768299301998469775068872*y^9*z^5-1183065210354654832569782785//27073197207993879100275488*x*z^12-475800272313351438835862365//13536598603996939550137744*y^8*z^4+337873958459641068555316545//27073197207993879100275488*y^14*z^10-42581655289703253320885700//846037412749808721883609*y^2*z^7+448112334516877259492366735//13536598603996939550137744*y^7*z^16-204632442513951964366268255//13536598603996939550137744*y^6*z^15+23864585619876405976097555//3384149650999234887534436*y^14*z^8+95419457577707228511239740//846037412749808721883609*y^3*z^15-1524498685606140917573225//552514228734568961230112*z^22-188170911696517093720254275//27073197207993879100275488*z^21-48010067002096572980563515//27073197207993879100275488*x*z^10+3775672384385//7358423364824*y^5*z^20+9415173792295022395529290//846037412749808721883609*y^5*z^2-190293801857208309893859775//6768299301998469775068872*y^13*z^5-663870669325083823888175//846037412749808721883609*x*y*z^3+195678697440677933814498095//13536598603996939550137744*y^11*z^14+21463885591027281281035385//1933799800570991364305392*y*z^3+360822602888951246252558565//3384149650999234887534436*y^2*z^12-2627865111641457187218553055//13536598603996939550137744*y^6*z^10+633553667584258443140325685//13536598603996939550137744*y^3*z^14+1118779778388367817182764495//13536598603996939550137744*y^8*z^8-2460921875930796654651499405//27073197207993879100275488*y^6*z^9+22470337582075272633059415//483449950142747841076348*y^10*z^12+555880651600737549787421605//6768299301998469775068872*y^2*z^11+13868692786596347037644945//13536598603996939550137744*z^3-19158805815285832628852075//13536598603996939550137744*y^12*z-7738203333515330771208185//1933799800570991364305392*y*z^17-82961835489175666480203575//3867599601141982728610784*y^14*z^6-287101121376285251443670905//13536598603996939550137744*z^16+9286703318208636134291275//13536598603996939550137744*y*z^21-812682004095881713501951535//6768299301998469775068872*z^14+112803071177275852597815095//6768299301998469775068872*y^12*z^10-90095590178709550708566625//3384149650999234887534436*y^12*z^5-1246820238746911600698984415//13536598603996939550137744*y^11*z^7-1669404667521687843751390585//13536598603996939550137744*y^11*z^8+7164843371312331943576750//846037412749808721883609*y^4*z^19+22810013823981628912790335//1692074825499617443767218*y^4*z^18+6176604744269288640570895//1933799800570991364305392*y^12*z^13-126585763430195765692810945//3384149650999234887534436*y^5*z^7-46287542660856282943430235//6768299301998469775068872*x*z^18-300996487719094449081092485//13536598603996939550137744*y^2*z^17+135330962144765466170869465//13536598603996939550137744*y^2*z^3-3809658653767888574126964965//27073197207993879100275488*y^4*z^6-90855976160334924638076025//13536598603996939550137744*x*z^20+2586557694627476489875005205//27073197207993879100275488*y^11*z^4+405135995806500371842720//846037412749808721883609*x*y-335359222883400890319955//3384149650999234887534436*z^24+170257787285924005614769685//3867599601141982728610784*y^8*z^15+237047462944068896749918985//27073197207993879100275488*z^13+1666176640686786605289981745//27073197207993879100275488*y^10*z^5+127176396980872383583472055//1933799800570991364305392*y^3*z^3-453972103481338712538570345//6768299301998469775068872*y^9*z^9-1087247546091006837346676575//6768299301998469775068872*y^7*z^11+31930578707441409806180295//1692074825499617443767218*y^4*z^2+21320593519590186363780115//3384149650999234887534436*x*z^4-343242944035//29433693459296*y^14*z^15-5439845362228141134199593575//27073197207993879100275488*y^3*z^6+248859592257940062177285//120862487535686960269087*z-405135995806500371842720//846037412749808721883609*x-62662933937722377102985915//13536598603996939550137744*y*z^18+186122458719076551603718625//13536598603996939550137744*y^9*z^13-3527721181240059797050592195//27073197207993879100275488*y^4*z^13-21575830118164646348477925//1692074825499617443767218*y^2*z^10+149574609155139857788814455//3867599601141982728610784*z^18+137655230796935053172180025//966899900285495682152696*y^5*z^8+702464549069611038316221325//27073197207993879100275488*y^11*z^11-343242944035//14716846729648*y^11*z^17+343242944035//14716846729648*y^7*z^20+190741137618534563174330045//6768299301998469775068872*y^2*z^4+110981027301234782695167685//966899900285495682152696*y*z^11+83807129640957490246167085//27073197207993879100275488*y^14*z^12-2690913768432410805129655//3384149650999234887534436*x*z^6+680540126008619687073335//846037412749808721883609*y^2*z^21+49895311250470976927795705//13536598603996939550137744*y^9*z^16+142990794538145122776873725//6768299301998469775068872*y^7*z^14+326977270174127479064529465//6768299301998469775068872*y*z^5+765154668276708916848855//846037412749808721883609*x*z^3+5445743102730549568170185//6768299301998469775068872*y^7*z^19-29610908690119315240298045//13536598603996939550137744*y^13*z+298271149546734396622623525//27073197207993879100275488*x*z^8+20499197152268888786389655//1933799800570991364305392*y^2*z^14-1579630873253916830944190865//13536598603996939550137744*y^6*z^11+4828405503973253030087585//6768299301998469775068872*y^14*z^13-343242944035//14716846729648*y^3*z^23+929324152630752279984686865//13536598603996939550137744*y^11*z^3-1718917622628613842750071415//27073197207993879100275488*z^7+405135995806500371842720//846037412749808721883609+1029728832105//14716846729648*y*z^23-1343955681994416029807815445//13536598603996939550137744*y*z^9+119990993579278183184555045//3867599601141982728610784*x*z^16-114385058469895288909860875//6768299301998469775068872*y^13*z^3-3295527521244382957160493505//27073197207993879100275488*y^6*z^4-405135995806500371842720//846037412749808721883609*y+12467221328136740380438885//13536598603996939550137744*y^13*z^14+600598838201918629388527015//27073197207993879100275488*y^8*z^16+32011688964552137721089465//1933799800570991364305392*y*z^10-2373806881684247737505160//846037412749808721883609*y^7+1011132314492482335675497705//13536598603996939550137744*y^9*z^3-2709800483732860166865380455//13536598603996939550137744*y^3*z^12-60957068948893106598239345//6768299301998469775068872*y^6*z-3588449456711835755691218605//27073197207993879100275488*y^4*z^5-343242944035//29433693459296*y^6*z^21+239871487278399658619695295//6768299301998469775068872*y*z^4+2276889403551459532625641295//13536598603996939550137744*y^7*z^6+2356707827296047761326575//846037412749808721883609*x*y*z^2+9941494428938619760814045//6768299301998469775068872*y^9*z^17+7511365542332897402769506445//27073197207993879100275488*y^4*z^9+17949948222362342393113115//3384149650999234887534436*x*z^5-12790666022916252359957925//13536598603996939550137744*y^13*z^7-3742731902865322132460495//120862487535686960269087*y^5*z^15-133516602929032721371468025//3867599601141982728610784*y^10*z^10\n",
      "(24,25)\n",
      "\t14052801699457805984962389575//290494980088438176750443648*x*z^13+275833986443656704017227//9077968127763693023451364*x*y*z^6-47898725459493293975065//9077968127763693023451364*x*z+8233442879287600677339537131//72623745022109544187610912*y^5*z^12-70827982897262199490558453//36311872511054772093805456*y^10+6341267345232047696022034571//36311872511054772093805456*y^5*z^5+60939115229093501573235007855//290494980088438176750443648*z^9+7825471408870657683671880287//145247490044219088375221824*y^2*z^16+27984422191150946422795644807//290494980088438176750443648*y^3*z^5+919802920603//48207466648928*y^11*z^18-5515045146007387263022369011//145247490044219088375221824*y*z^6-919802920603//96414933297856*y^10*z^19+1032397348552796653247869993//18155936255527386046902728*y^5*z^4+14420472404544363506783395969//72623745022109544187610912*y^9*z^7+8368345948746714566112920709//36311872511054772093805456*y^5*z^6-22455224816889848811363407991//145247490044219088375221824*y^9*z^4-70819255817153455185195475//36311872511054772093805456*y^2*z^2-2077624183450012558716981717//72623745022109544187610912*y^12*z^8+25698712376514688269246761//290494980088438176750443648*z^25+26089419702141440241531236295//145247490044219088375221824*y^2*z^8+2178107164830271949305251535//145247490044219088375221824*y^8*z-475127383347148766140134935//145247490044219088375221824*y^11*z^16+2941777683767632355853796827//72623745022109544187610912*y^9*z^6+94273574956339613818629765//145247490044219088375221824*y^3*z^22-4183242552149959776485418047//145247490044219088375221824*x*z^17-81475911774895264098026135//2269492031940923255862841*y^10*z^15-695507748849928078448293//9077968127763693023451364*x*y*z^5+143820730493471904455097781//18155936255527386046902728*x*z^21-180448793684599910543319491//18155936255527386046902728*y^13*z^13+10155029171165077586203414297//290494980088438176750443648*y^6*z^16-71972045216877633064987925//36311872511054772093805456*y*z^2+1614801608945392468916116053//145247490044219088375221824*y^14*z^2+34012718992493880455321183//290494980088438176750443648*x*z^24-2420470543899864448696716943//36311872511054772093805456*y^9*z^11-2178969341888542828596802705//145247490044219088375221824*y^9*z-919802920603//48207466648928*y^7*z^21-22380278472084120712611480861//72623745022109544187610912*z^12+61603493748276189595837623763//290494980088438176750443648*y^4*z^12+14155124083321946731676117//36311872511054772093805456*y^14-2505832305658200023437023875//145247490044219088375221824*y^9*z^14-7045383576522012624044413061//145247490044219088375221824*y^3*z^8-4620238473866416718333686117//290494980088438176750443648*z^10+56607405713124670468660001//18155936255527386046902728*y^6-5221369562932210484445436795//72623745022109544187610912*y^6*z^14+919802920603//48207466648928*y^3*z^24+52072880104055725814600611141//290494980088438176750443648*y^11*z^9-7237280514290675973060116271//145247490044219088375221824*y^3*z^2-131009462845584455959522773//290494980088438176750443648*y^10*z^18-680797739784729559595133657//72623745022109544187610912*y^5*z^3-7780905722907681814159533929//145247490044219088375221824*y^10*z^2+70793074576827222269106541//36311872511054772093805456*y^8-63239459436245411164282913//145247490044219088375221824*y^12*z^16-2877653330011057003066460737//290494980088438176750443648*x*z^14-1130961454718490575931195445//145247490044219088375221824*y^4*z^16-40289669640258459026421721381//290494980088438176750443648*y^3*z^16+6969117745680481717866151045//145247490044219088375221824*y^6*z^12-3008933504662601640564054713//72623745022109544187610912*y^2*z^6-9123654045372571295270293565//290494980088438176750443648*y^3*z^17+11891184045955642143882425637//72623745022109544187610912*y^7*z^3+1227325152162889085998786311//72623745022109544187610912*x*z^19-6687223108528167666271594959//290494980088438176750443648*x*z^9-27212568676808795044297813//4538984063881846511725682*y^5*z-4326391697506637629367436219//290494980088438176750443648*y^11*z^6-9292782375183027934832975475//72623745022109544187610912*y^5*z^11+1070800087444348242595467007//36311872511054772093805456*y^12*z^6-70714530855848523520839739//36311872511054772093805456*y^3-2482444966116013753072280405//290494980088438176750443648*x*z^7+1741556496590303389541084967//72623745022109544187610912*y^7*z-26306611298687081999414670641//72623745022109544187610912*y^5*z^10-258206203459020833483124791//18155936255527386046902728*y^12*z^12+3771885017672357605204297007//145247490044219088375221824*y^12*z^3-46037153303698118325710074289//290494980088438176750443648*y^10*z^4+35301964397664416328861031117//145247490044219088375221824*y^3*z^13-5089839181318984709928525641//290494980088438176750443648*y^14*z^11+22295477176219204099943157035//290494980088438176750443648*y^8*z^9+3800822413025167884027527889//145247490044219088375221824*y^14*z^3-38742085215694049306146210965//290494980088438176750443648*y^11*z^5+2674428850544996759999918959//18155936255527386046902728*y^4*z^14-2759408761809//48207466648928*y*z^24-78589916776989138914345016673//290494980088438176750443648*z^11-10010870825377822899105484969//145247490044219088375221824*y^2*z^5+12483776434816566151400748501//145247490044219088375221824*y^7*z^13+5442588111604358404428083247//145247490044219088375221824*y*z^16-4237164187749380022184167111//290494980088438176750443648*y^11*z^15+211809511972098490307798927//290494980088438176750443648*x*z^23-6624612806676555568524803499//290494980088438176750443648*y^8*z^17+22575435864279550637125872355//290494980088438176750443648*y^4*z^7-278743013146571472471553//4538984063881846511725682*x*y*z^4+722464266341012496654743663//145247490044219088375221824*y^2*z^19-2215993079285773266833104681//72623745022109544187610912*y^5*z^17-108838778536306610129990981//290494980088438176750443648*y^4*z^22+5422316783025918994166660285//72623745022109544187610912*y*z^7-69564650482827260409501615//36311872511054772093805456*z^2-1338154141329353205292454691//145247490044219088375221824*y^4*z^20-34316258662509697199439464169//145247490044219088375221824*y^4*z^8-4599014603015//48207466648928*y^2*z^23-5886016534318917153527288961//145247490044219088375221824*y^13*z^9+1732491594894096728803651505//72623745022109544187610912*y^2*z^15-9180812682446337009292859581//145247490044219088375221824*y^7*z^15+14155124083321946731676117//36311872511054772093805456*y^12-2178586152084866882245002185//145247490044219088375221824*y^11*z-70778529443312648426834911//36311872511054772093805456*y^11-68026617261906981379565521//72623745022109544187610912*y^12*z^7-98008870957316403330627591//72623745022109544187610912*y^9*z^18-25636258355912038883962635071//72623745022109544187610912*y^4*z^10-20477869850311285466013276667//145247490044219088375221824*y^2*z^13-7082652838391074210633129//9077968127763693023451364*y^5+10199898181348323629406245853//290494980088438176750443648*y^3*z^18-1462956651984246207275620581//36311872511054772093805456*y^4*z^11+435736389907157173766590463//145247490044219088375221824*y^14*z-20114397618817243243856237317//290494980088438176750443648*y^11*z^12+919802920603//96414933297856*y^8*z^20-2914796605937385950996691//4538984063881846511725682*y^6*z^19+1020998120300693029731516805//145247490044219088375221824*y*z^19+7221157869754088478755460441//145247490044219088375221824*y^8*z^2+27479576081139473209378165405//145247490044219088375221824*y^2*z^9+12552721599217490123769947275//290494980088438176750443648*y^4*z^15+6040977295878256382520642003//145247490044219088375221824*y^12*z^4+30987919870108723405776459917//145247490044219088375221824*y^7*z^12+3239265539088605394101669201//18155936255527386046902728*y^7*z^4+505497913942389670143327619//72623745022109544187610912*y^5*z^16-1555255493918863232723173569//36311872511054772093805456*z^4-21708896709452729216362811//36311872511054772093805456*y^14*z^14-6500917590279910654573188395//290494980088438176750443648*y^14*z^9+3411198249326349589847821683//18155936255527386046902728*y^5*z^14+16611893444041009279598110489//72623745022109544187610912*y^3*z^7-3113852655629979434264841783//36311872511054772093805456*y^6*z^13-168294775329666462739156419//290494980088438176750443648*y^8*z^19+868275674147709806664012719//72623745022109544187610912*y^3*z^11-2180693696005084587179905045//145247490044219088375221824*y^3*z+88496635210601463748872840871//290494980088438176750443648*y^8*z^11-64633518524526251064457497//72623745022109544187610912*y*z^22+6151730828002777580968084715//145247490044219088375221824*y^13*z^4-95393504030600212638385914205//290494980088438176750443648*y^8*z^7+18026227904677694509662691039//72623745022109544187610912*y^9*z^8-7289037542131551649090523295//36311872511054772093805456*y*z^12-70766893336500989353017607//36311872511054772093805456*y^9+278443236420530519313049739//145247490044219088375221824*z^20+22662439452223860194703625737//290494980088438176750443648*y^11*z^10-14955762941134725487975641955//145247490044219088375221824*y*z^13-77608596944148760883022068187//290494980088438176750443648*y^6*z^6+14865132013338933178549147283//290494980088438176750443648*y^14*z^5-3001319750166789398969208027//145247490044219088375221824*y^13*z^12-2759408761809//48207466648928*y^12*z^17-492633596348354723917033113//36311872511054772093805456*y^5*z^19+105245886486149033211945897//36311872511054772093805456*x*z^22+1614871425586262423359019877//145247490044219088375221824*y^12*z^2-578679600247283011304081555//145247490044219088375221824*y^12*z^14+2030833297353176326022889135//72623745022109544187610912*y^8*z^13+7293107010648014969040221293//290494980088438176750443648*y^6*z^17-75006592184144226846029638289//290494980088438176750443648*y^8*z^6+28542253358865416515054566381//145247490044219088375221824*y^7*z^10+16923962635367816766731465647//290494980088438176750443648*y^4*z^4-22162559875948892286178206957//72623745022109544187610912*y^3*z^10-108610781079937713707315927//18155936255527386046902728*y^4*z-16504037305149193385198787531//290494980088438176750443648*x*z^15+220712476394284588342027721//72623745022109544187610912*y*z^20-43249428623745420013547639729//145247490044219088375221824*y^6*z^8-9887785839495786585654707703//145247490044219088375221824*z^5+1895709863641840470539661577//145247490044219088375221824*y*z^14+28245023241632999288815912269//145247490044219088375221824*y*z^8-389096655679823730028826835//145247490044219088375221824*y^4*z^21-2041027306631792452516291245//145247490044219088375221824*y^10*z^16+6026312078458703503515972061//72623745022109544187610912*y^7*z^2-118332404867293782707483459//145247490044219088375221824*y^6*z^20+1281406586487631772492011513//290494980088438176750443648*y^3*z^21+50518929812457325828573937847//290494980088438176750443648*y^10*z^7-18937061442943297423512752513//290494980088438176750443648*y^10*z^14+1480373089221485067947703589//9077968127763693023451364*y^6*z^3-660472726278690570392007455//72623745022109544187610912*y^4*z^3-437246886367674922561468383//18155936255527386046902728*y^12*z^11-2907384366573422385522014387//72623745022109544187610912*y^12*z^9+919802920603//96414933297856*z^26-234076529565193874223570017//145247490044219088375221824*y^12*z^15-919802920603//96414933297856*y^4*z^23-47898725459493293975065//9077968127763693023451364*y*z+601664106469578470588203745//18155936255527386046902728*y^7*z^5-10117832126633//24103733324464*y^5*z^21+796852248104157513253822403//290494980088438176750443648*z^23-400113943531074986646827681//72623745022109544187610912*y^8*z^18-171609289956845275678703833//72623745022109544187610912*y^2*z^20+867350162438085142317566513//36311872511054772093805456*y^2*z^18+15616681938003491843617052493//72623745022109544187610912*y^10*z^9-9912474138204980500750860667//145247490044219088375221824*y^8*z^14-49851483091052625829060116637//145247490044219088375221824*y^7*z^8+2744285398839134320851003323//145247490044219088375221824*y^14*z^7-10000657603072445863349239633//290494980088438176750443648*z^19-1361741877411967736457794175//72623745022109544187610912*y^7*z^18+81290564275289223173740028013//290494980088438176750443648*y^8*z^10-2611119572374512045224491155//72623745022109544187610912*z^17+6317774515106467259872627469//72623745022109544187610912*y^8*z^3-2374700264127020278111595317//36311872511054772093805456*y^11*z^13-303979306383898211805955447//9077968127763693023451364*y^13*z^11+12548227920669876704351728513//290494980088438176750443648*x*z^11-95845849458815940271280120887//290494980088438176750443648*y^3*z^9+6037445391925015366402395711//72623745022109544187610912*y^6*z^2-2068190327545101309222461481//72623745022109544187610912*y^5*z^18-10852807961709240691828540065//145247490044219088375221824*y^8*z^5-25089279486004579835439768059//290494980088438176750443648*y^10*z^13-1437549409992079046553032359//145247490044219088375221824*y^9*z^15+8000554426972010379580709661//36311872511054772093805456*y^5*z^13-14821816858125811667288852249//290494980088438176750443648*y^3*z^4-120179555266594249160159383//145247490044219088375221824*y^13*z^15+3503137005805094719771897733//290494980088438176750443648*y^6*z^5+2730693570780998607720320021//72623745022109544187610912*y^3*z^19+74036400183871047041173963335//290494980088438176750443648*y^10*z^8+14597422751844465058048864425//72623745022109544187610912*z^15-6914332547203697842645197261//290494980088438176750443648*y^4*z^17-31552492100628360093878667917//72623745022109544187610912*y^6*z^7-28781764866507757186204876481//72623745022109544187610912*y^5*z^9-106322877573295595516702013//145247490044219088375221824*y^2*z^22+7961934535203830548405042935//145247490044219088375221824*y*z^15+14163851163430691037039095//36311872511054772093805456*y^13-9452644212115190162117601805//290494980088438176750443648*z^6+47898725459493293975065//9077968127763693023451364*x*y*z-2176957595419244110249849975//145247490044219088375221824*y^10*z-7792962012664187588217858275//145247490044219088375221824*y^9*z^2-287470093255315777834531//9077968127763693023451364*x*z^2-514062189495160328935345671//145247490044219088375221824*y^10*z^17+371703237154710686211679//9077968127763693023451364*x*y*z^7+919802920603//96414933297856*x*z^25+5162186177851151675455655755//145247490044219088375221824*y^13*z^6-8392222120896492578622929951//72623745022109544187610912*y^10*z^3+1974970948444731064038464225//290494980088438176750443648*y^6*z^18+33248383199220386501801355551//145247490044219088375221824*z^8+2528202881523830708453466455//145247490044219088375221824*y^3*z^20-7097197971905648052904759//9077968127763693023451364*y^4+1613164059186948017302738647//145247490044219088375221824*y^13*z^2-9732541554012380434349245255//145247490044219088375221824*y^7*z^9-60158422685450212902958133381//145247490044219088375221824*y^7*z^7+1398206279855541879598994265//72623745022109544187610912*y^9*z^10-390941361048595838949041623//9077968127763693023451364*y^7*z^17-2602546940953307530703964737//36311872511054772093805456*y^9*z^12+12523448820280046820412736747//290494980088438176750443648*y^14*z^4+53123223905476975172234750305//290494980088438176750443648*y^8*z^12+4232944979272372500120583187//290494980088438176750443648*y^10*z^6-6193988123589257640041250949//145247490044219088375221824*y^13*z^10-1633889923314370583189040433//72623745022109544187610912*y^13*z^8-3652289957953269047087552103//290494980088438176750443648*y^10*z^11-7790313168713795289780662907//145247490044219088375221824*y^11*z^2-1933279330207930578995814161//18155936255527386046902728*y^9*z^5+20398181423542027063912440795//290494980088438176750443648*x*z^12+8969639568981889310380956305//145247490044219088375221824*y^8*z^4-7106525969810075570189757091//290494980088438176750443648*y^14*z^10+2327076674495000461099268615//36311872511054772093805456*y^2*z^7-9534019241494436373838208937//145247490044219088375221824*y^7*z^16-1200803784462689345604547//145247490044219088375221824*y^6*z^15-483421935211607632842604331//72623745022109544187610912*y^14*z^8-5832437628172063476146049947//36311872511054772093805456*y^3*z^15+2318949218567766508376877595//290494980088438176750443648*z^22+3627372592711704396216111343//290494980088438176750443648*z^21-27278659933782677627202611//290494980088438176750443648*x*z^10-260515151832383725132182579//72623745022109544187610912*y^5*z^20-296998263371126008216682213//18155936255527386046902728*y^5*z^2+878407036787873171351207225//18155936255527386046902728*y^13*z^5+275905786235724098261549//9077968127763693023451364*x*y*z^3-5557557192696460535700700535//145247490044219088375221824*y^11*z^14-2011609105046497035627283183//145247490044219088375221824*y*z^3-6516236602588405638526007833//36311872511054772093805456*y^2*z^12+657277644975566576971368898//2269492031940923255862841*y^6*z^10+631669840287999117494262681//145247490044219088375221824*y^3*z^14-6847909497436230125304282881//36311872511054772093805456*y^8*z^8+13557161101541078361584349609//290494980088438176750443648*y^6*z^9-10997758041040431543840088551//145247490044219088375221824*y^10*z^12-7469957692633389743107601437//72623745022109544187610912*y^2*z^11-2006522439386754572491962593//145247490044219088375221824*z^3+435736389907157173766590463//145247490044219088375221824*y^12*z+2264393530286842860836000357//145247490044219088375221824*y*z^17+12263515659508752563962660875//290494980088438176750443648*y^14*z^6+919802920603//96414933297856*y^6*z^22+12849643702254207507674292445//145247490044219088375221824*z^16-36719780116841273445171395//145247490044219088375221824*y*z^21+20710813697214691680641316053//145247490044219088375221824*z^14-2568878231399835788456392985//72623745022109544187610912*y^12*z^10+3311645997095105834291243123//72623745022109544187610912*y^12*z^5+9466949345603880473082633131//72623745022109544187610912*y^11*z^7+30379917675661064445959201401//145247490044219088375221824*y^11*z^8-686149120859299605901942731//36311872511054772093805456*y^4*z^19-3711505963775857436222665933//145247490044219088375221824*y^4*z^18-1144629756456687488340700221//145247490044219088375221824*y^12*z^13+3545541714057567562830637481//36311872511054772093805456*y^5*z^7+231567836413792635035426931//72623745022109544187610912*x*z^18+6798329004401686897963729051//145247490044219088375221824*y^2*z^17-2007278773810832777569231225//145247490044219088375221824*y^2*z^3+67285702134842979200036654107//290494980088438176750443648*y^4*z^6+2155985142313108644951003381//145247490044219088375221824*x*z^20-47126014085801331087717240637//290494980088438176750443648*y^11*z^4-1454513351457384227163//2269492031940923255862841*x*y+85370368422565462486523903//145247490044219088375221824*z^24-24645826480814677816209735315//290494980088438176750443648*y^8*z^15-28295495447600017255921261141//290494980088438176750443648*z^13-34848394825759565668398338943//290494980088438176750443648*y^10*z^5-12376021573857422304784914541//145247490044219088375221824*y^3*z^3+11580071757045964991742786359//72623745022109544187610912*y^9*z^9-4599014603015//48207466648928*y^13*z^16+648404138049794091236167064//2269492031940923255862841*y^7*z^11-295579821578418375322462677//18155936255527386046902728*y^4*z^2+2277842830632065073747489//36311872511054772093805456*x*z^4-7557314087402080475050927//290494980088438176750443648*y^14*z^15+74790484546232121604856502129//290494980088438176750443648*y^3*z^6+47898725459493293975065//9077968127763693023451364*z+1454513351457384227163//2269492031940923255862841*x+1294248720709635012585914973//145247490044219088375221824*y*z^18-5871699141854413616719838973//145247490044219088375221824*y^9*z^13+72643362076127476160518180833//290494980088438176750443648*y^4*z^13+4460434805713610419915094743//72623745022109544187610912*y^2*z^10-20074285053930589361798954749//290494980088438176750443648*z^18-13370044027983804791770364287//72623745022109544187610912*y^5*z^8-6141189166747072758716886875//290494980088438176750443648*y^11*z^11-40813340551318849219348615//145247490044219088375221824*y^11*z^17-97753436381667687215225085//145247490044219088375221824*y^7*z^20+919802920603//96414933297856*y^14*z^16-193528726772947243844497163//4538984063881846511725682*y^2*z^4-5644398397699331405698734549//36311872511054772093805456*y*z^11-2572389438469670129471352331//290494980088438176750443648*y^14*z^12-114911852632519410515522447//72623745022109544187610912*x*z^6-80966931797587155863590621//36311872511054772093805456*y^2*z^21-1084227572835441958831611739//145247490044219088375221824*y^9*z^16-269937942456128708924032311//18155936255527386046902728*y^7*z^14-4963072181932574711421265629//72623745022109544187610912*y*z^5-69340074896795370622178//2269492031940923255862841*x*z^3-4599014603015//24103733324464*y^9*z^19-365412586313391660777248053//72623745022109544187610912*y^7*z^19+435448997554400214002740073//145247490044219088375221824*y^13*z-5843226248682286048366554003//290494980088438176750443648*x*z^8-7296610215022921728432630567//145247490044219088375221824*y^2*z^14+36323079170831713276689417843//145247490044219088375221824*y^6*z^11-441100314056266464417662383//145247490044219088375221824*y^14*z^13+14613370221875765354480865//145247490044219088375221824*y^3*z^23-16867523735277712857790796653//145247490044219088375221824*y^11*z^3+27338902126046290342229974517//290494980088438176750443648*z^7-1454513351457384227163//2269492031940923255862841-54925452820266218978208491//145247490044219088375221824*y*z^23+27471561861544952527061494851//145247490044219088375221824*y*z^9-17313807092917770629865088285//290494980088438176750443648*x*z^16+946078797760702763515015987//36311872511054772093805456*y^13*z^3+49971551690611020551167827853//290494980088438176750443648*y^6*z^4+1454513351457384227163//2269492031940923255862841*y-513330670923436140831808717//145247490044219088375221824*y^13*z^14-16144322826742910415084344393//290494980088438176750443648*y^8*z^16+3961074026059201414646788603//145247490044219088375221824*y*z^10+56662677220480051069292195//18155936255527386046902728*y^7-16724968370109271472480922159//145247490044219088375221824*y^9*z^3+40694276219228950822773164651//145247490044219088375221824*y^3*z^12+1743376648157764134712137437//72623745022109544187610912*y^6*z+51867998242829173886203390591//290494980088438176750443648*y^4*z^5-35270669473999387761965667//290494980088438176750443648*y^6*z^21-1545874366556240238582887809//36311872511054772093805456*y*z^4-33583980052962535454809264091//145247490044219088375221824*y^7*z^6+287470093255315777834531//9077968127763693023451364*x*y*z^2-151791984301664519292398709//36311872511054772093805456*y^9*z^17-130371711003209553567880257501//290494980088438176750443648*y^4*z^9+3069501088655028091627703//36311872511054772093805456*x*z^5+1059896258997562475067659171//145247490044219088375221824*y^13*z^7+1661941017672235969289441079//18155936255527386046902728*y^5*z^15+29054962249295335804822438991//290494980088438176750443648*y^10*z^10\n",
      "(25,26)\n",
      "\t-5328279621776331897716904639//1306450938733121236286792*x*z^13+238510456457520335875352//163306367341640154535849*x*y*z^6-235866537931154805696008//163306367341640154535849*x*z-13232624184343653156488795//5398557598070748910276*y^5*z^12+125396981654286593898404353//1306450938733121236286792*y^10-6497744908092193828336214227//653225469366560618143396*y^5*z^5-41447230280057921164094653051//2612901877466242472573584*z^9-4206586851704461797145964139//1306450938733121236286792*y^2*z^16-9099421494612995407842328187//2612901877466242472573584*y^3*z^5+7757222684916689640223375//1306450938733121236286792*y^11*z^18+4600244076147670774915406079//1306450938733121236286792*y*z^6+29987616536817135306889939//2612901877466242472573584*y^10*z^19-1506483332779//6465789204688*x*z^26-1672934827113957236025458323//653225469366560618143396*y^5*z^4-3502499195721584018017071677//326612734683280309071698*y^9*z^7-2539260561319535818948217302//163306367341640154535849*y^5*z^6+13572331823762099807201708027//1306450938733121236286792*y^9*z^4+125189836807162081678722715//1306450938733121236286792*y^2*z^2+930611424139477250923473689//653225469366560618143396*y^12*z^8-6092164529461336811914505//326612734683280309071698*z^25-1692977773098162674028144835//163306367341640154535849*y^2*z^8-255281444912280429401250917//326612734683280309071698*y^8*z+1345897345346653330472609887//2612901877466242472573584*y^11*z^16-1506483332779//6465789204688*y^8*z^21+783672288507019065734734021//1306450938733121236286792*y^9*z^6-363925773292712084599889365//2612901877466242472573584*y^3*z^22+3735449133646567076909529103//1306450938733121236286792*x*z^17+1092012227872437248449327611//326612734683280309071698*y^10*z^15+235866537931154805696008//163306367341640154535849*x*y*z^5+1506483332779//3232894602344*y^7*z^22-978271380861603487984118539//1306450938733121236286792*x*z^21+646225279901301363570241499//653225469366560618143396*y^13*z^13-279740634356848382160959240//163306367341640154535849*y^6*z^16+124455573955874154903249181//1306450938733121236286792*y*z^2-806311681616859592070174153//1306450938733121236286792*y^14*z^2-3836507763407877477326343//163306367341640154535849*x*z^24+914298523995915000123218417//326612734683280309071698*y^9*z^11+254750745201935331088434899//326612734683280309071698*y^9*z+22682163784223491768738975//1306450938733121236286792*y^7*z^21+56661152782935315745838785545//2612901877466242472573584*z^12-12306943842318514306000806333//1306450938733121236286792*y^4*z^12-24830822514307904116062905//1306450938733121236286792*y^14+7532416663895//3232894602344*y^2*z^24+2388105443515148305531696785//1306450938733121236286792*y^9*z^14-2064731582974321429956309139//653225469366560618143396*y^3*z^8-11259953992050187945568237191//2612901877466242472573584*z^10-99012572786544848134729163//653225469366560618143396*y^6+3660830712923639536189422553//653225469366560618143396*y^6*z^14-4418531902739382923361565//1306450938733121236286792*y^3*z^24-1506483332779//6465789204688*z^27-1506483332779//6465789204688*y^14*z^17-1647358867701241175420735935//118768267157556476026072*y^11*z^9+25727217367501167368599403//237536534315112952052144*y^10*z^18+560036929461934468959882135//653225469366560618143396*y^5*z^3+3659990978927120069817471481//1306450938733121236286792*y^3*z^2+977820798508686195344237325//326612734683280309071698*y^10*z^2-124568402265788545019677801//1306450938733121236286792*y^8+79068997219047700383876017//1306450938733121236286792*y^12*z^16-899555274622253519408837055//1306450938733121236286792*x*z^14-79659718711267692274003505//118768267157556476026072*y^4*z^16+6987905418660542742546199319//653225469366560618143396*y^3*z^16-10999580121609811515764832399//1306450938733121236286792*y^6*z^12+4842815347974325320807756067//1306450938733121236286792*y^2*z^6+12816952658704684394507339167//2612901877466242472573584*y^3*z^17-6563423023524938149242464113//653225469366560618143396*y^7*z^3-1182982338984489841278657779//1306450938733121236286792*x*z^19+1058220501579520488494851279//653225469366560618143396*x*z^9+51191912241766499893525388//163306367341640154535849*y^5*z+10380678954723288960484255573//2612901877466242472573584*y^11*z^6+4922747861976203256044225669//326612734683280309071698*y^5*z^11-303452371420025299865668395//118768267157556476026072*y^12*z^6+122704098641667935042543059//1306450938733121236286792*y^3+73976629019500024353482150//163306367341640154535849*x*z^7-204797132284307393924813553//163306367341640154535849*y^7*z+8946738996150152093462938473//326612734683280309071698*y^5*z^10-1506483332779//3232894602344*y^3*z^25+1675240747612672497125858549//1306450938733121236286792*y^12*z^12-252112022120078069766684095//163306367341640154535849*y^12*z^3+13825734906060274516293882559//1306450938733121236286792*y^10*z^4-24455974487264652677302656275//1306450938733121236286792*y^3*z^13+949171589943325910259296757//653225469366560618143396*y^14*z^11+2134353631934622000221428407//2612901877466242472573584*y^8*z^9-4056414212521756699373701243//2612901877466242472573584*y^14*z^3+27397501867746797278925224969//2612901877466242472573584*y^11*z^5-34731920788882549083975846479//2612901877466242472573584*y^4*z^14+15690746625749363282801683//1306450938733121236286792*y*z^24+35704557057549188858460327251//2612901877466242472573584*z^11+2884856826720014631210831903//653225469366560618143396*y^2*z^5-3069141522893436192477816015//326612734683280309071698*y^7*z^13-517039871111646060083362826//163306367341640154535849*y*z^16+4297204540818701281047720271//2612901877466242472573584*y^11*z^15-138799038716340958614251235//1306450938733121236286792*x*z^23+6448199022064128147328560267//2612901877466242472573584*y^8*z^17-24649166397483556447107610169//2612901877466242472573584*y^4*z^7-407972630540203265190158//163306367341640154535849*x*y*z^4-269146739342543212752649529//326612734683280309071698*y^2*z^19+866170379882362207596285381//653225469366560618143396*y^5*z^17+218429324810223203515097057//2612901877466242472573584*y^4*z^22-1794328241333002559913505653//653225469366560618143396*y*z^7+123507409775330699224577139//1306450938733121236286792*z^2+297373377131433025381045011//326612734683280309071698*y^4*z^20+25363749319829152297999280739//2612901877466242472573584*y^4*z^8+29398112266290558154958789//1306450938733121236286792*y^2*z^23+3308641033863072301515723099//1306450938733121236286792*y^13*z^9+67497372402816881064569353//1306450938733121236286792*y^2*z^15+4518277673110964864019267383//1306450938733121236286792*y^7*z^15-24830822514307904116062905//1306450938733121236286792*y^12+254986611739866485894130907//326612734683280309071698*y^11*z+124223160853914357986875071//1306450938733121236286792*y^11-219274652498101307570354467//326612734683280309071698*y^12*z^7+219096108540072701120837563//1306450938733121236286792*y^9*z^18+73712561016116170058732488855//2612901877466242472573584*y^4*z^10+3681138549865074359156957761//326612734683280309071698*y^2*z^13-1506483332779//6465789204688*y^6*z^23+6268122875654958759756204//163306367341640154535849*y^5+3444594922145572893025349889//326612734683280309071698*y^4*z^11-2502547743528684113252534807//2612901877466242472573584*y^3*z^18-50985529021076739438541381//326612734683280309071698*y^14*z+10208536528994638723844466905//2612901877466242472573584*y^11*z^12+35761458236525656536468737//2612901877466242472573584*y^8*z^20-87652679659043789137342831//653225469366560618143396*y^6*z^19-733428958323832568555335203//1306450938733121236286792*y*z^19-1829573083730463886246984191//653225469366560618143396*y^8*z^2-8912463776748667433912350729//653225469366560618143396*y^2*z^9-7443072855628581637984875675//1306450938733121236286792*y^4*z^15-28846970460322619353821543//10797115196141497820552*y^12*z^4-22730343563583369384212518661//1306450938733121236286792*y^7*z^12-2078317689087681003455983916//163306367341640154535849*y^7*z^4-837825313550416013241969761//326612734683280309071698*y^5*z^16+1584967445980025205473471207//653225469366560618143396*z^4+16850485739316987780694096//163306367341640154535849*y^14*z^14+13588301984818326928884323//10797115196141497820552*y^14*z^9-9511826236824192631091341783//653225469366560618143396*y^5*z^14-22848863304936098465273143197//1306450938733121236286792*y^3*z^7+1986206768897768352035737125//653225469366560618143396*y^6*z^13+53116575486177886218548775//326612734683280309071698*y^8*z^19+17802113351380993755724491633//2612901877466242472573584*y^3*z^11+253689345781245134462802863//326612734683280309071698*y^3*z-2581286012874241612510923007//118768267157556476026072*y^8*z^11+16216477669846797924866003//326612734683280309071698*y*z^22-1770794294787339591648149297//653225469366560618143396*y^13*z^4+14621123515722687021424203511//653225469366560618143396*y^8*z^7-5550894519412514175605350879//326612734683280309071698*y^9*z^8+2223896847368044429269361897//163306367341640154535849*y*z^12+123946967724415008360632887//1306450938733121236286792*y^9+1938860206151950971020286181//2612901877466242472573584*z^20-21371829368037865763962970823//2612901877466242472573584*y^11*z^10+3240466202585168945109936901//326612734683280309071698*y*z^13+33511171215115655562952104801//2612901877466242472573584*y^6*z^6-9294028989769758800753528021//2612901877466242472573584*y^14*z^5+596530292874029645830940077//326612734683280309071698*y^13*z^12+2189638726737221770917428//163306367341640154535849*y^12*z^17+886056297329824364291360753//653225469366560618143396*y^5*z^19-79478799911888811616622877//237536534315112952052144*x*z^22-806725971311108616509537429//1306450938733121236286792*y^12*z^2+505380372433746114597535611//1306450938733121236286792*y^12*z^14-7595150169400173953527029827//1306450938733121236286792*y^8*z^13-5430226338584625705019235723//2612901877466242472573584*y^6*z^17+18916149021888478673421616323//1306450938733121236286792*y^8*z^6-10462936543835157774758790071//1306450938733121236286792*y^7*z^10-3457289606767009965298968421//1306450938733121236286792*y^4*z^4+60039383857875207824487923607//2612901877466242472573584*y^3*z^10+51781578586594386907765408//163306367341640154535849*y^4*z+3954807405745203445932816233//1306450938733121236286792*x*z^15-417441255874246258267781731//1306450938733121236286792*y*z^20+16430568862750674938912723373//653225469366560618143396*y^6*z^8-1506483332779//3232894602344*y^11*z^19+11459732169819270467286861427//2612901877466242472573584*z^5+220876294662268045372055403//118768267157556476026072*y*z^14-14836794950597850290614017579//1306450938733121236286792*y*z^8+928183261668771100339355087//2612901877466242472573584*y^4*z^21+4079143512733360908097542319//2612901877466242472573584*y^10*z^16-3041041207369485256094286099//653225469366560618143396*y^7*z^2+36126852940396434493922845//653225469366560618143396*y^6*z^20-1670940994548256942315307309//2612901877466242472573584*y^3*z^21-11603148289569904292767741673//1306450938733121236286792*y^10*z^7+864438342656482294663574507//163306367341640154535849*y^10*z^14-26199158783642431099117207015//2612901877466242472573584*y^6*z^3+2201889619461399238150275743//2612901877466242472573584*y^4*z^3+666182840905781904634642693//326612734683280309071698*y^12*z^11+433900232776147099748197613//163306367341640154535849*y^12*z^9-6853682820270597436078553//2612901877466242472573584*z^26+28711761722471919004437426//163306367341640154535849*y^12*z^15+25117314701754706281455963//2612901877466242472573584*y^4*z^23-235866537931154805696008//163306367341640154535849*y*z-7782299578650513086778162029//1306450938733121236286792*y^7*z^5+6410928107992194797402737//59384133578778238013036*y^5*z^21-858198262291921141637616407//2612901877466242472573584*z^23+2154618813187857271094759001//2612901877466242472573584*y^8*z^18-6960254695370929835681661//1306450938733121236286792*y^2*z^20-3014821957750800198352953081//1306450938733121236286792*y^2*z^18-43728248776213094011270184663//2612901877466242472573584*y^10*z^9+435224544114936012522733303//163306367341640154535849*y^8*z^14+17567216011373043657889998307//653225469366560618143396*y^7*z^8-115942864023059515475381091//59384133578778238013036*y^14*z^7+2197502637573862270804845101//653225469366560618143396*z^19+233404420664079352309569889//118768267157556476026072*y^7*z^18-40727874449424215673381849083//2612901877466242472573584*y^8*z^10-1002554119581658315640703503//2612901877466242472573584*z^17-7152662864847929431399526583//1306450938733121236286792*y^8*z^3+580418517574074459801735127//118768267157556476026072*y^11*z^13+317976608817137024183506947//118768267157556476026072*y^13*z^11-2766177095712001370764294367//1306450938733121236286792*x*z^11+45405170577383719847824014333//2612901877466242472573584*y^3*z^9-3040376212509783264480044987//653225469366560618143396*y^6*z^2+126859024792268599973732751//59384133578778238013036*y^5*z^18+5641458976369076666018187507//2612901877466242472573584*y^8*z^5+15865922608391105483898389195//2612901877466242472573584*y^10*z^13+147792549539749130330563990//163306367341640154535849*y^9*z^15-4426971344925029411248777989//326612734683280309071698*y^5*z^13+6009153322378602283323562165//1306450938733121236286792*y^3*z^4+41322674606568833872829019//326612734683280309071698*y^13*z^15-12484326777491137261508927777//2612901877466242472573584*y^6*z^5-3519612366517930740923631857//1306450938733121236286792*y^3*z^19+7532416663895//3232894602344*y^13*z^17-43693988834622547985617929615//2612901877466242472573584*y^10*z^8+4519449998337//3232894602344*y^12*z^18-34798123456321427714935683119//2612901877466242472573584*z^15+221243560126037252371769506//163306367341640154535849*y^4*z^17+4541580163881121428455498060//163306367341640154535849*y^6*z^7+15619635945016796660968136573//653225469366560618143396*y^5*z^9+10693541298045515317361807//118768267157556476026072*y^2*z^22-1961405663395338908012242365//653225469366560618143396*y*z^15-25037967361432416335744543//1306450938733121236286792*y^13+4274236656335637786149350463//1306450938733121236286792*z^6+235866537931154805696008//163306367341640154535849*x*y*z+255989044526073893818338941//326612734683280309071698*y^10*z+3909070929885317769289269021//1306450938733121236286792*y^9*z^2-100413891707845522754260//163306367341640154535849*x*z^2+4519449998337//3232894602344*y*z^25+1346163160941330529103121157//2612901877466242472573584*y^10*z^17-4340023004209504160308147//1306450938733121236286792*x*z^25+18216542267149665999190048259//2612901877466242472573584*y^10*z^3-3814249762688116942341026465//1306450938733121236286792*y^13*z^6-2463467798818654665201497551//2612901877466242472573584*y^6*z^18-3214256206049362434556772203//237536534315112952052144*z^8-288395608350870006591911753//163306367341640154535849*y^3*z^20+6440743581592052276157569//163306367341640154535849*y^4-18343881486586236572446387//29692066789389119006518*y^13*z^2+1897949909315250416424987807//163306367341640154535849*y^7*z^9+33876802230139627099642329911//1306450938733121236286792*y^7*z^7-3146020096494879628119910127//653225469366560618143396*y^9*z^10+2420320948701241641221836797//653225469366560618143396*y^7*z^17+6702759640208694867694116905//1306450938733121236286792*y^9*z^12-3592084820423135495299869389//1306450938733121236286792*y^14*z^4-42760183628139043630742176467//2612901877466242472573584*y^8*z^12+719127521656047286038469953//326612734683280309071698*y^10*z^6+2008385638460431688644120677//653225469366560618143396*y^13*z^10+1208169730311965544222182637//1306450938733121236286792*y^13*z^8-1185583057922627425933374411//653225469366560618143396*y^10*z^11+3907401136980904029183469681//1306450938733121236286792*y^11*z^2+2934405235044040289601528493//326612734683280309071698*y^9*z^5-133454645552674022032198881//29692066789389119006518*x*z^12-6724232671306840128210559435//1306450938733121236286792*y^8*z^4+4553367660530939408117790033//2612901877466242472573584*y^14*z^10-1395236234464706710191550351//653225469366560618143396*y^2*z^7+776152136561565108296035184//163306367341640154535849*y^7*z^16+4556710533136656854536081631//2612901877466242472573584*y^6*z^15-173741716883775416147500671//1306450938733121236286792*y^14*z^8+20308213686264746098258735891//2612901877466242472573584*y^3*z^15-1813851029409805726787500239//2612901877466242472573584*z^22-1718810744396086066988132709//2612901877466242472573584*z^21+33570596045758371124317179//59384133578778238013036*x*z^10+82575414785874390042848690//163306367341640154535849*y^5*z^20+619586119921436012298975587//653225469366560618143396*y^5*z^2-555683713726637032131232480//163306367341640154535849*y^13*z^5-471733075862309611392016//163306367341640154535849*x*y*z^3+4525307621838818630431321367//1306450938733121236286792*y^11*z^14+952213455833409330952426793//1306450938733121236286792*y*z^3+14760788553120488409638899611//1306450938733121236286792*y^2*z^12-3643314667699765370823411481//237536534315112952052144*y^6*z^10-725481029678011055708547737//118768267157556476026072*y^3*z^14+4092623688620092263476684741//237536534315112952052144*y^8*z^8+12895921642450122344745230617//2612901877466242472573584*y^6*z^9+10492230142949933836025656665//2612901877466242472573584*y^10*z^12+422023901716753187400852511//118768267157556476026072*y^2*z^11+937112485516531885270931523//1306450938733121236286792*z^3-50985529021076739438541381//326612734683280309071698*y^12*z-546799050990782107714381461//326612734683280309071698*y*z^17-8658505295783989886195273259//2612901877466242472573584*y^14*z^6+6539647226151082383864881//2612901877466242472573584*y^6*z^22-12038739383752443800997697887//1306450938733121236286792*z^16-40112619684794517287775783//653225469366560618143396*y*z^21-12101718093034125154902229913//2612901877466242472573584*z^14+160697490802288032442193009//59384133578778238013036*y^12*z^10-1060851697890941074872320691//326612734683280309071698*y^12*z^5-7878877087777284508642362135//1306450938733121236286792*y^11*z^7-8768721019259514226762275325//653225469366560618143396*y^11*z^8+4042156842827679425413853613//2612901877466242472573584*y^4*z^19+4784317784045373159277072457//2612901877466242472573584*y^4*z^18+119533385801662210067248815//163306367341640154535849*y^12*z^13-6788470459555557305694357145//653225469366560618143396*y^5*z^7+1419396480878503928845364261//2612901877466242472573584*x*z^18-2353521787880194248492766805//653225469366560618143396*y^2*z^17+86194061491473169259003101//118768267157556476026072*y^2*z^3-1865134542676434334031462427//118768267157556476026072*y^4*z^6-1486454882803843941521478931//1306450938733121236286792*x*z^20+14081482908439731341133374705//1306450938733121236286792*y^11*z^4+6277116579530673323686//14846033394694559503259*x*y-249705816399502174564179395//2612901877466242472573584*z^24+3798818145092744079327895755//653225469366560618143396*y^8*z^15+8005400502050830059467121589//653225469366560618143396*z^13+210243010177971952131804455//21594230392282995641104*y^10*z^5+14112727478840766430833262069//2612901877466242472573584*y^3*z^3-2261226678333237211932978150//163306367341640154535849*y^9*z^9+4055256364150572036981878//163306367341640154535849*y^13*z^16-24535707559433987716778692833//1306450938733121236286792*y^7*z^11+1506483332779//6465789204688*y^4*z^24+14114524378953429787935494//14846033394694559503259*y^4*z^2+466939265022991966614160//163306367341640154535849*x*z^4+1506483332779//6465789204688*y^10*z^20+41421118089532921903956807//2612901877466242472573584*y^14*z^15-39187356488016912545016459071//2612901877466242472573584*y^3*z^6+235866537931154805696008//163306367341640154535849*z-6277116579530673323686//14846033394694559503259*x-533348511995982856859153551//653225469366560618143396*y*z^18+607716697814698919914644048//163306367341640154535849*y^9*z^13-11371348254618529317613015483//653225469366560618143396*y^4*z^13-4969930991037548326323073515//653225469366560618143396*y^2*z^10+2782475992503616018343083701//653225469366560618143396*z^18+1087004315504171041818112236//163306367341640154535849*y^5*z^8-12756589033200830842114106//14846033394694559503259*y^11*z^11+244286685218646164132902651//2612901877466242472573584*y^11*z^17+203190348116796886334367785//1306450938733121236286792*y^7*z^20+451769932323046102072411//2612901877466242472573584*y^14*z^16+1585662553170173308033499533//653225469366560618143396*y^2*z^4+4548450866784044183061340791//653225469366560618143396*y*z^11+2246340512020758179818372987//2612901877466242472573584*y^14*z^12+193323246060755274845012547//2612901877466242472573584*x*z^6+108734811348692787338249581//653225469366560618143396*y^2*z^21+792479369965046219839793979//1306450938733121236286792*y^9*z^16-1778174715441896168812610933//1306450938733121236286792*y^7*z^14+2869007895080953043913468535//653225469366560618143396*y*z^5+977990292912037926064305//326612734683280309071698*x*z^3+6892937269535536817605262//163306367341640154535849*y^9*z^19+83435736002116268552513023//118768267157556476026072*y^7*z^19-51162428924525105542813387//326612734683280309071698*y^13*z+283332903222956441235548315//237536534315112952052144*x*z^8+1922815373460823463845412755//326612734683280309071698*y^2*z^14-50406325012761335541617383429//2612901877466242472573584*y^6*z^11+43239546212191134432555047//118768267157556476026072*y^14*z^13-54212136767489878437409349//2612901877466242472573584*y^3*z^23+18278676621536500425652076689//2612901877466242472573584*y^11*z^3-1247454706861637874105971317//326612734683280309071698*z^7+6277116579530673323686//14846033394694559503259+6552508933050983974230986//163306367341640154535849*y*z^23+7532416663895//1616447301172*y^9*z^20-18289037081139953639734701965//1306450938733121236286792*y*z^9+11241041312602001300394232069//2612901877466242472573584*x*z^16-2022482665968650926003679931//1306450938733121236286792*y^13*z^3-16227660949585033471448555843//1306450938733121236286792*y^6*z^4-6277116579530673323686//14846033394694559503259*y+541926637042769773506194123//1306450938733121236286792*y^13*z^14+12500753142530866644884069291//2612901877466242472573584*y^8*z^16-7744192109930498360441030691//1306450938733121236286792*y*z^10-100324490151666758859379537//653225469366560618143396*y^7+1135527722841874256295259194//163306367341640154535849*y^9*z^3-18339098272670461405720196551//1306450938733121236286792*y^3*z^12-203676766229134408597757515//163306367341640154535849*y^6*z-2419704135688800449834637133//237536534315112952052144*y^4*z^5+67342805235442642292195047//2612901877466242472573584*y^6*z^21+3175926367908742384912098515//1306450938733121236286792*y*z^4+1720728856526814329727878546//163306367341640154535849*y^7*z^6+1506483332779//146949754652*y^5*z^22+100413891707845522754260//163306367341640154535849*x*y*z^2+63060638952454294976020326//163306367341640154535849*y^9*z^17+18128735496141337024712533443//653225469366560618143396*y^4*z^9-210763065004193425007443//163306367341640154535849*x*z^5-798571537298312569803339345//653225469366560618143396*y^13*z^7-5912525076300494399721520489//653225469366560618143396*y^5*z^15-2405882212944104272382046531//237536534315112952052144*y^10*z^10\n",
      "(26,27)\n",
      "\t11184515118262047098489645//3133258292987010015368*x*z^13-404111825293//2533162644608*y^4*z^25-130754589089986926009//1566629146493505007684*x*z-6239262351911187645828881//783314573246752503842*y^5*z^12-393735757280681285600735//12533033171948040061472*y^10+54360863252960714418668051//12533033171948040061472*y^5*z^5+586919831518756439575528833//50132132687792160245888*z^9+18455286893486228835006859//25066066343896080122944*y^2*z^16-4340047121975141535979361//3133258292987010015368*y^3*z^5-3135471328778851662850701//50132132687792160245888*y^11*z^18-1307917372738055127196115//391657286623376251921*y*z^6-3632142068430895771377285//50132132687792160245888*y^10*z^19+28013440144522880545157//12533033171948040061472*x*z^26+4623373097337220576848685//12533033171948040061472*y^5*z^4+65833102675852368884167657//25066066343896080122944*y^9*z^7+122964859622466141529149769//12533033171948040061472*y^5*z^6-84985245237322146008019783//12533033171948040061472*y^9*z^4-393998036471314093047845//12533033171948040061472*y^2*z^2+2761985086621924920955//1566629146493505007684*y^12*z^8+3230606834722179470351101//50132132687792160245888*z^25+51350259239488840581326959//12533033171948040061472*y^2*z^8+7505461978664089038101327//25066066343896080122944*y^8*z-56092274376767608373933231//50132132687792160245888*y^11*z^16-471764298371834118025001//50132132687792160245888*y^8*z^21-63427876116147037710788045//12533033171948040061472*y^9*z^6+21565386887212348981697501//50132132687792160245888*y^3*z^22-158708395544752246620901331//50132132687792160245888*x*z^17-6166323075787689689562963//1566629146493505007684*y^10*z^15+130754589089986926009//1566629146493505007684*x*y*z^5-295996436685602340327607//25066066343896080122944*y^7*z^22+404111825293//2533162644608*z^28+21204408146432947529866971//25066066343896080122944*x*z^21-2077461540047359603208753//1566629146493505007684*y^13*z^13-31573151544202521729683977//50132132687792160245888*y^6*z^16-392511787724394850847555//12533033171948040061472*y*z^2+3435275558185733643315011//12533033171948040061472*y^14*z^2+1795526992030578211682563//25066066343896080122944*x*z^24+26854700972890251311254833//12533033171948040061472*y^9*z^11-7507815561267708802769489//25066066343896080122944*y^9*z-2607397247767729362856669//25066066343896080122944*y^7*z^21-662620791377915639115591503//50132132687792160245888*z^12-22772219895604876345110583//6266516585974020030736*y^4*z^12+79061886484895626056679//12533033171948040061472*y^14-376326126782946792756161//25066066343896080122944*y^2*z^24-33342622031869473522166033//12533033171948040061472*y^9*z^14+257075797746638186241398935//25066066343896080122944*y^3*z^8+488498382854050196444059023//50132132687792160245888*z^10+316640964725531715397381//6266516585974020030736*y^6-404111825293//1266581322304*y^7*z^23-2020559126465//1266581322304*y^13*z^18-36228416204163450970857913//12533033171948040061472*y^6*z^14+706878481796945509080579//50132132687792160245888*y^3*z^24+88061237607546632857109//50132132687792160245888*z^27-7908854274632924436967//50132132687792160245888*y^14*z^17+140681535358031727582179789//12533033171948040061472*y^11*z^9-17318759327730331703075569//50132132687792160245888*y^10*z^18-9192768127702574900693615//12533033171948040061472*y^5*z^3-15982974536722198813482235//12533033171948040061472*y^3*z^2-2097699114610681962648235//1566629146493505007684*y^10*z^2+394784874043212515389175//12533033171948040061472*y^8-1513794008613751918131661//12533033171948040061472*y^12*z^16+61015248718143078592822105//25066066343896080122944*x*z^14+90169928704799900264484935//25066066343896080122944*y^4*z^16-345958674988655689418314901//50132132687792160245888*y^3*z^16+649588039464574444991634339//50132132687792160245888*y^6*z^12-2020559126465//1266581322304*y^2*z^25-21363954304017291279293563//6266516585974020030736*y^2*z^6-182043845987488605080178713//25066066343896080122944*y^3*z^17+68785071642926708435235771//12533033171948040061472*y^7*z^3-404111825293//2533162644608*y^10*z^21-5626784818769943051437027//50132132687792160245888*x*z^19-55402197510225350673394495//50132132687792160245888*x*z^9-93780682788937741735039//783314573246752503842*y^5*z-344489031673337744387454733//50132132687792160245888*y^11*z^6-121152094858361157782003571//6266516585974020030736*y^5*z^11+31486751485192904726337017//12533033171948040061472*y^12*z^6-397145386758907782413165//12533033171948040061472*y^3-9164457704005613840538653//50132132687792160245888*x*z^7+6001832943902925484116487//12533033171948040061472*y^7*z-258045574377424021734011719//12533033171948040061472*y^5*z^10+56071206980153447092417//25066066343896080122944*y^3*z^25-19140000895362786924242065//12533033171948040061472*y^12*z^12+19955274071026282196539243//25066066343896080122944*y^12*z^3-343678226759962899103538833//50132132687792160245888*y^10*z^4+310403992484145717421240691//25066066343896080122944*y^3*z^13-68957741726174171357129951//50132132687792160245888*y^14*z^11-490512369370522704482684891//50132132687792160245888*y^8*z^9+5008779543752089810841675//6266516585974020030736*y^14*z^3-3472022854984927402861823//391657286623376251921*y^11*z^5+332630844250881513093214843//25066066343896080122944*y^4*z^14-336396607433568687120401//12533033171948040061472*y*z^24-67540328563938054950514345//50132132687792160245888*z^11-32572624182165469251468927//12533033171948040061472*y^2*z^5+311411202772419878195745755//25066066343896080122944*y^7*z^13+30529857236575822207945665//12533033171948040061472*y*z^16-7676268617705329126821193//3133258292987010015368*y^11*z^15+11477627578084887605845085//50132132687792160245888*x*z^23-171231626767083943127367575//50132132687792160245888*y^8*z^17+69282852248267726830867655//6266516585974020030736*y^4*z^7+43713198438801241185//783314573246752503842*x*y*z^4+39159092197802063747824223//25066066343896080122944*y^2*z^19+3870368493466701938513109//3133258292987010015368*y^5*z^17-11943782603318453542258351//50132132687792160245888*y^4*z^22-26361732106561294229665505//25066066343896080122944*y*z^7-398544209108949422131085//12533033171948040061472*z^2-56666726301269519431174167//50132132687792160245888*y^4*z^20+116787420082371187803897089//50132132687792160245888*y^4*z^8-1508341046231378602413797//25066066343896080122944*y^2*z^23-29950836273297219884699733//25066066343896080122944*y^13*z^9-43107767904862795137652869//12533033171948040061472*y^2*z^15-684213555206001361485527//25066066343896080122944*y^7*z^15+79061886484895626056679//12533033171948040061472*y^12-7506769524554988907361417//25066066343896080122944*y^11*z-395222006027600527801025//12533033171948040061472*y^11+40432735694150909103738931//25066066343896080122944*y^12*z^7-3371514470596404087298761//12533033171948040061472*y^9*z^18-572895998522126530814245771//25066066343896080122944*y^4*z^10-232472059369429023684395845//25066066343896080122944*y^2*z^13-87883930843115888848697//50132132687792160245888*y^6*z^23-4922243380989001085524//391657286623376251921*y^5-928317601387218343467024925//50132132687792160245888*y^4*z^11-133498358822671701585305623//50132132687792160245888*y^3*z^18+1501406206746633776242687//25066066343896080122944*y^14*z-11090215812181597975653429//25066066343896080122944*y^11*z^12-2727301843685590432904159//25066066343896080122944*y^8*z^20+30438888016618426916013949//50132132687792160245888*y^6*z^19+249030875035565242414344//391657286623376251921*y*z^19+7996099010796392937686135//6266516585974020030736*y^8*z^2+14746380488633494244924853//1566629146493505007684*y^2*z^9+460901993507977420768390461//50132132687792160245888*y^4*z^15+20319185006172453797865623//12533033171948040061472*y^12*z^4+379220447892363620280252845//25066066343896080122944*y^7*z^12+113876146310938763377137435//12533033171948040061472*y^7*z^4+74368589459172649164648707//12533033171948040061472*y^5*z^16-28251744263387384843782437//25066066343896080122944*z^4-6177184034426701125551535//25066066343896080122944*y^14*z^14-6085973207041215979418719//25066066343896080122944*y^14*z^9+4468073594026848347113671//391657286623376251921*y^5*z^14+646674769764270839425063329//50132132687792160245888*y^3*z^7+104883750418353228093604569//25066066343896080122944*y^6*z^13-27636174783544313973219783//50132132687792160245888*y^8*z^19-716360601172342129160177515//50132132687792160245888*y^3*z^11-7512522726474948332105813//25066066343896080122944*y^3*z+723880819271318890911486537//50132132687792160245888*y^8*z^11+359704633167150088113549//12533033171948040061472*y*z^22+41012841280592567128826633//25066066343896080122944*y^13*z^4-354705313897504923531858779//25066066343896080122944*y^8*z^7+66000073777908505123335139//6266516585974020030736*y^9*z^8-92349824066928206013437037//12533033171948040061472*y*z^12-395571711615110937730505//12533033171948040061472*y^9-53419161222462360157393517//25066066343896080122944*z^20+125579364977148947240854555//12533033171948040061472*y^11*z^10-63680765349683118543522297//6266516585974020030736*y*z^13-54432288739692890221876615//50132132687792160245888*y^6*z^6+15861568898543472771543987//6266516585974020030736*y^14*z^5-50861582652644155229193543//25066066343896080122944*y^13*z^12-1016952004258260237223859//25066066343896080122944*y^12*z^17-19611215029946736971928813//12533033171948040061472*y^5*z^19+6604107849880306922072345//12533033171948040061472*x*z^22+3434750999804468028420791//12533033171948040061472*y^12*z^2-6681249570910434390217963//12533033171948040061472*y^12*z^14+546712547295433151675082117//50132132687792160245888*y^8*z^13+35964339277158798231930963//25066066343896080122944*y^6*z^17-267568235609047967731636433//50132132687792160245888*y^8*z^6-56546357868937727714602701//12533033171948040061472*y^7*z^10+19983016306244690481986027//50132132687792160245888*y^4*z^4-775430824169134961608755777//50132132687792160245888*y^3*z^10-374468958210301032310111//3133258292987010015368*y^4*z-10138930647660484102284291//25066066343896080122944*x*z^15+10141784535693940648370995//25066066343896080122944*y*z^20-69127872506443764722786385//3133258292987010015368*y^6*z^8-103878946156812481731043//25066066343896080122944*y^11*z^19-64737424991976463307512195//25066066343896080122944*z^5-77204427518683127609967471//12533033171948040061472*y*z^14+29519695024199040718512213//6266516585974020030736*y*z^8-15761183963627101087930017//25066066343896080122944*y^4*z^21-59370946198901260206316473//25066066343896080122944*y^10*z^16+13149952181841427629344129//6266516585974020030736*y^7*z^2+1019248815855449740653477//12533033171948040061472*y^6*z^20+30300003300407455935766017//25066066343896080122944*y^3*z^21+7762357882712406355360209//6266516585974020030736*y^10*z^7-243393258048888293435647525//50132132687792160245888*y^10*z^14+137234791887193917984014915//25066066343896080122944*y^6*z^3-18314409380699889494158737//25066066343896080122944*y^4*z^3-1212335475879//1266581322304*y^12*z^19-26272700336528814950670229//12533033171948040061472*y^12*z^11-18851219296245346933484815//12533033171948040061472*y^12*z^9-2020559126465//633290661152*y^9*z^21+314853934294300234888791//25066066343896080122944*z^26-6880832321999567757907829//25066066343896080122944*y^12*z^15-2799692045060949965461645//50132132687792160245888*y^4*z^23-130754589089986926009//1566629146493505007684*y*z+106735543721243080675179643//12533033171948040061472*y^7*z^5-2119457377357927293642813//6266516585974020030736*y^5*z^21+24403879046005539533951531//50132132687792160245888*z^23-84467469072159094280120663//50132132687792160245888*y^8*z^18+6336868874408135468961237//12533033171948040061472*y^2*z^20+16670526884189945258355567//6266516585974020030736*y^2*z^18+695485417372494998063151975//50132132687792160245888*y^10*z^9+69287437468151480769583117//25066066343896080122944*y^8*z^14-541215676550017646253755085//25066066343896080122944*y^7*z^8+120335617901661340777275721//50132132687792160245888*y^14*z^7-9991165952364847525404283//3133258292987010015368*z^19-1042874557937021248504230//391657286623376251921*y^7*z^18+182515192190183085040731033//50132132687792160245888*y^8*z^10+67257220944011765024312691//12533033171948040061472*z^17+19532901906001062783956521//6266516585974020030736*y^8*z^3-172771621308871600487132815//50132132687792160245888*y^11*z^13-15481175735162437581998695//6266516585974020030736*y^13*z^11+3885947257894136539557717//12533033171948040061472*x*z^11-74119037208564801024525723//25066066343896080122944*y^3*z^9+13145056303616281890331409//6266516585974020030736*y^6*z^2-15570669904473237230877321//12533033171948040061472*y^5*z^18+6467445179395707969046013//3133258292987010015368*y^8*z^5-192131817911598924982851569//50132132687792160245888*y^10*z^13-33597033687482181836058799//25066066343896080122944*y^9*z^15+59764503640985950892473685//12533033171948040061472*y^5*z^13-208895159001244911073610655//50132132687792160245888*y^3*z^4-7089721635998561990732181//25066066343896080122944*y^13*z^15+100160348783071373289063351//12533033171948040061472*y^6*z^5+56086583454291862871852761//50132132687792160245888*y^3*z^19-208156832533594137481013//12533033171948040061472*y^13*z^17+118804338519500677379166391//12533033171948040061472*y^10*z^8-112098087269199208182731//12533033171948040061472*y^12*z^18+292238050292102835878525381//50132132687792160245888*z^15+2679396581261714644493779//25066066343896080122944*y^4*z^17-736545459089352324880887947//50132132687792160245888*y^6*z^7-63889057322066494241098705//6266516585974020030736*y^5*z^9-182721777889192988107673//1566629146493505007684*y^2*z^22-11080314817809236319968307//25066066343896080122944*y*z^15+78799607294262818609569//12533033171948040061472*y^13-162665013473861677505490929//50132132687792160245888*z^6+130754589089986926009//1566629146493505007684*x*y*z-7502323868525929351877111//25066066343896080122944*y^10*z-4445230078223//633290661152*y^5*z^23-16778052147811912800649895//12533033171948040061472*y^9*z^2+43713198438801241185//391657286623376251921*x*z^2-200203651567853527041943//25066066343896080122944*y*z^25-53554993164600591281111395//50132132687792160245888*y^10*z^17+197480995468053128653415//12533033171948040061472*x*z^25-92589099915963065496822169//25066066343896080122944*y^10*z^3+33894141323653296888031665//12533033171948040061472*y^13*z^6+71671598045676470928602263//50132132687792160245888*y^6*z^18+148359137528969854035677007//25066066343896080122944*z^8+49410842860077709098478687//25066066343896080122944*y^3*z^20-19470407531761998136171//1566629146493505007684*y^4+107348263080950538737233//391657286623376251921*y^13*z^2-226669435262967054437236971//12533033171948040061472*y^7*z^9-162270664395126613710935727//12533033171948040061472*y^7*z^7+57256345636681580602393851//6266516585974020030736*y^9*z^10-23059058733876545286315035//6266516585974020030736*y^7*z^17-35092760071538240069310125//12533033171948040061472*y^9*z^12+82775792648832829203037017//50132132687792160245888*y^14*z^4+207815258016015785046479117//12533033171948040061472*y^8*z^12-297696280647495087471454737//50132132687792160245888*y^10*z^6+404111825293//2533162644608*y^6*z^24-56546091352774429401601969//25066066343896080122944*y^13*z^10+1390763273682757140336269//3133258292987010015368*y^13*z^8+316889977761821394331144095//50132132687792160245888*y^10*z^11-16781374350893261694979955//12533033171948040061472*y^11*z^2-205422301285674207985248273//25066066343896080122944*y^9*z^5+60284518306336607526899447//25066066343896080122944*x*z^12+109963556705436956147989187//25066066343896080122944*y^8*z^4-14596479543616779427745357//12533033171948040061472*y^14*z^10+404111825293//1266581322304*y^3*z^26-79404927374235588491367881//25066066343896080122944*y^7*z^16-88800291386377311940475859//25066066343896080122944*y^6*z^15+451096508334603432817703//391657286623376251921*y^14*z^8-33435350607465544083135581//25066066343896080122944*y^2*z^7+9858090923463726797853923//6266516585974020030736*y^3*z^15+26471787231832707339442285//50132132687792160245888*z^22-15755384468366637341745597//50132132687792160245888*z^21-795808281107692733626779//783314573246752503842*x*z^10-11666888185538564928959471//12533033171948040061472*y^5*z^20-2843994367688910295675541//6266516585974020030736*y^5*z^2+30864087680720689550154043//12533033171948040061472*y^13*z^5-130754589089986926009//783314573246752503842*x*y*z^3-92622957574998808427253685//25066066343896080122944*y^11*z^14-7025690243472077601326705//25066066343896080122944*y*z^3-122977792073456400964011777//25066066343896080122944*y^2*z^12+404111825293//2533162644608*y^14*z^18+55229103890614118002100167//50132132687792160245888*y^6*z^10+298058081751366250495942343//25066066343896080122944*y^3*z^14-426608172185190083964364555//25066066343896080122944*y^8*z^8-382211343951297912977677983//25066066343896080122944*y^6*z^9+1807929817639806518238207//25066066343896080122944*y^10*z^12+20665751159854598255334085//6266516585974020030736*y^2*z^11-7040761879272657312715367//25066066343896080122944*z^3+1501406206746633776242687//25066066343896080122944*y^12*z+14197375932362343765484077//6266516585974020030736*y*z^17+145704934664275085039772293//50132132687792160245888*y^14*z^6-851781422337072555931955//50132132687792160245888*y^6*z^22+487377118831252255307943505//50132132687792160245888*z^16+5068929782449901371796705//25066066343896080122944*y*z^21-142660294699986120941857875//25066066343896080122944*z^14-13947739225404149394251561//6266516585974020030736*y^12*z^10+60009426360844360598178277//25066066343896080122944*y^12*z^5-1212335475879//1266581322304*y*z^26-27862138531877673061321283//50132132687792160245888*y^11*z^7+174679336158810447126715861//25066066343896080122944*y^11*z^8-72878888184366805301491049//50132132687792160245888*y^4*z^19-31137604057249988488534971//25066066343896080122944*y^4*z^18-23730777727225036324393427//25066066343896080122944*y^12*z^13+70652753843463084264814447//6266516585974020030736*y^5*z^7-2801156096408418014957713//1566629146493505007684*x*z^18+68651062208971937745408457//25066066343896080122944*y^2*z^17-7030310752294892361775751//25066066343896080122944*y^2*z^3+500195927428904760238546053//50132132687792160245888*y^4*z^6+19807494324551767188549623//25066066343896080122944*x*z^20+404111825293//1266581322304*y^11*z^20+43713198438801241185//783314573246752503842*x*y-347425150927762085411426963//50132132687792160245888*y^11*z^4-36520628529663465092921323//12533033171948040061472*y^8*z^15+11183888384100585920719359//50132132687792160245888*z^24-13363687005987131156315335//1566629146493505007684*y^10*z^5-38680563354403515339810961//12533033171948040061472*y^3*z^3-759769541017015154932719127//50132132687792160245888*z^13+82659797776273723764937343//6266516585974020030736*y^9*z^9-531148100679943572101287//6266516585974020030736*y^13*z^16+232792136116812171313060603//25066066343896080122944*y^7*z^11-327986467312995526092299//50132132687792160245888*y^4*z^24-177823414002922370574221//391657286623376251921*y^4*z^2-218950998420423003471//6266516585974020030736*x*z^4-391966528567781897621683//50132132687792160245888*y^10*z^20-1719658366199832549032179//25066066343896080122944*y^14*z^15+307689966525428869428492743//50132132687792160245888*y^3*z^6+130754589089986926009//1566629146493505007684*z-43713198438801241185//783314573246752503842*x+7682186325398429815705779//6266516585974020030736*y*z^18-97035630289921255810079807//25066066343896080122944*y^9*z^13+241014238484486839813873377//25066066343896080122944*y^4*z^13+119765076936250119468146129//12533033171948040061472*y^2*z^10-35347573320236138933498351//50132132687792160245888*z^18+46926346986177363064812639//12533033171948040061472*y^5*z^8+247593310468789927434117193//50132132687792160245888*y^11*z^11-17232661988189928228271719//50132132687792160245888*y^11*z^17-11809981478349151442701697//25066066343896080122944*y^7*z^20+404111825293//2533162644608*y^8*z^22-530994582240986978242975//50132132687792160245888*y^14*z^16-28273587002382634459663281//25066066343896080122944*y^2*z^4+36072828741933601129469661//25066066343896080122944*y*z^11-26717082541394193828331925//25066066343896080122944*y^14*z^12-633060283409058090208469//25066066343896080122944*x*z^6-568413376566693441196237//25066066343896080122944*y^2*z^21-8766087683850670760832399//12533033171948040061472*y^9*z^16+73203429092432891978680845//12533033171948040061472*y^7*z^14+404111825293//2533162644608*x*z^27-64951378304839693496336573//25066066343896080122944*y*z^5+566731554798748945221//3133258292987010015368*x*z^3-2816212480748257561773033//25066066343896080122944*y^9*z^19-33832192943053382235481255//25066066343896080122944*y^7*z^19+1500621679212093854686633//25066066343896080122944*y^13*z-15035286615538107782810089//25066066343896080122944*x*z^8-24905842199084917196984231//3133258292987010015368*y^2*z^14+669212013024641178837123599//50132132687792160245888*y^6*z^11-30143322368661583229965773//50132132687792160245888*y^14*z^13+4728205797275993680765909//50132132687792160245888*y^3*z^23-46393760769089557833836167//12533033171948040061472*y^11*z^3-14716606911218415949097143//25066066343896080122944*z^7+43713198438801241185//783314573246752503842-114205957905974550816959//3133258292987010015368*y*z^23-176166801906200951716321//6266516585974020030736*y^9*z^20+251388882003546812468059347//25066066343896080122944*y*z^9-17553711125635007371123471//6266516585974020030736*x*z^16+9997433559505175230125723//12533033171948040061472*y^13*z^3+449549534307308333928284189//50132132687792160245888*y^6*z^4-43713198438801241185//783314573246752503842*y-2173116612710755101565219//3133258292987010015368*y^13*z^14-113562968721715991406262477//25066066343896080122944*y^8*z^16+231842528144157497678446269//25066066343896080122944*y*z^10+314979863184857268232351//6266516585974020030736*y^7-92387345488002699474989715//25066066343896080122944*y^9*z^3-9764174950284462114224543//50132132687792160245888*y^3*z^12+6006801618288344987304829//12533033171948040061472*y^6*z+55784378744816308254461673//12533033171948040061472*y^4*z^5-914326058282238435833417//25066066343896080122944*y^6*z^21-28272538655632556063469933//25066066343896080122944*y*z^4+5323942405920733279433067//25066066343896080122944*y^7*z^6-904693552428226589898815//12533033171948040061472*y^5*z^22-43713198438801241185//391657286623376251921*x*y*z^2-11333830347829424828636265//25066066343896080122944*y^9*z^17-647542727460559832638354629//50132132687792160245888*y^4*z^9-87233893764394083597//783314573246752503842*x*z^5+49395226317128587644536491//25066066343896080122944*y^13*z^7+133801317227329164039903067//12533033171948040061472*y^5*z^15+611092622051785265557867999//50132132687792160245888*y^10*z^10\n",
      "(27,28)\n",
      "\t-3747709761983333855497//82719084136873536*x*z^13+408425909789112167//5169942758554596*y^4*z^25+19790333161//1725655536*y^12*z^20+10775330312704463372479//41359542068436768*y^5*z^12+15408618884260104683//82719084136873536*y^10-1152912251335439503913//41359542068436768*y^5*z^5-57745201745505707095//455752529679744*z^9+2992821960039136969099//82719084136873536*y^2*z^16+8744474667833603219899//165438168273747072*y^3*z^5+120291136512735846407//27573028045624512*y^11*z^18+1275869802506748664427//27573028045624512*y*z^6+66551658955892806115//15039833479431552*y^10*z^19-990256123848560765//5013277826477184*x*z^26+8607438515390478221//1531834891423584*y^5*z^4+446840617253490284425//10339885517109192*y^9*z^7-47124148741027360177//469994796232236*y^5*z^6+710421827740934261597//9191009348541504*y^9*z^4+15406281685494456905//82719084136873536*y^2*z^2-253092242658887771801//13786514022812256*y^12*z^8-60653462725778700949//20679771034218384*z^25-141431144351237606531//20679771034218384*y^2*z^8-10658425603958574665//5169942758554596*y^8*z+511356165494461784635//15039833479431552*y^11*z^16+221619080341824657311//165438168273747072*y^8*z^21+9762706218709549888043//82719084136873536*y^9*z^6+19790333161//10353933216*y^10*z^22-2684958492593214232267//165438168273747072*y^3*z^22+438123666139116437003//9191009348541504*x*z^17+3125295412244408090311//41359542068436768*y^10*z^15+35623154907596831855//27573028045624512*y^7*z^22-19790333161//5176966608*y^3*z^27-1094113467645584674457//82719084136873536*x*z^21+1243999623585076752719//41359542068436768*y^13*z^13+1807000169843957253191//41359542068436768*y^6*z^16-447894681567419873//20679771034218384*z^28+15419525811833127647//82719084136873536*y*z^2-60442431912053681141//27573028045624512*y^14*z^2-41829570852685640237//13786514022812256*x*z^24-798093402221474124137//6893257011406128*y^9*z^11+10658425603958574665//5169942758554596*y^9*z+500961202005694660357//82719084136873536*y^7*z^21+13518194583471192352843//165438168273747072*z^12+18972512471206908877699//82719084136873536*y^4*z^12-3078919138333243603//82719084136873536*y^14+21512140493790912323//27573028045624512*y^2*z^24+531637779347982401071//9191009348541504*y^9*z^14-1013694837799534495421//5169942758554596*y^3*z^8-9960266431143659087767//55146056091249024*z^10-19790333161//5176966608*y^11*z^21-12312170755184502745//41359542068436768*y^6+245932629690763027//1723314252851532*y^7*z^23+4241785024156392971//20679771034218384*y^13*z^18-1456018992712084264627//41359542068436768*y^6*z^14-98142387132422162375//82719084136873536*y^3*z^24-19790333161//10353933216*y^8*z^23-26039784115693061449//165438168273747072*z^27+98951665805//5176966608*y^2*z^26+7022969900362626505//55146056091249024*y^14*z^17-3751804225808196781529//27573028045624512*y^11*z^9+783038917001138572729//55146056091249024*y^10*z^18+365593488937215966233//41359542068436768*y^5*z^3+286839767256875841581//27573028045624512*y^3*z^2+111404651073950962943//10339885517109192*y^10*z^2-15399270089197513571//82719084136873536*y^8+34870209517313446535//9191009348541504*y^12*z^16-1449835656847237809275//27573028045624512*x*z^14-10291752941029569430807//82719084136873536*y^4*z^16+19790333161//10353933216*y^4*z^26-17820076620351018566449//82719084136873536*y^6*z^12+103111231256748357319//6893257011406128*y^3*z^16+641085895271119451//3446628505703064*y^2*z^25+3867941224328473008545//82719084136873536*y^2*z^6+18845348661885291624457//165438168273747072*y^3*z^17-2195500015659504691351//41359542068436768*y^7*z^3+40623320024587285//430828563212883*y^10*z^21+65053151790305739287//3063669782847168*x*z^19+259259682492751982411//20679771034218384*x*z^9+2131685120791714933//2584971379277298*y^5*z+7461528275537406181889//55146056091249024*y^11*z^6+6849130788876784022393//20679771034218384*y^5*z^11-1104974743907169168029//27573028045624512*y^12*z^6+15378235300306683569//82719084136873536*y^3+54357813910016261735//41359542068436768*x*z^7-4263370241583429866//1292485689638649*y^7*z+4547910761284108785485//20679771034218384*y^5*z^10-14711203664761165127//82719084136873536*y^3*z^25+878334833857435337237//27573028045624512*y^12*z^12-50980171190801289673//6893257011406128*y^12*z^3+6436423140487945709699//82719084136873536*y^10*z^4-533120891930048856575//9191009348541504*y^3*z^13+46477796380827767533//2297752337135376*y^14*z^11+4448873904665241289937//18382018697083008*y^8*z^9-1226610039313861139089//165438168273747072*y^14*z^3+20552729336520583306135//165438168273747072*y^11*z^5-28989528637276455486301//165438168273747072*y^4*z^14+15108449560169965691//27573028045624512*y*z^24-5637231529041683075557//55146056091249024*z^11+365505837076677901369//13786514022812256*y^2*z^5-1622498458102117881935//6893257011406128*y^7*z^13-42871714518806699945//6893257011406128*y*z^16+9066160347897028749349//165438168273747072*y^11*z^15-18210183410168206475//2506638913238592*x*z^23+3809463283538438293511//55146056091249024*y^8*z^17-27865077085770952485071//165438168273747072*y^4*z^7+4809050958123//63826453809316*x*y*z^4-397392454838589997727//10339885517109192*y^2*z^19-3098985619727539916573//41359542068436768*y^5*z^17+1407095414043605926199//165438168273747072*y^4*z^22+581328204730466406049//13786514022812256*y*z^7+15365770240223228753//82719084136873536*z^2+462791432073475304557//20679771034218384*y^4*z^20-22294565605415864552075//165438168273747072*y^4*z^8+5035958388513433609//3063669782847168*y^2*z^23+98951665805//2588483304*y^9*z^22+82810494914649591989//82719084136873536*y^13*z^9+8972819788033432157203//82719084136873536*y^2*z^15-5584281487676728993655//82719084136873536*y^7*z^15-3078919138333243603//82719084136873536*y^12+10658425603958574665//5169942758554596*y^11*z+15395374757921433941//82719084136873536*y^11-126666045691969423265//3446628505703064*y^12*z^7+181007486168796597455//27573028045624512*y^9*z^18+43309091630843627341633//165438168273747072*y^4*z^10+2111195546733191558033//20679771034218384*y^2*z^13+3862820409424399835//18382018697083008*y^6*z^23+192602866889156209//2584971379277298*y^5+14563626402799752970225//41359542068436768*y^4*z^11+1775319899196782295415//18382018697083008*y^3*z^18-2131685120791714933//5169942758554596*y^14*z-9066212842547351628289//165438168273747072*y^11*z^12+1163341146062863156487//165438168273747072*y^8*z^20-269543059889959460035//13786514022812256*y^6*z^19-482874740812042086371//27573028045624512*y*z^19-143406185046783707425//13786514022812256*y^8*z^2-3910692179599864274599//41359542068436768*y^2*z^9-16393053035949737920375//82719084136873536*y^4*z^15-161663834957538244409//9191009348541504*y^12*z^4-1362929838395862444253//7519916739715776*y^7*z^12-188425785132269049547//1723314252851532*y^7*z^4-3152421682306073747551//20679771034218384*y^5*z^16+35162964590988148487//3759958369857888*z^4+4197491408734099787//510611630474528*y^14*z^14-110350633682901299099//9191009348541504*y^14*z^9-4586057665069587258665//41359542068436768*y^5*z^14-11168157827356130997895//82719084136873536*y^3*z^7-1166511908792830296881//6893257011406128*y^6*z^13+57940393009859323655//2584971379277298*y^8*z^19+3682146949565019884761//15039833479431552*y^3*z^11+10658425603958574665//5169942758554596*y^3*z-3140919618290587204993//27573028045624512*y^8*z^11-2349094081829860787//939989592464472*y*z^22-731748874651431293873//41359542068436768*y^13*z^4+1381171212380399377939//10339885517109192*y^8*z^7-10661760670902866385//127652907618632*y^9*z^8+140332995823400901313//6893257011406128*y*z^12+1399296226627324567//7519916739715776*y^9+2585911410507105779629//55146056091249024*z^20-29537569993360527943717//165438168273747072*y^11*z^10+924215623747848143839//6893257011406128*y*z^13-13698977949005152916065//165438168273747072*y^6*z^6-586973049469326684635//18382018697083008*y^14*z^5+399500580695802532337//10339885517109192*y^13*z^12+11112215528919659023//6893257011406128*y^12*z^17+33422918902753054945//1531834891423584*y^5*z^19-2049249013739769854965//165438168273747072*x*z^22-60443990044564112993//27573028045624512*y^12*z^2+376475936303506102775//27573028045624512*y^12*z^14-20224739319447653660539//82719084136873536*y^8*z^13+102075234626429769499//165438168273747072*y^6*z^17+468527832988960982731//82719084136873536*y^8*z^6+19790333161//5176966608*y^7*z^24+2100366074130706786291//9191009348541504*y^7*z^10+447727553608988882431//82719084136873536*y^4*z^4+6094662499565126038811//55146056091249024*y^3*z^10+2131685120791714933//2584971379277298*y^4*z-2112652856758044034381//82719084136873536*x*z^15-70609731287041960975//7519916739715776*y*z^20+5747307988418698205545//20679771034218384*y^6*z^8+63276259826500834793//82719084136873536*y^11*z^19+4370558589290186209513//165438168273747072*z^5+4044102355730864445889//27573028045624512*y*z^14-1096211195543012420701//82719084136873536*y*z^8+297777193712333222681//18382018697083008*y^4*z^21+1053616866786615257981//18382018697083008*y^10*z^16-234067041260783038735//13786514022812256*y^7*z^2-156112199323509638453//20679771034218384*y^6*z^20-4747206391793269375799//165438168273747072*y^3*z^21-19790333161//10353933216*y^14*z^19+98951665805//5176966608*y^13*z^19+1663041604914326645005//27573028045624512*y^10*z^7+1409831313650375835161//20679771034218384*y^10*z^14-2923197874955317711871//55146056091249024*y^6*z^3-19790333161//10353933216*x*z^28+1459287245947978462069//165438168273747072*y^4*z^3+2292098436874842973//20679771034218384*y^12*z^19+248906885277334342783//6893257011406128*y^12*z^11+13045705945026244553//1723314252851532*y^12*z^9+133679762226255961//382958722855896*y^9*z^21-136007524149648914599//165438168273747072*z^26+52119927746269674053//6893257011406128*y^12*z^15+169597454366609309179//55146056091249024*y^4*z^23-12045905399760264514855//82719084136873536*y^7*z^5+518038555971759161477//41359542068436768*y^5*z^21-1392927046175621437973//165438168273747072*z^23+2644488615056499443633//55146056091249024*y^8*z^18-1709122470719123866187//82719084136873536*y^2*z^20-3689564173398853032367//82719084136873536*y^2*z^18-893374685214866653//5011303676544*y^10*z^9-5767407096413518074811//41359542068436768*y^8*z^14+3534858246077764640405//13786514022812256*y^7*z^8-1876534962013232069113//41359542068436768*y^14*z^7+475388399279224812587//20679771034218384*z^19+4603493949658640874689//82719084136873536*y^7*z^18+15317531567997319946663//165438168273747072*y^8*z^10-22720945499829288226417//165438168273747072*z^17-2564168528403777821557//82719084136873536*y^8*z^3+1809260746812092917033//82719084136873536*y^11*z^13+352403421358059149647//9191009348541504*y^13*z^11+87617876162363798419//9191009348541504*x*z^11-16483520075852570328761//165438168273747072*y^3*z^9-234081583830880402687//13786514022812256*y^6*z^2-13127644217638729751//1531834891423584*y^5*z^18-9761636264717334999407//165438168273747072*y^8*z^5+2977977744773377729693//165438168273747072*y^10*z^13+778352801771901053917//20679771034218384*y^9*z^15+1403225719640071051463//20679771034218384*y^5*z^13+4642020073116665119973//82719084136873536*y^3*z^4+98042076662342328115//10339885517109192*y^13*z^15-193303698929465728367//1367257589039232*y^6*z^5+2131496804708891781001//82719084136873536*y^3*z^19+29802984876197278051//27573028045624512*y^13*z^17-10367642929820926146317//165438168273747072*y^10*z^8+43127916095100374779//82719084136873536*y^12*z^18+6071948128134869766215//165438168273747072*z^15-440306897379352957307//10339885517109192*y^4*z^17+1828736565586430360869//20679771034218384*y^6*z^7+439869612552667480627//41359542068436768*y^5*z^9+64597470582365790803//82719084136873536*y^2*z^22+1012578918779519868185//13786514022812256*y*z^15+19790333161//235316664*y^5*z^24-3081256337098891381//82719084136873536*y^13+12710270128501204595//278515434804288*z^6+10658425603958574665//5169942758554596*y^10*z+15523992509151103//17407214675268*y^5*z^23+891268760774943948547//82719084136873536*y^9*z^2+4809050958123//31913226904658*x*z^2+9738762172414962569//27573028045624512*y*z^25+5431540370715523787891//165438168273747072*y^10*z^17-25394579159429477263//27573028045624512*x*z^25+175421793548334558209//5013277826477184*y^10*z^3-3464503349151849926579//82719084136873536*y^13*z^6-3858442663307362051793//165438168273747072*y^6*z^18-4126612717676265915643//165438168273747072*z^8-917281534707503213459//41359542068436768*y^3*z^20+772359133194664651//10339885517109192*y^4-3777676340323830569//1723314252851532*y^13*z^2+2316544382563111774639//6893257011406128*y^7*z^9+66272363169058901297//1021223260949056*y^7*z^7-8123175632005465351213//41359542068436768*y^9*z^10+752921778100455267163//13786514022812256*y^7*z^17-944235048024389895349//82719084136873536*y^9*z^12-1472027995584177919145//82719084136873536*y^14*z^4-41002427941378971268093//165438168273747072*y^8*z^12+5231971070415440301839//41359542068436768*y^10*z^6+23427697444325995//1148876168567688*y^6*z^24+1037230214723654155675//41359542068436768*y^13*z^10-75613877565983413007//3063669782847168*y^13*z^8-7095200000799825030775//41359542068436768*y^10*z^11+891239156257245743359//82719084136873536*y^11*z^2+409616521187688043021//3446628505703064*y^9*z^5-165661468402827031709//10339885517109192*x*z^12-4773337892327915441453//82719084136873536*y^8*z^4+472685877573396250361//55146056091249024*y^14*z^10-32198535617283263//1148876168567688*y^3*z^26+4520162104144297847//287219042141922*y^7*z^16+8176431338272125050197//165438168273747072*y^6*z^15-305792400828055158695//9191009348541504*y^14*z^8+1840654817814710755141//41359542068436768*y^2*z^7-7896112284187674797509//55146056091249024*y^3*z^15+209088010552047317539//165438168273747072*z^22+4349320761792936258589//165438168273747072*z^21+362448781170371940389//20679771034218384*x*z^10+117185036875661622701//5169942758554596*y^5*z^20+52740135057749603275//13786514022812256*y^5*z^2-216337850202006039109//6893257011406128*y^13*z^5+4784776842516950243047//82719084136873536*y^11*z^14+161291819718295736423//82719084136873536*y*z^3-1071155458334138656267//82719084136873536*y^2*z^12+26428901468191645//20679771034218384*y^14*z^18+27787920933827031461491//165438168273747072*y^6*z^10-1821519391504161189001//9191009348541504*y^3*z^14+3709658513308704421903//15039833479431552*y^8*z^8+17990620048150318048081//55146056091249024*y^6*z^9-367288941028158712153//5013277826477184*y^10*z^12-3438810450332238536867//27573028045624512*y^2*z^11+161305063844634407165//82719084136873536*z^3-2131685120791714933//5169942758554596*y^12*z-89673614791181851997//2297752337135376*y*z^17-7237788454445673173221//165438168273747072*y^14*z^6+83373930805649217527//165438168273747072*y^6*z^22-9385378787905122227849//82719084136873536*z^16-234334483033860167773//41359542068436768*y*z^21+33129367043845196363065//165438168273747072*z^14+43528140039843242623//1531834891423584*y^12*z^10-439173912937359935//14242266552492*y^12*z^5+1027468322678518607//10339885517109192*y*z^26+6645281245888677364315//82719084136873536*y^11*z^7-605392436986098151135//20679771034218384*y^11*z^8+3560479494352392626515//165438168273747072*y^4*z^19+784170257875752907147//165438168273747072*y^4*z^18+51542855761592791007//2297752337135376*y^12*z^13-6945707076049176046295//41359542068436768*y^5*z^7+2490633016328435095097//55146056091249024*x*z^18-100175265512018615311//4595504674270752*y^2*z^17+161291040652040520497//82719084136873536*y^2*z^3-2822659996215325049615//27573028045624512*y^4*z^6-22671137844449082055//9191009348541504*x*z^20+500752484503803163//10339885517109192*y^11*z^20+4809050958123//63826453809316*x*y+6479080993957691702065//82719084136873536*y^11*z^4-247536695702993892127//13786514022812256*y^8*z^15-1117368175729555719713//165438168273747072*z^24+20107180069121493671777//165438168273747072*y^10*z^5+154515584470665555631//5013277826477184*y^3*z^3+9302338720079270079805//41359542068436768*z^13-963110934446086856531//5169942758554596*y^9*z^9+77158613247865923989//20679771034218384*y^13*z^16+459890822708873680777//82719084136873536*y^7*z^11+114877780092473111261//165438168273747072*y^4*z^24-19790333161//10353933216*z^29+6592078657450141451//1723314252851532*y^4*z^2-4809050958123//63826453809316*x*z^4+148602491265167839325//165438168273747072*y^10*z^20+533833528963459911925//165438168273747072*y^14*z^15-23551638462765055505//1367257589039232*y^3*z^6-4809050958123//63826453809316*x-446800632666468468415//13786514022812256*y*z^18+1053673772464715725889//20679771034218384*y^9*z^13-218259038867858414395//41359542068436768*y^4*z^13-6396633274235102746645//41359542068436768*y^2*z^10-110307617375161883177//1879979184928944*z^18-1498222937000321544449//10339885517109192*y^5*z^8-1924507364746448538247//13786514022812256*y^11*z^11-19790333161//10353933216*y^6*z^25+2446670438400283251449//165438168273747072*y^11*z^17+1496069164106382502187//82719084136873536*y^7*z^20+386498814356718997//3446628505703064*y^8*z^22+142732138727649272533//165438168273747072*y^14*z^16+386754436254364052983//41359542068436768*y^2*z^4-1538223352251438389605//13786514022812256*y*z^11+3500604992102499106021//165438168273747072*y^14*z^12+24635637971069636417//165438168273747072*x*z^6-242242241781299092691//41359542068436768*y^2*z^21+1584782936438975619253//82719084136873536*y^9*z^16-14244137250784769506403//82719084136873536*y^7*z^14-1132951154652645505//41359542068436768*x*z^27+1094582133766079550905//41359542068436768*y*z^5+4809050958123//255305815237264*x*z^3+25389099572403193261//6893257011406128*y^9*z^19+3107242644449188115723//82719084136873536*y^7*z^19-2131685120791714933//5169942758554596*y^13*z+292759506808281681805//55146056091249024*x*z^8+502018329962149237537//3446628505703064*y^2*z^14-12843729034389337429751//165438168273747072*y^6*z^11+1267859210655042538901//82719084136873536*y^14*z^13-914907422774959540327//165438168273747072*y^3*z^23+5796603825114226271107//165438168273747072*y^11*z^3+530979948911194759003//13786514022812256*z^7+4809050958123//63826453809316-1825265178295339379//10339885517109192*y*z^23+60269371425241350763//41359542068436768*y^9*z^20-2881721897015493333745//27573028045624512*y*z^9+3067472991765571133815//165438168273747072*x*z^16-612536750621575788505//82719084136873536*y^13*z^3-8976178966173904584655//82719084136873536*y^6*z^4-4809050958123//63826453809316*y+519305050651984582619//27573028045624512*y^13*z^14+9194217827749551293033//165438168273747072*y^8*z^16-1467942255813140357777//9191009348541504*y*z^10-12326973014033605339//41359542068436768*y^7+722645505447469691173//20679771034218384*y^9*z^3+13428983371733979582463//82719084136873536*y^3*z^12-4263370241583429866//1292485689638649*y^6*z-4769780596961912209913//165438168273747072*y^4*z^5-135124259652984342211//165438168273747072*y^6*z^21+70319307118806961603//7519916739715776*y*z^4-1977785067691352024477//20679771034218384*y^7*z^6+179350866590421033091//41359542068436768*y^5*z^22-4809050958123//31913226904658*x*y*z^2+23850276371294529995//2297752337135376*y^9*z^17+1681588333329822566005//41359542068436768*y^4*z^9-4809050958123//127652907618632*x*z^5-1687536479608802375053//41359542068436768*y^13*z^7-7604020505891940232439//41359542068436768*y^5*z^15-36385074615410104220555//165438168273747072*y^10*z^10+19790333161//1725655536*y*z^27\n",
      "(28,29)\n",
      "\t34509116147//52488*x*z^13-1561878043//157464*y^4*z^25-123831763//78732*y^12*z^20-44635358702//6561*y^5*z^12-39945730//19683*y^10+8847979195//39366*y^5*z^5+125633315423//78732*z^9-22988767615//13122*y^2*z^16-8073032033//6561*y^3*z^5-37121566889//157464*y^11*z^18-63134226265//78732*y*z^6-35995097303//157464*y^10*z^19+91875179//6561*x*z^26-3203647546//19683*y^5*z^4+3994573//157464*x*z^29-12586899523//6561*y^9*z^7+54218339329//39366*y^5*z^6-48458165063//39366*y^9*z^4-39945730//19683*y^2*z^2+1897422175//2916*y^12*z^8+339538705//2916*z^25-18930281447//39366*y^2*z^8+159782920//6561*y^8*z-164148988289//157464*y^11*z^16-691061129//6561*y^8*z^21-211420765171//78732*y^9*z^6-99864325//78732*y^10*z^22+83458613689//157464*y^3*z^22-111332744083//157464*x*z^17-10645537045//6561*y^10*z^15-7242160849//78732*y^7*z^22+7989146//19683*y^3*z^27+25233717641//157464*x*z^21-20879633071//26244*y^13*z^13-82763557987//78732*y^6*z^16+19972865//8748*z^28-39945730//19683*y*z^2+555245647//19683*y^14*z^2+271630964//2187*x*z^24+144072264391//39366*y^9*z^11-159782920//6561*y^9*z-23228441995//78732*y^7*z^21+74518759315//157464*z^12-531625736851//78732*y^4*z^12+7989146//19683*y^14-379484435//13122*y^2*z^24-48082675201//39366*y^9*z^14+287749066055//78732*y^3*z^8+59507153981//17496*z^10-3994573//6561*y^11*z^21+63913168//19683*y^6-483343333//26244*y^7*z^23-1274268787//78732*y^13*z^18+397400094905//157464*y^6*z^14+4414003165//52488*y^3*z^24-115842617//78732*y^8*z^23+3994573//324*z^27-51929449//19683*y^2*z^26-247663526//19683*y^14*z^17+34061723971//19683*y^11*z^9-89106939911//157464*y^10*z^18-2716309640//19683*y^5*z^3-2656391045//19683*y^3*z^2-2736282505//19683*y^10*z^2+39945730//19683*y^8-1777584985//13122*y^12*z^16+172753298531//157464*x*z^14+22030070095//5832*y^4*z^16-3994573//26244*y*z^28-27962011//26244*y^4*z^26+162575126527//52488*y^6*z^12+818887465//486*y^3*z^16-315571267//26244*y^2*z^25-63589607587//78732*y^2*z^6-25517332324//19683*y^3*z^17+30003237803//39366*y^7*z^3-2009270219//157464*y^10*z^21-20711861005//26244*x*z^19-30698293505//157464*x*z^9-63913168//6561*y^5*z-461664785329//157464*y^11*z^6-13317906382//2187*y^5*z^11+6954551593//8748*y^12*z^6-39945730//19683*y^3-103858898//6561*x*z^7+255652672//6561*y^7*z-30698293505//13122*y^5*z^10+75896887//4374*y^3*z^25-10238090599//13122*y^12*z^12+2736282505//26244*y^12*z^3-48697839443//39366*y^10*z^4-58716228527//39366*y^3*z^13-8128956055//26244*y^14*z^11-436067561545//78732*y^8*z^9+8224825807//78732*y^14*z^3-44251879694//19683*y^11*z^5+15606796711//8748*y^4*z^14-55924022//19683*y*z^24+28764920173//8748*z^11-30746228381//78732*y^2*z^5+182779676761//39366*y^7*z^13-1298236225//1458*y*z^16-101042724035//78732*y^11*z^15+18235225745//78732*x*z^23-109559153671//78732*y^8*z^17+117540310525//39366*y^4*z^7+24978064969//26244*y^2*z^19+35467813667//13122*y^5*z^17-46189247599//157464*y^4*z^22-2189026004//2187*y*z^7-39945730//19683*z^2-39190755703//78732*y^4*z^20+90784660571//26244*y^4*z^8-1010626969//39366*y^2*z^23-195734077//39366*y^9*z^22+23963443427//78732*y^13*z^9-3994573//157464*y^4*z^27-231233847251//78732*y^2*z^15+75693163777//26244*y^7*z^15+7989146//19683*y^12-159782920//6561*y^11*z-19972865//39366*y^9*z^23-39945730//19683*y^11+5756179693//6561*y^12*z^7-5228896057//26244*y^9*z^18-27438721937//8748*y^4*z^10-2464651541//2916*y^2*z^13-675082837//78732*y^6*z^23-15978292//19683*y^5-29835465737//4374*y^4*z^11-378042394147//157464*y^3*z^18+31956584//6561*y^14*z+183738374281//78732*y^11*z^12-3159707243//8748*y^8*z^20+9650888368//19683*y^6*z^19+1729650109//2916*y*z^19+2656391045//19683*y^8*z^2+13681412525//13122*y^2*z^9+82559834764//19683*y^4*z^15+3591121127//13122*y^12*z^4+45030821429//26244*y^7*z^12+35108302097//19683*y^7*z^4+16901038363//4374*y^5*z^16-267636391//2187*z^4-43984243303//157464*y^14*z^14+794920027//1458*y^14*z^9+962692093//4374*y^5*z^14+13833206299//8748*y^3*z^7+347292171193//78732*y^6*z^13-66289938935//78732*y^8*z^19-300020394311//78732*y^3*z^11-159782920//6561*y^3*z-1769595839//39366*y^8*z^11+427419311//4374*y*z^22+1202366473//4374*y^13*z^4-112595029151//78732*y^8*z^7+23132572243//78732*y^9*z^8+5300798371//4374*y*z^12-39945730//19683*y^9-117588245401//157464*z^20+552757028021//157464*y^11*z^10-3459300218//2187*y*z^13+409128161233//157464*y^6*z^6+21646591087//39366*y^14*z^5-68974291991//78732*y^13*z^12-427419311//6561*y^12*z^17-7989146//81*y^5*z^19+283614683//972*x*z^22+555245647//19683*y^12*z^2-5580418481//13122*y^12*z^14+440094091129//78732*y^8*z^13-22365614227//39366*y^6*z^17+13166112608//19683*y^8*z^6-75896887//39366*y^7*z^24-85847368343//13122*y^7*z^10-3155712670//19683*y^4*z^4+24610564253//157464*y^3*z^10-63913168//6561*y^4*z+144815254969//157464*x*z^15+25241706787//78732*y*z^20-102464792023//26244*y^6*z^8-1274268787//19683*y^11*z^19-3407370769//8748*z^5-9199501619//2916*y*z^14-7589688700//19683*y*z^8-8824011757//19683*y^4*z^21-242482564819//157464*y^10*z^16+4322127986//19683*y^7*z^2+12890487071//39366*y^6*z^20+3994573//157464*y^14*z^20+2464651541//4374*y^3*z^21-75896887//26244*y^13*z^19-43289187601//19683*y^10*z^7-1753617547//1944*y^10*z^14+9990427073//13122*y^6*z^3+19972865//52488*x*z^28-2712315067//19683*y^4*z^3-51929449//6561*y^12*z^19-4741558151//6561*y^12*z^11+1386116831//8748*y^12*z^9-1769595839//78732*y^9*z^21+1825519861//39366*z^26-2201009723//8748*y^12*z^15-2772233662//19683*y^4*z^23+56007908033//19683*y^7*z^5-8188874650//19683*y^5*z^21+1673726087//26244*z^23-2979951458//2187*y^8*z^18+55073177951//78732*y^2*z^20+14112826409//19683*y^2*z^18+406252068673//157464*y^10*z^9+711045977719//157464*y^8*z^14-89106939911//26244*y^7*z^8+26559915877//26244*y^14*z^7+4693623275//8748*z^19-98462229877//78732*y^7*z^18-628310381743//157464*y^8*z^10+73192561079//26244*z^17+35467813667//78732*y^8*z^3+3227614984//6561*y^11*z^13-27662418025//39366*y^13*z^11-24682466567//78732*x*z^11+67927713865//19683*y^3*z^9+4322127986//19683*y^6*z^2+41555542919//39366*y^5*z^18+103471424419//78732*y^8*z^5+120727979779//157464*y^10*z^13-88004437763//78732*y^9*z^15-1945357051//486*y^5*z^13-37672817963//39366*y^3*z^4-6642974899//19683*y^13*z^15+36618250691//13122*y^6*z^5-43940303//39366*y^5*z^25-117867865511//78732*y^3*z^19-4669655837//78732*y^13*z^17-5149004597//39366*y^10*z^8-2057205095//78732*y^12*z^18-229396343671//78732*z^15+13321900955//6561*y^4*z^17-19972865//78732*y^2*z^27+906768071//6561*y^6*z^7+11196788119//6561*y^5*z^9+151793774//2187*y^2*z^22-11388527623//4374*y*z^15-247663526//19683*y^5*z^24+7989146//19683*y^13-62551018607//78732*z^6-159782920//6561*y^10*z-3994573//26244*y^12*z^21-1290247079//19683*y^5*z^23-2736282505//19683*y^9*z^2-91875179//8748*y*z^25-167680190821//157464*y^10*z^17+283614683//5832*x*z^25-39190755703//78732*y^10*z^3+32304111851//39366*y^13*z^6+11332603601//52488*y^6*z^18-34469170417//157464*z^8-2392749227//19683*y^3*z^20-3994573//157464*y^10*z^23-15978292//19683*y^4+555245647//19683*y^13*z^2-28876768217//4374*y^7*z^9+21191209765//39366*y^7*z^7+56750898611//13122*y^9*z^10-9678850379//13122*y^7*z^17+63158193703//39366*y^9*z^12+3623077711//13122*y^14*z^4+615671552771//157464*y^8*z^12-147323846813//52488*y^10*z^6-51929449//17496*y^6*z^24-6898627571//26244*y^13*z^10+60298079435//78732*y^13*z^8+177818417095//39366*y^10*z^11-2736282505//19683*y^11*z^2-28589158961//13122*y^9*z^5+7002486469//157464*x*z^12+38423797687//39366*y^8*z^4+3639056003//52488*y^14*z^10+411441019//157464*y^3*z^26+56559159107//78732*y^7*z^16-271630964//19683*y^6*z^15+17935632770//19683*y^14*z^8-1002637823//972*y^2*z^7+102872238469//26244*y^3*z^15-18570769877//52488*z^22-3994573//78732*y^7*z^25-8768087735//26244*x*z^10-67664072047//78732*z^21-19972865//78732*y^13*z^20-9878579029//19683*y^5*z^20-990654104//19683*y^5*z^2+42737936527//78732*y^13*z^5-44503537793//52488*y^11*z^14-151793774//6561*y*z^3+134740941863//78732*y^2*z^12-267636391//157464*y^14*z^18-914425667441//157464*y^6*z^10+46732509527//17496*y^3*z^14-655936848611//157464*y^8*z^8-532728238999//78732*y^6*z^9+230514824111//78732*y^10*z^12+125928913825//39366*y^2*z^11-151793774//6561*z^3+31956584//6561*y^12*z+3994573//157464*y^6*z^26+2991935177//6561*y*z^17+133350830459//157464*y^14*z^6+3994573//648*y^6*z^22+4174328785//6561*z^16+4653677545//26244*y*z^21-126767774155//26244*z^14-2488618979//6561*y^12*z^10+3515224240//6561*y^12*z^5-219701515//39366*y*z^26-198038945621//78732*y^11*z^7-56918670677//78732*y^11*z^8-14240652745//52488*y^4*z^19+3994573//78732*y^11*z^22+1481986583//2916*y^4*z^18-4154355920//6561*y^12*z^13+58184950318//19683*y^5*z^7-55368776353//52488*x*z^18-19992837865//78732*y^2*z^17-151793774//6561*y^2*z^3+222126220811//157464*y^4*z^6-4382046581//17496*x*z^20-555245647//52488*y^11*z^20-48937513823//39366*y^11*z^4+3994573//157464*y^8*z^24+77754363445//39366*y^8*z^15+9151566743//52488*z^24-174271236271//78732*y^10*z^5-11772006631//26244*y^3*z^3-85607693963//26244*z^13+229875692431//78732*y^9*z^9-4198296223//26244*y^13*z^16-233918200307//78732*y^7*z^11-7409932915//157464*y^4*z^24+3994573//13122*z^29-990654104//19683*y^4*z^2-10517710709//157464*y^10*z^20-10909178863//78732*y^14*z^15-8312706413//17496*y^3*z^6+21526753897//26244*y*z^18-758968870//2187*y^9*z^13-75637239755//26244*y^4*z^13+35979119011//13122*y^2*z^10+367680471785//157464*z^18+46708542089//13122*y^5*z^8+288755698451//78732*y^11*z^11-19972865//78732*y^6*z^25-7697542171//13122*y^11*z^17-17444300291//26244*y^7*z^20-738996005//39366*y^8*z^22-2656391045//52488*y^14*z^16-267636391//2187*y^2*z^4+82068502285//26244*y*z^11-9231458203//19683*y^14*z^12-31956584//19683*x*z^6+6415284238//19683*y^2*z^21-8895914071//13122*y^9*z^16+3994573//78732*y^3*z^28+185887454555//39366*y^7*z^14+451386749//157464*x*z^27-30706282651//78732*y*z^5-794920027//6561*y^9*z^19-9519067459//8748*y^7*z^19+31956584//6561*y^13*z-2824163111//39366*x*z^8-215942621807//78732*y^2*z^14-12075594179//8748*y^6*z^11-5564440189//13122*y^14*z^13+6970529885//26244*y^3*z^23+3994573//157464*z^30-39230701433//78732*y^11*z^3-25049967283//26244*z^7+675082837//19683*y*z^23-4893351925//78732*y^9*z^20+96329127895//78732*y*z^9+2464651541//17496*x*z^16+8216836661//78732*y^13*z^3+34916562593//19683*y^6*z^4-22621266899//39366*y^13*z^14-48681861151//157464*y^8*z^16+76508056669//26244*y*z^10+63913168//19683*y^7-483343333//972*y^9*z^3-246293387461//52488*y^3*z^12+255652672//6561*y^6*z+9343306247//39366*y^4*z^5+2808184819//26244*y^6*z^21-267636391//2187*y*z^4+54797552414//19683*y^7*z^6-4046502449//19683*y^5*z^22-13849184591//39366*y^9*z^17+66817222571//52488*y^4*z^9+4118404763//4374*y^13*z^7+7066399637//2187*y^5*z^15+702889059653//157464*y^10*z^10-27962011//19683*y*z^27\n",
      "(27,29)\n",
      "(26,28)\n",
      "(26,29)\n",
      "(25,29)\n",
      "(25,27)\n",
      "(25,28)\n",
      "(24,29)\n",
      "(24,28)\n",
      "(24,27)\n",
      "(24,26)\n",
      "(23,29)\n",
      "(23,27)\n",
      "(23,28)\n",
      "(23,26)\n",
      "(23,25)\n",
      "(22,25)\n",
      "(22,29)\n",
      "(22,27)\n",
      "(22,24)\n",
      "(22,28)\n",
      "(22,26)\n",
      "(21,23)\n",
      "(21,28)\n",
      "(21,24)\n",
      "(21,26)\n",
      "(21,29)\n",
      "(21,27)\n",
      "(21,25)\n",
      "(20,28)\n",
      "(20,23)\n",
      "(20,25)\n",
      "(20,26)\n",
      "(20,24)\n",
      "(20,22)\n",
      "(20,29)\n",
      "(20,27)\n",
      "(19,26)\n",
      "(19,25)\n",
      "(19,28)\n",
      "(19,24)\n",
      "(19,23)\n",
      "(19,22)\n",
      "(19,21)\n",
      "(19,29)\n",
      "(19,27)\n",
      "(18,21)\n",
      "(18,28)\n",
      "(18,29)\n",
      "(18,22)\n",
      "(18,20)\n",
      "(18,24)\n",
      "(18,23)\n",
      "(18,27)\n",
      "(18,26)\n",
      "(18,25)\n",
      "(17,19)\n",
      "(17,25)\n",
      "(17,28)\n",
      "(17,22)\n",
      "(17,20)\n",
      "(17,21)\n",
      "(17,27)\n",
      "(17,23)\n",
      "(17,24)\n",
      "(17,26)\n",
      "(17,29)\n",
      "(17,30)\n",
      "\t341//1*y^12*z^20+18488//1*y^15*z^12+12210//1*y^15*z^11+64881//1*z^9-31780//1*y^3*z^5-6600//1*y^9*z^7-86760//1*y^9*z^4+48605//1*y^12*z^8+987//1*z^25-576//1*y^8*z+1995//1*y^15*z^16-201//1*y^8*z^21-127270//1*y^9*z^6+17185//1*y^3*z^22+72//1*z^28-271590//1*y^6*z^16+33458//1*z^12+153000//1*y^9*z^11-1920//1*y^9*z-84267//1*y^4*z^12-286980//1*y^9*z^14+183700//1*y^3*z^8+138156//1*z^10+160//1*y^6+167320//1*y^6*z^14+8605//1*y^3*z^24+3//1*y^8*z^23+429//1*z^27-10884//1*y^15*z^4-5240//1*y^3*z^2-48//1*y^8-21676//1*y^15*z^5+43085//1*y^12*z^16+102510//1*y^4*z^16+16716//1*y^15*z^13+3//1*y^4*z^26+476900//1*y^6*z^12+219455//1*y^3*z^16+43060//1*y^3*z^17+145878//1*y^12*z^6-80//1*y^3+2480//1*y^3*z^25-124593//1*y^12*z^12+23748//1*y^12*z^3-115880//1*y^3*z^13+35673//1*y^8*z^9+147987//1*y^4*z^14+138962//1*z^11-31545//1*y^8*z^17+54954//1*y^4*z^7-5985//1*y^4*z^22-80//1*z^2-30054//1*y^4*z^20-18960//1*y^4*z^8+690//1*y^9*z^22+96//1*y^12+130984//1*y^12*z^7+70880//1*y^9*z^18-198513//1*y^4*z^10+4960//1*y^6*z^23-92660//1*y^3*z^18-187122//1*y^4*z^11-1491//1*y^8*z^20+18180//1*y^6*z^19-3336//1*y^8*z^2+159018//1*y^4*z^15+59744//1*y^12*z^4-5//1*y^12*z^22-4824//1*z^4+114350//1*y^3*z^7+444960//1*y^6*z^13-5985//1*y^8*z^19-293000//1*y^3*z^11-960//1*y^3*z+144390//1*y^8*z^11-39894//1*y^15*z^7-87030//1*y^8*z^7+199620//1*y^9*z^8-160//1*y^9+14657//1*z^20+40510//1*y^6*z^6+24334//1*y^12*z^17+6592//1*y^12*z^2+26374//1*y^12*z^14+58347//1*y^8*z^13-220480//1*y^6*z^17-87795//1*y^8*z^6+31500//1*y^4*z^4-84635//1*y^3*z^10+576//1*y^4*z-326890//1*y^6*z^8-33383//1*y^15*z^6-21492//1*y^15*z^9-15334//1*z^5-15984//1*y^4*z^21+52280//1*y^6*z^20-10780//1*y^3*z^21+35420//1*y^6*z^3+12258//1*y^4*z^3+2480//1*y^12*z^19-180720//1*y^12*z^11-70518//1*y^12*z^9+4960//1*y^9*z^21+1151//1*z^26+50808//1*y^12*z^15-1494//1*y^4*z^23-15154//1*z^23-16185//1*y^8*z^18-3597//1*y^8*z^14+79374//1*z^19+89333//1*z^17+111483//1*y^8*z^10-12306//1*y^8*z^3+67//1*y^15*z^18+121540//1*y^3*z^9+10640//1*y^6*z^2-61692//1*y^8*z^5-157600//1*y^9*z^15-32660//1*y^3*z^4+98980//1*y^6*z^5-119330//1*y^3*z^19+9573//1*y^12*z^18-162203//1*z^15+27948//1*y^4*z^17-129720//1*y^6*z^7-35920//1*y^15*z^8-31154//1*z^6-10800//1*y^9*z^2-86270//1*y^6*z^18-192//1*y^15*z-7423//1*z^8-69275//1*y^3*z^20+48//1*y^4-10//1*y^9*z^24+357240//1*y^9*z^10-16//1*y^15-119660//1*y^9*z^12+119940//1*y^8*z^12+700//1*y^6*z^24-136320//1*y^9*z^5+355//1*y^3*z^26-32076//1*y^8*z^4-134360//1*y^6*z^15+289660//1*y^3*z^15-28023//1*z^22-24013//1*z^21-1112//1*y^15*z^2-157620//1*y^6*z^10+154790//1*y^3*z^14-42732//1*y^8*z^8-372800//1*y^6*z^9-912//1*z^3+1152//1*y^12*z-4118//1*y^15*z^3-10//1*y^6*z^26+17910//1*y^6*z^22-29391//1*z^16-206113//1*z^14+496//1*y^15*z^17-163202//1*y^12*z^10+109466//1*y^12*z^5-38178//1*y^4*z^19-22893//1*y^4*z^18-39246//1*y^12*z^13-2733//1*y^15*z^10+75489//1*y^4*z^6-119307//1*z^13-3545//1*z^24-39078//1*y^8*z^15-16750//1*y^3*z^3+366200//1*y^9*z^9+z^29-201//1*y^4*z^24+3336//1*y^4*z^2+17725//1*y^3*z^6-291960//1*y^9*z^13+53136//1*y^4*z^13+123060//1*z^18+11011//1*y^15*z^14-15390//1*y^9*z^16-5//1*y^3*z^28-y^15*z^20+44700//1*y^9*z^19+5462//1*y^15*z^15+213200//1*y^6*z^11+17390//1*y^3*z^23-z^30-37044//1*z^7+18600//1*y^9*z^20+75960//1*y^6*z^4-44163//1*y^8*z^16-37340//1*y^9*z^3-317260//1*y^3*z^12+1920//1*y^6*z+58356//1*y^4*z^5+39740//1*y^6*z^21+62880//1*y^9*z^17-123468//1*y^4*z^9\n",
      "(20,30)\n",
      "(19,30)\n",
      "(28,30)\n",
      "(25,30)\n",
      "(22,30)\n",
      "(26,30)\n",
      "(29,30)\n",
      "(18,30)\n",
      "(23,30)\n",
      "(24,30)\n",
      "(21,30)\n",
      "(27,30)\n",
      "(16,29)\n",
      "\t-3994573//52488*y^4*z^25-6677225//78732*y^12*z^20-176884591261//629856*y^15*z^12-2348510053//8748*y^15*z^11-180319833827//104976*z^9+198480951475//629856*y^3*z^5-463045515245//314928*y^9*z^7+15614417995//8748*y^9*z^4+159843846845//629856*y^12*z^8-14231495501//629856*z^25+107713453//6561*y^8*z-7212215053//629856*y^15*z^16+1335445//26244*y^8*z^21+432618048835//314928*y^9*z^6-24959384285//78732*y^3*z^22+19972865//157464*y^3*z^27-246869//5832*z^28+1300263060545//314928*y^6*z^16+526275120679//629856*z^12+2954657435//19683*y^9*z^11+1077134530//19683*y^9*z+330463459//5832*y^4*z^12+1066976766055//314928*y^9*z^14-456473820115//157464*y^3*z^8-260881486261//104976*z^10-777884615//157464*y^6+12982103185//26244*y^6*z^14-35847404065//629856*y^3*z^24-125979335//69984*z^27+74381162945//314928*y^15*z^4+42700549255//314928*y^3*z^2+155576923//104976*y^8+29659584035//69984*y^15*z^5-50054263037//104976*y^12*z^16-44348003677//52488*y^4*z^16-64064571341//314928*y^15*z^13-1144477822325//629856*y^3*z^16-2533703959085//314928*y^6*z^12+573985143095//629856*y^3*z^17-362632232329//157464*y^12*z^6+777884615//314928*y^3-5642596415//629856*y^3*z^25+234345756517//209952*y^12*z^12-177323710507//314928*y^12*z^3-498740106295//629856*y^3*z^13-265355666599//209952*y^8*z^9-30421919713//11664*y^4*z^14-30624603140//19683*z^11+22551722531//69984*y^8*z^17-2662666439//6561*y^4*z^7+2414723879//69984*y^4*z^22+777884615//314928*z^2+11098426913//34992*y^4*z^20+39569799439//34992*y^4*z^8-6677225//39366*y^9*z^22-155576923//52488*y^12+19972865//78732*y^9*z^23-313672534139//209952*y^12*z^7-15085007545//17496*y^9*z^18+681458024377//209952*y^4*z^10-1854234985//104976*y^6*z^23+420673073075//209952*y^3*z^18+50934914369//23328*y^4*z^11+354868705//69984*y^8*z^20-15754863295//19683*y^6*z^19+3054139181//34992*y^8*z^2-427162483459//209952*y^4*z^15-44497209995//34992*y^12*z^4+39086072741//314928*z^4-825919066045//314928*y^3*z^7-376211451275//78732*y^6*z^13+7228193345//209952*y^8*z^19+3496851788585//629856*y^3*z^11+538567265//19683*y^3*z-8281881569//3888*y^8*z^11+94820786833//157464*y^15*z^7+38420136907//34992*y^8*z^7-761389115305//157464*y^9*z^8+777884615//157464*y^9+163767117389//629856*z^20+129500998985//314928*y^6*z^6-128484657935//629856*y^12*z^17-54196620643//314928*y^12*z^2-472104314057//629856*y^12*z^14-56475087079//209952*y^8*z^13+112863277975//52488*y^6*z^17+3994573//157464*y^15*z^19+8437310117//5832*y^8*z^6-23644777483//34992*y^4*z^4+2167232555245//629856*y^3*z^10-107713453//6561*y^4*z+651798759815//104976*y^6*z^8+365723426461//629856*y^15*z^6+5575986659//34992*y^15*z^9+24495389003//69984*z^5+8984363935//69984*y^4*z^21-78525298715//104976*y^6*z^20-16676785525//78732*y^3*z^21-258198853805//314928*y^6*z^3-20452651519//69984*y^4*z^3-1806300109//209952*y^12*z^19+84244174567//34992*y^12*z^11+80888073593//39366*y^12*z^9-5482813495//314928*y^9*z^21-1015698523//104976*z^26-119699739965//157464*y^12*z^15+354868705//69984*y^4*z^23+5121938603//52488*z^23+26963775365//209952*y^8*z^18+2788137503//5832*y^8*z^14-120711738829//209952*z^19-138479054353//69984*z^17-450937202935//209952*y^8*z^10+61669108403//209952*y^8*z^3-1335445//78732*y^15*z^18-24842295865//52488*y^3*z^9-7246405645//26244*y^6*z^2+82870473743//69984*y^8*z^5+300955513115//314928*y^9*z^15+193324771555//314928*y^3*z^4-9514162610//6561*y^6*z^5+464628740285//314928*y^3*z^19-35996973905//629856*y^12*z^18+890513269933//629856*z^15+10905927505//69984*y^4*z^17+597579163405//157464*y^6*z^7+15451604495//34992*y^15*z^8+378667491841//629856*z^6+19972865//157464*y^12*z^21+44256318485//157464*y^9*z^2+4780480165//39366*y^6*z^18+107713453//19683*y^15*z-18595650721//52488*z^8+273819737465//629856*y^3*z^20-155576923//104976*y^4-655470977405//157464*y^9*z^10+155576923//314928*y^15+1222762004275//314928*y^9*z^12-277252351123//209952*y^8*z^12-6677225//39366*y^6*z^24+244037603855//104976*y^9*z^5-6677225//78732*y^3*z^26+72657747697//104976*y^8*z^4+1251164810945//314928*y^6*z^15-2756010616045//629856*y^3*z^15+50285881249//157464*z^22+38565952265//78732*z^21+3054139181//104976*y^15*z^2-26479534475//39366*y^6*z^10-2689489197305//629856*y^3*z^14+1243624955//23328*y^8*z^8+746632938595//157464*y^6*z^9+8150345471//314928*z^3-215426906//6561*y^12*z+61980262249//629856*y^15*z^3-35900821865//314928*y^6*z^22-32879523509//39366*z^16+669426720091//209952*z^14-354868705//209952*y^15*z^17+8428558973//2916*y^12*z^10-1291716226645//629856*y^12*z^5+28422183571//52488*y^4*z^19+122946356971//209952*y^4*z^18-6390730249//52488*y^12*z^13-23884685201//209952*y^15*z^10-242074055809//209952*y^4*z^6+1875038519209//629856*z^13-2911562899//314928*z^24+3123127757//4374*y^8*z^15+240964701325//629856*y^3*z^3-1956311392435//314928*y^9*z^9+3994573//157464*z^29+1335445//26244*y^4*z^24-3054139181//34992*y^4*z^2-603107409835//629856*y^3*z^6+388030081015//78732*y^9*z^13-2739320249//1458*y^4*z^13-85950687395//52488*z^18+19972865//78732*y^6*z^25-3994573//52488*y^8*z^22-212098067//1944*y^15*z^14-116643147245//157464*y^9*z^16-41382114005//104976*y^9*z^19-26974458925//629856*y^15*z^15-667861970465//104976*y^6*z^11-113100823565//629856*y^3*z^23+313400477863//629856*z^7-11984746555//104976*y^9*z^20-236803205425//157464*y^6*z^4+4478404727//7776*y^8*z^16+3400407485//3888*y^9*z^3+2321867683285//629856*y^3*z^12-1077134530//19683*y^6*z-76762195381//69984*y^4*z^5-14832941065//39366*y^6*z^21-376224154735//314928*y^9*z^17+569098830811//209952*y^4*z^9\n",
      "(31,32)\n",
      "\t24045254790615//63826453809316*y^12*z^20-16065481510845675//31913226904658*y^15*z^12-41465580046589601//63826453809316*y^15*z^11-90014323082652405//15956613452329*z^9-11553977948635575//15956613452329*y^3*z^5-280753443405511605//31913226904658*y^9*z^7+15199652036479725//2901202445878*y^9*z^4+229753387638036711//63826453809316*y^12*z^8-431262450708687//15956613452329*z^25+2708470913774211//31913226904658*y^8*z-319296975264225//63826453809316*y^15*z^16-14427152874369//63826453809316*y^8*z^21-18356902328726235//31913226904658*y^9*z^6-695780729312265//1450601222939*y^3*z^22+4809050958123//63826453809316*z^28+196584516906029685//31913226904658*y^6*z^16+16977380100812091//2901202445878*z^12+113832290446748865//15956613452329*y^9*z^11+4514118189623685//15956613452329*y^9*z-210367733819712507//63826453809316*y^4*z^12+54311171584393755//15956613452329*y^9*z^14-124883058163196115//31913226904658*y^3*z^8-118515626605215//23976879718*z^10-475413913015290//15956613452329*y^6+127705030809464970//15956613452329*y^6*z^14-153878717771235//5802404891756*y^3*z^24-2391198244785//15956613452329*z^27+49774632551478567//63826453809316*y^15*z^4+9377649446737725//15956613452329*y^3*z^2+142624173904587//15956613452329*y^8+19075716181042074//15956613452329*y^15*z^5-8807195318045625//15956613452329*y^12*z^16-2470936387828779//63826453809316*y^4*z^16-18125743611372723//63826453809316*y^15*z^13+58825544712900255//63826453809316*y^3*z^16-448703158712005215//31913226904658*y^6*z^12+290281928288090715//63826453809316*y^3*z^17-276817454156590623//63826453809316*y^12*z^6+237706956507645//15956613452329*y^3-23778710105085//63826453809316*y^3*z^25+4310763551447490//15956613452329*y^12*z^12-67770829864006515//31913226904658*y^12*z^3-546580527297021675//63826453809316*y^3*z^13-284802965670889143//63826453809316*y^8*z^9-82666951408437912//15956613452329*y^4*z^14+323727018613263//31913226904658*z^11+22272470648197659//63826453809316*y^8*z^17+76150679233250367//63826453809316*y^4*z^7+957890925792675//63826453809316*y^4*z^22+237706956507645//15956613452329*z^2+5564550855533652//15956613452329*y^4*z^20+82216944915472773//15956613452329*y^4*z^8+24045254790615//31913226904658*y^9*z^22-285248347809174//15956613452329*y^12-26323012437651873//31913226904658*y^12*z^7-33927548116334985//31913226904658*y^9*z^18+390162085196324409//63826453809316*y^4*z^10-23778710105085//31913226904658*y^6*z^23+250619142526936875//63826453809316*y^3*z^18+103810272424213419//63826453809316*y^4*z^11+14267226063051//63826453809316*y^8*z^20-29839085932059000//15956613452329*y^6*z^19+6197086363660983//15956613452329*y^8*z^2-41155936112909628//15956613452329*y^4*z^15-128666943108899091//31913226904658*y^12*z^4+16997655805731819//31913226904658*z^4-477520469050599045//63826453809316*y^3*z^7-5433309650821725//2901202445878*y^6*z^13+957890925792675//63826453809316*y^8*z^19+704275842613111965//63826453809316*y^3*z^11+4514118189623685//31913226904658*y^3*z-228557803368243555//63826453809316*y^8*z^11+72360058082690871//63826453809316*y^15*z^7+16939069148409228//15956613452329*y^8*z^7-453676093385121675//31913226904658*y^9*z^8+475413913015290//15956613452329*y^9+73667268481874229//63826453809316*z^20+92776537365001605//15956613452329*y^6*z^6-2578023247223547//15956613452329*y^12*z^17-1105133251892211//1450601222939*y^12*z^2-58040669679967665//31913226904658*y^12*z^14+50948403520496715//63826453809316*y^8*z^13+33560150324687055//31913226904658*y^6*z^17+190560360403361529//63826453809316*y^8*z^6-138490013999338857//63826453809316*y^4*z^4+402162265258614675//31913226904658*y^3*z^10-2708470913774211//31913226904658*y^4*z+217659595528197720//15956613452329*y^6*z^8+87615102818997243//63826453809316*y^15*z^6-3659609535649569//31913226904658*y^15*z^9+19407523802394582//15956613452329*z^5+1558307692590228//15956613452329*y^4*z^21-16141486365216315//15956613452329*y^6*z^20-49408880553412965//63826453809316*y^3*z^21-46695102142487445//15956613452329*y^6*z^3-17785988665598376//15956613452329*y^4*z^3-23778710105085//63826453809316*y^12*z^19+53049346230760479//15956613452329*y^12*z^11+405715604841249183//63826453809316*y^12*z^9-23778710105085//31913226904658*y^9*z^21-338586488033823//63826453809316*z^26-78219965127639267//63826453809316*y^12*z^15+14267226063051//63826453809316*y^4*z^23-104507047968021//15956613452329*z^23+6218803617486543//63826453809316*y^8*z^18+102110002265508093//63826453809316*y^8*z^14+958996640745603//2901202445878*z^19-135806597514501093//31913226904658*z^17-322405808602687497//63826453809316*y^8*z^10+17928612839502963//15956613452329*y^8*z^3+4809050958123//63826453809316*y^15*z^18+83104316850778785//15956613452329*y^3*z^9-19230712806490740//15956613452329*y^6*z^2+51030062179465239//15956613452329*y^8*z^5-36411091560241065//31913226904658*y^9*z^15+89322493349283435//63826453809316*y^3*z^4-23587146245216295//15956613452329*y^6*z^5+93238322188805055//63826453809316*y^3*z^19-1625339182069863//63826453809316*y^12*z^18-47842404961065651//63826453809316*z^15+3628978709877747//2901202445878*y^4*z^17+430346176560166455//31913226904658*y^6*z^7+8680088602372896//15956613452329*y^15*z^8+96432548869295703//63826453809316*z^6+19706126719506030//15956613452329*y^9*z^2-27017312810453595//15956613452329*y^6*z^18+902823637924737//31913226904658*y^15*z-182114069781544551//63826453809316*z^8-5437913222618640//15956613452329*y^3*z^20-142624173904587//15956613452329*y^4-84670753924287765//31913226904658*y^9*z^10+47541391301529//15956613452329*y^15+182016202393858725//15956613452329*y^9*z^12-1691709814799469//1450601222939*y^8*z^12+24045254790615//31913226904658*y^6*z^24+74796366577327425//15956613452329*y^9*z^5+24045254790615//63826453809316*y^3*z^26+143906955826887279//63826453809316*y^8*z^4+161921039306388885//15956613452329*y^6*z^15-383608484771816745//63826453809316*y^3*z^15+4735098131358267//15956613452329*z^22+54441599952648411//63826453809316*z^21+2065695454553661//15956613452329*y^15*z^2-184502669730416955//15956613452329*y^6*z^10-704113220330935155//63826453809316*y^3*z^14-31186882736007534//15956613452329*y^8*z^8+97928909157051315//31913226904658*y^6*z^9+4228869841814511//31913226904658*z^3-2708470913774211//15956613452329*y^12*z+6023745671135850//15956613452329*y^15*z^3-834310320346485//15956613452329*y^6*z^22-276215511587218893//63826453809316*z^16+301588233935742981//63826453809316*z^14-4755742021017//63826453809316*y^15*z^17+96063260189171922//15956613452329*y^12*z^10-84335568730573194//15956613452329*y^12*z^5+52461448982532819//63826453809316*y^4*z^19+83969708982975333//63826453809316*y^4*z^18-98573438564711667//63826453809316*y^12*z^13-8777136196217907//15956613452329*y^15*z^10-118845909045349677//63826453809316*y^4*z^6+504676706421862935//63826453809316*z^13-925446149443197//15956613452329*z^24+22547128150115469//15956613452329*y^8*z^15+21090491976431880//15956613452329*y^3*z^3-189341176281281460//15956613452329*y^9*z^9-14427152874369//63826453809316*y^4*z^24-6197086363660983//15956613452329*y^4*z^2-313336993692268125//63826453809316*y^3*z^6+287430987052536705//31913226904658*y^9*z^13-93338553030796053//15956613452329*y^4*z^13-121223204041011939//63826453809316*z^18-3714456312376785//31913226904658*y^15*z^14-87962173737242175//31913226904658*y^9*z^16-5146535010405060//15956613452329*y^9*z^19-1034062744102029//31913226904658*y^15*z^15-303173466728030325//15956613452329*y^6*z^11-5122756300299975//31913226904658*y^3*z^23+1337637609728631//5802404891756*z^7-1644575385902355//31913226904658*y^9*z^20-127783918962264915//31913226904658*y^6*z^4+26709669954162747//31913226904658*y^8*z^16+51209220332111130//15956613452329*y^9*z^3+79697819251171305//63826453809316*y^3*z^12-4514118189623685//15956613452329*y^6*z-44832975815804256//15956613452329*y^4*z^5-10269291310705035//31913226904658*y^6*z^21-289137363160860//131872838449*y^9*z^17+118840831518562668//15956613452329*y^4*z^9\n",
      "(32,33)\n",
      "\t-482465917805605718619789//1566629146493505007684*y^15*z^12-203861765322950724110979//391657286623376251921*y^15*z^11-4592404396650072715983963//783314573246752503842*z^9-4815682981603312258508805//1566629146493505007684*y^3*z^5-10126981393871750275791825//783314573246752503842*y^9*z^7+2152395661083574739265180//391657286623376251921*y^9*z^4+8850517066587299272674021//1566629146493505007684*y^12*z^8-9453113052077102011857//1566629146493505007684*z^25+65703609730555811502642//391657286623376251921*y^8*z-97030523141453561517//1566629146493505007684*y^15*z^16-4399966240499836346928885//783314573246752503842*y^9*z^6-71897329240317903746655//391657286623376251921*y^3*z^22+1479053998834231668622785//783314573246752503842*y^6*z^16+12418363359962332355979891//1566629146493505007684*z^12+4231964562675331298187690//391657286623376251921*y^9*z^11+219012032435186038342140//391657286623376251921*y^9*z-2092303998491264780607891//391657286623376251921*y^4*z^12-354700887961302819849825//783314573246752503842*y^9*z^14+649073957100512840161650//391657286623376251921*y^3*z^8-1630086820569752071177431//783314573246752503842*z^10-26665649108239372587675//391657286623376251921*y^6+4047595820002706795714880//391657286623376251921*y^6*z^14-485152615707267807585//1566629146493505007684*y^3*z^24+130754589089986926009//1566629146493505007684*z^27+771503024784969674863083//783314573246752503842*y^15*z^4+759229959541799013468255//783314573246752503842*y^3*z^2+15999389464943623552605//783314573246752503842*y^8+1996158731352540633857187//1566629146493505007684*y^15*z^5-144473872142625982423929//783314573246752503842*y^12*z^16+427078599899087590041654//391657286623376251921*y^4*z^16-102156231260752466034699//783314573246752503842*y^15*z^13+6616137641171181922806975//1566629146493505007684*y^3*z^16-4078331875158567398750565//783314573246752503842*y^6*z^12+6826791651205190826397995//1566629146493505007684*y^3*z^17-860735181012589055650752//391657286623376251921*y^12*z^6+26665649108239372587675//783314573246752503842*y^3+653772945449934630045//1566629146493505007684*y^3*z^25-1995034631759625008112021//1566629146493505007684*y^12*z^12-2394681121703051144842923//783314573246752503842*y^12*z^3-17833771388194388888772555//1566629146493505007684*y^3*z^13-7697799616665951381953925//1566629146493505007684*y^8*z^9-2471430224813864700971871//783314573246752503842*y^4*z^14+1655750448224758992865572//391657286623376251921*z^11+174110220221730372508203//1566629146493505007684*y^8*z^17+1427037865210864099465866//391657286623376251921*y^4*z^7+291091569424360684551//1566629146493505007684*y^4*z^22+26665649108239372587675//783314573246752503842*z^2+87251241994500166643115//783314573246752503842*y^4*z^20+5356992641307081781774977//783314573246752503842*y^4*z^8-15999389464943623552605//391657286623376251921*y^12+3406652861454790260320007//1566629146493505007684*y^12*z^7-144279811096343075300895//391657286623376251921*y^9*z^18+4879020729754050451685883//1566629146493505007684*y^4*z^10+653772945449934630045//783314573246752503842*y^6*z^23+3024249263437080006493605//1566629146493505007684*y^3*z^18-3094342933519468342218969//1566629146493505007684*y^4*z^11-392263767269960778027//1566629146493505007684*y^8*z^20-443077717162322771153460//391657286623376251921*y^6*z^19+519535533584853902291373//783314573246752503842*y^8*z^2-749292264228403552551741//1566629146493505007684*y^4*z^15-3763125592735061545359543//783314573246752503842*y^12*z^4+681154038297166135638321//783314573246752503842*z^4-5029944341196667530612645//783314573246752503842*y^3*z^7+2431188854783349893089110//391657286623376251921*y^6*z^13+291091569424360684551//1566629146493505007684*y^8*z^19+7351876838032965333021465//1566629146493505007684*y^3*z^11+109506016217593019171070//391657286623376251921*y^3*z-1335118611103390562171085//783314573246752503842*y^8*z^11+273922533137829704540247//391657286623376251921*y^15*z^7-670973875527930797347767//783314573246752503842*y^8*z^7-5254213987382385405870765//391657286623376251921*y^9*z^8+26665649108239372587675//391657286623376251921*y^9+1497610852762662416249757//1566629146493505007684*z^20+8704757562666985825459245//783314573246752503842*y^6*z^6-45266380683383026272699//1566629146493505007684*y^12*z^17-1012405418061468431995071//783314573246752503842*y^12*z^2-2064893676119107769638593//1566629146493505007684*y^12*z^14+2320960695591440795690259//1566629146493505007684*y^8*z^13-573323850514209874979295//391657286623376251921*y^6*z^17+741323082952947325607964//391657286623376251921*y^8*z^6-2051694635432685778578681//783314573246752503842*y^4*z^4+20279048585915248649383545//1566629146493505007684*y^3*z^10-65703609730555811502642//391657286623376251921*y^4*z+6108461734264934464812645//783314573246752503842*y^6*z^8+1859661828650008828538973//1566629146493505007684*y^15*z^6-353135688452654149389501//783314573246752503842*y^15*z^9+2441036059986610014023799//1566629146493505007684*z^5+26689111889305862829987//1566629146493505007684*y^4*z^21-288074469576978882794205//783314573246752503842*y^6*z^20-209928065584863158425035//391657286623376251921*y^3*z^21-3042083062285945741922265//783314573246752503842*y^6*z^3-2549695596278462688974643//1566629146493505007684*y^4*z^3+653772945449934630045//1566629146493505007684*y^12*z^19+680662741612137942384243//783314573246752503842*y^12*z^11+2429019731047110970869738//391657286623376251921*y^12*z^9+653772945449934630045//783314573246752503842*y^9*z^21-113892556115720243763//783314573246752503842*z^26-242046022207228233671754//391657286623376251921*y^12*z^15-392263767269960778027//1566629146493505007684*y^4*z^23-25056203557417965017811//391657286623376251921*z^23+26689111889305862829987//1566629146493505007684*y^8*z^18+568155806855237069400393//391657286623376251921*y^8*z^14+1782776515305354435252441//1566629146493505007684*z^19-3876036063972034859010873//1566629146493505007684*z^17-6220968480809912046381417//1566629146493505007684*y^8*z^10+2581694375208349936079853//1566629146493505007684*y^8*z^3+4363251360576356336846175//391657286623376251921*y^3*z^9-785895608650038386055930//391657286623376251921*y^6*z^2+4949405126887914096988815//1566629146493505007684*y^8*z^5-2078592534392808266242245//783314573246752503842*y^9*z^15+553938794675258594565645//783314573246752503842*y^3*z^4+886799959658683258293270//391657286623376251921*y^6*z^5-130246133351887103825835//783314573246752503842*y^3*z^19-485152615707267807585//1566629146493505007684*y^12*z^18-5943175606095748709662215//1566629146493505007684*z^15+2098513007199217905093369//1566629146493505007684*y^4*z^17+5916744300855350788905915//391657286623376251921*y^6*z^7+37316006388562072501737//783314573246752503842*y^15*z^8+1776428245175278287625857//1566629146493505007684*z^6+812561257758277758643605//391657286623376251921*y^9*z^2-772597632301424168935410//391657286623376251921*y^6*z^18+21901203243518603834214//391657286623376251921*y^15*z-1917729388413679045363785//391657286623376251921*z^8-1257120795025869455076615//1566629146493505007684*y^3*z^20-15999389464943623552605//783314573246752503842*y^4+1831079438442771686414685//391657286623376251921*y^9*z^10+5333129821647874517535//783314573246752503842*y^15+7740490752044110771579935//783314573246752503842*y^9*z^12+671416377299107740477639//1566629146493505007684*y^8*z^12+1706507207838951302020005//783314573246752503842*y^9*z^5+2183101854893797401583965//783314573246752503842*y^8*z^4+5680143950176771076439405//783314573246752503842*y^6*z^15-817766240610071290261185//1566629146493505007684*y^3*z^15+2528768834790250841712//391657286623376251921*z^22+142905201260858885249874//391657286623376251921*z^21+173178511194951300763791//783314573246752503842*y^15*z^2-7085293425825157092285450//391657286623376251921*y^6*z^10-12173523515163980990180325//1566629146493505007684*y^3*z^14-5764580155726249466561139//1566629146493505007684*y^8*z^8-2809758420297361884786435//391657286623376251921*y^6*z^9+203012642970242414789535//783314573246752503842*z^3-131407219461111623005284//391657286623376251921*y^12*z+871231051379412394395021//1566629146493505007684*y^15*z^3-485152615707267807585//783314573246752503842*y^6*z^22-1793670022483233412502556//391657286623376251921*z^16+1032426213103867194113589//1566629146493505007684*z^14+130754589089986926009//1566629146493505007684*y^15*z^17+1560239057549382977203569//391657286623376251921*y^12*z^10-7620797131218181831168017//1566629146493505007684*y^12*z^5+153088801106416518709773//391657286623376251921*y^4*z^19+1394019529638205430199393//1566629146493505007684*y^4*z^18-712840132832496222450798//391657286623376251921*y^12*z^13-977966027718651863966151//1566629146493505007684*y^15*z^10-383597956603439366352003//1566629146493505007684*y^4*z^6+9510779613963938608944657//1566629146493505007684*z^13-24262231119672124246239//783314573246752503842*z^24+355177160381877823257345//391657286623376251921*y^8*z^15+2604058997415573665237985//1566629146493505007684*y^3*z^3-4507464553277026506218955//783314573246752503842*y^9*z^9-519535533584853902291373//783314573246752503842*y^4*z^2-11384426369317579786702395//1566629146493505007684*y^3*z^6+1800775707891981405098580//391657286623376251921*y^9*z^13-2135482294100338210517919//391657286623376251921*y^4*z^13+985102731154347253074//391657286623376251921*z^18-14476496371205034310848//391657286623376251921*y^15*z^14-916877443397767244236305//391657286623376251921*y^9*z^16-45789399039742973976735//783314573246752503842*y^9*z^19-8896370629768620943329//1566629146493505007684*y^15*z^15-12971393678627689102594335//783314573246752503842*y^6*z^11-47096944930642843236825//1566629146493505007684*y^3*z^23-2221672437078271424463645//1566629146493505007684*z^7-485152615707267807585//783314573246752503842*y^9*z^20-1339834403325296980621575//391657286623376251921*y^6*z^4+612646295995090435523643//1566629146493505007684*y^8*z^16+3480107127156317818606545//783314573246752503842*y^9*z^3-10092254976491746785820335//1566629146493505007684*y^3*z^12-219012032435186038342140//391657286623376251921*y^6*z-3910334059718206292406069//1566629146493505007684*y^4*z^5-23221585992596454303390//391657286623376251921*y^6*z^21-931944833364388516283655//783314573246752503842*y^9*z^17+10663091948477740684385781//1566629146493505007684*y^4*z^9\n",
      "(33,34)\n",
      "\t-221388486019497166147586788//163306367341640154535849*y^15*z^12-438048677071729047153654668//163306367341640154535849*y^15*z^11-5477781176898244086889280796//163306367341640154535849*z^9-4437689752863214585826349020//163306367341640154535849*y^3*z^5-14320985260348728447923846160//163306367341640154535849*y^9*z^7+5316549943132984123879915080//163306367341640154535849*y^9*z^4+6275715019092063526714259412//163306367341640154535849*y^12*z^8-888918322064021606063148//163306367341640154535849*z^25+225005634580436559389879544//163306367341640154535849*y^8*z+238510456457520335875352//163306367341640154535849*y^15*z^16-8222303297122940080308973240//163306367341640154535849*y^9*z^6-79503835442257353584780160//163306367341640154535849*y^3*z^22+74752476079209924483018720//163306367341640154535849*y^6*z^16+8240000554884594184395063224//163306367341640154535849*z^12+11532978446443900004304546600//163306367341640154535849*y^9*z^11+750018781934788531299598480//163306367341640154535849*y^9*z-5859097723928984646644023896//163306367341640154535849*y^4*z^12-1837812774298758746165003160//163306367341640154535849*y^9*z^14+4883136529421359766689355800//163306367341640154535849*y^3*z^8-247063895344873098660109916//163306367341640154535849*z^10-97459006583049067567833280//163306367341640154535849*y^6+10191961698544247404314209120//163306367341640154535849*y^6*z^14+1192552282287601679376760//163306367341640154535849*y^3*z^24+1077810121827378691214285156//163306367341640154535849*y^15*z^4+1194834557264864828822025880//163306367341640154535849*y^3*z^2+29237701974914720270349984//163306367341640154535849*y^8+1279343252501799791203785284//163306367341640154535849*y^15*z^5-76164689051852068882525232//163306367341640154535849*y^12*z^16+1378568123874731789913430740//163306367341640154535849*y^4*z^16-6902286626888516692327288//14846033394694559503259*y^15*z^13+5058604611232518739915595200//163306367341640154535849*y^3*z^16-587476768376236955191430600//163306367341640154535849*y^6*z^12+3698772959857947293118526940//163306367341640154535849*y^3*z^17-943585790000731233565381220//163306367341640154535849*y^12*z^6+48729503291524533783916640//163306367341640154535849*y^3-1729726704914261090805575612//163306367341640154535849*y^12*z^12-3550329317385579475073422024//163306367341640154535849*y^12*z^3-1041268917347869376080684820//14846033394694559503259*y^3*z^13-4844790690778144244952593880//163306367341640154535849*y^8*z^9-2084192876737155305459770680//163306367341640154535849*y^4*z^14+6135554305127362596223264408//163306367341640154535849*z^11+44840175787864168120363872//163306367341640154535849*y^8*z^17+4824760513654142245411884168//163306367341640154535849*y^4*z^7-715531369372561007626056//163306367341640154535849*y^4*z^22+48729503291524533783916640//163306367341640154535849*z^2+44840175787864168120363872//163306367341640154535849*y^4*z^20+7341466982657575778189889696//163306367341640154535849*y^4*z^8-58475403949829440540699968//163306367341640154535849*y^12+3562527097049612271051031972//163306367341640154535849*y^12*z^7-154237461755364300452053280//163306367341640154535849*y^9*z^18+1435593372595997063939696784//163306367341640154535849*y^4*z^10+916540132350907147339493660//163306367341640154535849*y^3*z^18-3522401746100921850833978760//163306367341640154535849*y^4*z^11-739739292989541798050367800//163306367341640154535849*y^6*z^19+833851542258577778374615464//163306367341640154535849*y^8*z^2+352092798689168407059233040//163306367341640154535849*y^4*z^15-5077108160533309183328018496//163306367341640154535849*y^12*z^4+1067287929267477336999979616//163306367341640154535849*z^4-5098384767591215278918884280//163306367341640154535849*y^3*z^7+9126164737998162231168089520//163306367341640154535849*y^6*z^13-715531369372561007626056//163306367341640154535849*y^8*z^19+854769590258649816492780140//163306367341640154535849*y^3*z^11+375009390967394265649799240//163306367341640154535849*y^3*z-814887021309832332119170548//163306367341640154535849*y^8*z^11+42942260082717980075271128//14846033394694559503259*y^15*z^7-1816335782752442731158908244//163306367341640154535849*y^8*z^7-11994883478536144751119149960//163306367341640154535849*y^9*z^8+97459006583049067567833280//163306367341640154535849*y^9+736687049984312795139705708//163306367341640154535849*z^20+13538853240255924204188888320//163306367341640154535849*y^6*z^6-3252039328032506350938980//163306367341640154535849*y^12*z^17-1618973581225631022965314288//163306367341640154535849*y^12*z^2-1017262078521757494497206196//163306367341640154535849*y^12*z^14+1607059113931425401767857300//163306367341640154535849*y^8*z^13-2122244419812275001174175520//163306367341640154535849*y^6*z^17+1203648845392325474456792868//163306367341640154535849*y^8*z^6-2783419096321262954863096380//163306367341640154535849*y^4*z^4+11767067907909300562443551020//163306367341640154535849*y^3*z^10-225005634580436559389879544//163306367341640154535849*y^4*z+3772580181413204670810176720//163306367341640154535849*y^6*z^8+1055439399856270781606134500//163306367341640154535849*y^15*z^6-50862802763919148488914860//14846033394694559503259*y^15*z^9+1687245266100778474261803776//163306367341640154535849*z^5+1951223596819503810563388//163306367341640154535849*y^4*z^21-156622566319939503810806800//163306367341640154535849*y^6*z^20-366617607166738392674244920//163306367341640154535849*y^3*z^21-4292174834783923973973240000//163306367341640154535849*y^6*z^3-1904193950226657429820910664//163306367341640154535849*y^4*z^3-169162089585178883968389292//163306367341640154535849*y^12*z^11+47262556090645890119076800//1349639399517687227569*y^12*z^9+238510456457520335875352//163306367341640154535849*z^26-375723317285229410456874064//163306367341640154535849*y^12*z^15-57726388305119787891206564//163306367341640154535849*z^23+1951223596819503810563388//163306367341640154535849*y^8*z^18+1269305855427322973340600132//163306367341640154535849*y^8*z^14+1261125638803417984619878868//163306367341640154535849*z^19-1457554453621006564239853252//163306367341640154535849*z^17-3251929155348439795098605028//163306367341640154535849*y^8*z^10+1933431652201572150091260648//163306367341640154535849*y^8*z^3+13426093234631300082569321420//163306367341640154535849*y^3*z^9-2487128121112778725211885040//163306367341640154535849*y^6*z^2+3004178215246821595236740388//163306367341640154535849*y^8*z^5-2868487791457881811926421280//163306367341640154535849*y^9*z^15+122417347162188802944155860//163306367341640154535849*y^3*z^4+4583204670942505197679458040//163306367341640154535849*y^6*z^5-691252563411366601561903860//163306367341640154535849*y^3*z^19+1192552282287601679376760//163306367341640154535849*y^12*z^18-4746274782847484576555780032//163306367341640154535849*z^15+1224465679639458805220236260//163306367341640154535849*y^4*z^17+14779974206124935755517226600//163306367341640154535849*y^6*z^7-166419669968451603113931152//163306367341640154535849*y^15*z^8+773572822656444445632613532//163306367341640154535849*z^6+2584587127695827792779718320//163306367341640154535849*y^9*z^2-1758327788622604370195968600//163306367341640154535849*y^6*z^18+75001878193478853129959848//163306367341640154535849*y^15*z-5774306796668853205217451208//163306367341640154535849*z^8-800852611151332433192580900//163306367341640154535849*y^3*z^20-29237701974914720270349984//163306367341640154535849*y^4+7766672155869251702957775360//163306367341640154535849*y^9*z^10+9745900658304906756783328//163306367341640154535849*y^15+8354148924245488658149205960//163306367341640154535849*y^9*z^12+1014307033150840401691430016//163306367341640154535849*y^8*z^12+458988945776207307593380440//163306367341640154535849*y^9*z^5+3008424730901699514252975924//163306367341640154535849*y^8*z^4+5275301499903619585062878360//163306367341640154535849*y^6*z^15+1925431619047271323052605580//163306367341640154535849*y^3*z^15-67629070876668771298333924//163306367341640154535849*z^22+154510271173752020559491612//163306367341640154535849*z^21+277950514086192592791538488//163306367341640154535849*y^15*z^2-19761555634405396454076925320//163306367341640154535849*y^6*z^10-5389719233460242179752819860//163306367341640154535849*y^3*z^14-4337288767410754182953149308//163306367341640154535849*y^8*z^8-12072212263137664409621416240//163306367341640154535849*y^6*z^9+345771688992479545379449256//163306367341640154535849*z^3-450011269160873118779759088//163306367341640154535849*y^12*z+654223118058828956787203544//163306367341640154535849*y^15*z^3+2385104564575203358753520//163306367341640154535849*y^6*z^22-4168850233323417846193647368//163306367341640154535849*z^16-1318866996365456362396054860//163306367341640154535849*z^14+257960981399566808150878168//14846033394694559503259*y^12*z^10-4404943924716653963286693984//163306367341640154535849*y^12*z^5+229206521426066172862052616//163306367341640154535849*y^4*z^19+660263010864852490821633588//163306367341640154535849*y^4*z^18-1734692467984003134074672332//163306367341640154535849*y^12*z^13-611611524206248817538219268//163306367341640154535849*y^15*z^10+66343891528113334148587980//14846033394694559503259*y^4*z^6+4559939416842330010944782336//163306367341640154535849*z^13-15488869679302489782643588//163306367341640154535849*z^24+662214234461671994632196976//163306367341640154535849*y^8*z^15+1771078026424567721336820760//163306367341640154535849*y^3*z^3-2248772997211064038302429920//163306367341640154535849*y^9*z^9-833851542258577778374615464//163306367341640154535849*y^4*z^2-8135408027846540267644542540//163306367341640154535849*y^3*z^6+2406813708445737773136457080//163306367341640154535849*y^9*z^13-4858988269279865196866462328//163306367341640154535849*y^4*z^13+725689491717760957261086792//163306367341640154535849*z^18-14946725262621389373454624//163306367341640154535849*y^15*z^14-173869568216178970058911080//14846033394694559503259*y^9*z^16-6504078656065012701877960//163306367341640154535849*y^9*z^19-650407865606501270187796//163306367341640154535849*y^15*z^15-13781751443654964042606976520//163306367341640154535849*y^6*z^11-3252039328032506350938980//163306367341640154535849*y^3*z^23-218538260640563781346044224//14846033394694559503259*z^7+2385104564575203358753520//163306367341640154535849*y^9*z^20-2731962815437156331100196760//163306367341640154535849*y^6*z^4+228490990056693611854426560//163306367341640154535849*y^8*z^16+5042193616718712505272838480//163306367341640154535849*y^9*z^3-9587039433014579749442747360//163306367341640154535849*y^3*z^12-750018781934788531299598480//163306367341640154535849*y^6*z-2170326672988243816862124924//163306367341640154535849*y^4*z^5-6504078656065012701877960//163306367341640154535849*y^6*z^21-746243371645606810752245760//163306367341640154535849*y^9*z^17+6048439536170469719409386748//163306367341640154535849*y^4*z^9\n",
      "(34,35)\n",
      "\t724509698348983940646727947//9077968127763693023451364*y^8*z^14-6394261738731579338177640//2269492031940923255862841*y^12-98669041040275539296123683//9077968127763693023451364*y^15*z^12-242805031253725291179428325//9077968127763693023451364*y^15*z^11-1836412275037259837962185537//9077968127763693023451364*y^8*z^10+631440106457085228051284393//4538984063881846511725682*y^12*z^10-768626966064481934217702895//2269492031940923255862841*y^12*z^5+719631844402767874120352865//4538984063881846511725682*y^8*z^3+879538863376982771950920757//9077968127763693023451364*z^19+3292748914466433799872272547//9077968127763693023451364*y^12*z^7+17053947899361067014508749//2269492031940923255862841*y^4*z^19-319404847548307769891853617//9077968127763693023451364*z^17-1264823946915627639692292185//4538984063881846511725682*z^16+298237342543754882005641123//9077968127763693023451364*y^4*z^18-2241608524918996803393424183//9077968127763693023451364*z^14-3254496176826610742964190//2269492031940923255862841*y^9*z^18-4074675317997926213968841995//9077968127763693023451364*z^9+37008791585822950387056651//4538984063881846511725682*y^4*z^10-54626794927208257731563575//9077968127763693023451364*y^3*z^18-1683759682913083729614157431//4538984063881846511725682*y^4*z^11+11566464608844614456973835575//9077968127763693023451364*y^3*z^9-452667337269838406234977865//2269492031940923255862841*y^6*z^2-3748139408347658876614945025//9077968127763693023451364*y^3*z^5+2165731067208600727355250687//9077968127763693023451364*y^8*z^5-1077593573073737919781071633//9077968127763693023451364*y^12*z^13-119268534553061107056566845//4538984063881846511725682*y^6*z^19-2832918828646511388080344630//2269492031940923255862841*y^9*z^7-492390334045686004469649955//2269492031940923255862841*y^9*z^15+290783187578097781755519639//4538984063881846511725682*y^8*z^2+2091817571835776629935757205//4538984063881846511725682*y^9*z^4+4767221659131288746191292347//9077968127763693023451364*y^12*z^8+259834016960651073868586945//9077968127763693023451364*y^3*z^4+371703237154710686211679//9077968127763693023451364*z^25-397790732322159942947693391//9077968127763693023451364*y^15*z^10+2004742189341497374113999225//4538984063881846511725682*y^6*z^5+67668980146550334236082255//4538984063881846511725682*y^8*z-748102115171023348257224615//9077968127763693023451364*y^3*z^19+176436332951719176876390081//2269492031940923255862841*y^4*z^15-960398061986448821690655767//2269492031940923255862841*y^12*z^4-1928888554171209084663037565//4538984063881846511725682*z^15-3630253965952245510881210725//4538984063881846511725682*y^9*z^6+720604302936792007755170919//9077968127763693023451364*y^4*z^17+840165115943289632583177255//9077968127763693023451364*y^4*z^6-1627248088413305371482095//2269492031940923255862841*y^3*z^22-1673501707885354983397355//9077968127763693023451364*z^24+148561116416145374973503043//4538984063881846511725682*y^8*z^15+549703270428022041422832796//2269492031940923255862841*z^13+758916975925496860857002475//4538984063881846511725682*y^3*z^3+197827730010587018781262505//2269492031940923255862841*z^4+135285498719368497739284815//2269492031940923255862841*y^9*z^9-264222511533813144877198425//2269492031940923255862841*y^6*z^16-906328441192839327805144365//2269492031940923255862841*y^3*z^7+2018862209720565735487581510//2269492031940923255862841*y^6*z^13+5630055954112854685334576685//4538984063881846511725682*y^6*z^7+3073374780773288418306119075//4538984063881846511725682*z^12+4187290599715987143771158845//4538984063881846511725682*y^9*z^11+112781633577583890393470425//2269492031940923255862841*y^9*z-290783187578097781755519639//4538984063881846511725682*y^4*z^2-2019689052454509623346669675//9077968127763693023451364*y^3*z^11-56193209050939460079179578//2269492031940923255862841*y^15*z^8-2176446518772203277684046677//4538984063881846511725682*y^4*z^12+112781633577583890393470425//4538984063881846511725682*y^3*z-1008772243561697543263158505//4538984063881846511725682*y^9*z^14-54096585149902352588130039//9077968127763693023451364*y^8*z^11+2700174994398992476022292405//4538984063881846511725682*y^3*z^8+53586673172565000759925447//2269492031940923255862841*y^15*z^7-6887240229288350027155510605//9077968127763693023451364*y^3*z^6+673868088826012812822310275//9077968127763693023451364*z^6+809350022618449372262772515//9077968127763693023451364*z^10+149566180274855672795995825//4538984063881846511725682*y^9*z^13-10657102897885965563629400//2269492031940923255862841*y^6-1762394691865613937188072235//9077968127763693023451364*y^8*z^7+463324440167724371798607265//2269492031940923255862841*y^9*z^2-3951975514942282699653593845//4538984063881846511725682*y^9*z^8+1684735090281565037337941220//2269492031940923255862841*y^6*z^14-1480784340203147699373615357//4538984063881846511725682*y^4*z^13+231586099033158383233085410//2269492031940923255862841*z^18+10657102897885965563629400//2269492031940923255862841*y^9-473818228140418032022833275//4538984063881846511725682*y^6*z^18+321436124013444668848939561//9077968127763693023451364*z^20+2861035768894011070408483965//2269492031940923255862841*y^6*z^6+22556326715516778078694085//4538984063881846511725682*y^15*z+801811589978797982102392533//9077968127763693023451364*y^15*z^4+1858516185773553431058395//9077968127763693023451364*y^12*z^17-3197130869365789669088820//2269492031940923255862841*y^4-467309235786764810536904895//9077968127763693023451364*y^3*z^20+442010234371952440671348465//4538984063881846511725682*y^3*z^2-2424010973514812781755994041//4538984063881846511725682*z^8+3197130869365789669088820//2269492031940923255862841*y^8+915765814121598763622096655//9077968127763693023451364*y^15*z^5-1627248088413305371482095//2269492031940923255862841*y^12*z^16+1065710289788596556362940//2269492031940923255862841*y^15-285454636129154798973704939//2269492031940923255862841*y^12*z^2+1838679671167760196359849320//2269492031940923255862841*y^9*z^10+2360697937001432531412723935//4538984063881846511725682*y^9*z^12+501433782319583728726283205//4538984063881846511725682*y^8*z^12-325449617682661074296419//2269492031940923255862841*y^15*z^14-480327220494071253508761655//4538984063881846511725682*y^9*z^16-485534414376993830697504359//9077968127763693023451364*y^12*z^14+1056940613771591292727010181//9077968127763693023451364*y^4*z^16+1125156405369035560785045177//9077968127763693023451364*y^8*z^13-5684649299787022338169583//2269492031940923255862841*y^15*z^13-433685324862042227656895730//2269492031940923255862841*y^6*z^17+599098572862246115657528475//9077968127763693023451364*y^8*z^6+1316661405334087861306974705//4538984063881846511725682*y^6*z^12-2134758849350192609362848579//9077968127763693023451364*y^4*z^4-35781703180168090826112575//4538984063881846511725682*y^9*z^5+2001717498090312137049087195//9077968127763693023451364*y^3*z^17+1948957601815378182215139645//4538984063881846511725682*y^3*z^16+2270096809643293277835013089//9077968127763693023451364*y^8*z^4+7951056406267840281145675605//9077968127763693023451364*y^3*z^10-67668980146550334236082255//4538984063881846511725682*y^4*z+1134346848366227681735295735//4538984063881846511725682*y^6*z^15+1858516185773553431058395//4538984063881846511725682*y^9*z^19+371703237154710686211679//9077968127763693023451364*y^15*z^15+2903377571074903789239867285//9077968127763693023451364*y^3*z^15+160860774495018594386191560//2269492031940923255862841*y^6*z^8+683716928381748340858196495//9077968127763693023451364*y^15*z^6-69421451487474228457516971//9077968127763693023451364*z^22-432958229253331358446979153//9077968127763693023451364*y^15*z^9-25610862134698066199161155//9077968127763693023451364*z^21+96927729192699260585173213//4538984063881846511725682*y^15*z^2-93243620396500134637216305//9077968127763693023451364*y^12*z^6-3916719602277250148292589215//4538984063881846511725682*y^6*z^11+346848527751283429944211843//2269492031940923255862841*z^5+5328551448942982781814700//2269492031940923255862841*y^3-1115109711464132058635037//9077968127763693023451364*y^4*z^21+1858516185773553431058395//9077968127763693023451364*y^3*z^23-1040157622834146793937092407//4538984063881846511725682*z^7-1396939415369146478961724857//9077968127763693023451364*y^12*z^12-1339270578705415016523590585//4538984063881846511725682*y^12*z^3-3254496176826610742964190//2269492031940923255862841*y^6*z^20-30281762684708665121906310//2269492031940923255862841*y^3*z^21-837506368226309774478881736//2269492031940923255862841*y^8*z^9-7954444021718381619267752235//9077968127763693023451364*y^3*z^13-1165168691500327886338542675//4538984063881846511725682*y^6*z^4-389303141749443146617428993//4538984063881846511725682*y^4*z^14+1425546548399192703882692800//2269492031940923255862841*z^11-871698609503080751250472900//2269492031940923255862841*y^6*z^3+17053947899361067014508749//2269492031940923255862841*y^8*z^16-713237582664036294782175225//4538984063881846511725682*y^4*z^3-707960958744305045158325815//9077968127763693023451364*y^12*z^11+1834741419485644082940191929//4538984063881846511725682*y^12*z^9+976348853047983222889257//2269492031940923255862841*y^8*z^17-7629334857277803092373292485//4538984063881846511725682*y^6*z^10+984480243080664641643943325//2269492031940923255862841*y^9*z^3-4472998131305945476840133595//4538984063881846511725682*y^3*z^12-112781633577583890393470425//2269492031940923255862841*y^6*z+1008122875377226803755771331//2269492031940923255862841*y^4*z^7-57961602709334355440330867//4538984063881846511725682*y^12*z^15+1858516185773553431058395//4538984063881846511725682*y^6*z^21-1584164692052405163844211409//9077968127763693023451364*y^4*z^5-2052808775229042213368907735//9077968127763693023451364*y^3*z^14-23295314914190998486551051//9077968127763693023451364*z^23-3421615950976069811816444901//9077968127763693023451364*y^8*z^8-2968204327365879885819629445//2269492031940923255862841*y^6*z^9-1115109711464132058635037//9077968127763693023451364*y^8*z^18-58705009183643776812754225//2269492031940923255862841*y^9*z^17+3949124045767485213573055419//9077968127763693023451364*y^4*z^9+5328551448942982781814700//2269492031940923255862841*z^2+106387371838852311055292785//4538984063881846511725682*z^3+976348853047983222889257//2269492031940923255862841*y^4*z^20+1396836754546167634792923897//2269492031940923255862841*y^4*z^8-67668980146550334236082255//2269492031940923255862841*y^12*z+242008702047166484486176835//4538984063881846511725682*y^15*z^3\n",
      "(35,36)\n",
      "\t662955126198617116708730100//846037412749808721883609*y^8*z^14-162287577329781666331895496//846037412749808721883609*y^12-58535006393820133642615368//846037412749808721883609*y^15*z^12-219950862517640260413530170//846037412749808721883609*y^15*z^11-669487293653898330370778610//846037412749808721883609*y^8*z^10-515346009600200092585646178//846037412749808721883609*y^12*z^10-207965033450104434881503010//120862487535686960269087*y^12*z^5+2994698728783417057338498798//846037412749808721883609*y^8*z^3+812883332233834275322217854//846037412749808721883609*z^19+1005508142870297760631306886//120862487535686960269087*y^12*z^7+13836393525839720476412328//846037412749808721883609*y^4*z^19+1151201134159165675383734208//846037412749808721883609*z^17-1542942392110067706643312606//846037412749808721883609*z^16+175605019181460400927846104//846037412749808721883609*y^4*z^18-5727319250205422698627979756//846037412749808721883609*z^14+10341795485654451560465300//846037412749808721883609*y^9*z^18-1205596516728613284139387590//846037412749808721883609*z^9-4026960443142122868328946628//846037412749808721883609*y^4*z^10-1208606759959652250601654050//846037412749808721883609*y^3*z^18-6720520813898221081216065420//846037412749808721883609*y^4*z^11+14922029640701181962589267430//846037412749808721883609*y^3*z^9-4600247062335960863285581120//846037412749808721883609*y^6*z^2-9718479218384927324431759910//846037412749808721883609*y^3*z^5+1667574230253494672355448410//846037412749808721883609*y^8*z^5-1072081525536521861114826194//846037412749808721883609*y^12*z^13-46121311752799068254707760//846037412749808721883609*y^6*z^19-14276763277905052025613070700//846037412749808721883609*y^9*z^7-301038000238686352517983740//120862487535686960269087*y^9*z^15+231929354956494394069073940//120862487535686960269087*y^8*z^2+358984992927656132565810500//120862487535686960269087*y^9*z^4+6353870703764446241489010940//846037412749808721883609*y^12*z^8-3479039234863982454581823950//846037412749808721883609*y^3*z^4-482066454858603655627071462//846037412749808721883609*y^15*z^10+14486154751631027908048305080//846037412749808721883609*y^6*z^5+530200470635553289419960708//846037412749808721883609*y^8*z-1007511689082603165558235330//846037412749808721883609*y^3*z^19+253675593062867839866922986//120862487535686960269087*y^4*z^15-5133628857255782526906049624//846037412749808721883609*y^12*z^4-4926052214264463570579418796//846037412749808721883609*z^15-16190732122318001599907562480//846037412749808721883609*y^9*z^6+95151094977759064596695670//120862487535686960269087*y^4*z^17+4711795035874369061920152744//846037412749808721883609*y^4*z^6+5170897742827225780232650//846037412749808721883609*y^3*z^22+1034179548565445156046530//846037412749808721883609*z^24+175605019181460400927846104//846037412749808721883609*y^8*z^15-1695940530387552098944372082//846037412749808721883609*z^13+1591734391510157888041006190//846037412749808721883609*y^3*z^3+1905162708307245197499409432//846037412749808721883609*z^4+1294078412852278582350325920//120862487535686960269087*y^9*z^9-3033588970314469192310857680//846037412749808721883609*y^6*z^16+3988703819049833042467561180//846037412749808721883609*y^3*z^7+12127947097847172610055547840//846037412749808721883609*y^6*z^13+6508747113531361823113182720//846037412749808721883609*y^6*z^7+5402991517187700313494588208//846037412749808721883609*z^12+1341577962443408544808228540//120862487535686960269087*y^9*z^11+1767334902118510964733202360//846037412749808721883609*y^9*z-231929354956494394069073940//120862487535686960269087*y^4*z^2-11501407660366546182430016900//846037412749808721883609*y^3*z^11-681548947750364405269614990//846037412749808721883609*y^15*z^8-5437019570781886846843252716//846037412749808721883609*y^4*z^12+883667451059255482366601180//846037412749808721883609*y^3*z-3639622625223979431857941960//846037412749808721883609*y^9*z^14+1384794255698172434568254460//846037412749808721883609*y^8*z^11+2291881942963614860206571150//120862487535686960269087*y^3*z^8-258904023640637545503478592//846037412749808721883609*y^15*z^7-1167556833244256462999297800//120862487535686960269087*y^3*z^6-1603011605761802538081582468//846037412749808721883609*z^6+6969806481284052677016106208//846037412749808721883609*z^10-2736901360743312796397948060//846037412749808721883609*y^9*z^13-270479295549636110553159160//846037412749808721883609*y^6-4696447736796021198699725238//846037412749808721883609*y^8*z^7+4870726357885596973838740280//846037412749808721883609*y^9*z^2-2808011993638988084883802360//846037412749808721883609*y^9*z^8+5880112180954207155277067620//846037412749808721883609*y^6*z^14-2101850264703869576775580668//846037412749808721883609*y^4*z^13+1666466177871669577592661606//846037412749808721883609*z^18+270479295549636110553159160//846037412749808721883609*y^9-616375450395164691107549580//846037412749808721883609*y^6*z^18+44003773759488060028140438//846037412749808721883609*z^20+18703627072811594527868235980//846037412749808721883609*y^6*z^6+176733490211851096473320236//846037412749808721883609*y^15*z+1306578555291369520729763154//846037412749808721883609*y^15*z^4-313358622940409571334007440//846037412749808721883609*y^3*z^20-81143788664890833165947748//846037412749808721883609*y^4+2164883883393162376366210980//846037412749808721883609*y^3*z^2-7192337464694878930113279930//846037412749808721883609*z^8+81143788664890833165947748//846037412749808721883609*y^8+1097026571649651810279655330//846037412749808721883609*y^15*z^5+5170897742827225780232650//846037412749808721883609*y^12*z^16+27047929554963611055315916//846037412749808721883609*y^15-3111771321616103461690455580//846037412749808721883609*y^12*z^2+13339468440945771168864227180//846037412749808721883609*y^9*z^10+2240489555730227723419125660//846037412749808721883609*y^9*z^12+1951334170621535279996307006//846037412749808721883609*y^8*z^12+1034179548565445156046530//846037412749808721883609*y^15*z^14-606033654909510239547084280//846037412749808721883609*y^9*z^16-298880109260493339149356020//846037412749808721883609*y^12*z^14+202646653932018789418341390//120862487535686960269087*y^4*z^16+1432362971049971246404802058//846037412749808721883609*y^8*z^13-4612131175279906825470776//846037412749808721883609*y^15*z^13-2061144689918005399371178420//846037412749808721883609*y^6*z^17-1717096307090952004581653946//846037412749808721883609*y^8*z^6+11098978885215543445445101520//846037412749808721883609*y^6*z^12-2859334724603001983349368046//846037412749808721883609*y^4*z^4-7768016164373690202499887980//846037412749808721883609*y^9*z^5+715754665422748535299558270//846037412749808721883609*y^3*z^17+636692939376334024827708950//120862487535686960269087*y^3*z^16+3389535195238555272769328754//846037412749808721883609*y^8*z^4+1382380152952872869362134710//846037412749808721883609*y^3*z^10-530200470635553289419960708//846037412749808721883609*y^4*z-629635359072508328772061880//846037412749808721883609*y^6*z^15+6378791228459840469413804860//846037412749808721883609*y^3*z^15-13382720128679013515023760120//846037412749808721883609*y^6*z^8+9243171499029631877025800//17266069647955280038441*y^15*z^6-8441967565909636085339606//120862487535686960269087*z^22-708979729934331893641384370//846037412749808721883609*y^15*z^9-138355200247420592643560922//846037412749808721883609*z^21+77309784985498131356357980//120862487535686960269087*y^15*z^2+3815400355742135831803230570//846037412749808721883609*y^12*z^6-47499549591129962457902620//120862487535686960269087*y^6*z^11+1735563808933208094290690970//846037412749808721883609*z^5+135239647774818055276579580//846037412749808721883609*y^3-6389875826366144891652671564//846037412749808721883609*z^7-2059122235930097476279665102//846037412749808721883609*y^12*z^12-5268017583837360298642291912//846037412749808721883609*y^12*z^3+10341795485654451560465300//846037412749808721883609*y^6*z^20-23060655876399534127353880//846037412749808721883609*y^3*z^21-3485685400160351566846945710//846037412749808721883609*y^8*z^9-6230221972492541173630433090//846037412749808721883609*y^3*z^13+2357831407392004045878066780//846037412749808721883609*y^6*z^4+721839129499555317859524360//846037412749808721883609*y^4*z^14+9859294660997467095743631796//846037412749808721883609*z^11-4950803685138826740815214740//846037412749808721883609*y^6*z^3+13836393525839720476412328//846037412749808721883609*y^8*z^16-2913554940118526224172551050//846037412749808721883609*y^4*z^3-2225193474565817905725740830//846037412749808721883609*y^12*z^11+2959358261402803634330913260//846037412749808721883609*y^12*z^9-3102538645696335468139590//846037412749808721883609*y^8*z^17-16147480434584759253748029540//846037412749808721883609*y^6*z^10+6718138587257337705548417100//846037412749808721883609*y^9*z^3-13623229659900151349596565530//846037412749808721883609*y^3*z^12-1767334902118510964733202360//846037412749808721883609*y^6*z+8085982932034576471469053992//846037412749808721883609*y^4*z^7-23060655876399534127353880//846037412749808721883609*y^12*z^15-44068745558033913871930830//846037412749808721883609*y^4*z^5+2609433352130668145084016950//846037412749808721883609*y^3*z^14-806615817692193140216758//120862487535686960269087*z^23-762246651171435520949687280//120862487535686960269087*y^8*z^8-23335312167871002102065352140//846037412749808721883609*y^6*z^9-46121311752799068254707760//846037412749808721883609*y^9*z^17+252655584724199937466470252//120862487535686960269087*y^4*z^9+135239647774818055276579580//846037412749808721883609*z^2+802523662394364649200653432//846037412749808721883609*z^3-3102538645696335468139590//846037412749808721883609*y^4*z^20+7003300788453543319003259370//846037412749808721883609*y^4*z^8-1060400941271106578839921416//846037412749808721883609*y^12*z+1025280839149435963501482182//846037412749808721883609*y^15*z^3\n",
      "(36,37)\n",
      "\t-1169413104452687403920352//23563143725962828416245*y^8*z^14+9594468063345768695985984//117815718629814142081225*y^12+167578323297043313872672//117815718629814142081225*y^15*z^12+389804368150895801306784//23563143725962828416245*y^15*z^11-22390525606279975673293632//23563143725962828416245*y^8*z^10+119360023236829573300818912//117815718629814142081225*y^12*z^10-46176609949546108803288448//23563143725962828416245*y^12*z^5-55406143416330361252053792//117815718629814142081225*y^8*z^3+268443849082637079787264//117815718629814142081225*z^19-158708312012010513945789408//117815718629814142081225*y^12*z^7+107341960313909486131008//117815718629814142081225*y^4*z^19-51030701919053519820340512//117815718629814142081225*z^17-72320910868646834337466656//117815718629814142081225*z^16-502734969891129941618016//117815718629814142081225*y^4*z^18+107404283733266422933186464//117815718629814142081225*z^14-68130354292436203762627808//23563143725962828416245*z^9+261217831676184094160740032//117815718629814142081225*y^4*z^10+1318930521180273960155232//4712628745192565683249*y^3*z^18+24884134633636172054330688//23563143725962828416245*y^4*z^11+42169432090452275398701856//23563143725962828416245*y^3*z^9+25838846448550229075041536//23563143725962828416245*y^6*z^2+53671767921592136482397728//23563143725962828416245*y^3*z^5+23684403087007979466278016//23563143725962828416245*y^8*z^5+9959793124400214004931616//117815718629814142081225*y^12*z^13-71561306875939657420672//23563143725962828416245*y^6*z^19-7599991873830205255263424//4712628745192565683249*y^9*z^7+4041166295260837327909184//23563143725962828416245*y^9*z^15-10629994353568799331308256//23563143725962828416245*y^8*z^2+11464670878386586760811520//4712628745192565683249*y^9*z^4+645468890381451494789760//4712628745192565683249*y^12*z^8+11219920331014864818613600//4712628745192565683249*y^3*z^4+7264965899089543056266848//117815718629814142081225*y^15*z^10-115564700775992933774045184//23563143725962828416245*y^6*z^5-24178374949072078937973792//117815718629814142081225*y^8*z+2092144454506358321375264//23563143725962828416245*y^3*z^19-52225532400132288942638208//117815718629814142081225*y^4*z^15-57547930447508577909562464//117815718629814142081225*y^12*z^4-32994675753813566972721696//117815718629814142081225*z^15+69927524556462207375315904//23563143725962828416245*y^9*z^6-1169413104452687403920352//23563143725962828416245*y^4*z^17-242615423634639498053609376//117815718629814142081225*y^4*z^6+266404175908396455525356768//117815718629814142081225*z^13-502734969891129941618016//117815718629814142081225*y^8*z^15-48414131225091634329618368//117815718629814142081225*z^4+12170040782761690050616128//23563143725962828416245*y^3*z^3-99328003633484377046542912//23563143725962828416245*y^9*z^9+13524461858396826229297664//23563143725962828416245*y^6*z^16-130615804610615417670837344//23563143725962828416245*y^3*z^7-5531295175980612264945152//23563143725962828416245*y^6*z^13+145666908445237901567629504//23563143725962828416245*y^6*z^7+235767033651037628464665248//117815718629814142081225*z^12+22088391047401897935414656//23563143725962828416245*y^9*z^11-16118916632714719291982528//23563143725962828416245*y^9*z+10629994353568799331308256//23563143725962828416245*y^4*z^2+18274443894521962575218336//4712628745192565683249*y^3*z^11+1303598549050934653107360//4712628745192565683249*y^15*z^8-21046633060367923491378336//117815718629814142081225*y^4*z^12-8059458316357359645991264//23563143725962828416245*y^3*z+13859618504990912857043008//23563143725962828416245*y^9*z^14-18384565131311332392690048//23563143725962828416245*y^8*z^11-19703808957292974206588672//4712628745192565683249*y^3*z^8+44582508576222835845089568//117815718629814142081225*y^15*z^7-7375618669706914553983616//4712628745192565683249*y^3*z^6+190719139343374555182209472//117815718629814142081225*z^6-366350320715949656399996032//117815718629814142081225*z^10+27619686223382510200359808//23563143725962828416245*y^9*z^13+3198156021115256231995328//23563143725962828416245*y^6+149265203644784215794271872//117815718629814142081225*y^8*z^7-29037002469665485307036864//23563143725962828416245*y^9*z^2-114506394851938261119312512//23563143725962828416245*y^9*z^8+22595601997791734201002944//23563143725962828416245*y^6*z^14-90050388373817339711536608//117815718629814142081225*y^4*z^13-19300015012950968815263584//117815718629814142081225*z^18-3198156021115256231995328//23563143725962828416245*y^9+335156646594086627745344//23563143725962828416245*y^6*z^18+4478052441849847480369568//117815718629814142081225*z^20-12604170164529273571258304//23563143725962828416245*y^6*z^6-8059458316357359645991264//117815718629814142081225*y^15*z-5172559305371902753001056//117815718629814142081225*y^15*z^4+167578323297043313872672//23563143725962828416245*y^3*z^20+4797234031672884347992992//117815718629814142081225*y^4-11320345213717486421523104//23563143725962828416245*y^3*z^2-967644010833449309627232//4712628745192565683249*z^8-4797234031672884347992992//117815718629814142081225*y^8+870293915562612008997984//4712628745192565683249*y^15*z^5-31159321260043785063863104//23563143725962828416245*y^9*z^10-1599078010557628115997664//117815718629814142081225*y^15+19660910696579970546618848//23563143725962828416245*y^12*z^2+36455220502782647058045952//23563143725962828416245*y^9*z^12-52728267370023418884256224//117815718629814142081225*y^8*z^12+335156646594086627745344//23563143725962828416245*y^9*z^16+167578323297043313872672//23563143725962828416245*y^12*z^14-4401916323579289628212512//23563143725962828416245*y^4*z^16-21902239657582538654931552//117815718629814142081225*y^8*z^13-35780653437969828710336//117815718629814142081225*y^15*z^13+4112727602136776985329856//23563143725962828416245*y^6*z^17+187209280218309136801555584//117815718629814142081225*y^8*z^6-67614541762826432121909056//23563143725962828416245*y^6*z^12-32839071982028449616944416//117815718629814142081225*y^4*z^4+107666949076086875291312384//23563143725962828416245*y^9*z^5+9732896162992447943560384//23563143725962828416245*y^3*z^17+907114013939490797170528//4712628745192565683249*y^3*z^16+8660697032956370678970624//117815718629814142081225*y^8*z^4+133890496500147472275038912//23563143725962828416245*y^3*z^10+24178374949072078937973792//117815718629814142081225*y^4*z+23578519928121672872450624//23563143725962828416245*y^6*z^15-14554907552051142568697888//23563143725962828416245*y^3*z^15+184433919408400468494628416//23563143725962828416245*y^6*z^8+1693412036937411882686784//4712628745192565683249*y^15*z^6+203358976735013142583008//117815718629814142081225*z^22+3548733489327636588391616//23563143725962828416245*y^15*z^9+1960346784647284836212928//117815718629814142081225*z^21-3543331451189599777102752//23563143725962828416245*y^15*z^2-55974920413494259233604576//23563143725962828416245*y^12*z^6-121416394680886274981957568//23563143725962828416245*y^6*z^11+6681118503615770089941856//23563143725962828416245*z^5-1599078010557628115997664//23563143725962828416245*y^3+220209384075474019319354016//117815718629814142081225*z^7+35319359555665455398098208//117815718629814142081225*y^12*z^12+80109463314219692970137248//117815718629814142081225*y^12*z^3-35780653437969828710336//23563143725962828416245*y^3*z^21-57942549752452831358506208//23563143725962828416245*y^3*z^13-14754980086078268475126912//23563143725962828416245*y^8*z^9-86360356861598419111094464//23563143725962828416245*y^6*z^4-17215152026858644988769696//23563143725962828416245*y^4*z^14-62034955797079257893545344//117815718629814142081225*z^11-8221164932808660809249728//23563143725962828416245*y^6*z^3+107341960313909486131008//117815718629814142081225*y^8*z^16+2024356375386299076162432//4712628745192565683249*y^4*z^3+15404841237732808134117376//23563143725962828416245*y^12*z^11+23290107640257016314739872//23563143725962828416245*y^12*z^9-83347073591894476055449408//23563143725962828416245*y^6*z^10-1579550339981211696546560//4712628745192565683249*y^9*z^3-7866265914534021966770176//23563143725962828416245*y^3*z^12+16118916632714719291982528//23563143725962828416245*y^6*z-140604506611827845115301248//117815718629814142081225*y^4*z^7-35780653437969828710336//23563143725962828416245*y^12*z^15-34314397440576778797586272//23563143725962828416245*y^4*z^5-9021014376061816632291200//4712628745192565683249*y^3*z^14-35780653437969828710336//117815718629814142081225*z^23+1299913900464967932328128//4712628745192565683249*y^8*z^8+61328044264333350770225792//23563143725962828416245*y^6*z^9-71561306875939657420672//23563143725962828416245*y^9*z^17+260984180648700479177190144//117815718629814142081225*y^4*z^9-1599078010557628115997664//23563143725962828416245*z^2-35500057550113913881963328//117815718629814142081225*z^3+17184833584683139804637376//23563143725962828416245*y^4*z^8+48356749898144157875947584//117815718629814142081225*y^12*z-20067792482667748533348928//117815718629814142081225*y^15*z^3\n",
      "(37,38)\n",
      "\t-11306419487326403685//1477770558705569956*y^8*z^14-71609545574553572595//738885279352784978*y^12-1597363075130496865//1477770558705569956*y^15*z^12+3768806495775467895//1477770558705569956*y^15*z^11-2519178452707417049895//738885279352784978*y^8*z^10+5176315883227612046625//1477770558705569956*y^12*z^10-3295463537141819443585//738885279352784978*y^12*z^5+1571977174008284684385//1477770558705569956*y^8*z^3+183464122107659194365//738885279352784978*z^19-2968333999936280233005//1477770558705569956*y^12*z^7-1813587357572694646815//1477770558705569956*z^17-4235903329378249165835//1477770558705569956*z^16+3811475211842891467935//1477770558705569956*z^14+4792089225391490595//1477770558705569956*y^4*z^18-5870359717314681727745//1477770558705569956*z^9+3719483991210919764615//738885279352784978*y^4*z^10+587629553527820878675//1477770558705569956*y^3*z^18+1167668002053963575055//738885279352784978*y^4*z^11+2926743283985910134225//1477770558705569956*y^3*z^9-512677359540059708925//369442639676392489*y^6*z^2+178123215903920093675//1477770558705569956*y^3*z^5+958769417155613072310//369442639676392489*y^8*z^5+18844032478877339475//1477770558705569956*y^12*z^13-3858142122292617323125//738885279352784978*y^9*z^7+18844032478877339475//738885279352784978*y^9*z^15+830041468171732368495//1477770558705569956*y^8*z^2+1152234844045036725650//369442639676392489*y^9*z^4+1336800405987154600285//738885279352784978*y^12*z^8+134411007305578661275//1477770558705569956*y^3*z^4+111136458405042188275//1477770558705569956*y^15*z^10-618674844654525083325//369442639676392489*y^6*z^5+336016945179920071065//1477770558705569956*y^8*z+18844032478877339475//1477770558705569956*y^3*z^19-750155191874248365315//738885279352784978*y^4*z^15-4558907960293023189525//1477770558705569956*y^12*z^4-2908058982700225978315//1477770558705569956*z^15+1164914140573450575675//738885279352784978*y^9*z^6-11306419487326403685//1477770558705569956*y^4*z^17-2595653529827125505895//1477770558705569956*y^4*z^6+9776279799664187734225//1477770558705569956*z^13+4792089225391490595//1477770558705569956*y^8*z^15+404343508262227650555//738885279352784978*z^4+124799557859649155300//369442639676392489*y^3*z^3-7646145365280038203425//738885279352784978*y^9*z^9+289821369076084197175//369442639676392489*y^6*z^16-7952096216282381181175//1477770558705569956*y^3*z^7+777922435998998856125//369442639676392489*y^6*z^13+6714746526973331014525//738885279352784978*y^6*z^7+7337521897715549422725//1477770558705569956*z^12+2001350241268216307850//369442639676392489*y^9*z^11+560028241966533451775//738885279352784978*y^9*z-830041468171732368495//1477770558705569956*y^4*z^2+15436849090803891699425//1477770558705569956*y^3*z^11+1168626926731573035255//1477770558705569956*y^15*z^8-2824972923597429457785//1477770558705569956*y^4*z^12+560028241966533451775//1477770558705569956*y^3*z+571655922776515910025//738885279352784978*y^9*z^14-873643590176848175520//369442639676392489*y^8*z^11-4300511682377432644675//738885279352784978*y^3*z^8+1790588760209986888205//1477770558705569956*y^15*z^7-1149660636951160477375//738885279352784978*y^3*z^6+212960439176511180310//369442639676392489*z^6-3747944378077396870215//738885279352784978*z^10+1223427805269217451725//369442639676392489*y^9*z^13-119349242624255954325//738885279352784978*y^6+600152769251751357360//369442639676392489*y^8*z^7+1144703961704375372175//738885279352784978*y^9*z^2-4287832385849018794650//369442639676392489*y^9*z^8+4152127311455274899175//738885279352784978*y^6*z^14-4704947530199707534965//1477770558705569956*y^4*z^13+95270179630427718155//1477770558705569956*z^18+119349242624255954325//738885279352784978*y^9-7986815375652484325//738885279352784978*y^6*z^18+115354467284919204705//1477770558705569956*z^20+1139555547516622875625//738885279352784978*y^6*z^6+112005648393306690355//1477770558705569956*y^15*z+990385067874318411725//1477770558705569956*y^15*z^4-7986815375652484325//1477770558705569956*y^3*z^20-71609545574553572595//1477770558705569956*y^4+906005476455863463525//1477770558705569956*y^3*z^2-1406110323720370387065//1477770558705569956*z^8+71609545574553572595//1477770558705569956*y^8+1555039712264728219245//1477770558705569956*y^15*z^5-1445224602926771999075//738885279352784978*y^9*z^10+23869848524851190865//1477770558705569956*y^15-1540733693719208782665//1477770558705569956*y^12*z^2+2361891617115895404600//369442639676392489*y^9*z^12-1495518294523105240035//1477770558705569956*y^8*z^12-7986815375652484325//738885279352784978*y^9*z^16-7986815375652484325//1477770558705569956*y^12*z^14-333409375215126564825//1477770558705569956*y^4*z^16-333409375215126564825//1477770558705569956*y^8*z^13+18844032478877339475//738885279352784978*y^6*z^17+3572484573303106504825//1477770558705569956*y^3*z^16+1041907675958852547570//369442639676392489*y^8*z^6-6169007837158562808275//738885279352784978*y^6*z^12-2299121313263115093045//1477770558705569956*y^4*z^4+1428302202340356845700//369442639676392489*y^9*z^5+602291886395170056125//369442639676392489*y^3*z^17+4217754770260688438800//369442639676392489*y^3*z^10+1317569129221517582055//738885279352784978*y^8*z^4-336016945179920071065//1477770558705569956*y^4*z+2428011578059557563975//738885279352784978*y^6*z^15-872166706061559851725//1477770558705569956*y^3*z^15+9740578912271488164975//738885279352784978*y^6*z^8+484268118618187370605//369442639676392489*y^15*z^6-1597363075130496865//1477770558705569956*z^22+124227183774809479120//369442639676392489*y^15*z^9+1341542392726491190//369442639676392489*z^21+276680489390577456165//1477770558705569956*y^15*z^2-6670509507464904835895//1477770558705569956*y^12*z^6-11648845847816470819125//738885279352784978*y^6*z^11+789213247199931156255//1477770558705569956*z^5+119349242624255954325//1477770558705569956*y^3+781494388204211979065//1477770558705569956*z^7+565266470475993922565//1477770558705569956*y^12*z^12-2727145197199143062185//1477770558705569956*y^12*z^3-13204690719814468531375//1477770558705569956*y^3*z^13-1080122804530133674455//369442639676392489*y^8*z^9-1159765726385698079125//738885279352784978*y^6*z^4-3483267941220066298395//1477770558705569956*y^4*z^14-403923621914733187335//369442639676392489*z^11-1059226473405130072975//738885279352784978*y^6*z^3-750183814216865555895//738885279352784978*y^4*z^3+1230965418260768387515//738885279352784978*y^12*z^11+5971491390454506942145//1477770558705569956*y^12*z^9-7130440168771265590225//738885279352784978*y^6*z^10+809627357685831762375//369442639676392489*y^9*z^3-480716165806351390975//738885279352784978*y^3*z^12-560028241966533451775//738885279352784978*y^6*z+117263590718014867335//738885279352784978*y^4*z^7-3005036200450719920745//1477770558705569956*y^4*z^5-5160567574306918853725//738885279352784978*y^3*z^14-579619178299732775985//738885279352784978*y^8*z^8+1894001621493710440150//369442639676392489*y^6*z^9+2122030480488986222025//369442639676392489*y^4*z^9+119349242624255954325//1477770558705569956*z^2+122104674097994969795//369442639676392489*z^3+2497158012610958920605//738885279352784978*y^4*z^8-336016945179920071065//738885279352784978*y^12*z+136965559965236521415//369442639676392489*y^15*z^3\n",
      "(38,39)\n",
      "\t-625036199406024//21657286680121*y^8*z^14-1294433382834120//21657286680121*y^12+208345399802008//21657286680121*y^15*z^11-10432872676440510//21657286680121*z^19+167945663715802146//21657286680121*y^8*z^10-154391850180232124//21657286680121*y^12*z^10+285621483921128102//21657286680121*y^12*z^5-4743704117375706//21657286680121*y^8*z^3+30603781234125652//21657286680121*z^17+99156643508573788//21657286680121*y^12*z^7+137821696389258426//21657286680121*z^16-52562648239159460//21657286680121*z^14+372102906206832306//21657286680121*z^9-277431785207869680//21657286680121*y^4*z^10-5810654344969380//21657286680121*y^3*z^18-48038117190244224//21657286680121*y^4*z^11-336458382662745580//21657286680121*y^3*z^9-28765688748027280//21657286680121*y^6*z^2-166222413565600660//21657286680121*y^3*z^5-156795838180855620//21657286680121*y^8*z^5+1041726999010040//21657286680121*y^12*z^13+389734730718833640//21657286680121*y^9*z^7+2083453998020080//21657286680121*y^9*z^15+10571356698659364//21657286680121*y^8*z^2-274804771788726360//21657286680121*y^9*z^4-134258719938354664//21657286680121*y^12*z^8-167246769128085560//21657286680121*y^3*z^4-1162130868993876//21657286680121*y^15*z^10+396274924616065600//21657286680121*y^6*z^5+5017513939833546//21657286680121*y^8*z+1041726999010040//21657286680121*y^3*z^19+31659829639273038//21657286680121*y^4*z^15+141510797492531420//21657286680121*y^12*z^4+163281807424648784//21657286680121*z^15-207581810289138760//21657286680121*y^9*z^6-625036199406024//21657286680121*y^4*z^17+187897577903499120//21657286680121*y^4*z^6-369820740723248268//21657286680121*z^13+10444024919875194//21657286680121*z^4-40277571975488050//21657286680121*y^3*z^3+549932671746994180//21657286680121*y^9*z^9-11621308689938760//21657286680121*y^6*z^16+614694815484858650//21657286680121*y^3*z^7-248591529355821960//21657286680121*y^6*z^13-833114706353651700//21657286680121*y^6*z^7-395819382094184224//21657286680121*z^12-358291202816105580//21657286680121*y^9*z^11+16725046466111820//21657286680121*y^9*z-10571356698659364//21657286680121*y^4*z^2-534210907795630150//21657286680121*y^3*z^11-32272927078839076//21657286680121*y^15*z^8+133418110168287396//21657286680121*y^4*z^12+8362523233055910//21657286680121*y^3*z-11621308689938760//21657286680121*y^9*z^14+97443817435923252//21657286680121*y^8*z^11+461364129105498040//21657286680121*y^3*z^8-57144018774261258//21657286680121*y^15*z^7+186475405503865720//21657286680121*y^3*z^6-131579987291292374//21657286680121*z^6+378351907904358492//21657286680121*z^10-109699673460283620//21657286680121*y^9*z^13-2157388971390200//21657286680121*y^6-109486121492067534//21657286680121*y^8*z^7+30923077719417480//21657286680121*y^9*z^2+782369409421444920//21657286680121*y^9*z^8-287865344718574480//21657286680121*y^6*z^14+164459271108820518//21657286680121*y^4*z^13-15908996187445350//21657286680121*z^18+2157388971390200//21657286680121*y^9-1370476268795884//21657286680121*z^20-67222961499587600//21657286680121*y^6*z^6+1672504646611182//21657286680121*y^15*z-20648644943572080//21657286680121*y^15*z^4+13304149888318540//21657286680121*y^3*z^2-647216691417060//21657286680121*y^4+69545166381690080//21657286680121*z^8+647216691417060//21657286680121*y^8-48741493827398752//21657286680121*y^15*z^5-21955331935935480//21657286680121*y^9*z^10+215738897139020//21657286680121*y^15-20064018911623628//21657286680121*y^12*z^2-299486653408513240//21657286680121*y^9*z^12+31659829639273038//21657286680121*y^8*z^12+3486392606981628//21657286680121*y^4*z^16+3486392606981628//21657286680121*y^8*z^13+2083453998020080//21657286680121*y^6*z^17-138122018014317860//21657286680121*y^3*z^16-192641282020874826//21657286680121*y^8*z^6+277531321472577760//21657286680121*y^6*z^12+71980962710383332//21657286680121*y^4*z^4-443379975634818060//21657286680121*y^9*z^5-56933290728161890//21657286680121*y^3*z^17-897137980533982040//21657286680121*y^3*z^10-66963448770549786//21657286680121*y^8*z^4-5017513939833546//21657286680121*y^4*z-111783127458303700//21657286680121*y^6*z^15-68404200948759130//21657286680121*y^3*z^15-989951219710583680//21657286680121*y^6*z^8-65579256482277824//21657286680121*y^15*z^6-10553276546424346//21657286680121*y^15*z^9+208345399802008//21657286680121*z^21+3523785566219788//21657286680121*y^15*z^2+290232314175806544//21657286680121*y^12*z^6+908223874563099760//21657286680121*y^6*z^11-34123882208035594//21657286680121*z^5+1078694485695100//21657286680121*y^3-146364015813803334//21657286680121*z^7-5810654344969380//21657286680121*y^12*z^12+16555498084973202//21657286680121*y^12*z^3+578407701959460860//21657286680121*y^3*z^13+165077939807560434//21657286680121*y^8*z^9+305727849508143840//21657286680121*y^6*z^4+98068853635329276//21657286680121*y^4*z^14-13170635385519894//21657286680121*z^11+63830097484864280//21657286680121*y^6*z^3+5390920808792766//21657286680121*y^4*z^3-54016455130933778//21657286680121*y^12*z^11-222400434592760214//21657286680121*y^12*z^9+804324741357380400//21657286680121*y^6*z^10-47105051018752460//21657286680121*y^9*z^3+263396709942401320//21657286680121*y^3*z^12-16725046466111820//21657286680121*y^6*z+42522672721517748//21657286680121*y^4*z^7+167367194879514984//21657286680121*y^4*z^5+282698333095576120//21657286680121*y^3*z^14+49405700245679028//21657286680121*y^8*z^8-160197941028160540//21657286680121*y^6*z^9-357719221828435260//21657286680121*y^4*z^9+1078694485695100//21657286680121*z^2+7715306541638850//21657286680121*z^3-206201538426534648//21657286680121*y^4*z^8-10035027879667092//21657286680121*y^12*z-1365495808652882//21657286680121*y^15*z^3\n",
      "(39,40)\n",
      "\t402627537063//3671730818*y^12+114803087391//14686923272*z^19+572409897//524532974*z^17-3415821157305//14686923272*y^8*z^10+778268041665//3671730818*y^12*z^10-14178076583661//14686923272*y^12*z^5-2017493585019//2098131896*y^8*z^3-3832731019359//14686923272*z^16-7832033318745//7343461636*y^12*z^7+1475435373777//7343461636*z^14-35351406983955//14686923272*z^9+4940972424819//3671730818*y^4*z^10-17800551675//3671730818*y^3*z^18+1122984450612//1835865409*y^4*z^11+8451911353545//7343461636*y^3*z^9+948594889065//524532974*y^6*z^2+23932527599655//7343461636*y^3*z^5+1258310526993//3671730818*y^8*z^5-101567853675//524532974*y^9*z^7-2595990572631//3671730818*y^8*z^2+2911541999265//1835865409*y^9*z^4-138900147933//1835865409*y^12*z^8+19774458340545//7343461636*y^3*z^4-3560110335//3671730818*y^15*z^10-1584039680820//262266487*y^6*z^5-4273514562483//14686923272*y^8*z-6156896697//299733128*y^4*z^15+1080416699979//1835865409*y^12*z^4-1650620724693//3671730818*z^15+7116311529240//1835865409*y^9*z^6-3820417225965//1835865409*y^4*z^6+10960406979237//7343461636*z^13-10348905674637//14686923272*z^4+515797162065//2098131896*y^3*z^3-19658719851615//7343461636*y^9*z^9-17800551675//1835865409*y^6*z^16-79493703670215//14686923272*y^3*z^7+293813811765//524532974*y^6*z^13+35140592607255//7343461636*y^6*z^7+11634231156525//7343461636*z^12+659458084995//1049065948*y^9*z^11-7122524270805//7343461636*y^9*z+2595990572631//3671730818*y^4*z^2+42511696346745//14686923272*y^3*z^11+21625925133//524532974*y^15*z^8-454898333511//7343461636*y^4*z^12-7122524270805//14686923272*y^3*z-17800551675//1835865409*y^9*z^14-64877775399//524532974*y^8*z^11-34462775521905//7343461636*y^3*z^8+160623801585//2098131896*y^15*z^7-1181188764285//1835865409*y^3*z^6+24426531301983//14686923272*z^6-5393944110384//1835865409*z^10+10261494495//149866564*y^9*z^13+671045895105//3671730818*y^6+16348068541971//14686923272*y^8*z^7-3655605059280//1835865409*y^9*z^2-11820613403475//3671730818*y^9*z^8+810309034680//1835865409*y^6*z^14-3458542481325//14686923272*y^4*z^13+576165464373//14686923272*z^18-671045895105//3671730818*y^9-3560110335//3671730818*z^20-600681361425//262266487*y^6*z^6-1424504854161//14686923272*y^15*z-2162494784781//7343461636*y^15*z^4-2984559164175//3671730818*y^3*z^2+402627537063//7343461636*y^4+3733745990829//7343461636*z^8-402627537063//7343461636*y^8-222946674273//1835865409*y^15*z^5-901126751265//1835865409*y^9*z^10-134209179021//7343461636*y^15+9712916395419//7343461636*y^12*z^2+792508483005//1835865409*y^9*z^12-6156896697//299733128*y^8*z^12+10680331005//3671730818*y^4*z^16+10680331005//3671730818*y^8*z^13+828109586355//3671730818*y^3*z^16+16440882712587//14686923272*y^8*z^6-241947890610//262266487*y^6*z^12+553492447965//1835865409*y^4*z^4+33718642655805//7343461636*y^9*z^5+10261494495//299733128*y^3*z^17+1288271298675//262266487*y^3*z^10-1243064878029//2098131896*y^8*z^4+4273514562483//14686923272*y^4*z+10261494495//149866564*y^6*z^15+515797162065//2098131896*y^3*z^15+26053236461955//3671730818*y^6*z^8+63048855972//1835865409*y^15*z^6+2052298899//299733128*y^15*z^9-865330190877//3671730818*y^15*z^2-12325646467233//7343461636*y^12*z^6-6068731611645//1835865409*y^6*z^11-250506116631//14686923272*z^5-671045895105//7343461636*y^3+35297572531203//14686923272*z^7-17800551675//3671730818*y^12*z^12+22732896067713//14686923272*y^12*z^3-14194159905645//7343461636*y^3*z^13-1211484605175//14686923272*y^8*z^9-6567147058545//1835865409*y^6*z^4-64877775399//524532974*y^4*z^14-8827551858147//14686923272*z^11+1755972068175//3671730818*y^6*z^3+13317200021007//14686923272*y^4*z^3+10261494495//299733128*y^12*z^11+716922454167//2098131896*y^12*z^9-10018359900945//3671730818*y^6*z^10-10634468407155//7343461636*y^9*z^3-6631089432405//7343461636*y^3*z^12+7122524270805//7343461636*y^6*z-12524761344087//7343461636*y^4*z^7-1927150549812//1835865409*y^4*z^5-1251972134475//1835865409*y^3*z^14+1791824473431//3671730818*y^8*z^8+18236769900165//7343461636*y^6*z^9+8826183658881//7343461636*y^4*z^9-671045895105//7343461636*z^2-902467028097//2098131896*z^3-266756973219//1835865409*y^4*z^8+4273514562483//7343461636*y^12*z-4975903389753//14686923272*y^15*z^3\n",
      "(40,41)\n",
      "\t4670323//28900*y^12+814093//346800*z^19-2613667//21675*z^17+8440859//23120*y^8*z^10-557011//8670*y^12*z^10+173573197//346800*y^12*z^5-257039153//115600*y^8*z^3-69883457//346800*z^16-33377813//11560*y^12*z^7+92163897//57800*z^14-31749627//23120*z^9+56857969//28900*y^4*z^10+241614233//34680*y^3*z^5+15124991//7225*y^4*z^11-162775753//34680*y^3*z^9+62942243//17340*y^6*z^2-12125701//14450*y^8*z^5+19323997//3468*y^9*z^7-19238303//14450*y^8*z^2-557011//1445*y^9*z^4-40319027//21675*y^12*z^8+123870677//34680*y^3*z^4-15939084//1445*y^6*z^5-55229783//115600*y^8*z-814093//115600*y^4*z^15+275377669//86700*y^12*z^4+26265211//86700*z^15+83851579//8670*y^9*z^6-9726269//2890*y^4*z^6+123870677//57800*z^13-170145437//115600*z^4-45460667//69360*y^3*z^3-55229783//11560*y^9*z^9-24465637//4080*y^3*z^7-22323287//17340*y^6*z^13+33377813//34680*y^6*z^7-3299219//34680*z^12-14610827//11560*y^9*z^11-55229783//34680*y^9*z+19238303//14450*y^4*z^2+480786187//69360*y^3*z^11-557011//43350*y^15*z^8+67998189//57800*y^4*z^12-55229783//69360*y^3*z+557011//14450*y^8*z^11-365870533//34680*y^3*z^8-8440859//69360*y^15*z^7+14182357//4335*y^3*z^6+657572909//346800*z^6-447622609//86700*z^10+814093//34680*y^9*z^13+4670323//17340*y^6+269636171//115600*y^8*z^7-11268761//2890*y^9*z^2-1585339//1156*y^9*z^8-557011//4335*y^6*z^14+8440859//23120*y^4*z^13-1756727//115600*z^18-4670323//17340*y^9-17438729//1734*y^6*z^6-55229783//346800*y^15*z-51973411//57800*y^15*z^4-85694//51*y^3*z^2+4670323//57800*y^4+622609757//173400*z^8-4670323//57800*y^8-5227334//7225*y^15*z^5-5227334//1445*y^9*z^10-4670323//173400*y^15+438367657//173400*y^12*z^2-557011//4335*y^9*z^12-814093//115600*y^8*z^12-557011//8670*y^3*z^16+132011607//115600*y^8*z^6-15124991//4335*y^6*z^12+2013809//1156*y^4*z^4+75539261//11560*y^9*z^5+814093//69360*y^3*z^17+3813383//867*y^3*z^10-256610683//115600*y^8*z^4+55229783//115600*y^4*z+814093//34680*y^6*z^15-45460667//69360*y^3*z^15+191483243//17340*y^6*z^8-8398012//21675*y^15*z^6+814093//346800*y^15*z^9-19238303//43350*y^15*z^2-125498863//57800*y^12*z^6-10154739//2890*y^6*z^11-105960631//115600*z^5-4670323//34680*y^3+1626772049//346800*z^7+1322129879//346800*y^12*z^3-2270891//2040*y^3*z^13+27036457//23120*y^8*z^9-10154739//2890*y^6*z^4+557011//14450*y^4*z^14-1391799101//346800*z^11+10069045//3468*y^6*z^3+247698507//115600*y^4*z^3+814093//69360*y^12*z^11-215906033//346800*y^12*z^9+12982641//5780*y^6*z^10-51973411//11560*y^9*z^3+99447887//34680*y^3*z^12+55229783//34680*y^6*z-263123427//57800*y^4*z^7-3556301//7225*y^4*z^5-85694//51*y^3*z^14+30806993//14450*y^8*z^8+358929319//34680*y^6*z^9-1585339//57800*y^4*z^9-4670323//34680*z^2-248126977//346800*z^3-21466347//7225*y^4*z^8+55229783//57800*y^12*z-266379799//346800*y^15*z^3\n",
      "(41,42)\n",
      "\t-1360//361*y^12+3400//1083*z^17+1360//361*z^16-4080//361*y^8*z^10+3400//1083*y^12*z^10-6800//361*y^12*z^5+19720//361*y^8*z^3-14960//361*z^14+1360//19*y^12*z^7+1360//57*z^9-16320//361*y^4*z^10-61200//361*y^3*z^5-19040//361*y^4*z^11+47600//361*y^3*z^9-95200//1083*y^6*z^2+8840//361*y^8*z^5-54400//361*y^9*z^7+11560//361*y^8*z^2+6800//361*y^9*z^4+53720//1083*y^12*z^8-88400//1083*y^3*z^4+95200//361*y^6*z^5+4080//361*y^8*z-89080//1083*y^12*z^4-11560//1083*z^15-13600//57*y^9*z^6+28560//361*y^4*z^6-17680//361*z^13+680//19*z^4+6800//361*y^3*z^3+40800//361*y^9*z^9+47600//361*y^3*z^7+13600//361*y^6*z^13+4080//361*z^12+13600//361*y^9*z^11+13600//361*y^9*z-11560//361*y^4*z^2-61200//361*y^3*z^11+680//1083*y^15*z^8-11560//361*y^4*z^12+6800//361*y^3*z-680//361*y^8*z^11+278800//1083*y^3*z^8+1360//361*y^15*z^7-98600//1083*y^3*z^6-45560//1083*z^6+44200//361*z^10-6800//1083*y^6-20400//361*y^8*z^7+34000//361*y^9*z^2+6800//361*y^9*z^8+6800//1083*y^6*z^14-4080//361*y^4*z^13+680//1083*z^18+6800//1083*y^9+278800//1083*y^6*z^6+1360//361*y^15*z+8160//361*y^15*z^4+44200//1083*y^3*z^2-680//361*y^4-101320//1083*z^8+680//361*y^8+6800//361*y^15*z^5+34000//361*y^9*z^10+680//1083*y^15-65960//1083*y^12*z^2+6800//1083*y^9*z^12+3400//1083*y^3*z^16-8840//361*y^8*z^6+95200//1083*y^6*z^12-16320//361*y^4*z^4-54400//361*y^9*z^5-98600//1083*y^3*z^10+20400//361*y^8*z^4-4080//361*y^4*z+6800//361*y^3*z^15-278800//1083*y^6*z^8+11560//1083*y^15*z^6+11560//1083*y^15*z^2+17680//361*y^12*z^6+27200//361*y^6*z^11+8840//361*z^5+3400//1083*y^3-40800//361*z^7-34000//361*y^12*z^3+6800//361*y^3*z^13-11560//361*y^8*z^9+27200//361*y^6*z^4-680//361*y^4*z^14+112880//1083*z^11-27200//361*y^6*z^3-19040//361*y^4*z^3+6800//361*y^12*z^9-27200//361*y^6*z^10+40800//361*y^9*z^3-88400//1083*y^3*z^12-13600//361*y^6*z+40800//361*y^4*z^7+2720//361*y^4*z^5+44200//1083*y^3*z^14-19720//361*y^8*z^8-95200//361*y^6*z^9+2720//361*y^4*z^9+3400//1083*z^2+6120//361*z^3+28560//361*y^4*z^8-8160//361*y^12*z+6800//361*y^15*z^3\n",
      "(42,43)\n",
      "(41,43)\n",
      "(40,43)\n",
      "(40,42)\n",
      "(39,42)\n",
      "(39,41)\n",
      "(39,43)\n",
      "(38,43)\n",
      "(38,42)\n",
      "(38,40)\n",
      "(38,41)\n",
      "(37,40)\n",
      "(37,42)\n",
      "(37,43)\n",
      "(37,39)\n",
      "(37,41)\n",
      "(36,41)\n",
      "(36,38)\n",
      "(36,40)\n",
      "(36,39)\n",
      "(36,43)\n",
      "(36,42)\n",
      "(35,39)\n",
      "(35,41)\n",
      "(35,42)\n",
      "(35,43)\n",
      "(35,40)\n",
      "(35,38)\n",
      "(35,37)\n",
      "(34,37)\n",
      "(34,42)\n",
      "(34,36)\n",
      "(34,41)\n",
      "(34,40)\n",
      "(34,39)\n",
      "(34,38)\n",
      "(34,43)\n",
      "(33,37)\n",
      "(33,41)\n",
      "(33,36)\n",
      "(33,38)\n",
      "(33,43)\n",
      "(33,42)\n",
      "(33,35)\n",
      "(33,39)\n",
      "(33,40)\n",
      "(32,43)\n",
      "(32,34)\n",
      "(32,39)\n",
      "(32,35)\n",
      "(32,40)\n",
      "(32,41)\n",
      "(32,37)\n",
      "(32,42)\n",
      "(32,38)\n",
      "(32,36)\n",
      "(31,34)\n",
      "(31,42)\n",
      "(31,38)\n",
      "(31,39)\n",
      "(31,35)\n",
      "(31,41)\n",
      "(31,33)\n",
      "(31,43)\n",
      "(31,36)\n",
      "(31,40)\n",
      "(31,37)\n",
      "(15,29)\n",
      "(15,28)\n",
      "(16,28)\n",
      "(14,27)\n",
      "(14,29)\n",
      "(14,28)\n",
      "(16,27)\n",
      "(15,27)\n",
      "(16,26)\n",
      "(13,27)\n",
      "(13,29)\n",
      "(13,26)\n",
      "(14,26)\n",
      "(15,26)\n",
      "(13,28)\n",
      "(12,27)\n",
      "(15,25)\n",
      "(13,25)\n",
      "(12,28)\n",
      "(12,29)\n",
      "(12,25)\n",
      "(16,25)\n",
      "(12,26)\n",
      "(14,25)\n",
      "(11,24)\n",
      "(14,24)\n",
      "(11,28)\n",
      "(11,29)\n",
      "(11,27)\n",
      "(11,26)\n",
      "(15,24)\n",
      "(12,24)\n",
      "(13,24)\n",
      "(11,25)\n",
      "(16,24)\n",
      "(15,23)\n",
      "(12,23)\n",
      "(11,23)\n",
      "(16,23)\n",
      "(14,23)\n",
      "(13,23)\n",
      "(15,22)\n",
      "(12,22)\n",
      "(13,22)\n",
      "(11,22)\n",
      "(16,22)\n",
      "(14,22)\n",
      "(12,21)\n",
      "(15,21)\n",
      "(14,21)\n",
      "(13,21)\n",
      "(11,21)\n",
      "(16,21)\n",
      "(13,20)\n",
      "(11,20)\n",
      "(16,20)\n",
      "(15,20)\n",
      "(12,20)\n",
      "(14,20)\n",
      "(13,19)\n",
      "(11,19)\n",
      "(16,19)\n",
      "(14,19)\n",
      "(12,19)\n",
      "(15,19)\n",
      "(14,18)\n",
      "(13,18)\n",
      "(15,18)\n",
      "(11,18)\n",
      "(12,18)\n",
      "(16,18)\n",
      "(16,17)\n",
      "(12,17)\n",
      "(15,17)\n",
      "(14,17)\n",
      "(11,17)\n",
      "(13,30)\n",
      "(14,30)\n",
      "(11,30)\n",
      "(16,30)\n",
      "(15,30)\n",
      "(12,30)\n",
      "(10,15)\n",
      "\t-608855//81*x*z^13+1771//81*y^4*z^25+86//27*y^12*z^20+5321524//81*y^5*z^12+880//81*y^10-104612//81*y^5*z^5-482575//27*z^9+982016//81*y^2*z^16+1069540//81*y^3*z^5+31675//27*y^11*z^18+24296//3*y*z^6+95548//81*y^10*z^19-1444//27*x*z^26+18512//9*y^5*z^4+1423696//81*y^9*z^7-1085200//81*y^5*z^6+318958//27*y^9*z^4+880//81*y^2*z^2-150044//27*y^12*z^8-61787//81*z^25+399518//81*y^2*z^8-13360//81*y^8*z+677297//81*y^11*z^16+29792//81*y^8*z^21+2174686//81*y^9*z^6+43//81*y^10*z^22-335773//81*y^3*z^22+9110//1*x*z^17+1315375//81*y^10*z^15+9518//27*y^7*z^22-86//81*y^3*z^27-212233//81*x*z^21+553994//81*y^13*z^13+1011125//81*y^6*z^16-481//81*z^28+880//81*y*z^2-6040//27*y^14*z^2-7040//9*x*z^24-284282//9*y^9*z^11+13360//81*y^9*z+130424//81*y^7*z^21+124138//81*z^12+5177441//81*y^4*z^12-176//81*y^14+1858//9*y^2*z^24+354742//27*y^9*z^14-3346270//81*y^3*z^8-1015603//27*z^10-86//81*y^11*z^21-1408//81*y^6+1066//27*y^7*z^23+4552//81*y^13*z^18-1265020//81*y^6*z^14-25843//81*y^3*z^24-43//81*y^8*z^23-3448//81*z^27+430//81*y^2*z^26+961//27*y^14*z^17-595880//27*y^11*z^9+98659//27*y^10*z^18+109952//81*y^5*z^3+29320//27*y^3*z^2+89720//81*y^10*z^2-880//81*y^8+25216//27*y^12*z^16-317653//27*x*z^14-2551583//81*y^4*z^16+43//81*y^4*z^26-3542180//81*y^6*z^12-198877//27*y^3*z^16+458//9*y^2*z^25+659200//81*y^2*z^6+1836391//81*y^3*z^17-556132//81*y^7*z^3+235//9*y^10*z^21+168686//27*x*z^19+152347//81*x*z^9+5344//81*y^5*z+784445//27*y^11*z^6+5466508//81*y^5*z^11-210938//27*y^12*z^6+880//81*y^3+9104//81*x*z^7-21376//81*y^7*z+2519308//81*y^5*z^10-3865//81*y^3*z^25+21160//3*y^12*z^12-2758//3*y^12*z^3+960214//81*y^10*z^4+38426//9*y^3*z^13+34324//9*y^14*z^11+1528957//27*y^8*z^9-74554//81*y^14*z^3+1806940//81*y^11*z^5-2513185//81*y^4*z^14+3398//27*y*z^24-905017//27*z^11+97450//27*y^2*z^5-1363220//27*y^7*z^13+54698//27*y*z^16+1011364//81*y^11*z^15-48551//27*x*z^23+411713//27*y^8*z^17-2546681//81*y^4*z^7-730454//81*y^2*z^19-1662056//81*y^5*z^17+174422//81*y^4*z^22+288146//27*y*z^7+880//81*z^2+393791//81*y^4*z^20-2956454//81*y^4*z^8+402//1*y^2*z^23+860//81*y^9*z^22-138884//81*y^13*z^9+2193914//81*y^2*z^15-1644706//81*y^7*z^15-176//81*y^12+13360//81*y^11*z+880//81*y^11-225640//27*y^12*z^7+41270//27*y^9*z^18+3215254//81*y^4*z^10+1230892//81*y^2*z^13+1561//27*y^6*z^23+352//81*y^5+6095833//81*y^4*z^11+225934//9*y^3*z^18-2672//81*y^14*z-1402411//81*y^11*z^12+152486//81*y^8*z^20-133162//27*y^6*z^19-111478//27*y*z^19-29320//27*y^8*z^2-992530//81*y^2*z^9-3631637//81*y^4*z^15-69698//27*y^12*z^4-2387422//81*y^7*z^12-470020//27*y^7*z^4-2929592//81*y^5*z^16+80824//81*z^4+6160//3*y^14*z^14-109010//27*y^14*z^9-1170968//81*y^5*z^14-1472897//81*y^3*z^7-134560//3*y^6*z^13+467441//81*y^8*z^19+4023896//81*y^3*z^11+13360//81*y^3*z-88691//9*y^8*z^11-57322//81*y*z^22-209762//81*y^13*z^4+1293976//81*y^8*z^7-192584//27*y^9*z^8-183022//27*y*z^12+880//81*y^9+292867//27*z^20-3005266//81*y^11*z^10+631196//27*y*z^13-2153731//81*y^6*z^6-48136//9*y^14*z^5+668678//81*y^13*z^12+11150//27*y^12*z^17+36812//9*y^5*z^19-232339//81*x*z^22-6040//27*y^12*z^2+86374//27*y^12*z^14-4512524//81*y^8*z^13+206341//81*y^6*z^17-587626//81*y^8*z^6+86//81*y^7*z^24+1671620//27*y^7*z^10+165272//81*y^4*z^4+164102//27*y^3*z^10+5344//81*y^4*z-690047//81*x*z^15-170998//81*y*z^20+3715526//81*y^6*z^8+17095//81*y^11*z^19+291910//81*z^5+927590//27*y*z^14+327448//81*y*z^8+103670//27*y^4*z^21+359512//27*y^10*z^16-47440//27*y^7*z^2-169924//81*y^6*z^20-545132//81*y^3*z^21-43//81*y^14*z^19+430//81*y^13*z^19+549121//27*y^10*z^7+1014046//81*y^10*z^14-185260//27*y^6*z^3-43//81*x*z^28+109864//81*y^4*z^3+2456//81*y^12*z^19+199862//27*y^12*z^11-2362//9*y^12*z^9+2576//27*y^9*z^21-17758//81*z^26+16240//9*y^12*z^15+22010//27*y^4*z^23-2351552//81*y^7*z^5+258536//81*y^5*z^21-144716//81*z^23+104851//9*y^8*z^18-435580//81*y^2*z^20-734582//81*y^2*z^18-2457619//81*y^10*z^9-3041197//81*y^8*z^14+1089610//27*y^7*z^8-780193//81*y^14*z^7+144829//81*z^19+1002568//81*y^7*z^18+2793539//81*y^8*z^10-2675806//81*z^17-333218//81*y^8*z^3+72731//81*y^11*z^13+22300//3*y^13*z^11+30196//9*x*z^11-2891648//81*y^3*z^9-47440//27*y^6*z^2-4548//1*y^5*z^18-1128230//81*y^8*z^5-72383//81*y^10*z^13+735080//81*y^9*z^15+2325796//81*y^5*z^13+779194//81*y^3*z^4+191578//81*y^13*z^15-2315972//81*y^6*z^5+778472//81*y^3*z^19+7808//27*y^13*z^17-220562//81*y^10*z^8+11234//81*y^12*z^18+1746074//81*z^15-1006646//81*y^4*z^17+105557//81*y^6*z^7-1177376//81*y^5*z^9+5854//81*y^2*z^22+584906//27*y*z^15+1892//81*y^5*z^24-176//81*y^13+217360//27*z^6+13360//81*y^10*z+6596//27*y^5*z^23+89720//81*y^9*z^2+832//9*y*z^25+653909//81*y^10*z^17-6595//27*x*z^25+119774//27*y^10*z^3-651238//81*y^13*z^6-389876//81*y^6*z^18+205901//81*z^8-292742//81*y^3*z^20+352//81*y^4-6040//27*y^13*z^2+1915762//27*y^7*z^9-73504//27*y^7*z^7-3573958//81*y^9*z^10+280514//27*y^7*z^17-656588//81*y^9*z^12-210430//81*y^14*z^4-3810964//81*y^8*z^12+2263235//81*y^10*z^6+155//27*y^6*z^24+306460//81*y^13*z^10-60352//9*y^13*z^8-3341500//81*y^10*z^11+89720//81*y^11*z^2+587360//27*y^9*z^5-55121//81*x*z^12-790126//81*y^8*z^4+17242//27*y^14*z^10-206//27*y^3*z^26-12076//27*y^7*z^16+764260//81*y^6*z^15-72956//9*y^14*z^8+884644//81*y^2*z^7-1122458//27*y^3*z^15+95596//81*z^22+604129//81*z^21+281509//81*x*z^10+431716//81*y^5*z^20+11200//27*y^5*z^2-142898//27*y^13*z^5+921098//81*y^11*z^14+12832//81*y*z^3-1012268//81*y^2*z^12+35//81*y^14*z^18+4331674//81*y^6*z^10-1086428//27*y^3*z^14+3668681//81*y^8*z^8+1966796//27*y^6*z^9-593095//27*y^10*z^12-872734//27*y^2*z^11+12832//81*z^3-2672//81*y^12*z-74056//9*y*z^17-669937//81*y^14*z^6+10385//81*y^6*z^22-1460974//81*z^16-111622//81*y*z^21+4176082//81*z^14+130918//27*y^12*z^10-141388//27*y^12*z^5+2198//81*y*z^26+1891211//81*y^11*z^7+250450//81*y^11*z^8+329695//81*y^4*z^19-42101//81*y^4*z^18+139276//27*y^12*z^13-2511356//81*y^5*z^7+10721//1*x*z^18-18592//9*y^2*z^17+12832//81*y^2*z^3-123577//9*y^4*z^6+4850//9*x*z^20+1102//81*y^11*z^20+963554//81*y^11*z^4-135065//81*z^24-275875//27*y^8*z^15+3413674//81*z^13+1784510//81*y^10*z^5+110794//27*y^3*z^3-2744698//81*y^9*z^9+78316//81*y^13*z^16+1427066//81*y^7*z^11+15341//81*y^4*z^24-43//81*z^29+11200//27*y^4*z^2+19877//81*y^10*z^20+68326//81*y^14*z^15+425611//81*y^3*z^6-209446//27*y*z^18+738496//81*y^9*z^13+1206506//81*y^4*z^13-2458384//81*y^2*z^10-1553015//81*z^18-3014516//81*y^5*z^8-916688//27*y^11*z^11-43//81*y^6*z^25+310331//81*y^11*z^17+374242//81*y^7*z^20+281//9*y^8*z^22+18949//81*y^14*z^16+80824//81*y^2*z^4-853168//27*y*z^11+373453//81*y^14*z^12+704//81*x*z^6-142802//81*y^2*z^21+366044//81*y^9*z^16-3421006//81*y^7*z^14-610//81*x*z^27+292130//81*y*z^5+2764//3*y^9*z^19+734422//81*y^7*z^19-2672//81*y^13*z+16540//27*x*z^8+831790//27*y^2*z^14-33314//81*y^6*z^11+292807//81*y^14*z^13-118873//81*y^3*z^23+359542//81*y^11*z^3+92792//9*z^7-8420//81*y*z^23+31198//81*y^9*z^20-381656//27*y*z^9+64270//81*x*z^16-74510//81*y^13*z^3-1404716//81*y^6*z^4+121486//27*y^13*z^14+757859//81*y^8*z^16-96988//3*y*z^10-1408//81*y^7+359102//81*y^9*z^3+4037804//81*y^3*z^12-21376//81*y^6*z-113012//81*y^4*z^5-22138//81*y^6*z^21+80824//81*y*z^4-2290696//81*y^7*z^6+93664//81*y^5*z^22+63022//27*y^9*z^17-828077//81*y^4*z^9-726766//81*y^13*z^7-3061832//81*y^5*z^15-3722681//81*y^10*z^10+86//27*y*z^27\n",
      "(30,44)\n",
      "\t24240405//1849*x*z^13-1311//1849*y^4*z^25-74544240//1849*y^5*z^12-117120//1849*y^10+19884864//1849*y^5*z^5+74489166//1849*z^9+1016922//1849*y^2*z^16-18744654//1849*y^3*z^5-512649//1849*y^11*z^18-22925580//1849*y*z^6-590148//1849*y^10*z^19+18273//1849*x*z^26-1303968//1849*y^5*z^4+3512082//1849*y^9*z^7+57905592//1849*y^5*z^6-40788900//1849*y^9*z^4-117120//1849*y^2*z^2+2564670//1849*y^12*z^8+516570//1849*z^25+16973178//1849*y^2*z^8+1269600//1849*y^8*z-8786910//1849*y^11*z^16-77430//1849*y^8*z^21-43840596//1849*y^9*z^6+3438426//1849*y^3*z^22-22943019//1849*x*z^17-28619937//1849*y^10*z^15-96852//1849*y^7*z^22+1311//1849*z^28+6128928//1849*x*z^21-9845394//1849*y^13*z^13-8366307//1849*y^6*z^16-117120//1849*y*z^2+1306992//1849*y^14*z^2+572025//1849*x*z^24+23522508//1849*y^9*z^11-1269600//1849*y^9*z-846624//1849*y^7*z^21-77909268//1849*z^12-48824472//1849*y^4*z^12+23424//1849*y^14-122424//1849*y^2*z^24-20022414//1849*y^9*z^14+85931409//1849*y^3*z^8+79010487//1849*z^10+187392//1849*y^6-2622//1849*y^7*z^23-13110//1849*y^13*z^18-16552095//1849*y^6*z^14+2637//43*y^3*z^24+14340//1849*z^27-1392//1849*y^14*z^17+74333334//1849*y^11*z^9-2768361//1849*y^10*z^18-4765440//1849*y^5*z^3-6183600//1849*y^3*z^2-6417840//1849*y^10*z^2+117120//1849*y^8-941100//1849*y^12*z^16+20429373//1849*x*z^14+29859549//1849*y^4*z^16-42868587//1849*y^3*z^16+100348551//1849*y^6*z^12-13110//1849*y^2*z^25-23225412//1849*y^2*z^6-55872744//1849*y^3*z^17+29966976//1849*y^7*z^3-1311//1849*y^10*z^21-2469117//1849*x*z^19-6743760//1849*x*z^9-507840//1849*y^5*z-53629332//1849*y^11*z^6-144190728//1849*y^5*z^11+17556420//1849*y^12*z^6-117120//1849*y^3-804864//1849*x*z^7+2031360//1849*y^7*z-132966168//1849*y^5*z^10+18192//1849*y^3*z^25-11089446//1849*y^12*z^12+4213920//1849*y^12*z^3-41106300//1849*y^10*z^4+77015958//1849*y^3*z^13-9540012//1849*y^14*z^11-85398402//1849*y^8*z^9+4225632//1849*y^14*z^3-59190054//1849*y^11*z^5+93951057//1849*y^4*z^14-212358//1849*y*z^24+13624110//1849*z^11-14755824//1849*y^2*z^5+92621526//1849*y^7*z^13+16296264//1849*y*z^16-18535956//1849*y^11*z^15+1792938//1849*x*z^23-25607244//1849*y^8*z^17+80669166//1849*y^4*z^7+12217866//1849*y^2*z^19+12862836//1849*y^5*z^17-1901787//1849*y^4*z^22-14491158//1849*y*z^7-117120//1849*z^2-8321508//1849*y^4*z^20+39150165//1849*y^4*z^8-479796//1849*y^2*z^23-6032862//1849*y^13*z^9-29978226//1849*y^2*z^15+5552238//1849*y^7*z^15+23424//1849*y^12-1269600//1849*y^11*z-117120//1849*y^11+13042614//1849*y^12*z^7-2058858//1849*y^9*z^18-151687479//1849*y^4*z^10-62051286//1849*y^2*z^13-14502//1849*y^6*z^23-46848//1849*y^5-145556439//1849*y^4*z^11-24853488//1849*y^3*z^18+253920//1849*y^14*z+2759769//1849*y^11*z^12-889089//1849*y^8*z^20+4990794//1849*y^6*z^19+4509594//1849*y*z^19+6183600//1849*y^8*z^2+58434624//1849*y^2*z^9+70546806//1849*y^4*z^15+9426684//1849*y^12*z^4+102866730//1849*y^7*z^12+56741112//1849*y^7*z^4+47437788//1849*y^5*z^16-5538960//1849*z^4-1947438//1849*y^14*z^14+58686//1849*y^14*z^9+75067272//1849*y^5*z^14+82005444//1849*y^3*z^7+42034878//1849*y^6*z^13-4430538//1849*y^8*z^19-115740168//1849*y^3*z^11-1269600//1849*y^3*z+88908084//1849*y^8*z^11+316332//1849*y*z^22+9490164//1849*y^13*z^4-84214284//1849*y^8*z^7+62412726//1849*y^9*z^8-40945554//1849*y*z^12-117120//1849*y^9-17450331//1849*z^20+73806243//1849*y^11*z^10-72623106//1849*y*z^13+14409048//1849*y^6*z^6+15867594//1849*y^14*z^5-14559336//1849*y^13*z^12-324618//1849*y^12*z^17-11433816//1849*y^5*z^19+4009314//1849*x*z^22+1306992//1849*y^12*z^2-3960762//1849*y^12*z^14+85609962//1849*y^8*z^13+9290106//1849*y^6*z^17-20326368//1849*y^8*z^6-54188910//1849*y^7*z^10-1177008//1849*y^4*z^4-95718465//1849*y^3*z^10-507840//1849*y^4*z+1902915//1849*x*z^15+3002070//1849*y*z^20-149989833//1849*y^6*z^8-34248//1849*y^11*z^19-14697264//1849*z^5-51124104//1849*y*z^14+20526714//1849*y*z^8-4857165//1849*y^4*z^21-17929962//1849*y^10*z^16+10104576//1849*y^7*z^2+741654//1849*y^6*z^20+9402462//1849*y^3*z^21-5324094//1849*y^10*z^7-33369450//1849*y^10*z^14+29920128//1849*y^6*z^3-4753728//1849*y^4*z^3-7866//1849*y^12*z^19-14800380//1849*y^12*z^11-8550852//1849*y^12*z^9-26220//1849*y^9*z^21+101601//1849*z^26-2080536//1849*y^12*z^15-454452//1849*y^4*z^23+64461732//1849*y^7*z^5-2711052//1849*y^5*z^21+3693954//1849*z^23-13174446//1849*y^8*z^18+4329504//1849*y^2*z^20+19354662//1849*y^2*z^18+92544318//1849*y^10*z^9+28647120//1849*y^8*z^14-142546824//1849*y^7*z^8+17649960//1849*y^14*z^7-22604280//1849*z^19-19875816//1849*y^7*z^18+4178259//1849*y^8*z^10+46800270//1849*z^17+17389632//1849*y^8*z^3-21902280//1849*y^11*z^13-16966020//1849*y^13*z^11-1233315//1849*x*z^11+6440670//1849*y^3*z^9+10104576//1849*y^6*z^2-7421400//1849*y^5*z^18+22325826//1849*y^8*z^5-23160333//1849*y^10*z^13-9981120//1849*y^9*z^15+18478380//1849*y^5*z^13-28187460//1849*y^3*z^4-2222172//1849*y^13*z^15+61935588//1849*y^6*z^5+129444//43*y^3*z^19-135534//1849*y^13*z^17+53583495//1849*y^10*z^8-72930//1849*y^12*z^18+28319070//1849*z^15+3043281//1849*y^4*z^17-78842586//1849*y^6*z^7-46446420//1849*y^5*z^9-876732//1849*y^2*z^22-8699724//1849*y*z^15+23424//1849*y^13-22532052//1849*z^6-1269600//1849*y^10*z-57684//1849*y^5*z^23-6417840//1849*y^9*z^2-65064//1849*y*z^25-8351610//1849*y^10*z^17+127578//1849*x*z^25-19846848//1849*y^10*z^3+18584280//1849*y^13*z^6+10963842//1849*y^6*z^18+27162018//1849*z^8+14367918//1849*y^3*z^20-46848//1849*y^4+1306992//1849*y^13*z^2-139476456//1849*y^7*z^9-66982068//1849*y^7*z^7+72114372//1849*y^9*z^10-25865358//1849*y^7*z^17-16059558//1849*y^9*z^12+9553644//1849*y^14*z^4+117273666//1849*y^8*z^12-48631752//1849*y^10*z^6+1311//1849*y^6*z^24-14405250//1849*y^13*z^10+5559492//1849*y^13*z^8+52205157//1849*y^10*z^11-6417840//1849*y^11*z^2-55981134//1849*y^9*z^5+12997914//1849*x*z^12+29159340//1849*y^8*z^4-7198563//1849*y^14*z^10+2622//1849*y^3*z^26-19630356//1849*y^7*z^16-28652616//1849*y^6*z^15+9886641//1849*y^14*z^8-15875898//1849*y^2*z^7+27696480//1849*y^3*z^15+3535404//1849*z^22-3716064//1849*z^21-7947594//1849*x*z^10-7224312//1849*y^5*z^20-2262624//1849*y^5*z^2+15540846//1849*y^13*z^5-26433264//1849*y^11*z^14-1199328//1849*y*z^3-23274828//1849*y^2*z^12+1311//1849*y^14*z^18-17942259//1849*y^6*z^10+95478981//1849*y^3*z^14-119573940//1849*y^8*z^8-126895176//1849*y^6*z^9+7441011//1849*y^10*z^12+35811318//1849*y^2*z^11-1199328//1849*z^3+253920//1849*y^12*z+16966026//1849*y*z^17+19648740//1849*y^14*z^6-139152//1849*y^6*z^22+70320012//1849*z^16+1664826//1849*y*z^21-59117238//1849*z^14-14813952//1849*y^12*z^10+15214098//1849*y^12*z^5-7866//1849*y*z^26-15949956//1849*y^11*z^7+37395021//1849*y^11*z^8-10046073//1849*y^4*z^19-7716447//1849*y^4*z^18-6960300//1849*y^12*z^13+80899212//1849*y^5*z^7-14762802//1849*x*z^18+17861718//1849*y^2*z^17-1199328//1849*y^2*z^3+59031072//1849*y^4*z^6+5033067//1849*x*z^20+2622//1849*y^11*z^20-41423700//1849*y^11*z^4+1758114//1849*z^24-15775206//1849*y^8*z^15-112938990//1849*z^13-57585594//1849*y^10*z^5-17278368//1849*y^3*z^3+91901040//1849*y^9*z^9-680880//1849*y^13*z^16+49035108//1849*y^7*z^11-53670//1849*y^4*z^24-2262624//1849*y^4*z^2-64158//1849*y^10*z^20-556068//1849*y^14*z^15+26256684//1849*y^3*z^6+9134064//1849*y*z^18-27680244//1849*y^9*z^13+54792783//1849*y^4*z^13+71125086//1849*y^2*z^10+776022//1849*z^18+45947916//1849*y^5*z^8+41838648//1849*y^11*z^11-64440//43*y^11*z^17-3768882//1849*y^7*z^20+1311//1849*y^8*z^22-87522//1849*y^14*z^16-5538960//1849*y^2*z^4+25740522//1849*y*z^11-7830069//1849*y^14*z^12-93696//1849*x*z^6+27942//1849*y^2*z^21-4992696//1849*y^9*z^16+48582270//1849*y^7*z^14+1311//1849*x*z^27-14726544//1849*y*z^5-895014//1849*y^9*z^19-10495812//1849*y^7*z^19+253920//1849*y^13*z-3100800//1849*x*z^8-59643876//1849*y^2*z^14+84484506//1849*y^6*z^11-4601160//1849*y^14*z^13+760236//1849*y^3*z^23-19876128//1849*y^11*z^3-12301554//1849*z^7-259698//1849*y*z^23-229116//1849*y^9*z^20+63183654//1849*y*z^9-17155074//1849*x*z^16+4219776//1849*y^13*z^3+56233272//1849*y^6*z^4-5305776//1849*y^13*z^14-31596573//1849*y^8*z^16+71596098//1849*y*z^10+187392//1849*y^7-19817568//1849*y^9*z^3-27660711//1849*y^3*z^12+2031360//1849*y^6*z+20450520//1849*y^4*z^5-282480//1849*y^6*z^21-5538960//1849*y*z^4+502920//43*y^7*z^6-589008//1849*y^5*z^22-3284730//1849*y^9*z^17-63325548//1849*y^4*z^9+15187440//1849*y^13*z^7+77987688//1849*y^5*z^15+89380437//1849*y^10*z^10\n",
      "(44,45)\n",
      "\t-64450206//190969*x*z^13+61256940//190969*y^5*z^12+319920//190969*y^10-63317844//190969*y^5*z^5-216168525//190969*z^9-1354500//8303*y^2*z^16+32693502//190969*y^3*z^5+118422//190969*y^11*z^18+59445780//190969*y*z^6+220719//190969*y^10*z^19-4515//190969*x*z^26+1310640//190969*y^5*z^4-63507990//190969*y^9*z^7-167473992//190969*y^5*z^6+109659030//190969*y^9*z^4+319920//190969*y^2*z^2+6638340//190969*y^12*z^8-342495//190969*z^25-74470926//190969*y^2*z^8-154800//8303*y^8*z+9314703//190969*y^11*z^16-4515//190969*y^8*z^21+79180716//190969*y^9*z^6-2540397//190969*y^3*z^22+50021943//190969*x*z^17+52254546//190969*y^10*z^15+9030//190969*y^7*z^22-11852778//190969*x*z^21+15871644//190969*y^13*z^13-14785980//190969*y^6*z^16+319920//190969*y*z^2-3697656//190969*y^14*z^2-431247//190969*x*z^24+8983302//190969*y^9*z^11+154800//8303*y^9*z+333078//190969*y^7*z^21+276692100//190969*z^12-28415346//190969*y^4*z^12-63984//190969*y^14+45150//190969*y^2*z^24+28537380//190969*y^9*z^14-186398163//190969*y^3*z^8-171624438//190969*z^10-511872//190969*y^6+92593233//190969*y^6*z^14-62178//190969*y^3*z^24-4515//190969*z^27-4515//190969*y^14*z^17-191540361//190969*y^11*z^9+2016012//190969*y^10*z^18+13312800//190969*y^5*z^3+17528520//190969*y^3*z^2+18168360//190969*y^10*z^2-319920//190969*y^8+1075860//190969*y^12*z^16-36311307//190969*x*z^14-22334802//190969*y^4*z^16+162856824//190969*y^3*z^16-197921217//190969*y^6*z^12+60287892//190969*y^2*z^6+105904872//190969*y^3*z^17-3646572//8303*y^7*z^3-7888995//190969*x*z^19+18543879//190969*x*z^9+61920//8303*y^5*z+106589217//190969*y^11*z^6+296610732//190969*y^5*z^11-39572040//190969*y^12*z^6+319920//190969*y^3+2272464//190969*x*z^7-247680//8303*y^7*z+377278560//190969*y^5*z^10-9030//190969*y^3*z^25+18947778//190969*y^12*z^12-11797050//190969*y^12*z^3+110549130//190969*y^10*z^4-286989267//190969*y^3*z^13+21053445//190969*y^14*z^11+5650071//8303*y^8*z^9-11829042//190969*y^14*z^3+7683498//10051*y^11*z^5-211782783//190969*y^4*z^14+222654//190969*y*z^24+56885130//190969*z^11+41171382//190969*y^2*z^5-165211848//190969*y^7*z^13-49812318//190969*y*z^16+27999192//190969*y^11*z^15-1884561//190969*x*z^23+41584182//190969*y^8*z^17-200913243//190969*y^4*z^7-16355394//190969*y^2*z^19+6959808//190969*y^5*z^17+1550580//190969*y^4*z^22+23545080//190969*y*z^7+319920//190969*z^2+14910078//190969*y^4*z^20-94557//529*y^4*z^8+419250//190969*y^2*z^23+24761550//190969*y^13*z^9+26883600//190969*y^2*z^15+27111414//190969*y^7*z^15-63984//190969*y^12+154800//8303*y^11*z+319920//190969*y^11-21937482//190969*y^12*z^7+2944554//190969*y^9*z^18+421065417//190969*y^4*z^10+7126218//8303*y^2*z^13-4515//190969*y^6*z^23+127968//190969*y^5+278064789//190969*y^4*z^11+5386782//190969*y^3*z^18-30960//8303*y^14*z+1798776//10051*y^11*z^12+266901//190969*y^8*z^20-3064782//190969*y^6*z^19-8060436//190969*y*z^19-17528520//190969*y^8*z^2-173997264//190969*y^2*z^9-103725030//190969*y^4*z^15-25522650//190969*y^12*z^4-253475196//190969*y^7*z^12-151314420//190969*y^7*z^4-62020620//190969*y^5*z^16+15712200//190969*z^4+1889334//190969*y^14*z^14+10113213//190969*y^14*z^9-201238452//190969*y^5*z^14-12833823//10051*y^3*z^7+13803//10051*y^6*z^13+3052785//190969*y^8*z^19+250615911//190969*y^3*z^11+154800//8303*y^3*z-273281856//190969*y^8*z^11+645516//190969*y*z^22-25700670//190969*y^13*z^4+254347236//190969*y^8*z^7-198863820//190969*y^9*z^8+167108922//190969*y*z^12+319920//190969*y^9+20670960//190969*z^20-145545927//190969*y^11*z^10+176464260//190969*y*z^13+22891437//190969*y^6*z^6-40471686//190969*y^14*z^5+27294594//190969*y^13*z^12+249744//190969*y^12*z^17+22435164//190969*y^5*z^19-246519//8303*x*z^22-3697656//190969*y^12*z^2+6073320//190969*y^12*z^14-132701268//190969*y^8*z^13-33077148//190969*y^6*z^17+91398048//190969*y^8*z^6+1639074//190969*y^7*z^10+954600//190969*y^4*z^4+330920217//190969*y^3*z^10+61920//8303*y^4*z+20019639//190969*x*z^15-5848602//190969*y*z^20+398316525//190969*y^6*z^8-9030//190969*y^11*z^19+41011422//190969*z^5+65715696//190969*y*z^14-84393864//190969*y*z^8+6274947//190969*y^4*z^21+26327481//190969*y^10*z^16-28621488//190969*y^7*z^2+889584//190969*y^6*z^20-11355612//190969*y^3*z^21-39939819//190969*y^10*z^7+74831739//190969*y^10*z^14-83743188//190969*y^6*z^3+13280808//190969*y^4*z^3+29359110//190969*y^12*z^11+29515200//190969*y^12*z^9-49149//190969*z^26+2943006//190969*y^12*z^15+184599//190969*y^4*z^23-6471156//8303*y^7*z^5+2018076//190969*y^5*z^21-5641170//190969*z^23+27993//361*y^8*z^18-1562706//190969*y^2*z^20-38194062//190969*y^2*z^18-10070514//8303*y^10*z^9+1679193//190969*y^8*z^14+16772838//8303*y^7*z^8-34397721//190969*y^14*z^7+59785695//190969*z^19+32708466//190969*y^7*z^18-117634326//190969*y^8*z^10-49179960//190969*z^17-48655962//190969*y^8*z^3+65674416//190969*y^11*z^13+36841110//190969*y^13*z^11-4718691//190969*x*z^11+92357163//190969*y^3*z^9-28621488//190969*y^6*z^2+1594440//10051*y^5*z^18-42896628//190969*y^8*z^5+3202683//8303*y^10*z^13+12331626//190969*y^9*z^15-137657448//190969*y^5*z^13+73962150//190969*y^3*z^4+2272206//190969*y^13*z^15-141681216//190969*y^6*z^5-1648620//8303*y^3*z^19+45150//190969*y^13*z^17-179316063//190969*y^10*z^8+27090//190969*y^12*z^18-165487650//190969*z^15+11249574//190969*y^4*z^17+278567115//190969*y^6*z^7+212563104//190969*y^5*z^9+1582056//190969*y^2*z^22-31802886//190969*y*z^15-63984//190969*y^13+58347732//190969*z^6+154800//8303*y^10*z+18168360//190969*y^9*z^2+27090//190969*y*z^25+9196281//190969*y^10*z^17-62694//190969*x*z^25+55552818//190969*y^10*z^3-2234280//10051*y^13*z^6-17568252//190969*y^6*z^18-103078611//190969*z^8-29378976//190969*y^3*z^20+127968//190969*y^4-3697656//190969*y^13*z^2+275029806//190969*y^7*z^9+13016100//10051*y^7*z^7-117856722//190969*y^9*z^10+55842552//190969*y^7*z^17+69316086//190969*y^9*z^12-25878690//190969*y^14*z^4-259591602//190969*y^8*z^12+175053//361*y^10*z^6+37795968//190969*y^13*z^10-720852//190969*y^13*z^8-64329204//190969*y^10*z^11+18168360//190969*y^11*z^2+136902282//190969*y^9*z^5-44781834//190969*x*z^12-76704690//190969*y^8*z^4+939249//8303*y^14*z^10+27473130//190969*y^2*z^7+60788670//190969*y^7*z^16+51284853//190969*y^6*z^15-11856261//190969*y^14*z^8+47008503//190969*y^3*z^15-10879344//190969*z^22-301602//8303*z^21+19034595//190969*x*z^10+9018132//190969*y^5*z^20+6435552//190969*y^5*z^2-39547272//190969*y^13*z^5+53968698//190969*y^11*z^14+3368448//190969*y*z^3+119347446//190969*y^2*z^12-105441891//190969*y^6*z^10-190588083//190969*y^3*z^14+290801733//190969*y^8*z^8+225086811//190969*y^6*z^9+28875489//190969*y^10*z^12-25570122//190969*y^2*z^11+3368448//190969*z^3-30960//8303*y^12*z-26271882//190969*y*z^17-45430575//190969*y^14*z^6+50181//190969*y^6*z^22-175362084//190969*z^16-1674162//190969*y*z^21+39061458//190969*z^14+36093942//190969*y^12*z^10-2032782//10051*y^12*z^5-11320137//190969*y^11*z^7-7310301//10051*y^11*z^8+22478637//190969*y^4*z^19+22241535//190969*y^4*z^18+11002410//190969*y^12*z^13-202156416//190969*y^5*z^7+18291684//190969*x*z^18-49826508//190969*y^2*z^17+3368448//190969*y^2*z^3-170622237//190969*y^4*z^6-690666//8303*x*z^20+111439230//190969*y^11*z^4-1712733//190969*z^24+265365900//190969*z^13+3798147//10051*y^8*z^15+141444372//190969*y^10*z^5+48352038//190969*y^3*z^3-219565740//190969*y^9*z^9+464400//190969*y^13*z^16-214486752//190969*y^7*z^11+4515//190969*y^4*z^24+6435552//190969*y^4*z^2+4515//190969*y^10*z^20+305988//190969*y^14*z^15-107613219//190969*y^3*z^6-10594512//190969*y*z^18+58856766//190969*y^9*z^13-224225349//190969*y^4*z^13-161621262//190969*y^2*z^10+51901989//190969*z^18-55187748//190969*y^5*z^8-48099069//190969*y^11*z^11+1768977//190969*y^11*z^17+2888568//190969*y^7*z^20+5031//190969*y^14*z^16+15712200//190969*y^2*z^4+8696664//190969*y*z^11+13776426//190969*y^14*z^12+255936//190969*x*z^6+2530464//190969*y^2*z^21+8504196//190969*y^9*z^16-52561566//190969*y^7*z^14+41091402//190969*y*z^5+41280//10051*y^9*z^19+12480234//190969*y^7*z^19-30960//8303*y^13*z+463884//10051*x*z^8+4769904//8303*y^2*z^14-288414975//190969*y^6*z^11+6288750//190969*y^14*z^13-377583//190969*y^3*z^23+2928042//10051*y^11*z^3+17344566//190969*z^7+690666//190969*y*z^23+90300//190969*y^9*z^20-186074244//190969*y*z^9+56688147//190969*x*z^16-11813046//190969*y^13*z^3-149890260//190969*y^6*z^4+7079520//190969*y^13*z^14+72824886//190969*y^8*z^16-158521392//190969*y*z^10-511872//190969*y^7+55472838//190969*y^9*z^3-74393397//190969*y^3*z^12-247680//8303*y^6*z-64926732//190969*y^4*z^5+481428//190969*y^6*z^21+15712200//190969*y*z^4+2675460//190969*y^7*z^6+198660//190969*y^5*z^22+6182196//190969*y^9*z^17+260832840//190969*y^4*z^9-27719262//190969*y^13*z^7-152192136//190969*y^5*z^15-174379620//190969*y^10*z^10\n",
      "(45,46)\n",
      "\t9582099//1225*x*z^13+2338824//245*y^5*z^12-20976//245*y^10+18034116//1225*y^5*z^5+7711302//245*z^9+44574//7*y^2*z^16+3017922//1225*y^3*z^5+2622//1225*y^11*z^18-1885218//245*y*z^6-1311//1225*y^10*z^19+482448//245*y^5*z^4+136344//7*y^9*z^7+4934604//175*y^5*z^6-860016//49*y^9*z^4-20976//245*y^2*z^2-692208//245*y^12*z^8+2622//245*z^25+22252914//1225*y^2*z^8+41952//49*y^8*z-481137//1225*y^11*z^16-2692794//1225*y^9*z^6+95703//1225*y^3*z^22-5344947//1225*x*z^17-5694984//1225*y^10*z^15+178296//175*x*z^21-1567956//1225*y^13*z^13+1177278//245*y^6*z^16-20976//245*y*z^2+975384//1225*y^14*z^2+17043//1225*x*z^24-9869208//1225*y^9*z^11-41952//49*y^9*z-2622//1225*y^7*z^21-2136930//49*z^12+29417529//1225*y^4*z^12+20976//1225*y^14-466716//245*y^9*z^14+1640061//175*y^3*z^8+12732432//1225*z^10+167808//1225*y^6-14076207//1225*y^6*z^14+2622//1225*y^3*z^24+29043894//1225*y^11*z^9-912456//245*y^3*z^2-62928//1225*y^10*z^18-503424//245*y^5*z^3-136344//35*y^10*z^2+20976//245*y^8-2622//49*y^12*z^16+1085508//1225*x*z^14-79971//175*y^4*z^16-24982416//1225*y^3*z^16+12694413//1225*y^6*z^12-1381794//175*y^2*z^6-6513048//1225*y^3*z^17+19040964//1225*y^7*z^3+508668//245*x*z^19-3645891//1225*x*z^9-83904//245*y^5*z-1283469//175*y^11*z^6-28144548//1225*y^5*z^11+1072398//245*y^12*z^6-20976//245*y^3-650256//1225*x*z^7+335616//245*y^7*z-12239496//245*y^5*z^10-2126442//1225*y^12*z^12+553242//245*y^12*z^3-870504//49*y^10*z^4+47691558//1225*y^3*z^13-15732//7*y^14*z^11+136344//175*y^8*z^9+2776698//1225*y^14*z^3-22992318//1225*y^11*z^5+23934927//1225*y^4*z^14-7866//1225*y*z^24-6604818//245*z^11-1276914//175*y^2*z^5+15419982//1225*y^7*z^13+5889012//1225*y*z^16-2278518//1225*y^11*z^15+15732//175*x*z^23-3576408//1225*y^8*z^17+26222622//1225*y^4*z^7+820686//1225*y^2*z^19-4709112//1225*y^5*z^17-10488//245*y^4*z^22+584706//245*y*z^7-20976//245*z^2-1464387//1225*y^4*z^20-18415617//1225*y^4*z^8-2622//245*y^2*z^23-1095996//245*y^13*z^9+427386//245*y^2*z^15-8686686//1225*y^7*z^15+20976//1225*y^12-41952//49*y^11*z-20976//245*y^11+162564//175*y^12*z^7-204516//1225*y^9*z^18-64970538//1225*y^4*z^10-23265006//1225*y^2*z^13-41952//1225*y^5+5587482//1225*y^3*z^18-17804691//1225*y^4*z^11+41952//245*y^14*z-1426368//175*y^11*z^12+1311//1225*y^8*z^20-20976//175*y^6*z^19+1224474//1225*y*z^19+912456//245*y^8*z^2+4559658//175*y^2*z^9+279243//49*y^4*z^15+209760//49*y^12*z^4+34314114//1225*y^7*z^12+5621568//245*y^7*z^4+430008//245*y^5*z^16-115368//35*z^4-86526//1225*y^14*z^14-3017922//1225*y^14*z^9+29927508//1225*y^5*z^14+43955208//1225*y^3*z^7-14418378//1225*y^6*z^13-15732//245*y^8*z^19-2113332//175*y^3*z^11-41952//49*y^3*z+47266794//1225*y^8*z^11-149454//1225*y*z^22+1059288//245*y^13*z^4-50268984//1225*y^8*z^7+7650996//245*y^9*z^8-33519648//1225*y*z^12-20976//245*y^9+41952//245*z^20+14923113//1225*y^11*z^10-571596//35*y*z^13-24650733//1225*y^6*z^6+7228854//1225*y^14*z^5-3219816//1225*y^13*z^12-7866//1225*y^12*z^17-2144796//1225*y^5*z^19+9177//25*x*z^22+975384//1225*y^12*z^2-125856//245*y^12*z^14+1095996//175*y^8*z^13+4197822//1225*y^6*z^17-4189956//175*y^8*z^6+24009654//1225*y^7*z^10+503424//245*y^4*z^4-59667543//1225*y^3*z^10-83904//245*y^4*z-7788651//1225*x*z^15+534888//1225*y*z^20-2355867//49*y^6*z^8-8885958//1225*z^5+1043556//1225*y*z^14+24366246//1225*y*z^8-57684//175*y^4*z^21-2201169//1225*y^10*z^16+1069776//175*y^7*z^2-125856//1225*y^6*z^20+652878//1225*y^3*z^21+19581096//1225*y^10*z^7-10128786//1225*y^10*z^14+18999012//1225*y^6*z^3-2506632//1225*y^4*z^3-723672//245*y^12*z^11-230736//49*y^12*z^9+1311//1225*z^26-254334//1225*y^12*z^15-1311//1225*y^4*z^23+17058732//1225*y^7*z^5-57684//1225*y^5*z^21+83904//245*z^23-116679//175*y^8*z^18-414276//1225*y^2*z^20+4022148//1225*y^2*z^18+34522563//1225*y^10*z^9-9212397//1225*y^8*z^14-60602286//1225*y^7*z^8+3676044//1225*y^14*z^7-1237584//245*z^19-60306//25*y^7*z^18+37486734//1225*y^8*z^10-909834//245*z^17+10800018//1225*y^8*z^3-10257264//1225*y^11*z^13-1014714//245*y^13*z^11+3944799//1225*x*z^11-43239402//1225*y^3*z^9+1069776//175*y^6*z^2-922944//245*y^5*z^18-561108//1225*y^8*z^5-12757341//1225*y^10*z^13-1408014//1225*y^9*z^15+31925472//1225*y^5*z^13-2433216//245*y^3*z^4-123234//1225*y^13*z^15+15186624//1225*y^6*z^5+1224474//245*y^3*z^19+36677847//1225*y^10*z^8+6940434//245*z^15-436563//175*y^4*z^17-12698346//245*y^6*z^7-55345176//1225*y^5*z^9-15732//175*y^2*z^22+9247794//1225*y*z^15+20976//1225*y^13-9095718//1225*z^6-41952//49*y^10*z-136344//35*y^9*z^2-529644//1225*y^10*z^17+1311//1225*x*z^25-12824202//1225*y^10*z^3+241224//49*y^13*z^6+1019958//1225*y^6*z^18+28617819//1225*z^8+2719014//1225*y^3*z^20-41952//1225*y^4+975384//1225*y^13*z^2-21741624//1225*y^7*z^9-2333580//49*y^7*z^7+6132858//1225*y^9*z^10-6880128//1225*y^7*z^17-1654482//175*y^9*z^12+1069776//245*y^14*z^4+31736688//1225*y^8*z^12-5746113//1225*y^10*z^6-886236//175*y^13*z^10-2336202//1225*y^13*z^8+551931//1225*y^10*z^11-136344//35*y^11*z^2-20606298//1225*y^9*z^5+10227111//1225*x*z^12+2590536//245*y^8*z^4-3674733//1225*y^14*z^10+382812//245*y^2*z^7-2024184//245*y^7*z^16-920322//1225*y^6*z^15-263511//1225*y^14*z^8-25160712//1225*y^3*z^15+180918//175*z^22+291042//175*z^21-424764//245*x*z^10-534888//1225*y^5*z^20-1636128//1225*y^5*z^2+6985008//1225*y^13*z^5-873126//175*y^11*z^14-985872//1225*y*z^3-26985624//1225*y^2*z^12+42802839//1225*y^6*z^10+1233651//175*y^3*z^14-38578797//1225*y^8*z^8-7294404//1225*y^6*z^9-10089456//1225*y^10*z^12-10752822//1225*y^2*z^11-985872//1225*z^3+41952//245*y^12*z+280554//175*y*z^17+1346397//245*y^14*z^6+1311//1225*y^6*z^22+18309426//1225*z^16-7866//175*y*z^21+17315688//1225*z^14-5320038//1225*y^12*z^10+6741162//1225*y^12*z^5+13854648//1225*y^11*z^7+29892111//1225*y^11*z^8-3032343//1225*y^4*z^19-768246//245*y^4*z^18-241224//245*y^12*z^13+3896292//175*y^5*z^7+38019//1225*x*z^18+7527762//1225*y^2*z^17-985872//1225*y^2*z^3+35112513//1225*y^4*z^6+2336202//1225*x*z^20-125856//7*y^11*z^4+87837//1225*z^24-1067154//49*z^13-13256832//1225*y^8*z^15-21799308//1225*y^10*z^5-1528626//175*y^3*z^3+5757912//245*y^9*z^9-2622//245*y^13*z^16+43207938//1225*y^7*z^11-1636128//1225*y^4*z^2-2622//1225*y^14*z^15+4553103//175*y^3*z^6+1255938//1225*y*z^18-6219384//1225*y^9*z^13+40294896//1225*y^4*z^13+16948608//1225*y^2*z^10-11878971//1225*z^18-1814424//175*y^5*z^8-1080264//1225*y^11*z^11-5244//175*y^11*z^17-94392//1225*y^7*z^20+1311//1225*y^14*z^16-115368//35*y^2*z^4-18833826//1225*y*z^11-1408014//1225*y^14*z^12-83904//1225*x*z^6-361836//1225*y^2*z^21-1198254//1225*y^9*z^16-178296//1225*y^7*z^14-8912178//1225*y*z^5-5244//245*y^9*z^19-755136//1225*y^7*z^19+41952//245*y^13*z-2155284//1225*x*z^8-9698778//1225*y^2*z^14+9245172//245*y^6*z^11-94392//245*y^14*z^13+15732//1225*y^3*z^23-12850422//1225*y^11*z^3+4583256//1225*z^7-57684//1225*y*z^23+33490806//1225*y*z^9-9790548//1225*x*z^16+395922//175*y^13*z^3+5537664//245*y^6*z^4-15732//35*y^13*z^14-8906934//1225*y^8*z^16+14156178//1225*y*z^10+167808//1225*y^7-12797982//1225*y^9*z^3+41090673//1225*y^3*z^12+335616//245*y^6*z+18443148//1225*y^4*z^5-15732//1225*y^6*z^21-115368//35*y*z^4-4027392//245*y^7*z^6-673854//1225*y^9*z^17-12943503//245*y^4*z^9+2278518//1225*y^13*z^7+16104324//1225*y^5*z^15+727605//49*y^10*z^10\n",
      "(46,47)\n",
      "(45,47)\n",
      "(44,46)\n",
      "(44,47)\n",
      "(30,45)\n",
      "(30,47)\n",
      "(30,46)\n",
      "(22,47)\n",
      "\t-108//1*y^12+42//1*z^17+195//1*z^16-126//1*y^8*z^10-933//1*z^14+222//1*y^12*z^5+2196//1*y^8*z^3+2688//1*y^12*z^7+2691//1*z^9-2268//1*y^4*z^10-8100//1*y^3*z^5-1764//1*y^4*z^11+2460//1*y^3*z^9-3630//1*y^6*z^2+513//1*y^8*z^5-3840//1*y^9*z^7+1251//1*y^8*z^2+240//1*y^9*z^4+1185//1*y^12*z^8-3600//1*y^3*z^4+12660//1*y^6*z^5+396//1*y^8*z-2955//1*y^12*z^4+141//1*z^15-10260//1*y^9*z^6+3735//1*y^4*z^6-2484//1*z^13+1509//1*z^4+1110//1*y^3*z^3+5040//1*y^9*z^9+8310//1*y^3*z^7+420//1*y^6*z^13-3960//1*y^6*z^7-1452//1*z^12+420//1*y^9*z^11+1320//1*y^9*z-1251//1*y^4*z^2-6750//1*y^3*z^11-711//1*y^4*z^12+660//1*y^3*z+12210//1*y^3*z^8+42//1*y^15*z^7-3465//1*y^3*z^6-1986//1*z^6+6225//1*z^10-180//1*y^6-2394//1*y^8*z^7+3810//1*y^9*z^2+3660//1*y^9*z^8-126//1*y^4*z^13+180//1*y^9+10500//1*y^6*z^6+132//1*y^15*z+840//1*y^15*z^4+1725//1*y^3*z^2-54//1*y^4-3648//1*z^8+54//1*y^8+588//1*y^15*z^5+2370//1*y^9*z^10+18//1*y^15-2412//1*y^12*z^2-1539//1*y^8*z^6+2370//1*y^6*z^12-1728//1*y^4*z^4-7800//1*y^9*z^5-7605//1*y^3*z^10+2124//1*y^8*z^4-396//1*y^4*z+210//1*y^3*z^15-13920//1*y^6*z^8+237//1*y^15*z^6+417//1*y^15*z^2+2778//1*y^12*z^6+4620//1*y^6*z^11+1179//1*z^5+90//1*y^3-5364//1*z^7-3840//1*y^12*z^3+2100//1*y^3*z^13-711//1*y^8*z^9+3570//1*y^6*z^4+3189//1*z^11-3540//1*y^6*z^3-2142//1*y^4*z^3+210//1*y^12*z^9+1290//1*y^6*z^10+4860//1*y^9*z^3-540//1*y^3*z^12-1320//1*y^6*z+4518//1*y^4*z^7+738//1*y^4*z^5+1185//1*y^3*z^14-1764//1*y^8*z^8-8880//1*y^6*z^9-828//1*y^4*z^9+90//1*z^2+606//1*z^3+2277//1*y^4*z^8-792//1*y^12*z+750//1*y^15*z^3\n",
      "(43,48)\n",
      "\t-249//49*y^12+193//196*z^16+211//196*z^14+1885//49*y^12*z^5+3777//98*y^8*z^3+25//1*y^12*z^7+19987//196*z^9-33//1*y^4*z^10-5655//49*y^3*z^5-15//1*y^4*z^11-4980//49*y^3*z^9-7615//98*y^6*z^2-3123//196*y^8*z^5+1810//49*y^9*z^7+6063//196*y^8*z^2-4300//49*y^9*z^4+965//196*y^12*z^8-6165//49*y^3*z^4+11140//49*y^6*z^5+654//49*y^8*z-2831//196*y^12*z^4+787//196*z^15-5245//49*y^9*z^6+15027//196*y^4*z^6-1093//49*z^13+5829//196*z^4-1005//49*y^3*z^3+50//1*y^9*z^9+10870//49*y^3*z^7-10600//49*y^6*z^7-4467//98*z^12+2180//49*y^9*z-6063//196*y^4*z^2-1545//49*y^3*z^11-579//196*y^4*z^12+1090//49*y^3*z+10615//98*y^3*z^8+2165//28*y^3*z^6-3831//49*z^6+15287//196*z^10-415//49*y^6-33//1*y^8*z^7+8445//98*y^9*z^2+4425//49*y^9*z^8+415//49*y^9+135//7*y^6*z^6+218//49*y^15*z+11//1*y^15*z^4+6785//196*y^3*z^2-249//98*y^4+477//49*z^8+249//98*y^8+5//1*y^15*z^5+965//98*y^9*z^10+83//98*y^15-2824//49*y^12*z^2-7473//196*y^8*z^6+965//98*y^6*z^12-309//49*y^4*z^4-8790//49*y^9*z^5-27225//196*y^3*z^10+963//49*y^8*z^4-654//49*y^4*z-9670//49*y^6*z^8+193//196*y^15*z^6+2021//196*y^15*z^2+4811//98*y^12*z^6+50//1*y^6*z^11-1363//196*z^5+415//98*y^3-4268//49*z^7-2936//49*y^12*z^3+25//1*y^3*z^13-579//196*y^8*z^9+2435//14*y^6*z^4-1829//196*z^11-170//49*y^6*z^3-36//1*y^4*z^3+7885//98*y^6*z^10+2350//49*y^9*z^3+1730//49*y^3*z^12-2180//49*y^6*z+2580//49*y^4*z^7+4593//98*y^4*z^5+965//196*y^3*z^14-15//1*y^8*z^8-640//49*y^6*z^9-3447//98*y^4*z^9+415//98*z^2+1931//98*z^3-183//196*y^4*z^8-1308//49*y^12*z+671//49*y^15*z^3\n",
      "(48,49)\n",
      "\t12852//37249*y^12-6678//37249*z^14-79128//37249*y^12*z^5-46494//37249*y^8*z^3-7560//37249*y^12*z^7-161658//37249*z^9+24570//37249*y^4*z^10+42840//37249*y^3*z^5+4536//37249*y^4*z^11+257040//37249*y^3*z^9+124740//37249*y^6*z^2+52164//37249*y^8*z^5-146160//37249*y^9*z^7-56700//37249*y^8*z^2+274680//37249*y^9*z^4+272790//37249*y^3*z^4-211680//37249*y^6*z^5-30240//37249*y^8*z-45360//37249*y^12*z^4-1512//37249*z^15-25200//37249*y^9*z^6-99414//37249*y^4*z^6-1890//37249*z^13-42840//37249*z^4+113400//37249*y^3*z^3-15120//37249*y^9*z^9-297360//37249*y^3*z^7+383040//37249*y^6*z^7+39690//37249*z^12-100800//37249*y^9*z+56700//37249*y^4*z^2-57960//37249*y^3*z^11-50400//37249*y^3*z+630//193*y^3*z^8-360360//37249*y^3*z^6+173124//37249*z^6-4032//37249*z^10+21420//37249*y^6+24570//37249*y^8*z^7-146160//37249*y^9*z^2-81900//37249*y^9*z^8-21420//37249*y^9+299880//37249*y^6*z^6-10080//37249*y^15*z-8190//37249*y^15*z^4-51660//37249*y^3*z^2+6426//37249*y^4-148554//37249*z^8-6426//37249*y^8-1512//37249*y^15*z^5-2142//37249*y^15+102690//37249*y^12*z^2+52920//37249*y^8*z^6-35910//37249*y^4*z^4+236880//37249*y^9*z^5+69300//37249*y^3*z^10+5670//37249*y^8*z^4+30240//37249*y^4*z+56700//37249*y^6*z^8-18900//37249*y^15*z^2-40950//37249*y^12*z^6-15120//37249*y^6*z^11+69300//37249*z^5-10710//37249*y^3+62370//37249*z^7+55440//37249*y^12*z^3-7560//37249*y^3*z^13-420840//37249*y^6*z^4+77364//37249*z^11-126000//37249*y^6*z^3+40068//37249*y^4*z^3-81900//37249*y^6*z^10+25200//37249*y^9*z^3-40950//37249*y^3*z^12+100800//37249*y^6*z-18900//37249*y^4*z^7-108864//37249*y^4*z^5+4536//37249*y^8*z^8-131040//37249*y^6*z^9+52920//37249*y^4*z^9-10710//37249*z^2-43974//37249*z^3+47628//37249*y^4*z^8+60480//37249*y^12*z-17640//37249*y^15*z^3\n",
      "(49,50)\n",
      "\t-193//24*y^12+193//144*z^14+965//36*y^12*z^5+193//16*y^8*z^3+5983//144*z^9-193//48*y^4*z^10+965//18*y^3*z^5-965//12*y^3*z^9-965//24*y^6*z^2-193//8*y^8*z^5+965//18*y^9*z^7+193//8*y^8*z^2-4825//36*y^9*z^4-16405//144*y^3*z^4+193//12*y^8*z+193//6*y^12*z^4+965//18*y^9*z^6+1351//48*y^4*z^6+193//48*z^13+193//18*z^4-965//12*y^3*z^3+965//18*y^3*z^7-965//9*y^6*z^7-193//48*z^12+965//18*y^9*z-193//8*y^4*z^2+965//36*y^3*z^11+965//36*y^3*z-16405//144*y^3*z^8+6755//36*y^3*z^6-579//8*z^6-965//36*z^10-965//72*y^6-193//48*y^8*z^7+965//18*y^9*z^2+965//72*y^9*z^8+965//72*y^9-6755//36*y^6*z^6+193//36*y^15*z+193//144*y^15*z^4+965//72*y^3*z^2-193//48*y^4+1351//16*z^8+193//48*y^8+193//144*y^15-5983//144*y^12*z^2-193//12*y^8*z^6+1351//48*y^4*z^4-965//18*y^9*z^5+965//72*y^3*z^10-193//16*y^8*z^4-193//12*y^4*z+965//24*y^6*z^8+193//24*y^15*z^2+965//144*y^12*z^6-3667//72*z^5+965//144*y^3+193//16*z^7-193//36*y^12*z^3+6755//36*y^6*z^4-2123//72*z^11+965//9*y^6*z^3-193//24*y^4*z^3+965//72*y^6*z^10-965//18*y^9*z^3+965//144*y^3*z^12-965//18*y^6*z-193//24*y^4*z^7+193//4*y^4*z^5+965//18*y^6*z^9-193//12*y^4*z^9+965//144*z^2+3281//144*z^3-193//8*y^4*z^8-193//6*y^12*z+193//36*y^15*z^3\n",
      "(50,51)\n",
      "(49,51)\n",
      "(48,50)\n",
      "(48,51)\n",
      "(43,51)\n",
      "(43,50)\n",
      "(43,49)\n",
      "(42,49)\n",
      "(42,48)\n",
      "(42,50)\n",
      "(42,51)\n",
      "(41,50)\n",
      "(41,51)\n",
      "(41,48)\n",
      "(41,49)\n",
      "(40,48)\n",
      "(40,51)\n",
      "(40,49)\n",
      "(40,50)\n",
      "(39,50)\n",
      "(39,48)\n",
      "(39,51)\n",
      "(39,49)\n",
      "(38,49)\n",
      "(38,51)\n",
      "(38,50)\n",
      "(38,48)\n",
      "(37,48)\n",
      "(37,51)\n",
      "(37,49)\n",
      "(37,50)\n",
      "(36,49)\n",
      "(36,50)\n",
      "(36,51)\n",
      "(36,48)\n",
      "(35,49)\n",
      "(35,51)\n",
      "(35,48)\n",
      "(35,50)\n",
      "(34,48)\n",
      "(34,49)\n",
      "(34,51)\n",
      "(34,50)\n",
      "(33,48)\n",
      "(33,50)\n",
      "(33,51)\n",
      "(33,49)\n",
      "(32,50)\n",
      "(32,51)\n",
      "(32,48)\n",
      "(32,49)\n",
      "(31,49)\n",
      "(31,48)\n",
      "(31,51)\n",
      "(31,50)\n",
      "(25,47)\n",
      "(17,47)\n",
      "(21,47)\n",
      "(27,47)\n",
      "(26,47)\n",
      "(19,47)\n",
      "(24,47)\n",
      "(23,47)\n",
      "(29,47)\n",
      "(28,47)\n",
      "(20,47)\n",
      "(18,47)\n",
      "(28,46)\n",
      "(24,46)\n",
      "(22,46)\n",
      "(17,46)\n",
      "(21,46)\n",
      "(29,46)\n",
      "(20,46)\n",
      "(27,46)\n",
      "(23,46)\n",
      "(25,46)\n",
      "(18,46)\n",
      "(26,46)\n",
      "(19,46)\n",
      "(28,45)\n",
      "(29,45)\n",
      "(18,45)\n",
      "(19,45)\n",
      "(27,45)\n",
      "(24,45)\n",
      "(21,45)\n",
      "(26,45)\n",
      "(17,45)\n",
      "(25,45)\n",
      "(23,45)\n",
      "(22,45)\n",
      "(20,45)\n",
      "(20,44)\n",
      "(29,44)\n",
      "(19,44)\n",
      "(28,44)\n",
      "(26,44)\n",
      "(22,44)\n",
      "(25,44)\n",
      "(18,44)\n",
      "(21,44)\n",
      "(23,44)\n",
      "(24,44)\n",
      "(17,44)\n",
      "(27,44)\n",
      "(15,47)\n",
      "(13,47)\n",
      "(11,47)\n",
      "(14,47)\n",
      "(12,47)\n",
      "(16,47)\n",
      "(12,46)\n",
      "(11,46)\n",
      "(15,46)\n",
      "(16,46)\n",
      "(14,46)\n",
      "(13,46)\n",
      "(15,45)\n",
      "(13,45)\n",
      "(16,45)\n",
      "(11,45)\n",
      "(14,45)\n",
      "(12,45)\n",
      "(11,44)\n",
      "(12,44)\n",
      "(14,44)\n",
      "(16,44)\n",
      "(15,44)\n",
      "(13,44)\n",
      "(10,28)\n",
      "(10,29)\n",
      "(10,16)\n",
      "(9,29)\n",
      "(9,14)\n",
      "(9,16)\n",
      "(10,27)\n",
      "(9,27)\n",
      "(10,14)\n",
      "(9,15)\n",
      "(9,28)\n",
      "(9,13)\n",
      "(10,13)\n",
      "(10,26)\n",
      "(9,26)\n",
      "(10,25)\n",
      "(10,12)\n",
      "(9,25)\n",
      "(9,12)\n",
      "(9,24)\n",
      "(10,24)\n",
      "(9,11)\n",
      "(9,23)\n",
      "(10,23)\n",
      "(10,22)\n",
      "(9,22)\n",
      "(10,21)\n",
      "(9,21)\n",
      "(10,20)\n",
      "(9,20)\n",
      "(9,19)\n",
      "(10,19)\n",
      "(9,18)\n",
      "(10,18)\n",
      "(10,17)\n",
      "(9,17)\n",
      "(10,47)\n",
      "(9,47)\n",
      "(9,46)\n",
      "(10,46)\n",
      "(9,45)\n",
      "(10,45)\n",
      "(10,44)\n",
      "(9,44)\n",
      "(9,30)\n",
      "(10,30)\n",
      "(4,16)\n",
      "\t20757//1*x*z^13+93852//1*y^5*z^12-720//1*y^10+95548//1*y^5*z^5+113109//1*z^9+28924//1*y^2*z^16+56426//1*y^3*z^5-22626//1*y*z^6+25456//1*y^5*z^4+121606//1*y^9*z^7+130628//1*y^5*z^6-81610//1*y^9*z^4-720//1*y^2*z^2-17822//1*y^12*z^8+8//1*z^25+108112//1*y^2*z^8+6427//1*y^8*z-238//1*y^11*z^16+38208//1*y^9*z^6+82//1*y^3*z^22-6271//1*x*z^17-10887//1*y^10*z^15+2229//1*x*z^21-2762//1*y^13*z^13+19927//1*y^6*z^16-720//1*y*z^2+5272//1*y^14*z^2+8//1*x*z^24-45180//1*y^9*z^11-6310//1*y^9*z-162065//1*z^12+148093//1*y^4*z^12+144//1*y^14-4578//1*y^9*z^14-63967//1*y^3*z^8-39406//1*z^10+1122//1*y^6-21909//1*y^6*z^14+76116//1*y^11*z^9-24215//1*y^3*z^2-8//1*y^10*z^18-7936//1*y^5*z^3-25640//1*y^10*z^2+729//1*y^8-48//1*y^12*z^16-15873//1*x*z^14-7545//1*y^4*z^16-50133//1*y^3*z^16-29140//1*y^6*z^12-24118//1*y^2*z^6+11620//1*y^3*z^17+86140//1*y^7*z^3+9279//1*x*z^19-13277//1*x*z^9-2560//1*y^5*z+9207//1*y^11*z^6-11668//1*y^5*z^11+11742//1*y^12*z^6-705//1*y^3-3824//1*x*z^7+10240//1*y^7*z-161980//1*y^5*z^10-4938//1*y^12*z^12+13145//1*y^12*z^3-83060//1*y^10*z^4+104240//1*y^3*z^13-6454//1*y^14*z^11+83668//1*y^8*z^9+13190//1*y^14*z^3-63264//1*y^11*z^5+39776//1*y^4*z^14-183437//1*z^11-37874//1*y^2*z^5+17784//1*y^7*z^13+8934//1*y*z^16-2728//1*y^11*z^15+97//1*x*z^23-4558//1*y^8*z^17+32197//1*y^4*z^7-1050//1*y^2*z^19-18936//1*y^5*z^17-8//1*y^4*z^22+45496//1*y*z^7-705//1*z^2-2190//1*y^4*z^20-163089//1*y^4*z^8-20940//1*y^13*z^9+22090//1*y^2*z^15-35950//1*y^7*z^15+126//1*y^12-6400//1*y^11*z-720//1*y^11-5368//1*y^12*z^7-160//1*y^9*z^18-152358//1*y^4*z^10-53576//1*y^2*z^13-288//1*y^5+25507//1*y^3*z^18+48784//1*y^4*z^11+1280//1*y^14*z-38669//1*y^11*z^12-678//1*y^6*z^19+3070//1*y*z^19+24227//1*y^8*z^2+98456//1*y^2*z^9+3263//1*y^4*z^15+21417//1*y^12*z^4+78582//1*y^7*z^12+96856//1*y^7*z^4-12048//1*y^5*z^16-21092//1*z^4-23//1*y^14*z^14-12624//1*y^14*z^9+77432//1*y^5*z^14+127128//1*y^3*z^7-66784//1*y^6*z^13+8//1*y^8*z^19+74509//1*y^3*z^11-6355//1*y^3*z+140920//1*y^8*z^11-310//1*y*z^22+21692//1*y^13*z^4-175550//1*y^8*z^7+126950//1*y^9*z^8-103254//1*y*z^12-690//1*y^9+7292//1*z^20+17177//1*y^11*z^10-21692//1*y*z^13-168635//1*y^6*z^6+25052//1*y^14*z^5-7142//1*y^13*z^12-2956//1*y^5*z^19+587//1*x*z^22+5233//1*y^12*z^2-1238//1*y^12*z^14-14866//1*y^8*z^13+6496//1*y^6*z^17-152013//1*y^8*z^6+140044//1*y^7*z^10+26150//1*y^4*z^4-156834//1*y^3*z^10-2587//1*y^4*z-35856//1*x*z^15+228//1*y*z^20-126728//1*y^6*z^8-37616//1*z^5+31722//1*y*z^14+116748//1*y*z^8-313//1*y^4*z^21-2902//1*y^10*z^16+40016//1*y^7*z^2-103//1*y^6*z^20+512//1*y^3*z^21+107620//1*y^10*z^7-25187//1*y^10*z^14+86092//1*y^6*z^3-7855//1*y^4*z^3-8628//1*y^12*z^11-19708//1*y^12*z^9-358//1*y^12*z^15+8776//1*y^7*z^5+472//1*z^23-487//1*y^8*z^18-1680//1*y^2*z^20+5944//1*y^2*z^18+89705//1*y^10*z^9-46834//1*y^8*z^14-153378//1*y^7*z^8+4842//1*y^14*z^7-5162//1*z^19-4116//1*y^7*z^18+164325//1*y^8*z^10-43230//1*z^17+47182//1*y^8*z^3-27184//1*y^11*z^13-13366//1*y^13*z^11+26866//1*x*z^11-226411//1*y^3*z^9+40016//1*y^6*z^2-10496//1*y^5*z^18-44541//1*y^8*z^5-39643//1*y^10*z^13-4550//1*y^9*z^15+114492//1*y^5*z^13-31710//1*y^3*z^4-80//1*y^13*z^15-1408//1*y^6*z^5+13492//1*y^3*z^19+131744//1*y^10*z^8+102850//1*z^15-12568//1*y^4*z^17-248276//1*y^6*z^7-231024//1*y^5*z^9-80//1*y^2*z^22+28102//1*y*z^15+144//1*y^13-20618//1*z^6-6400//1*y^10*z-25610//1*y^9*z^2-377//1*y^10*z^17-59478//1*y^10*z^3-301//1*y^6*z^18+14864//1*y^13*z^6+9//1*y^15*z+135909//1*z^8+3535//1*y^3*z^20-297//1*y^4+5272//1*y^13*z^2+22744//1*y^7*z^9-235052//1*y^7*z^7-20376//1*y^9*z^10+3//1*y^15-14422//1*y^7*z^17-28994//1*y^9*z^12+22012//1*y^14*z^4+60139//1*y^8*z^12+24297//1*y^10*z^6-19190//1*y^13*z^10-14958//1*y^13*z^8-23686//1*y^10*z^11-25640//1*y^11*z^2-50414//1*y^9*z^5+40283//1*x*z^12+36233//1*y^8*z^4-11123//1*y^14*z^10+40226//1*y^2*z^7-29310//1*y^7*z^16+18388//1*y^6*z^15-7272//1*y^14*z^8-108514//1*y^3*z^15+2146//1*z^22+5844//1*z^21+266//1*x*z^10+9//1*y^15*z^2-352//1*y^5*z^20-8384//1*y^5*z^2+23734//1*y^13*z^5-11513//1*y^11*z^14-5968//1*y*z^3-94884//1*y^2*z^12+191275//1*y^6*z^10-57879//1*y^3*z^14-68491//1*y^8*z^8+92466//1*y^6*z^9-42909//1*y^10*z^12-81042//1*y^2*z^11-5932//1*z^3+1226//1*y^12*z+3//1*y^15*z^3+3448//1*y*z^17+18211//1*y^14*z^6+10439//1*z^16-640//1*y*z^21+121315//1*z^14-14484//1*y^12*z^10+22431//1*y^12*z^5+85138//1*y^11*z^7+110270//1*y^11*z^8-7015//1*y^4*z^19-12337//1*y^4*z^18-2752//1*y^12*z^13+41216//1*y^5*z^7+7342//1*x*z^18+19340//1*y^2*z^17-5968//1*y^2*z^3+132216//1*y^4*z^6+5658//1*x*z^20-84660//1*y^11*z^4+73//1*z^24-1583//1*z^13-38690//1*y^8*z^15-56854//1*y^10*z^5-46663//1*y^3*z^3+55604//1*y^9*z^9+140302//1*y^7*z^11-8411//1*y^4*z^2+8//1*y^14*z^15+156613//1*y^3*z^6+4776//1*y*z^18-10200//1*y^9*z^13+111166//1*y^4*z^13+6096//1*y^2*z^10-33288//1*z^18-133820//1*y^5*z^8-26822//1*y^11*z^11+16//1*y^11*z^17-16//1*y^7*z^20-21080//1*y^2*z^4-113684//1*y*z^11-2435//1*y^14*z^12-576//1*x*z^6-602//1*y^2*z^21-3140//1*y^9*z^16-21278//1*y^7*z^14-37694//1*y*z^5-562//1*y^7*z^19+1280//1*y^13*z-10540//1*x*z^8-6514//1*y^2*z^14+103546//1*y^6*z^11-508//1*y^14*z^13+16//1*y^3*z^23-59658//1*y^11*z^3+54677//1*z^7-48//1*y*z^23+99610//1*y*z^9-27155//1*x*z^16+13154//1*y^13*z^3+94476//1*y^6*z^4-682//1*y^13*z^14-17828//1*y^8*z^16-14418//1*y*z^10+1152//1*y^7-59448//1*y^9*z^3+199706//1*y^3*z^12+10150//1*y^6*z+97698//1*y^4*z^5+8//1*y^6*z^21-21080//1*y*z^4-148552//1*y^7*z^6-1108//1*y^9*z^17-262770//1*y^4*z^9-1020//1*y^13*z^7+23824//1*y^5*z^15+24385//1*y^10*z^10\n",
      "(47,52)\n",
      "\t213//64*x*z^13+1815//16*y^5*z^12-5//4*y^10+1975//16*y^5*z^5+3949//64*z^9+403//16*y^2*z^16+3493//32*y^3*z^5-113//32*y*z^6+191//4*y^5*z^4+4427//32*y^9*z^7+1873//16*y^5*z^6-2573//32*y^9*z^4-5//4*y^2*z^2-631//32*y^12*z^8+121//1*y^2*z^8+667//64*y^8*z+1//32*y^11*z^16+335//4*y^9*z^6+1//32*y^3*z^22+209//64*x*z^17-311//64*y^10*z^15+61//64*x*z^21-37//32*y^13*z^13+767//64*y^6*z^16-5//4*y*z^2+59//8*y^14*z^2-6121//64*z^12-631//16*y^9*z^11-275//32*y^9*z+9173//64*y^4*z^12+1//4*y^14-137//32*y^9*z^14-10847//64*y^3*z^8-3971//32*z^10+49//32*y^6+467//64*y^6*z^14+721//16*y^11*z^9-2135//64*y^3*z^2-4//1*y^5*z^3-285//8*y^10*z^2+89//64*y^8-1953//64*x*z^14-617//64*y^4*z^16-541//64*y^3*z^16-1169//16*y^6*z^12-187//32*y^2*z^6+443//16*y^3*z^17+1607//16*y^7*z^3+471//64*x*z^19-725//64*x*z^9-4//1*y^5*z+3071//64*y^11*z^6+891//16*y^5*z^11+119//32*y^12*z^6-65//64*y^3-23//4*x*z^7+16//1*y^7*z-1367//16*y^5*z^10-109//32*y^12*z^12+1065//64*y^12*z^3-1289//16*y^10*z^4+27//2*y^3*z^13-119//32*y^14*z^11+2211//16*y^8*z^9+523//32*y^14*z^3-36//1*y^11*z^5+43//4*y^4*z^14-13381//64*z^11-1297//32*y^2*z^5-47//8*y^7*z^13+67//32*y*z^16-1//2*y^11*z^15+1//64*x*z^23-31//32*y^8*z^17-3123//64*y^4*z^7-69//32*y^2*z^19-119//8*y^5*z^17-65//64*z^2+657//8*y*z^7-19//32*y^4*z^20-15393//64*y^4*z^8-319//16*y^13*z^9+901//32*y^2*z^15-1095//32*y^7*z^15-1//32*y^12-10//1*y^11*z-5//4*y^11-101//8*y^12*z^7-1559//32*y^4*z^10-205//8*y^2*z^13-1//2*y^5+1259//64*y^3*z^18+128//1*y^4*z^11+2//1*y^14*z-2165//64*y^11*z^12-7//32*y^6*z^19+39//32*y*z^19+2147//64*y^8*z^2+507//8*y^2*z^9-249//64*y^4*z^15+1497//64*y^12*z^4+1323//32*y^7*z^12+631//8*y^7*z^4-81//4*y^5*z^16-457//16*z^4+1//64*y^14*z^14-49//4*y^14*z^9+379//8*y^5*z^14+247//4*y^3*z^7-51//1*y^6*z^13+11413//64*y^3*z^11-595//64*y^3*z+401//4*y^8*z^11-3//32*y*z^22+371//16*y^13*z^4-4567//32*y^8*z^7+3131//32*y^9*z^8-2051//32*y*z^12-25//32*y^9+123//16*z^20-655//64*y^11*z^10+309//16*y*z^13-15043//64*y^6*z^6+359//16*y^14*z^5-131//32*y^13*z^12-11//16*y^5*z^19+11//64*x*z^22+433//64*y^12*z^2-19//32*y^12*z^14-1261//32*y^8*z^13+5//8*y^6*z^17-11677//64*y^8*z^6+2459//16*y^7*z^10+1587//32*y^4*z^4-1733//32*y^3*z^10-283//64*y^4*z-281//8*x*z^15-11//16*y*z^20-147//8*y^6*z^8-83//2*z^5+1213//32*y*z^14+2075//16*y*z^8-1//64*y^4*z^21-23//32*y^10*z^16+221//4*y^7*z^2+1//64*y^6*z^20+1//8*y^3*z^21+2047//16*y^10*z^7-1011//64*y^10*z^14+1659//16*y^6*z^3-239//64*y^4*z^3-93//16*y^12*z^11-267//16*y^12*z^9-3//32*y^12*z^15-439//8*y^7*z^5+1//8*z^23+1//64*y^8*z^18-y^2*z^20+3//8*y^2*z^18+3425//64*y^10*z^9-1481//32*y^8*z^14-2201//32*y^7*z^8-63//32*y^14*z^7+179//32*z^19-17//16*y^7*z^18+10397//64*y^8*z^10-1491//32*z^17+1679//32*y^8*z^3-137//8*y^11*z^13-299//32*y^13*z^11+1193//32*x*z^11-15675//64*y^3*z^9+221//4*y^6*z^2-5//1*y^5*z^18-5901//64*y^8*z^5-2011//64*y^10*z^13-131//32*y^9*z^15+1567//16*y^5*z^13-343//32*y^3*z^4-143//2*y^6*z^5+95//16*y^3*z^19+115//1*y^10*z^8+1805//32*z^15-53//4*y^4*z^17-3607//16*y^6*z^7-881//4*y^5*z^9+483//32*y*z^15+1//4*y^13-37//32*z^6-10//1*y^10*z-1125//32*y^9*z^2-1//64*y^10*z^17-2291//32*y^10*z^3-69//64*y^6*z^18+15//2*y^13*z^6+9//64*y^15*z+9789//64*z^8+55//64*y^3*z^20-41//64*y^4+59//8*y^13*z^2+805//8*y^7*z^9-3555//16*y^7*z^7-351//8*y^9*z^10+3//64*y^15-219//32*y^7*z^17-489//32*y^9*z^12+379//16*y^14*z^4+979//64*y^8*z^12+4241//64*y^10*z^6-499//32*y^13*z^10-591//32*y^13*z^8-1167//32*y^10*z^11-285//8*y^11*z^2-567//32*y^9*z^5+2355//64*x*z^12+1017//64*y^8*z^4-539//64*y^14*z^10+2401//32*y^2*z^7-655//32*y^7*z^16+407//16*y^6*z^15-87//8*y^14*z^8-2829//32*y^3*z^15+25//32*z^22+53//16*z^21+337//32*x*z^10+9//64*y^15*z^2-11//1*y^5*z^2+659//32*y^13*z^5-305//64*y^11*z^14-37//4*y*z^3-1213//16*y^2*z^12+11123//64*y^6*z^10-7199//64*y^3*z^14+509//64*y^8*z^8+5713//32*y^6*z^9-2693//64*y^10*z^12-3201//32*y^2*z^11-139//16*z^3+37//32*y^12*z+3//64*y^15*z^3+33//8*y*z^17+747//64*y^14*z^6-2049//64*z^16-1//2*y*z^21+8795//64*z^14-165//16*y^12*z^10+1215//64*y^12*z^5+3365//32*y^11*z^7+3135//32*y^11*z^8-231//64*y^4*z^19-617//64*y^4*z^18-7//4*y^12*z^13-65//2*y^5*z^7+315//32*x*z^18+179//16*y^2*z^17-37//4*y^2*z^3+235//2*y^4*z^6+105//32*x*z^20-1329//16*y^11*z^4+1//64*z^24+5273//64*z^13-833//32*y^8*z^15-867//32*y^10*z^5-3447//64*y^3*z^3+153//16*y^9*z^9+3423//32*y^7*z^11-731//64*y^4*z^2+11565//64*y^3*z^6+37//8*y*z^18-33//8*y^9*z^13+2099//32*y^4*z^13-183//4*y^2*z^10-131//8*z^18-3255//16*y^5*z^8-1199//32*y^11*z^11-227//8*y^2*z^4-2073//16*y*z^11-59//64*y^14*z^12-x*z^6-5//32*y^2*z^21-29//16*y^9*z^16-1015//32*y^7*z^14-1287//32*y*z^5-1//32*y^7*z^19+2//1*y^13*z-211//16*x*z^8+367//32*y^2*z^14+809//32*y^6*z^11-1//16*y^14*z^13-2301//32*y^11*z^3+6165//64*z^7+1845//32*y*z^9-1019//64*x*z^16+521//32*y^13*z^3+1243//16*y^6*z^4-5//32*y^13*z^14-125//16*y^8*z^16-2441//32*y*z^10+2//1*y^7-589//8*y^9*z^3+6029//32*y^3*z^12+467//32*y^6*z+4065//32*y^4*z^5-227//8*y*z^4-1673//8*y^7*z^6-5//16*y^9*z^17-7773//32*y^4*z^9-135//16*y^13*z^7-3//4*y^5*z^15-335//64*y^10*z^10\n",
      "(52,53)\n",
      "(47,53)\n",
      "(46,53)\n",
      "(46,52)\n",
      "(45,52)\n",
      "(45,53)\n",
      "(44,52)\n",
      "(44,53)\n",
      "(30,52)\n",
      "(30,53)\n",
      "(29,53)\n",
      "\t-90//1*y^7*z^8-30//1*y^12+30//1*y^12*z^5-30//1*y^10+3//1*y^8*z^3-54//1*y^5*z^5-7//1*z^9-3//1*y^16*z^3-45//1*y^4*z^10+9//1*y^5+360//1*y^3*z^5-15//1*y^4*z^11-40//1*y^3*z^9-20//1*y^6*z^2+60//1*y*z^6-51//1*y^8*z^5-54//1*y^5*z^4+27//1*y^5*z^7+60//1*y^9*z^7+51//1*y^8*z^2-9//1*y^5*z^6-263//1*y^9*z^4-190//1*y^3*z^4-300//1*y^6*z^5+48//1*y^8*z+85//1*y^12*z^4+179//1*y^9*z^6-189//1*y^4*z^6+6//1*z^13-180//1*y^7*z^4-13//1*z^4-30//1*y^10*z^5-290//1*y^3*z^3-140//1*y^3*z^7-15//1*y*z^2-20//1*y^6*z^7+9//1*y^5*z^9+11//1*z^12+133//1*y^9*z-36//1*y^4*z^2+30//1*y^3*z^11+80//1*y^3*z+18//1*y^13-315//1*y^3*z^8-9//1*y^16*z+410//1*y^3*z^6-123//1*z^6-90//1*y^10*z-96//1*z^10-50//1*y^6-45//1*y^13*z^4+43//1*y^9*z^2-6//1*y*z^12+41//1*y^9+150//1*y^10*z^3+27//1*y^5*z^8-3//1*y*z^13-460//1*y^6*z^6+16//1*y^15*z-15//1*y^3*z^2+196//1*z^8-9//1*y^5*z^3-30//1*y^4+39//1*y^13*z^2-30//1*y^10*z^2-30//1*y^7*z^9+15//1*y^8+15//1*y*z^11+5//1*y^15-77//1*y^12*z^2-3//1*y^16-90//1*y^10*z^6-18//1*y^8*z^6+186//1*y^4*z^4+67//1*y^9*z^5+85//1*y^3*z^10-48//1*y^8*z^4-240//1*y^7*z^3-93//1*y^4*z+102//1*y*z^5+27//1*y^5*z+170//1*y^6*z^8-9//1*y^16*z^2+54//1*y^13*z+17//1*y^15*z^2+27//1*y^5*z^2-181//1*z^5+25//1*y^3-102//1*y*z^8-15//1*y^13*z^5+90//1*y^7*z+148//1*z^7+44//1*y^12*z^3+150//1*y^10*z^4+9//1*y*z^9+360//1*y^6*z^4-27//1*y^13*z^3-30//1*y^10*z^7-36//1*y*z^3+420//1*y^6*z^3-31//1*z^11+177//1*y^4*z^3+51//1*y*z^10+30//1*y^7-260//1*y^9*z^3-160//1*y^6*z+42//1*y^4*z^7-108//1*y^4*z^5+12//1*y*z^4+240//1*y^7*z^6+180//1*y^7*z^5+60//1*y^6*z^9-3//1*y^4*z^9-87//1*y*z^7+25//1*z^2+65//1*z^3+114//1*y^4*z^8-96//1*y^12*z+6//1*y^15*z^3\n",
      "(51,54)\n",
      "\t2//1*y^12-5//3*y^12*z^5+z^9-70//3*y^3*z^5+5//3*y^3*z^9+3//1*y^8*z^5-10//3*y^9*z^7-3//1*y^8*z^2+50//3*y^9*z^4+10//1*y^3*z^4+20//1*y^6*z^5-3//1*y^8*z-5//1*y^12*z^4-10//1*y^9*z^6-y^4*z^6-1//3*z^13+4//3*z^4+55//3*y^3*z^3+10//1*y^3*z^7-2//3*z^12-10//1*y^9*z+3//1*y^4*z^2-5//3*y^3*z^11-5//1*y^3*z+55//3*y^3*z^8-70//3*y^3*z^6+20//3*z^6+17//3*z^10+10//3*y^6-10//3*y^9*z^2-10//3*y^9+80//3*y^6*z^6-y^15*z+5//3*y^3*z^2-34//3*z^8+y^4-y^8-1//3*y^15+13//3*y^12*z^2+y^8*z^6-6//1*y^4*z^4-10//3*y^9*z^5-5//1*y^3*z^10+3//1*y^8*z^4+3//1*y^4*z-10//1*y^6*z^8-y^15*z^2+34//3*z^5-5//3*y^3-29//3*z^7-3//1*y^12*z^3-20//1*y^6*z^4+5//3*z^11-80//3*y^6*z^3-y^4*z^3+50//3*y^9*z^3+10//1*y^6*z+3//1*y^4*z^7-6//1*y^4*z^5-10//3*y^6*z^9+y^4*z^9-5//3*z^2-4//1*z^3+3//1*y^4*z^8+6//1*y^12*z-1//3*y^15*z^3\n",
      "(51,55)\n",
      "(50,55)\n",
      "(49,55)\n",
      "(48,55)\n",
      "(43,55)\n",
      "(42,55)\n",
      "(41,55)\n",
      "(40,55)\n",
      "(39,55)\n",
      "(38,55)\n",
      "(37,55)\n",
      "(36,55)\n",
      "(35,55)\n",
      "(34,55)\n",
      "(33,55)\n",
      "(32,55)\n",
      "(31,55)\n",
      "(54,55)\n",
      "\t-2//1*y^12-y^8*z^3-11//3*z^9+20//1*y^3*z^5+10//3*y^3*z^9+20//3*y^6*z^2-y^8*z^5+y^8*z^2-10//3*y^9*z^4+10//3*y^3*z^4-20//1*y^6*z^5+2//1*y^8*z+5//3*y^12*z^4+10//3*y^9*z^6-y^4*z^6-11//3*z^4-40//3*y^3*z^3-40//3*y^3*z^7+20//3*y^6*z^7+1//3*z^12+20//3*y^9*z-y^4*z^2+10//3*y^3*z-5//1*y^3*z^8+10//3*y^3*z^6+z^6-2//1*z^10-10//3*y^6-10//3*y^9*z^2+10//3*y^9-20//3*y^6*z^6+2//3*y^15*z-5//1*y^3*z^2+8//3*z^8-y^4+y^8+1//3*y^15-1//3*y^12*z^2+4//1*y^4*z^4+20//3*y^9*z^5+5//3*y^3*z^10-2//1*y^8*z^4-2//1*y^4*z+10//3*y^6*z^8+1//3*y^15*z^2-23//3*z^5+5//3*y^3+26//3*z^7+10//3*y^12*z^3+1//3*z^11+20//1*y^6*z^3+2//1*y^4*z^3-40//3*y^9*z^3-20//3*y^6*z-2//1*y^4*z^7+2//1*y^4*z^5+5//3*z^2+7//3*z^3-y^4*z^8-4//1*y^12*z\n",
      "(55,56)\n",
      "(51,56)\n",
      "(50,56)\n",
      "(49,56)\n",
      "(48,56)\n",
      "(43,56)\n",
      "(42,56)\n",
      "(41,56)\n",
      "(40,56)\n",
      "(39,56)\n",
      "(38,56)\n",
      "(37,56)\n",
      "(36,56)\n",
      "(35,56)\n",
      "(34,56)\n",
      "(33,56)\n",
      "(32,56)\n",
      "(31,56)\n",
      "(54,56)\n",
      "(50,54)\n",
      "(49,54)\n",
      "(48,54)\n",
      "(43,54)\n",
      "(42,54)\n",
      "(41,54)\n",
      "(40,54)\n",
      "(39,54)\n",
      "(38,54)\n",
      "(37,54)\n",
      "(36,54)\n",
      "(35,54)\n",
      "(34,54)\n",
      "(33,54)\n",
      "(32,54)\n",
      "(31,54)\n",
      "(23,53)\n",
      "(19,53)\n",
      "(28,53)\n",
      "(24,53)\n",
      "(26,53)\n",
      "(22,53)\n",
      "(27,53)\n",
      "(17,53)\n",
      "(21,53)\n",
      "(25,53)\n",
      "(18,53)\n",
      "(20,53)\n",
      "(24,52)\n",
      "(26,52)\n",
      "(22,52)\n",
      "(29,52)\n",
      "(17,52)\n",
      "(18,52)\n",
      "(28,52)\n",
      "(19,52)\n",
      "(27,52)\n",
      "(25,52)\n",
      "(23,52)\n",
      "(21,52)\n",
      "(20,52)\n",
      "(14,53)\n",
      "(16,53)\n",
      "(12,53)\n",
      "(13,53)\n",
      "(11,53)\n",
      "(15,53)\n",
      "(15,52)\n",
      "(14,52)\n",
      "(13,52)\n",
      "(11,52)\n",
      "(12,52)\n",
      "(16,52)\n",
      "(10,53)\n",
      "(9,53)\n",
      "(10,52)\n",
      "(9,52)\n",
      "(4,29)\n",
      "(4,28)\n",
      "(4,10)\n",
      "(4,15)\n",
      "(4,27)\n",
      "(4,14)\n",
      "(4,26)\n",
      "(4,13)\n",
      "(4,12)\n",
      "(4,25)\n",
      "(4,24)\n",
      "(4,11)\n",
      "(4,23)\n",
      "(4,22)\n",
      "(4,21)\n",
      "(4,20)\n",
      "(4,19)\n",
      "(4,18)\n",
      "(4,17)\n",
      "(4,53)\n",
      "(4,52)\n",
      "(4,47)\n",
      "(4,46)\n",
      "(4,45)\n",
      "(4,44)\n",
      "(4,30)\n",
      "(4,56)\n",
      "(4,55)\n",
      "(29,55)\n",
      "(16,51)\n",
      "(16,55)\n",
      "(16,56)\n",
      "(4,51)\n",
      "(29,56)\n",
      "(29,51)\n",
      "(10,50)\n",
      "(15,50)\n",
      "(29,50)\n",
      "(16,50)\n",
      "(10,51)\n",
      "(28,51)\n",
      "(28,50)\n",
      "(15,56)\n",
      "(15,51)\n",
      "(28,56)\n",
      "(10,55)\n",
      "(4,50)\n",
      "(10,56)\n",
      "(15,55)\n",
      "(28,55)\n",
      "(27,51)\n",
      "(9,51)\n",
      "(28,49)\n",
      "(14,50)\n",
      "(27,49)\n",
      "(9,50)\n",
      "(9,49)\n",
      "(14,56)\n",
      "(9,56)\n",
      "(16,49)\n",
      "(14,49)\n",
      "(14,51)\n",
      "(14,55)\n",
      "(9,55)\n",
      "(27,50)\n",
      "(15,49)\n",
      "(4,49)\n",
      "(27,55)\n",
      "(10,49)\n",
      "(29,49)\n",
      "(27,56)\n",
      "(14,48)\n",
      "(10,48)\n",
      "(13,48)\n",
      "(26,56)\n",
      "(13,55)\n",
      "(26,48)\n",
      "(26,55)\n",
      "(29,48)\n",
      "(9,48)\n",
      "(13,50)\n",
      "(13,49)\n",
      "(4,48)\n",
      "(26,49)\n",
      "(15,48)\n",
      "(16,48)\n",
      "(13,56)\n",
      "(13,51)\n",
      "(26,50)\n",
      "(26,51)\n",
      "(27,48)\n",
      "(28,48)\n",
      "(25,50)\n",
      "(26,43)\n",
      "(12,50)\n",
      "(14,43)\n",
      "(25,51)\n",
      "(25,56)\n",
      "(25,48)\n",
      "(12,56)\n",
      "(25,55)\n",
      "(25,43)\n",
      "(25,49)\n",
      "(12,43)\n",
      "(16,43)\n",
      "(12,49)\n",
      "(28,43)\n",
      "(29,43)\n",
      "(27,43)\n",
      "(10,43)\n",
      "(9,43)\n",
      "(12,48)\n",
      "(4,43)\n",
      "(12,51)\n",
      "(15,43)\n",
      "(13,43)\n",
      "(12,55)\n",
      "(11,50)\n",
      "(11,48)\n",
      "(12,42)\n",
      "(9,42)\n",
      "(14,42)\n",
      "(24,55)\n",
      "(24,50)\n",
      "(28,42)\n",
      "(11,42)\n",
      "(11,43)\n",
      "(11,51)\n",
      "(24,43)\n",
      "(11,56)\n",
      "(24,51)\n",
      "(24,56)\n",
      "(16,42)\n",
      "(13,42)\n",
      "(25,42)\n",
      "(29,42)\n",
      "(11,49)\n",
      "(24,42)\n",
      "(24,49)\n",
      "(27,42)\n",
      "(4,42)\n",
      "(11,55)\n",
      "(26,42)\n",
      "(24,48)\n",
      "(10,42)\n",
      "(15,42)\n",
      "(28,41)\n",
      "(11,41)\n",
      "(27,41)\n",
      "(23,41)\n",
      "(23,43)\n",
      "(13,41)\n",
      "(29,41)\n",
      "(12,41)\n",
      "(23,48)\n",
      "(23,50)\n",
      "(24,41)\n",
      "(15,41)\n",
      "(23,51)\n",
      "(9,41)\n",
      "(23,42)\n",
      "(23,49)\n",
      "(10,41)\n",
      "(16,41)\n",
      "(23,56)\n",
      "(25,41)\n",
      "(14,41)\n",
      "(23,55)\n",
      "(4,41)\n",
      "(26,41)\n",
      "(25,40)\n",
      "(22,55)\n",
      "(22,49)\n",
      "(26,40)\n",
      "(24,40)\n",
      "(15,40)\n",
      "(12,40)\n",
      "(27,40)\n",
      "(28,40)\n",
      "(9,40)\n",
      "(23,40)\n",
      "(11,40)\n",
      "(22,41)\n",
      "(22,40)\n",
      "(10,40)\n",
      "(16,40)\n",
      "(13,40)\n",
      "(14,40)\n",
      "(22,50)\n",
      "(22,56)\n",
      "(29,40)\n",
      "(22,48)\n",
      "(22,51)\n",
      "(22,42)\n",
      "(4,40)\n",
      "(22,43)\n",
      "(15,39)\n",
      "(28,39)\n",
      "(21,42)\n",
      "(10,39)\n",
      "(4,39)\n",
      "(21,50)\n",
      "(27,39)\n",
      "(21,51)\n",
      "(14,39)\n",
      "(21,41)\n",
      "(21,49)\n",
      "(21,40)\n",
      "(12,39)\n",
      "(21,55)\n",
      "(24,39)\n",
      "(23,39)\n",
      "(13,39)\n",
      "(21,39)\n",
      "(22,39)\n",
      "(21,48)\n",
      "(21,56)\n",
      "(21,43)\n",
      "(9,39)\n",
      "(25,39)\n",
      "(11,39)\n",
      "(29,39)\n",
      "(26,39)\n",
      "(16,39)\n",
      "(21,38)\n",
      "(20,51)\n",
      "(20,49)\n",
      "(20,56)\n",
      "(9,38)\n",
      "(20,48)\n",
      "(20,41)\n",
      "(13,38)\n",
      "(20,42)\n",
      "(14,38)\n",
      "(10,38)\n",
      "(24,38)\n",
      "(20,38)\n",
      "(4,38)\n",
      "(16,38)\n",
      "(25,38)\n",
      "(20,40)\n",
      "(22,38)\n",
      "(29,38)\n",
      "(23,38)\n",
      "(15,38)\n",
      "(20,55)\n",
      "(26,38)\n",
      "(20,39)\n",
      "(20,43)\n",
      "(27,38)\n",
      "(28,38)\n",
      "(11,38)\n",
      "(20,50)\n",
      "(12,38)\n",
      "(19,48)\n",
      "(19,38)\n",
      "(26,37)\n",
      "(22,37)\n",
      "(15,37)\n",
      "(11,37)\n",
      "(27,37)\n",
      "(21,37)\n",
      "(19,43)\n",
      "(19,42)\n",
      "(10,37)\n",
      "(19,51)\n",
      "(19,55)\n",
      "(12,37)\n",
      "(19,56)\n",
      "(19,40)\n",
      "(20,37)\n",
      "(4,37)\n",
      "(9,37)\n",
      "(29,37)\n",
      "(24,37)\n",
      "(19,50)\n",
      "(16,37)\n",
      "(13,37)\n",
      "(19,39)\n",
      "(14,37)\n",
      "(19,49)\n",
      "(19,37)\n",
      "(25,37)\n",
      "(28,37)\n",
      "(23,37)\n",
      "(19,41)\n",
      "(26,36)\n",
      "(18,55)\n",
      "(18,38)\n",
      "(11,36)\n",
      "(29,36)\n",
      "(18,36)\n",
      "(18,42)\n",
      "(21,36)\n",
      "(18,37)\n",
      "(18,41)\n",
      "(13,36)\n",
      "(10,36)\n",
      "(27,36)\n",
      "(25,36)\n",
      "(28,36)\n",
      "(18,48)\n",
      "(22,36)\n",
      "(19,36)\n",
      "(18,40)\n",
      "(23,36)\n",
      "(18,39)\n",
      "(18,50)\n",
      "(15,36)\n",
      "(18,43)\n",
      "(16,36)\n",
      "(4,36)\n",
      "(24,36)\n",
      "(18,51)\n",
      "(18,56)\n",
      "(18,49)\n",
      "(14,36)\n",
      "(9,36)\n",
      "(12,36)\n",
      "(20,36)\n",
      "(29,35)\n",
      "(13,35)\n",
      "(20,35)\n",
      "(18,35)\n",
      "(19,35)\n",
      "(17,51)\n",
      "(17,49)\n",
      "(17,56)\n",
      "(17,50)\n",
      "(10,35)\n",
      "(4,35)\n",
      "(12,35)\n",
      "(24,35)\n",
      "(26,35)\n",
      "(17,42)\n",
      "(17,38)\n",
      "(17,48)\n",
      "(17,40)\n",
      "(28,35)\n",
      "(17,35)\n",
      "(14,35)\n",
      "(11,35)\n",
      "(16,35)\n",
      "(17,37)\n",
      "(17,43)\n",
      "(17,36)\n",
      "(23,35)\n",
      "(17,39)\n",
      "(22,35)\n",
      "(25,35)\n",
      "(21,35)\n",
      "(9,35)\n",
      "(15,35)\n",
      "(17,55)\n",
      "(27,35)\n",
      "(17,41)\n",
      "(9,34)\n",
      "(27,34)\n",
      "(26,34)\n",
      "(16,34)\n",
      "(25,34)\n",
      "(20,34)\n",
      "(19,34)\n",
      "(21,34)\n",
      "(22,34)\n",
      "(4,34)\n",
      "(15,34)\n",
      "(10,34)\n",
      "(11,34)\n",
      "(18,34)\n",
      "(17,34)\n",
      "(13,34)\n",
      "(28,34)\n",
      "(12,34)\n",
      "(24,34)\n",
      "(29,34)\n",
      "(23,34)\n",
      "(14,34)\n",
      "(21,33)\n",
      "(13,33)\n",
      "(19,33)\n",
      "(20,33)\n",
      "(22,33)\n",
      "(24,33)\n",
      "(4,33)\n",
      "(28,33)\n",
      "(26,33)\n",
      "(17,33)\n",
      "(18,33)\n",
      "(9,33)\n",
      "(16,33)\n",
      "(23,33)\n",
      "(12,33)\n",
      "(29,33)\n",
      "(15,33)\n",
      "(25,33)\n",
      "(11,33)\n",
      "(10,33)\n",
      "(14,33)\n",
      "(27,33)\n",
      "(27,32)\n",
      "(11,32)\n",
      "(25,32)\n",
      "(16,32)\n",
      "(28,32)\n",
      "(17,32)\n",
      "(9,32)\n",
      "(23,32)\n",
      "(21,32)\n",
      "(22,32)\n",
      "(12,32)\n",
      "(29,32)\n",
      "(4,32)\n",
      "(19,32)\n",
      "(10,32)\n",
      "(15,32)\n",
      "(13,32)\n",
      "(14,32)\n",
      "(18,32)\n",
      "(26,32)\n",
      "(20,32)\n",
      "(24,32)\n",
      "(24,31)\n",
      "(10,31)\n",
      "(21,31)\n",
      "(4,31)\n",
      "(26,31)\n",
      "(23,31)\n",
      "(9,31)\n",
      "(17,31)\n",
      "(25,31)\n",
      "(16,31)\n",
      "(14,31)\n",
      "(11,31)\n",
      "(27,31)\n",
      "(18,31)\n",
      "(20,31)\n",
      "(29,31)\n",
      "(19,31)\n",
      "(28,31)\n",
      "(15,31)\n",
      "(13,31)\n",
      "(22,31)\n",
      "(12,31)\n",
      "(51,53)\n",
      "(53,56)\n",
      "(41,53)\n",
      "(33,53)\n",
      "(35,53)\n",
      "(49,53)\n",
      "(31,53)\n",
      "(37,53)\n",
      "(48,53)\n",
      "(53,55)\n",
      "(32,53)\n",
      "(38,53)\n",
      "(39,53)\n",
      "(43,53)\n",
      "(34,53)\n",
      "(42,53)\n",
      "(36,53)\n",
      "(40,53)\n",
      "(50,53)\n",
      "(34,52)\n",
      "(52,56)\n",
      "(37,52)\n",
      "(33,52)\n",
      "(51,52)\n",
      "(31,52)\n",
      "(49,52)\n",
      "(40,52)\n",
      "(32,52)\n",
      "(52,55)\n",
      "(48,52)\n",
      "(42,52)\n",
      "(43,52)\n",
      "(39,52)\n",
      "(41,52)\n",
      "(38,52)\n",
      "(35,52)\n",
      "(36,52)\n",
      "(50,52)\n",
      "(47,48)\n",
      "(31,47)\n",
      "(35,47)\n",
      "(33,47)\n",
      "(41,47)\n",
      "(38,47)\n",
      "(47,49)\n",
      "(47,50)\n",
      "(43,47)\n",
      "(47,55)\n",
      "(47,51)\n",
      "(40,47)\n",
      "(42,47)\n",
      "(39,47)\n",
      "(37,47)\n",
      "(34,47)\n",
      "(47,56)\n",
      "(32,47)\n",
      "(36,47)\n",
      "(40,46)\n",
      "(33,46)\n",
      "(43,46)\n",
      "(46,55)\n",
      "(46,49)\n",
      "(31,46)\n",
      "(46,51)\n",
      "(35,46)\n",
      "(39,46)\n",
      "(42,46)\n",
      "(36,46)\n",
      "(46,50)\n",
      "(32,46)\n",
      "(37,46)\n",
      "(38,46)\n",
      "(46,56)\n",
      "(41,46)\n",
      "(34,46)\n",
      "(46,48)\n",
      "(45,48)\n",
      "(40,45)\n",
      "(45,56)\n",
      "(42,45)\n",
      "(36,45)\n",
      "(45,49)\n",
      "(41,45)\n",
      "(38,45)\n",
      "(45,55)\n",
      "(39,45)\n",
      "(34,45)\n",
      "(37,45)\n",
      "(43,45)\n",
      "(45,50)\n",
      "(45,51)\n",
      "(35,45)\n",
      "(31,45)\n",
      "(32,45)\n",
      "(33,45)\n",
      "(34,44)\n",
      "(38,44)\n",
      "(33,44)\n",
      "(32,44)\n",
      "(44,49)\n",
      "(44,56)\n",
      "(43,44)\n",
      "(41,44)\n",
      "(37,44)\n",
      "(44,48)\n",
      "(36,44)\n",
      "(44,51)\n",
      "(35,44)\n",
      "(44,50)\n",
      "(39,44)\n",
      "(31,44)\n",
      "(40,44)\n",
      "(42,44)\n",
      "(44,55)\n",
      "(30,38)\n",
      "(30,34)\n",
      "(30,35)\n",
      "(30,33)\n",
      "(30,56)\n",
      "(30,41)\n",
      "(30,51)\n",
      "(30,55)\n",
      "(30,39)\n",
      "(30,37)\n",
      "(30,50)\n",
      "(30,32)\n",
      "(30,31)\n",
      "(30,48)\n",
      "(30,49)\n",
      "(30,43)\n",
      "(30,42)\n",
      "(30,36)\n",
      "(30,40)\n",
      "(4,54)\n",
      "(16,54)\n",
      "(29,54)\n",
      "(10,54)\n",
      "(28,54)\n",
      "(15,54)\n",
      "(9,54)\n",
      "(27,54)\n",
      "(14,54)\n",
      "(13,54)\n",
      "(26,54)\n",
      "(25,54)\n",
      "(12,54)\n",
      "(11,54)\n",
      "(24,54)\n",
      "(23,54)\n",
      "(22,54)\n",
      "(21,54)\n",
      "(20,54)\n",
      "(19,54)\n",
      "(18,54)\n",
      "(17,54)\n",
      "(53,54)\n",
      "(52,54)\n",
      "(47,54)\n",
      "(46,54)\n",
      "(45,54)\n",
      "(44,54)\n",
      "(30,54)\n",
      "(8,53)\n",
      "(8,52)\n",
      "(8,47)\n",
      "(8,46)\n",
      "(8,45)\n",
      "(8,44)\n",
      "(8,30)\n",
      "(5,29)\n",
      "(7,29)\n",
      "(5,28)\n",
      "(7,28)\n",
      "(5,27)\n",
      "(7,27)\n",
      "(5,26)\n",
      "(8,29)\n",
      "(8,28)\n",
      "(7,8)\n",
      "(8,26)\n",
      "(8,27)\n",
      "(7,26)\n",
      "(7,25)\n",
      "(5,25)\n",
      "(8,25)\n",
      "(7,24)\n",
      "(8,24)\n",
      "(5,24)\n",
      "(8,23)\n",
      "(5,23)\n",
      "(7,23)\n",
      "(8,22)\n",
      "(5,22)\n",
      "(7,22)\n",
      "(7,21)\n",
      "(5,21)\n",
      "(8,21)\n",
      "(5,20)\n",
      "(7,20)\n",
      "(8,20)\n",
      "(7,19)\n",
      "(8,19)\n",
      "(5,19)\n",
      "(7,18)\n",
      "(8,18)\n",
      "(5,18)\n",
      "(7,17)\n",
      "(5,17)\n",
      "(8,17)\n",
      "(7,53)\n",
      "(5,53)\n",
      "(7,52)\n",
      "(5,52)\n",
      "(7,47)\n",
      "(5,47)\n",
      "(7,46)\n",
      "(5,46)\n",
      "(7,45)\n",
      "(5,45)\n",
      "(5,44)\n",
      "(7,44)\n",
      "(5,30)\n",
      "(7,30)\n",
      "(6,7)\n",
      "\t-1355243//486*x*z^13-x*z+150542623//8748*y^5*z^12-10941307//34992*y^10+34059743//1458*y^5*z^5-80853031//23328*z^9+15993031//5832*y^2*z^16+896091137//34992*y^3*z^5+74442991//17496*y*z^6+216298601//17496*y^5*z^4+15145940//729*y^9*z^7+103689905//8748*y^5*z^6-117885233//11664*y^9*z^4-10928185//34992*y^2*z^2-101322119//34992*y^12*z^8+312837883//17496*y^2*z^8+9105349//3888*y^8*z+339608897//17496*y^9*z^6+101590235//69984*x*z^17-1709315//8748*y^10*z^15+1024445//23328*x*z^21-1514455//34992*y^13*z^13+1134637//2916*y^6*z^16-10967551//34992*y*z^2+27494437//17496*y^14*z^2+2668373//2592*z^12-2658455//729*y^9*z^11-9109723//3888*y^9*z+1081127227//69984*y^4*z^12+2172515//34992*y^14-26544803//34992*y^9*z^14-30301180//729*y^3*z^8-2244650773//69984*z^10+8670377//17496*y^6+154718191//34992*y^6*z^14+129020113//69984*y^11*z^9-15164923//2187*y^3*z^2+407027//729*y^5*z^3-88044761//11664*y^10*z^2+10888819//34992*y^8-15830089//2592*x*z^14-16980409//8748*y^4*z^16+137924015//34992*y^3*z^16-297520103//23328*y^6*z^12+130159553//34992*y^2*z^6+24377525//5832*y^3*z^17+305237683//17496*y^7*z^3+49764953//69984*x*z^19-725948//729*x*z^9-227494//243*y^5*z+928654421//69984*y^11*z^6+136043125//8748*y^5*z^11-7273643//8748*y^12*z^6-10770721//34992*y^3-126187//96*x*z^7+7279565//1944*y^7*z+9800609//17496*y^5*z^10-4202725//11664*y^12*z^12+53120581//17496*y^12*z^3-249241501//23328*y^10*z^4-476981911//34992*y^3*z^13-8325497//34992*y^14*z^11+1819805315//69984*y^8*z^9+71582231//23328*y^14*z^3+4486999//11664*y^11*z^5-1678871//7776*y^4*z^14-2060909315//69984*z^11-18014887//2916*y^2*z^5-7653923//2187*y^7*z^13+10569595//34992*y*z^16+302891//34992*y^11*z^15+302891//69984*y^8*z^17-1695747779//69984*y^4*z^7-4200091//17496*y^2*z^19-10694077//8748*y^5*z^17-10735729//34992*z^2+670438511//34992*y*z^7-302891//69984*y^4*z^20-3198901295//69984*y^4*z^8-94157797//34992*y^13*z^9+39986569//8748*y^2*z^15-16442797//3888*y^7*z^15+2172515//34992*y^12-9107779//3888*y^11*z-10866949//34992*y^11-24538045//8748*y^12*z^7+267561089//23328*y^4*z^10-5724851//17496*y^2*z^13-273478//2187*y^5+51065767//34992*y^3*z^18+915071659//34992*y^4*z^11+1821653//3888*y^14*z-4802153//1296*y^11*z^12+302891//69984*y^6*z^19-3085279//34992*y*z^19+242295409//34992*y^8*z^2+8523839//8748*y^2*z^9-9592909//11664*y^4*z^15+123278825//34992*y^12*z^4+21851533//11664*y^7*z^12+12640679//1944*y^7*z^4-53453599//17496*y^5*z^16-102099307//17496*z^4-112155121//69984*y^14*z^9+44612663//17496*y^5*z^14-479144377//69984*y^3*z^7-12160075//5832*y^6*z^13+446035525//11664*y^3*z^11-9118471//3888*y^3*z+31274981//3888*y^8*z^11+15915427//4374*y^13*z^4-279897913//23328*y^8*z^7+273050129//34992*y^9*z^8-5032181//4374*y*z^12-10849453//34992*y^9+6582091//8748*z^20-3115639//648*y^11*z^10+247887917//34992*y*z^13-3012512489//69984*y^6*z^6+8035339//2916*y^14*z^5-3304879//11664*y^13*z^12+302891//69984*x*z^22+27507559//17496*y^12*z^2-302891//11664*y^12*z^14-551993101//69984*y^8*z^13-4273811//17496*y^6*z^17-2105440603//69984*y^8*z^6+1118941//54*y^7*z^10+881838599//69984*y^4*z^4+999663803//69984*y^3*z^10-453773//486*y^4*z-288900667//69984*x*z^15-2035429//17496*y*z^20+67251973//3888*y^6*z^8-420523685//69984*z^5+15476179//3888*y*z^14+55617679//2916*y*z^8-302891//69984*y^10*z^16+25454287//2187*y^7*z^2+302891//34992*y^3*z^21+39742939//1944*y^10*z^7-5155961//4374*y^10*z^14+1211103749//69984*y^6*z^3+41229611//69984*y^4*z^3-5428469//8748*y^12*z^11-33352873//17496*y^12*z^9-y*z-743459161//34992*y^7*z^5+302891//69984*z^23-1514455//34992*y^2*z^20-6778561//17496*y^2*z^18+7510031//2916*y^10*z^9-48377005//8748*y^8*z^14+96405215//17496*y^7*z^8-28017607//23328*y^14*z^7+102635675//69984*z^19-302891//34992*y^7*z^18+1474269781//69984*y^8*z^10-340486051//69984*z^17+6199681//729*y^8*z^3-83739421//69984*y^11*z^13-15522017//17496*y^13*z^11+163769489//23328*x*z^11-181360937//5832*y^3*z^9+101898067//8748*y^6*z^2-3331801//17496*y^5*z^18-179467729//7776*y^8*z^5-234264029//69984*y^10*z^13-7491509//17496*y^9*z^15+16293425//1458*y^5*z^13+306136289//69984*y^3*z^4-845184455//34992*y^6*z^5+14962699//69984*y^3*z^19+112802741//8748*y^10*z^8-29891135//34992*z^15-134116567//69984*y^4*z^17-551937571//23328*y^6*z^7-221996425//8748*y^5*z^9+1345513//5832*y*z^15+2185637//34992*y^13+352480283//69984*z^6+x*y*z-9099517//3888*y^10*z-11009149//1458*y^9*z^2-x*z^2-907605619//69984*y^10*z^3-1124735//17496*y^6*z^18-4925027//34992*y^13*z^6+397051469//17496*z^8+476549//17496*y^3*z^20-557891//4374*y^4+55008557//34992*y^13*z^2+416691253//17496*y^7*z^9-75287033//2916*y^7*z^7-271243753//34992*y^9*z^10-2509957//8748*y^7*z^17-2525945//3888*y^9*z^12+262860673//69984*y^14*z^4-15804671//4374*y^8*z^12+581543275//34992*y^10*z^6-31491955//17496*y^13*z^10-26670917//8748*y^13*z^8-225008437//34992*y^10*z^11-22005905//2916*y^11*z^2+24230815//5832*y^9*z^5+22512919//5832*x*z^12-32303507//11664*y^8*z^4-2404165//2916*y^14*z^10+103253893//5832*y^2*z^7-14432749//8748*y^7*z^16+210895387//69984*y^6*z^15-22613947//11664*y^14*z^8-429488581//69984*y^3*z^15+120259//3888*z^22+13262533//69984*z^21+133715701//34992*x*z^10-38626121//17496*y^5*z^2+82726057//34992*y^13*z^5-x*y*z^3-850787//5832*y^11*z^14-3138203//1458*y*z^3-82614185//11664*y^2*z^12+1122363661//69984*y^6*z^10-85579435//4374*y^3*z^14+244386029//17496*y^8*z^8+1226095627//34992*y^6*z^9-400178365//69984*y^10*z^12-129575863//8748*y^2*z^11-6301921//2916*z^3+1821653//3888*y^12*z+32346001//34992*y*z^17+15166253//23328*y^14*z^6-611057755//69984*z^16-302891//11664*y*z^21+601427435//34992*z^14-36525143//34992*y^12*z^10+34461535//17496*y^12*z^5+400530005//23328*y^11*z^7+65695189//5832*y^11*z^8-117202//729*y^4*z^19-139657//162*y^4*z^18-4979531//34992*y^12*z^13-2186159//108*y^5*z^7+98479061//69984*x*z^18+8059427//17496*y^2*z^17-3139661//1458*y^2*z^3+202052383//17496*y^4*z^6+1977367//8748*x*z^20-262975705//23328*y^11*z^4-x*y+101499713//4374*z^13-45078299//23328*y^8*z^15+733079//324*y^10*z^5-573433703//69984*y^3*z^3-89879597//17496*y^9*z^9+29375107//2916*y^7*z^11-9652703//4374*y^4*z^2+1//4*x*z^4+1881899473//69984*y^3*z^6+z+x+14883281//34992*y*z^18-5740913//11664*y^9*z^13+223663889//69984*y^4*z^13-499873759//34992*y^2*z^10+3809677//17496*z^18-28399066//729*y^5*z^8-106296637//17496*y^11*z^11-102020575//17496*y^2*z^4-305360569//17496*y*z^11-245005//11664*y^14*z^12-17421673//69984*x*z^6-1514455//17496*y^9*z^16-66360439//11664*y^7*z^14-213284213//34992*y*z^5+3//4*x*z^3+1820195//3888*y^13*z-43577053//17496*x*z^8+4665323//1296*y^2*z^14-313846139//34992*y^6*z^11+302891//69984*y^14*z^13-304364225//23328*y^11*z^3+1535240027//69984*z^7-1//1-4616195//2916*y*z^9-612269//1296*x*z^16+6676171//2187*y^13*z^3+4816529//864*y^6*z^4+y-4759427//17496*y^8*z^16-721679927//34992*y*z^10+8753483//17496*y^7-28177468//2187*y^9*z^3+1217417893//69984*y^3*z^12+7288799//1944*y^6*z+836365261//34992*y^4*z^5-204095825//34992*y*z^4-459543791//11664*y^7*z^6+x*y*z^2-450937709//17496*y^4*z^9+1//4*x*z^5-39599947//17496*y^13*z^7-6271823//2187*y^5*z^15-284676899//69984*y^10*z^10\n",
      "(29,57)\n",
      "(28,57)\n",
      "(27,57)\n",
      "(26,57)\n",
      "(25,57)\n",
      "(24,57)\n",
      "(23,57)\n",
      "(22,57)\n",
      "(21,57)\n",
      "(20,57)\n",
      "(19,57)\n",
      "(18,57)\n",
      "(17,57)\n",
      "(53,57)\n",
      "(52,57)\n",
      "(47,57)\n",
      "(46,57)\n",
      "(45,57)\n",
      "(44,57)\n",
      "(30,57)\n",
      "(16,57)\n",
      "(15,57)\n",
      "(14,57)\n",
      "(13,57)\n",
      "(12,57)\n",
      "(11,57)\n",
      "(10,57)\n",
      "(9,57)\n",
      "(4,57)\n",
      "\t-615//1*x*z^13+3808//1*y^5*z^12-80//1*y^10+5068//1*y^5*z^5-887//1*z^9+608//1*y^2*z^16+5650//1*y^3*z^5+1044//1*y*z^6+2832//1*y^5*z^4+4544//1*y^9*z^7+2424//1*y^5*z^6-2154//1*y^9*z^4-80//1*y^2*z^2-642//1*y^12*z^8+3858//1*y^2*z^8+560//1*y^8*z+4280//1*y^9*z^6+318//1*x*z^17-45//1*y^10*z^15+10//1*x*z^21-10//1*y^13*z^13+94//1*y^6*z^16-80//1*y*z^2+360//1*y^14*z^2+235//1*z^12-822//1*y^9*z^11-560//1*y^9*z+3453//1*y^4*z^12+16//1*y^14-166//1*y^9*z^14-9019//1*y^3*z^8-7004//1*z^10+128//1*y^6+955//1*y^6*z^14+403//1*y^11*z^9-1560//1*y^3*z^2+224//1*y^5*z^3-1720//1*y^10*z^2+80//1*y^8-1338//1*x*z^14-425//1*y^4*z^16+844//1*y^3*z^16-2776//1*y^6*z^12+916//1*y^2*z^6+928//1*y^3*z^17+3788//1*y^7*z^3+159//1*x*z^19-185//1*x*z^9-224//1*y^5*z+2941//1*y^11*z^6+3452//1*y^5*z^11-188//1*y^12*z^6-80//1*y^3-304//1*x*z^7+896//1*y^7*z+112//1*y^5*z^10-80//1*y^12*z^12+678//1*y^12*z^3-2294//1*y^10*z^4-2926//1*y^3*z^13-54//1*y^14*z^11+5749//1*y^8*z^9+686//1*y^14*z^3+130//1*y^11*z^5-57//1*y^4*z^14-6362//1*z^11-1290//1*y^2*z^5-778//1*y^7*z^13+64//1*y*z^16+2//1*y^11*z^15+y^8*z^17-5419//1*y^4*z^7-54//1*y^2*z^19-276//1*y^5*z^17-80//1*z^2+4212//1*y*z^7-y^4*z^20-9947//1*y^4*z^8-598//1*y^13*z^9+1004//1*y^2*z^15-938//1*y^7*z^15+16//1*y^12-560//1*y^11*z-80//1*y^11-620//1*y^12*z^7+2472//1*y^4*z^10-64//1*y^2*z^13-32//1*y^5+331//1*y^3*z^18+5720//1*y^4*z^11+112//1*y^14*z-825//1*y^11*z^12+y^6*z^19-18//1*y*z^19+1560//1*y^8*z^2+198//1*y^2*z^9-192//1*y^4*z^15+774//1*y^12*z^4+402//1*y^7*z^12+1260//1*y^7*z^4-676//1*y^5*z^16-1304//1*z^4-355//1*y^14*z^9+572//1*y^5*z^14-1663//1*y^3*z^7-488//1*y^6*z^13+8268//1*y^3*z^11-560//1*y^3*z+1768//1*y^8*z^11+802//1*y^13*z^4-2586//1*y^8*z^7+1718//1*y^9*z^8-294//1*y*z^12-80//1*y^9+169//1*z^20-1058//1*y^11*z^10+1530//1*y*z^13-9371//1*y^6*z^6+606//1*y^14*z^5-64//1*y^13*z^12+x*z^22+360//1*y^12*z^2-6//1*y^12*z^14-1733//1*y^8*z^13-54//1*y^6*z^17-6548//1*y^8*z^6+4602//1*y^7*z^10+2888//1*y^4*z^4+3130//1*y^3*z^10-224//1*y^4*z-910//1*x*z^15-26//1*y*z^20+3791//1*y^6*z^8-1250//1*z^5+896//1*y*z^14+4088//1*y*z^8-y^10*z^16+2640//1*y^7*z^2+2//1*y^3*z^21+4507//1*y^10*z^7-266//1*y^10*z^14+3756//1*y^6*z^3+232//1*y^4*z^3-138//1*y^12*z^11-426//1*y^12*z^9-4772//1*y^7*z^5+z^23-10//1*y^2*z^20-84//1*y^2*z^18+572//1*y^10*z^9-1229//1*y^8*z^14+1206//1*y^7*z^8-267//1*y^14*z^7+323//1*z^19-2//1*y^7*z^18+4648//1*y^8*z^10-1083//1*z^17+1798//1*y^8*z^3-271//1*y^11*z^13-198//1*y^13*z^11+1527//1*x*z^11-6641//1*y^3*z^9+2640//1*y^6*z^2-44//1*y^5*z^18-5120//1*y^8*z^5-745//1*y^10*z^13-96//1*y^9*z^15+2460//1*y^5*z^13+1126//1*y^3*z^4-5432//1*y^6*z^5+49//1*y^3*z^19+2853//1*y^10*z^8-150//1*z^15-423//1*y^4*z^17-5057//1*y^6*z^7-5580//1*y^5*z^9+70//1*y*z^15+16//1*y^13+1236//1*z^6-560//1*y^10*z-1720//1*y^9*z^2-2862//1*y^10*z^3-15//1*y^6*z^18-36//1*y^13*z^6+4845//1*z^8+6//1*y^3*z^20-32//1*y^4+360//1*y^13*z^2+5234//1*y^7*z^9-5608//1*y^7*z^7-1702//1*y^9*z^10-66//1*y^7*z^17-156//1*y^9*z^12+830//1*y^14*z^4-789//1*y^8*z^12+3681//1*y^10*z^6-400//1*y^13*z^10-678//1*y^13*z^8-1427//1*y^10*z^11-1720//1*y^11*z^2+990//1*y^9*z^5+828//1*x*z^12-754//1*y^8*z^4-184//1*y^14*z^10+3886//1*y^2*z^7-372//1*y^7*z^16+673//1*y^6*z^15-429//1*y^14*z^8-1385//1*y^3*z^15+7//1*z^22+43//1*z^21+859//1*x*z^10-480//1*y^5*z^2+516//1*y^13*z^5-34//1*y^11*z^14-512//1*y*z^3-1576//1*y^2*z^12+3518//1*y^6*z^10-4273//1*y^3*z^14+3095//1*y^8*z^8+7605//1*y^6*z^9-1266//1*y^10*z^12-3276//1*y^2*z^11-512//1*z^3+112//1*y^12*z+200//1*y*z^17+141//1*y^14*z^6-1899//1*z^16-6//1*y*z^21+3760//1*z^14-234//1*y^12*z^10+426//1*y^12*z^5+3789//1*y^11*z^7+2481//1*y^11*z^8-37//1*y^4*z^19-194//1*y^4*z^18-32//1*y^12*z^13-4504//1*y^5*z^7+312//1*x*z^18+108//1*y^2*z^17-512//1*y^2*z^3+2323//1*y^4*z^6+51//1*x*z^20-2434//1*y^11*z^4+5035//1*z^13-437//1*y^8*z^15+560//1*y^10*z^5-1722//1*y^3*z^3-1106//1*y^9*z^9+2244//1*y^7*z^11-480//1*y^4*z^2+5705//1*y^3*z^6+96//1*y*z^18-108//1*y^9*z^13+745//1*y^4*z^13-3126//1*y^2*z^10+35//1*z^18-8516//1*y^5*z^8-1340//1*y^11*z^11-1304//1*y^2*z^4-3808//1*y*z^11-5//1*y^14*z^12-64//1*x*z^6-20//1*y^9*z^16-1252//1*y^7*z^14-1270//1*y*z^5+112//1*y^13*z-540//1*x*z^8+798//1*y^2*z^14-1900//1*y^6*z^11+y^14*z^13-2882//1*y^11*z^3+4842//1*z^7-398//1*y*z^9-109//1*x*z^16+682//1*y^13*z^3+1036//1*y^6*z^4-63//1*y^8*z^16-4484//1*y*z^10+128//1*y^7-2842//1*y^9*z^3+3790//1*y^3*z^12+896//1*y^6*z+5188//1*y^4*z^5-1304//1*y*z^4-8612//1*y^7*z^6-5590//1*y^4*z^9-504//1*y^13*z^7-620//1*y^5*z^15-907//1*y^10*z^10\n",
      "(53,58)\n",
      "(52,58)\n",
      "(47,58)\n",
      "(46,58)\n",
      "(45,58)\n",
      "(44,58)\n",
      "(30,58)\n",
      "(22,58)\n",
      "\t6//1*y^12+3//1*y^8*z^3+6//1*z^9-30//1*y^3*z^5-5//1*y^3*z^9-30//1*y^6*z^2-10//1*y^9*z^4-30//1*y^3*z^4+30//1*y^6*z^5-3//1*y^8*z+3//1*y^4*z^6+13//1*z^4+20//1*y^3*z^3+20//1*y^3*z^7-10//1*y^6*z^7-10//1*y^9*z-5//1*y^3*z-5//1*y^3*z^8+20//1*y^3*z^6-13//1*z^6+10//1*y^6+20//1*y^9*z^2-10//1*y^9-10//1*y^6*z^6-y^15*z+20//1*y^3*z^2+5//1*z^8+3//1*y^4-3//1*y^8-y^15-5//1*y^12*z^2-6//1*y^4*z^4-10//1*y^9*z^5+3//1*y^8*z^4+3//1*y^4*z+10//1*z^5-5//1*y^3-13//1*z^7-5//1*y^12*z^3+30//1*y^6*z^4-z^11-30//1*y^6*z^3-6//1*y^4*z^3+20//1*y^9*z^3+10//1*y^6*z+3//1*y^4*z^7-5//1*z^2-2//1*z^3+6//1*y^12*z\n",
      "(56,59)\n",
      "(55,59)\n",
      "(51,59)\n",
      "(50,59)\n",
      "(49,59)\n",
      "(48,59)\n",
      "(43,59)\n",
      "(42,59)\n",
      "(41,59)\n",
      "(40,59)\n",
      "(39,59)\n",
      "(38,59)\n",
      "(37,59)\n",
      "(36,59)\n",
      "(35,59)\n",
      "(34,59)\n",
      "(33,59)\n",
      "(32,59)\n",
      "(31,59)\n",
      "(54,59)\n",
      "(24,58)\n",
      "(57,58)\n",
      "(19,58)\n",
      "(21,58)\n",
      "(29,58)\n",
      "(18,58)\n",
      "(26,58)\n",
      "(20,58)\n",
      "(17,58)\n",
      "(25,58)\n",
      "(28,58)\n",
      "(23,58)\n",
      "(27,58)\n",
      "(16,58)\n",
      "(15,58)\n",
      "(14,58)\n",
      "(13,58)\n",
      "(12,58)\n",
      "(11,58)\n",
      "(9,58)\n",
      "(10,58)\n",
      "(4,58)\n",
      "(4,59)\n",
      "(55,57)\n",
      "(56,57)\n",
      "(57,59)\n",
      "(16,59)\n",
      "(51,57)\n",
      "(29,59)\n",
      "(10,59)\n",
      "(28,59)\n",
      "(15,59)\n",
      "(50,57)\n",
      "(27,59)\n",
      "(49,57)\n",
      "(9,59)\n",
      "(14,59)\n",
      "(13,59)\n",
      "(26,59)\n",
      "(48,57)\n",
      "(25,59)\n",
      "(12,59)\n",
      "(43,57)\n",
      "(42,57)\n",
      "(11,59)\n",
      "(24,59)\n",
      "(41,57)\n",
      "(23,59)\n",
      "(40,57)\n",
      "(22,59)\n",
      "(21,59)\n",
      "(39,57)\n",
      "(38,57)\n",
      "(20,59)\n",
      "(37,57)\n",
      "(19,59)\n",
      "(18,59)\n",
      "(36,57)\n",
      "(17,59)\n",
      "(35,57)\n",
      "(34,57)\n",
      "(33,57)\n",
      "(32,57)\n",
      "(31,57)\n",
      "(35,58)\n",
      "(58,59)\n",
      "(49,58)\n",
      "(55,58)\n",
      "(51,58)\n",
      "(33,58)\n",
      "(50,58)\n",
      "(56,58)\n",
      "(31,58)\n",
      "(42,58)\n",
      "(39,58)\n",
      "(43,58)\n",
      "(40,58)\n",
      "(36,58)\n",
      "(37,58)\n",
      "(41,58)\n",
      "(38,58)\n",
      "(48,58)\n",
      "(34,58)\n",
      "(32,58)\n",
      "(53,59)\n",
      "(52,59)\n",
      "(47,59)\n",
      "(46,59)\n",
      "(45,59)\n",
      "(44,59)\n",
      "(30,59)\n",
      "(54,57)\n",
      "(54,58)\n",
      "(8,58)\n",
      "(5,57)\n",
      "(7,57)\n",
      "(8,57)\n",
      "(7,58)\n",
      "(5,58)\n",
      "(6,57)\n",
      "(6,16)\n",
      "(6,29)\n",
      "(7,16)\n",
      "(5,16)\n",
      "(6,15)\n",
      "(5,15)\n",
      "(7,15)\n",
      "(6,28)\n",
      "(7,14)\n",
      "(6,27)\n",
      "(5,14)\n",
      "(6,14)\n",
      "(7,13)\n",
      "(6,13)\n",
      "(6,26)\n",
      "(6,8)\n",
      "(8,14)\n",
      "(8,13)\n",
      "(5,13)\n",
      "(8,16)\n",
      "(8,15)\n",
      "(7,12)\n",
      "(6,25)\n",
      "(8,12)\n",
      "(5,12)\n",
      "(6,12)\n",
      "(8,11)\n",
      "(5,11)\n",
      "(6,11)\n",
      "(7,11)\n",
      "(6,24)\n",
      "(6,23)\n",
      "(6,22)\n",
      "(6,21)\n",
      "(6,20)\n",
      "(6,19)\n",
      "(6,18)\n",
      "(6,17)\n",
      "(6,58)\n",
      "(6,53)\n",
      "(6,52)\n",
      "(6,47)\n",
      "(6,46)\n",
      "(6,45)\n",
      "(6,44)\n",
      "(6,30)\n",
      "(3,7)\n",
      "\t-70467299//23328*x*z^13-2//1*x*z+45377033//5832*y^5*z^12-10941307//34992*y^10+56655335//4374*y^5*z^5-98720795//8748*z^9+22790249//34992*y^2*z^16+627649391//34992*y^3*z^5+222493675//34992*y*z^6+22761947//2187*y^5*z^4+289069949//34992*y^9*z^7-9620765//8748*y^5*z^6-31965911//11664*y^9*z^4-10928185//34992*y^2*z^2-21678581//17496*y^12*z^8+106436567//17496*y^2*z^8+35529661//17496*y^8*z+437935171//34992*y^9*z^6+7720325//8748*x*z^17-302891//69984*y^10*z^15+302891//69984*x*z^21-12293413//69984*y^6*z^16-10897567//34992*y*z^2+2547907//2187*y^14*z^2+678070973//69984*z^12-6700487//11664*y^9*z^11-35569027//17496*y^9*z+116163151//34992*y^4*z^12+2172515//34992*y^14-2988527//8748*y^9*z^14-450792053//17496*y^3*z^8-484961471//23328*z^10+8670377//17496*y^6+28561781//11664*y^6*z^14-97694531//69984*y^11*z^9-85671625//17496*y^3*z^2+34203025//17496*y^5*z^3-193179937//34992*y^10*z^2+10888819//34992*y^8-36001751//11664*x*z^14-21183311//17496*y^4*z^16+204061051//69984*y^3*z^16-70996649//17496*y^6*z^12+103360363//17496*y^2*z^6+88469249//69984*y^3*z^17+5865407//648*y^7*z^3+3262123//17496*x*z^19+15015529//34992*x*z^9-1773968//2187*y^5*z+213320797//23328*y^11*z^6+164954147//17496*y^5*z^11-4465247//3888*y^12*z^6-10770721//34992*y^3-37293073//34992*x*z^7+28381301//8748*y^7*z+11903567//1944*y^5*z^10-2035429//17496*y^12*z^12+32724203//17496*y^12*z^3-113239379//34992*y^10*z^4-36166475//2916*y^3*z^13-1772921//69984*y^14*z^11+156552791//11664*y^8*z^9+133213669//69984*y^14*z^3+144346015//34992*y^11*z^5-1074571//11664*y^4*z^14-303012451//34992*z^11-2835599//1296*y^2*z^5-99090203//34992*y^7*z^13+2923271//5832*y*z^16-524603195//23328*y^4*z^7-1514455//34992*y^2*z^19-3331801//17496*y^5*z^17-10805713//34992*z^2+111986209//8748*y*z^7-812545855//34992*y^4*z^8-6723343//5832*y^13*z^9+73167937//34992*y^2*z^15-47994059//34992*y^7*z^15+2172515//34992*y^12-35551531//17496*y^11*z-10866949//34992*y^11-57964957//34992*y^12*z^7+327114131//23328*y^4*z^10+6530897//5832*y^2*z^13-273478//2187*y^5+4554095//23328*y^3*z^18+848800925//69984*y^4*z^11+7111181//17496*y^14*z-24308065//23328*y^11*z^12-3162185//34992*y*z^19+171236087//34992*y^8*z^2-89388889//17496*y^2*z^9-157747//216*y^4*z^15+57830419//34992*y^12*z^4-7790855//11664*y^7*z^12-2477771//972*y^7*z^4-18056353//17496*y^5*z^16-46460425//11664*z^4-42821887//69984*y^14*z^9-7388669//8748*y^5*z^14-276436267//17496*y^3*z^7+4314553//2187*y^6*z^13+434462105//23328*y^3*z^11-35647759//17496*y^3*z+27996623//69984*y^8*z^11+61317119//34992*y^13*z^4+32351849//23328*y^8*z^7-444995//972*y^9*z^8+123645415//34992*y*z^12-10849453//34992*y^9+1900127//11664*z^20-238794481//69984*y^11*z^10+62121251//17496*y*z^13-1555639199//69984*y^6*z^6+1755587//1944*y^14*z^5-1514455//34992*y^13*z^12+10198189//8748*y^12*z^2-1673591//432*y^8*z^13-4801831//69984*y^6*z^17-5782403//432*y^8*z^6+10982255//1458*y^7*z^10+185645699//17496*y^4*z^4+152536315//7776*y^3*z^10-1763033//2187*y^4*z-72890161//69984*x*z^15-302891//11664*y*z^20+327677257//17496*y^6*z^8-141761135//69984*z^5+15043109//34992*y*z^14+13716707//2187*y*z^8+73435847//8748*y^7*z^2+163120769//17496*y^10*z^7-13371629//69984*y^10*z^14+623634469//69984*y^6*z^3+15472867//7776*y^4*z^3-8537317//34992*y^12*z^11-2918573//4374*y^12*z^9-2//1*y*z-654259405//34992*y^7*z^5-6885727//34992*y^2*z^18-17424527//17496*y^10*z^9-57947149//34992*y^8*z^14+185941429//17496*y^7*z^8-153589//162*y^14*z^7+20627983//34992*z^19-46141001//69984*z^17+534953035//69984*y^8*z^10+126348601//34992*y^8*z^3-5407613//34992*y^11*z^13-4200091//17496*y^13*z^11+84636041//23328*x*z^11-46645379//8748*y^3*z^9+18358415//2187*y^6*z^2-1168691317//69984*y^8*z^5-23041249//23328*y^10*z^13-1514455//17496*y^9*z^15+6598889//1944*y^5*z^13+44740291//5832*y^3*z^4-8993045//432*y^6*z^5+650207//34992*y^3*z^19+62484713//17496*y^10*z^8-316712705//69984*z^15-49383323//69984*y^4*z^17-50086757//34992*y^6*z^7-48665747//8748*y^5*z^9-6970031//34992*y*z^15+2185637//34992*y^13+247120709//34992*z^6+2//1*x*y*z-35477173//17496*y^10*z-96540761//17496*y^9*z^2+x*z^2-521245745//69984*y^10*z^3+302891//69984*y^6*z^18-26333965//34992*y^13*z^6+547207267//69984*z^8+302891//34992*y^3*z^20-557891//4374*y^4+40812439//34992*y^13*z^2+9614576//729*y^7*z^9-44768107//8748*y^7*z^7-11944931//3888*y^9*z^10-302891//34992*y^7*z^17-219337//2916*y^9*z^12+10803917//5832*y^14*z^4-280871359//69984*y^8*z^12+97282841//8748*y^10*z^6-5660963//8748*y^13*z^10-53817739//34992*y^13*z^8-235038083//69984*y^10*z^11-96483899//17496*y^11*z^2+80427541//11664*y^9*z^5+5415635//23328*x*z^12-111629561//17496*y^8*z^4-14878073//69984*y^14*z^10+51600329//4374*y^2*z^7-9736937//34992*y^7*z^16+39524701//69984*y^6*z^15-11555539//11664*y^14*z^8+886259//864*y^3*z^15+302891//69984*z^22+1861771//69984*z^21+3297227//972*x*z^10-24434377//17496*y^5*z^2+10704469//17496*y^13*z^5+302891//34992*y^11*z^14-64419305//34992*y*z^3-12658771//8748*y^2*z^12-708095//2592*y^6*z^10-62659445//8748*y^3*z^14+880488569//69984*y^8*z^8+570741113//34992*y^6*z^9-82570141//34992*y^10*z^12-197207471//34992*y^2*z^11-64817339//34992*z^3+7111181//17496*y^12*z+14806375//34992*y*z^17-5900791//23328*y^14*z^6-147172525//34992*z^16+256930435//69984*z^14-13176559//34992*y^12*z^10+11092651//34992*y^12*z^5+23401151//2916*y^11*z^7+6297629//1944*y^11*z^8-302891//69984*y^4*z^19-10948501//69984*y^4*z^18-302891//11664*y^12*z^13-83729057//4374*y^5*z^7+36716461//69984*x*z^18-6671395//34992*y^2*z^17-64423679//34992*y^2*z^3-60969097//34992*y^4*z^6+692611//17496*x*z^20-65442509//17496*y^11*z^4-x*y+105102715//7776*z^13-19340599//69984*y^8*z^15+192411911//34992*y^10*z^5-230747203//69984*y^3*z^3-81869687//17496*y^9*z^9+2470199//972*y^7*z^11-6126637//4374*y^4*z^2+1//2*x*z^4+7735811//864*y^3*z^6+2//1*z+x+38453//17496*y*z^18-4863565//11664*y^9*z^13-2887471//23328*y^4*z^13-321095981//34992*y^2*z^10+20459903//23328*z^18-86665339//4374*y^5*z^8-62130689//23328*y^11*z^11-46539157//11664*y^2*z^4-163902863//34992*y*z^11+302891//69984*y^14*z^12-17404177//69984*x*z^6-49995557//17496*y^7*z^14-73607693//34992*y*z^5-1//4*x*z^3+7098059//17496*y^13*z-49861033//34992*x*z^8+28926113//11664*y^2*z^14-608573713//69984*y^6*z^11-527157079//69984*y^11*z^3+1040998609//69984*z^7-1//1-68715413//8748*y*z^9+39827635//69984*x*z^16+7334033//3888*y^13*z^3-58373905//17496*y^6*z^4+y+302891//69984*y^8*z^16-5516275//432*y*z^10+8753483//17496*y^7-14319887//1944*y^9*z^3-42984211//34992*y^3*z^12+28464407//8748*y^6*z+155024621//11664*y^4*z^5-5819855//1458*y*z^4-45273248//2187*y^7*z^6-x*y*z^2-9925507//3888*y^4*z^9-1//4*x*z^5-52865929//34992*y^13*z^7-5899541//2916*y^5*z^15-71659597//23328*y^10*z^10\n",
      "(57,60)\n",
      "(29,60)\n",
      "(28,60)\n",
      "(27,60)\n",
      "(26,60)\n",
      "(25,60)\n",
      "(24,60)\n",
      "(23,60)\n",
      "(22,60)\n",
      "(21,60)\n",
      "(20,60)\n",
      "(19,60)\n",
      "(18,60)\n",
      "(17,60)\n",
      "(58,60)\n",
      "(53,60)\n",
      "(52,60)\n",
      "(47,60)\n",
      "(46,60)\n",
      "(45,60)\n",
      "(44,60)\n",
      "(30,60)\n",
      "(16,60)\n",
      "(15,60)\n",
      "(14,60)\n",
      "(13,60)\n",
      "(12,60)\n",
      "(11,60)\n",
      "(10,60)\n",
      "(9,60)\n",
      "(4,60)\n",
      "\t-660//1*x*z^13+1712//1*y^5*z^12-80//1*y^10+2748//1*y^5*z^5-2504//1*z^9+148//1*y^2*z^16+3882//1*y^3*z^5+1442//1*y*z^6+2320//1*y^5*z^4+1806//1*y^9*z^7-324//1*y^5*z^6-552//1*y^9*z^4-80//1*y^2*z^2-276//1*y^12*z^8+1306//1*y^2*z^8+480//1*y^8*z+2738//1*y^9*z^6+195//1*x*z^17-y^10*z^15+x*z^21-38//1*y^6*z^16-80//1*y*z^2+264//1*y^14*z^2+2097//1*z^12-138//1*y^9*z^11-480//1*y^9*z+770//1*y^4*z^12+16//1*y^14-76//1*y^9*z^14-5533//1*y^3*z^8-4500//1*z^10+128//1*y^6+541//1*y^6*z^14-308//1*y^11*z^9-1080//1*y^3*z^2+512//1*y^5*z^3-1240//1*y^10*z^2+80//1*y^8-678//1*x*z^14-265//1*y^4*z^16+642//1*y^3*z^16-902//1*y^6*z^12+1334//1*y^2*z^6+286//1*y^3*z^17+1916//1*y^7*z^3+42//1*x*z^19+115//1*x*z^9-192//1*y^5*z+2019//1*y^11*z^6+2096//1*y^5*z^11-254//1*y^12*z^6-80//1*y^3-240//1*x*z^7+768//1*y^7*z+1356//1*y^5*z^10-26//1*y^12*z^12+414//1*y^12*z^3-672//1*y^10*z^4-2686//1*y^3*z^13-6//1*y^14*z^11+2968//1*y^8*z^9+422//1*y^14*z^3+922//1*y^11*z^5-32//1*y^4*z^14-1862//1*z^11-418//1*y^2*z^5-622//1*y^7*z^13+106//1*y*z^16-4922//1*y^4*z^7-10//1*y^2*z^19-44//1*y^5*z^17-80//1*z^2+2770//1*y*z^7-5025//1*y^4*z^8-256//1*y^13*z^9+460//1*y^2*z^15-308//1*y^7*z^15+16//1*y^12-480//1*y^11*z-80//1*y^11-366//1*y^12*z^7+3037//1*y^4*z^10+254//1*y^2*z^13-32//1*y^5+45//1*y^3*z^18+2683//1*y^4*z^11+96//1*y^14*z-235//1*y^11*z^12-20//1*y*z^19+1080//1*y^8*z^2-1108//1*y^2*z^9-160//1*y^4*z^15+360//1*y^12*z^4-156//1*y^7*z^12-656//1*y^7*z^4-232//1*y^5*z^16-872//1*z^4-136//1*y^14*z^9-176//1*y^5*z^14-3486//1*y^3*z^7+414//1*y^6*z^13+4030//1*y^3*z^11-480//1*y^3*z+88//1*y^8*z^11+384//1*y^13*z^4+314//1*y^8*z^7-88//1*y^9*z^8+746//1*y*z^12-80//1*y^9+37//1*z^20-750//1*y^11*z^10+784//1*y*z^13-4787//1*y^6*z^6+198//1*y^14*z^5-10//1*y^13*z^12+264//1*y^12*z^2-856//1*y^8*z^13-16//1*y^6*z^17-2900//1*y^8*z^6+1686//1*y^7*z^10+2368//1*y^4*z^4+4238//1*y^3*z^10-192//1*y^4*z-232//1*x*z^15-6//1*y*z^20+4061//1*y^6*z^8-378//1*z^5+112//1*y*z^14+1318//1*y*z^8+1872//1*y^7*z^2+2058//1*y^10*z^7-44//1*y^10*z^14+1884//1*y^6*z^3+520//1*y^4*z^3-54//1*y^12*z^11-150//1*y^12*z^9-4116//1*y^7*z^5-44//1*y^2*z^18-223//1*y^10*z^9-373//1*y^8*z^14+2318//1*y^7*z^8-210//1*y^14*z^7+132//1*z^19-156//1*z^17+1680//1*y^8*z^10+718//1*y^8*z^3-36//1*y^11*z^13-54//1*y^13*z^11+783//1*x*z^11-1108//1*y^3*z^9+1872//1*y^6*z^2-3648//1*y^8*z^5-222//1*y^10*z^13-20//1*y^9*z^15+748//1*y^5*z^13+1768//1*y^3*z^4-4584//1*y^6*z^5+4//1*y^3*z^19+795//1*y^10*z^8-972//1*z^15-158//1*y^4*z^17-270//1*y^6*z^7-1244//1*y^5*z^9-42//1*y*z^15+16//1*y^13+1614//1*z^6-480//1*y^10*z-1240//1*y^9*z^2-1622//1*y^10*z^3+y^6*z^18-168//1*y^13*z^6+1617//1*z^8+2//1*y^3*z^20-32//1*y^4+264//1*y^13*z^2+2916//1*y^7*z^9-1112//1*y^7*z^7-684//1*y^9*z^10-2//1*y^7*z^17-18//1*y^9*z^12+408//1*y^14*z^4-877//1*y^8*z^12+2449//1*y^10*z^6-144//1*y^13*z^10-342//1*y^13*z^8-743//1*y^10*z^11-1240//1*y^11*z^2+1542//1*y^9*z^5+45//1*x*z^12-1472//1*y^8*z^4-48//1*y^14*z^10+2552//1*y^2*z^7-64//1*y^7*z^16+132//1*y^6*z^15-219//1*y^14*z^8+202//1*y^3*z^15+z^22+6//1*z^21+744//1*x*z^10-288//1*y^5*z^2+132//1*y^13*z^5+2//1*y^11*z^14-432//1*y*z^3-318//1*y^2*z^12-26//1*y^6*z^10-1587//1*y^3*z^14+2781//1*y^8*z^8+3544//1*y^6*z^9-523//1*y^10*z^12-1258//1*y^2*z^11-432//1*z^3+96//1*y^12*z+94//1*y*z^17-57//1*y^14*z^6-927//1*z^16+822//1*z^14-84//1*y^12*z^10+66//1*y^12*z^5+1770//1*y^11*z^7+711//1*y^11*z^8-y^4*z^19-36//1*y^4*z^18-6//1*y^12*z^13-4180//1*y^5*z^7+117//1*x*z^18-40//1*y^2*z^17-432//1*y^2*z^3-497//1*y^4*z^6+9//1*x*z^20-792//1*y^11*z^4+2938//1*z^13-64//1*y^8*z^15+1232//1*y^10*z^5-642//1*y^3*z^3-1018//1*y^9*z^9+558//1*y^7*z^11-288//1*y^4*z^2+1823//1*y^3*z^6+2//1*y*z^18-90//1*y^9*z^13-25//1*y^4*z^13-2018//1*y^2*z^10+191//1*z^18-4336//1*y^5*z^8-590//1*y^11*z^11-872//1*y^2*z^4-1040//1*y*z^11+y^14*z^12-64//1*x*z^6-630//1*y^7*z^14-398//1*y*z^5+96//1*y^13*z-300//1*x*z^8+544//1*y^2*z^14-1874//1*y^6*z^11-1642//1*y^11*z^3+3228//1*z^7-1716//1*y*z^9+123//1*x*z^16+418//1*y^13*z^3-848//1*y^6*z^4+y^8*z^16-2768//1*y*z^10+128//1*y^7-1602//1*y^9*z^3-240//1*y^3*z^12+768//1*y^6*z+2820//1*y^4*z^5-872//1*y*z^4-4496//1*y^7*z^6-565//1*y^4*z^9-336//1*y^13*z^7-444//1*y^5*z^15-684//1*y^10*z^10\n",
      "(58,61)\n",
      "(53,61)\n",
      "(52,61)\n",
      "(47,61)\n",
      "(46,61)\n",
      "(45,61)\n",
      "(44,61)\n",
      "(30,61)\n",
      "(57,61)\n",
      "\t20//1*y^3*z^2+5//1*z^8+3//1*y^4+6//1*y^12+10//1*z^4-3//1*y^8+3//1*y^8*z^3+30//1*y^6*z^4-y^15-5//1*y^12*z^2+z^9-6//1*y^4*z^3-30//1*y^6*z^2-5//1*y^3*z^8+20//1*y^3*z^6-13//1*z^6-z^10-10//1*y^9*z^4+10//1*y^6+20//1*y^9*z^2-30//1*y^3*z^4-5//1*z^2+3//1*z^3-10//1*y^9-10//1*y^6*z^6+3//1*y^4*z^6-5//1*y^3\n",
      "(59,62)\n",
      "(56,62)\n",
      "(55,62)\n",
      "(51,62)\n",
      "(50,62)\n",
      "(49,62)\n",
      "(48,62)\n",
      "(43,62)\n",
      "(42,62)\n",
      "(41,62)\n",
      "(40,62)\n",
      "(39,62)\n",
      "(38,62)\n",
      "(37,62)\n",
      "(36,62)\n",
      "(35,62)\n",
      "(34,62)\n",
      "(33,62)\n",
      "(32,62)\n",
      "(31,62)\n",
      "(54,62)\n",
      "(18,61)\n",
      "(19,61)\n",
      "(20,61)\n",
      "(24,61)\n",
      "(29,61)\n",
      "(28,61)\n",
      "(26,61)\n",
      "(22,61)\n",
      "(27,61)\n",
      "(23,61)\n",
      "(17,61)\n",
      "(60,61)\n",
      "(21,61)\n",
      "(25,61)\n",
      "(11,61)\n",
      "(12,61)\n",
      "(13,61)\n",
      "(16,61)\n",
      "(15,61)\n",
      "(14,61)\n",
      "(9,61)\n",
      "(10,61)\n",
      "(4,61)\n",
      "(4,62)\n",
      "(59,60)\n",
      "(56,60)\n",
      "(60,62)\n",
      "(57,62)\n",
      "(55,60)\n",
      "(16,62)\n",
      "(29,62)\n",
      "(51,60)\n",
      "(15,62)\n",
      "(50,60)\n",
      "(28,62)\n",
      "(10,62)\n",
      "(27,62)\n",
      "(9,62)\n",
      "(49,60)\n",
      "(14,62)\n",
      "(26,62)\n",
      "(48,60)\n",
      "(13,62)\n",
      "(43,60)\n",
      "(12,62)\n",
      "(25,62)\n",
      "(24,62)\n",
      "(11,62)\n",
      "(42,60)\n",
      "(41,60)\n",
      "(23,62)\n",
      "(22,62)\n",
      "(40,60)\n",
      "(39,60)\n",
      "(21,62)\n",
      "(20,62)\n",
      "(38,60)\n",
      "(19,62)\n",
      "(37,60)\n",
      "(18,62)\n",
      "(36,60)\n",
      "(17,62)\n",
      "(35,60)\n",
      "(34,60)\n",
      "(33,60)\n",
      "(32,60)\n",
      "(31,60)\n",
      "(55,61)\n",
      "(50,61)\n",
      "(35,61)\n",
      "(34,61)\n",
      "(41,61)\n",
      "(48,61)\n",
      "(42,61)\n",
      "(43,61)\n",
      "(51,61)\n",
      "(37,61)\n",
      "(38,61)\n",
      "(56,61)\n",
      "(59,61)\n",
      "(36,61)\n",
      "(31,61)\n",
      "(32,61)\n",
      "(39,61)\n",
      "(61,62)\n",
      "(49,61)\n",
      "(40,61)\n",
      "(33,61)\n",
      "(58,62)\n",
      "(53,62)\n",
      "(52,62)\n",
      "(47,62)\n",
      "(46,62)\n",
      "(45,62)\n",
      "(44,62)\n",
      "(30,62)\n",
      "(54,60)\n",
      "(54,61)\n",
      "(8,61)\n",
      "(5,60)\n",
      "(7,60)\n",
      "(8,60)\n",
      "(7,61)\n",
      "(5,61)\n",
      "(6,60)\n",
      "(6,61)\n",
      "(3,6)\n",
      "(3,60)\n",
      "(3,57)\n",
      "(3,29)\n",
      "(3,16)\n",
      "(6,10)\n",
      "(5,10)\n",
      "(3,28)\n",
      "(7,10)\n",
      "(3,10)\n",
      "(3,15)\n",
      "(7,9)\n",
      "(3,9)\n",
      "(5,9)\n",
      "(6,9)\n",
      "(3,27)\n",
      "(3,14)\n",
      "(3,13)\n",
      "(8,9)\n",
      "(3,26)\n",
      "(8,10)\n",
      "(3,8)\n",
      "(3,12)\n",
      "(3,25)\n",
      "(3,11)\n",
      "(3,24)\n",
      "(3,23)\n",
      "(3,22)\n",
      "(3,21)\n",
      "(3,20)\n",
      "(3,19)\n",
      "(3,18)\n",
      "(3,17)\n",
      "(3,61)\n",
      "(3,58)\n",
      "(3,53)\n",
      "(3,52)\n",
      "(3,47)\n",
      "(3,46)\n",
      "(3,45)\n",
      "(3,44)\n",
      "(3,30)\n",
      "(4,7)\n",
      "(4,6)\n",
      "(4,5)\n",
      "(4,8)\n",
      "(3,62)\n",
      "(6,62)\n",
      "(3,59)\n",
      "(7,59)\n",
      "(6,59)\n",
      "(7,62)\n",
      "(5,56)\n",
      "(6,56)\n",
      "(5,62)\n",
      "(5,59)\n",
      "(7,56)\n",
      "(3,56)\n",
      "(6,55)\n",
      "(5,55)\n",
      "(3,55)\n",
      "(7,55)\n",
      "(3,51)\n",
      "(5,51)\n",
      "(6,51)\n",
      "(7,51)\n",
      "(6,50)\n",
      "(3,50)\n",
      "(5,50)\n",
      "(7,50)\n",
      "(6,49)\n",
      "(5,49)\n",
      "(3,49)\n",
      "(7,49)\n",
      "(8,55)\n",
      "(8,49)\n",
      "(5,48)\n",
      "(6,48)\n",
      "(7,48)\n",
      "(8,51)\n",
      "(8,59)\n",
      "(3,48)\n",
      "(8,56)\n",
      "(8,48)\n",
      "(8,62)\n",
      "(8,50)\n",
      "(6,43)\n",
      "(5,43)\n",
      "(7,43)\n",
      "(8,43)\n",
      "(3,43)\n",
      "(5,42)\n",
      "(7,42)\n",
      "(3,42)\n",
      "(8,42)\n",
      "(6,42)\n",
      "(6,41)\n",
      "(5,41)\n",
      "(8,41)\n",
      "(3,41)\n",
      "(7,41)\n",
      "(6,40)\n",
      "(7,40)\n",
      "(8,40)\n",
      "(5,40)\n",
      "(3,40)\n",
      "(3,39)\n",
      "(7,39)\n",
      "(6,39)\n",
      "(8,39)\n",
      "(5,39)\n",
      "(3,38)\n",
      "(5,38)\n",
      "(7,38)\n",
      "(8,38)\n",
      "(6,38)\n",
      "(7,37)\n",
      "(3,37)\n",
      "(5,37)\n",
      "(8,37)\n",
      "(6,37)\n",
      "(3,36)\n",
      "(7,36)\n",
      "(6,36)\n",
      "(8,36)\n",
      "(5,36)\n",
      "(5,35)\n",
      "(6,35)\n",
      "(3,35)\n",
      "(8,35)\n",
      "(7,35)\n",
      "(7,34)\n",
      "(3,34)\n",
      "(8,34)\n",
      "(6,34)\n",
      "(5,34)\n",
      "(3,33)\n",
      "(6,33)\n",
      "(5,33)\n",
      "(8,33)\n",
      "(7,33)\n",
      "(5,32)\n",
      "(8,32)\n",
      "(6,32)\n",
      "(3,32)\n",
      "(7,32)\n",
      "(8,31)\n",
      "(6,31)\n",
      "(7,31)\n",
      "(5,31)\n",
      "(3,31)\n",
      "(7,54)\n",
      "(5,54)\n",
      "(3,54)\n",
      "(6,54)\n",
      "(8,54)\n",
      "(2,8)\n",
      "(2,61)\n",
      "(2,58)\n",
      "(2,53)\n",
      "(2,52)\n",
      "(2,47)\n",
      "(2,46)\n",
      "(2,45)\n",
      "(2,44)\n",
      "(2,30)\n",
      "(2,7)\n",
      "(2,5)\n",
      "(2,60)\n",
      "(2,57)\n",
      "(2,29)\n",
      "(2,28)\n",
      "(2,27)\n",
      "(2,26)\n",
      "(2,25)\n",
      "(2,24)\n",
      "(2,23)\n",
      "(2,22)\n",
      "(2,21)\n",
      "(2,20)\n",
      "(2,19)\n",
      "(2,18)\n",
      "(2,17)\n",
      "(2,6)\n",
      "(2,16)\n",
      "(2,15)\n",
      "(2,14)\n",
      "(2,13)\n",
      "(2,12)\n",
      "(2,11)\n",
      "(2,10)\n",
      "(2,9)\n",
      "(2,4)\n",
      "(2,62)\n",
      "(2,59)\n",
      "(2,56)\n",
      "(2,55)\n",
      "(2,51)\n",
      "(2,50)\n",
      "(2,49)\n",
      "(2,48)\n",
      "(2,43)\n",
      "(2,42)\n",
      "(2,41)\n",
      "(2,40)\n",
      "(2,39)\n",
      "(2,38)\n",
      "(2,37)\n",
      "(2,36)\n",
      "(2,35)\n",
      "(2,34)\n",
      "(2,33)\n",
      "(2,32)\n",
      "(2,31)\n",
      "(2,54)\n",
      "(1,8)\n",
      "(1,61)\n",
      "(1,58)\n",
      "(1,53)\n",
      "(1,52)\n",
      "(1,47)\n",
      "(1,46)\n",
      "(1,45)\n",
      "(1,44)\n",
      "(1,30)\n",
      "(1,7)\n",
      "(1,5)\n",
      "(1,60)\n",
      "(1,57)\n",
      "(1,29)\n",
      "(1,28)\n",
      "(1,27)\n",
      "(1,26)\n",
      "(1,25)\n",
      "(1,24)\n",
      "(1,23)\n",
      "(1,22)\n",
      "(1,21)\n",
      "(1,20)\n",
      "(1,19)\n",
      "(1,18)\n",
      "(1,17)\n",
      "(1,6)\n",
      "(1,16)\n",
      "(1,15)\n",
      "(1,14)\n",
      "(1,13)\n",
      "(1,12)\n",
      "(1,11)\n",
      "(1,3)\n",
      "(1,10)\n",
      "(1,9)\n",
      "(1,4)\n",
      "(1,62)\n",
      "(1,59)\n",
      "(1,56)\n",
      "(1,55)\n",
      "(1,51)\n",
      "(1,50)\n",
      "(1,49)\n",
      "(1,48)\n",
      "(1,43)\n",
      "(1,42)\n",
      "(1,41)\n",
      "(1,40)\n",
      "(1,39)\n",
      "(1,38)\n",
      "(1,37)\n",
      "(1,36)\n",
      "(1,35)\n",
      "(1,34)\n",
      "(1,33)\n",
      "(1,32)\n",
      "(1,31)\n",
      "(1,54)\n"
     ]
    },
    {
     "data": {
      "text/plain": [
       "8-element Array{Dict{Tuple{UInt16,UInt16,UInt16},Rational{BigInt}},1}:\n",
       " z^2-1//1+x^3+y^3                                                                                                                                                                                                                                                                                                                                                                                                                                                                                                                                                                                                                                                                                                                                                                                                                                                                                                                                                                                                                                                                                                                                                                                                                                                                                                                                                                                                                                                                                                                                                                                                                                                                                                                                                                                                                                                                                                                                                                                                                                                                                                                                                                                                                                                                                                                                                                                                                                                                                                                                                                                                                                                                                                                                                                                                                                                                                                                                                                                                                                                                                                                                                                                                                                                                                                                                                                                                                                                                                                                                                                                                                                                                                                                                                                                                                                                                                                                                                                                                                                                                                                                                                                                                                                                                                                                                                                                                                                                                                                                                                                                                                                                                                                                                                                                                                                                                                                                                                                                                                                                                                                                                                                                                                                                                                                                                                                                                                                                                                                                                                                                                                                                                                                                                                                                                                                                                                                                                                                                                  \n",
       " x^2*y^3-y^4-z^3+x^2*z^2+1//1-x^2                                                                                                                                                                                                                                                                                                                                                                                                                                                                                                                                                                                                                                                                                                                                                                                                                                                                                                                                                                                                                                                                                                                                                                                                                                                                                                                                                                                                                                                                                                                                                                                                                                                                                                                                                                                                                                                                                                                                                                                                                                                                                                                                                                                                                                                                                                                                                                                                                                                                                                                                                                                                                                                                                                                                                                                                                                                                                                                                                                                                                                                                                                                                                                                                                                                                                                                                                                                                                                                                                                                                                                                                                                                                                                                                                                                                                                                                                                                                                                                                                                                                                                                                                                                                                                                                                                                                                                                                                                                                                                                                                                                                                                                                                                                                                                                                                                                                                                                                                                                                                                                                                                                                                                                                                                                                                                                                                                                                                                                                                                                                                                                                                                                                                                                                                                                                                                                                                                                                                                                  \n",
       " 2//1*y^3*z^2+x*y^4+z^4-2//1*z^2+x*z^3+1//1-x+y^6-2//1*y^3                                                                                                                                                                                                                                                                                                                                                                                                                                                                                                                                                                                                                                                                                                                                                                                                                                                                                                                                                                                                                                                                                                                                                                                                                                                                                                                                                                                                                                                                                                                                                                                                                                                                                                                                                                                                                                                                                                                                                                                                                                                                                                                                                                                                                                                                                                                                                                                                                                                                                                                                                                                                                                                                                                                                                                                                                                                                                                                                                                                                                                                                                                                                                                                                                                                                                                                                                                                                                                                                                                                                                                                                                                                                                                                                                                                                                                                                                                                                                                                                                                                                                                                                                                                                                                                                                                                                                                                                                                                                                                                                                                                                                                                                                                                                                                                                                                                                                                                                                                                                                                                                                                                                                                                                                                                                                                                                                                                                                                                                                                                                                                                                                                                                                                                                                                                                                                                                                                                                                         \n",
       " 820093//288*x*z^13+5//1*x*z-12//1*x*y^2*z-5011187//972*y^5*z^12+196783//3888*y^10-22648957//1944*y^5*z^5+32836639//2592*z^9-69823//1944*y^2*z^16-128446523//7776*y^3*z^5-23785315//3888*y*z^6-4551529//486*y^5*z^4-17557669//3888*y^9*z^7+7211327//1944*y^5*z^6+37493//24*y^9*z^4+269197//3888*y^2*z^2+2668523//3888*y^12*z^8-882389//324*y^2*z^8-4603357//3888*y^8*z-4920281//486*y^9*z^6-2274307//3888*x*z^17+357047//2592*y^6*z^16+123883//3888*y*z^2-3424889//3888*y^14*z^2-89966545//7776*z^12-147217//648*y^9*z^11+4786579//3888*y^9*z+693821//3888*y^4*z^12-33719//3888*y^14+310465//1944*y^9*z^14+56751797//2592*y^3*z^8+5657717//324*z^10-89921//1944*y^6-10057949//7776*y^6*z^14+7257919//3888*y^11*z^9+16868221//3888*y^3*z^2-31405//54*y^5*z^3+2849465//648*y^10*z^2-270655//3888*y^8+160163//81*x*z^14+1180093//1296*y^4*z^16-14439323//7776*y^3*z^16+6413327//7776*y^6*z^12-7703591//1296*y^2*z^6-871439//2592*y^3*z^17-15580525//1944*y^7*z^3-15037//243*x*z^19-615715//1296*x*z^9+109258//243*y^5*z-18490621//2592*y^11*z^6-3184595//486*y^5*z^11+530431//486*y^12*z^6+63133//3888*y^3+7091971//7776*x*z^7-3768173//1944*y^7*z-3796163//648*y^5*z^10+62093//1296*y^12*z^12-705055//486*y^12*z^3+13952111//7776*y^10*z^4+41801113//3888*y^3*z^13-62093//7776*y^14*z^11-69123395//7776*y^8*z^9-3812519//2592*y^14*z^3-3942919//864*y^11*z^5-115379//486*y^4*z^14+21700007//7776*z^11+8885575//3888*y^2*z^5+1206181//486*y^7*z^13-2316565//3888*y*z^16+x^2+83691797//3888*y^4*z^7+47581//3888*z^2-4934963//432*y*z^7+129546847//7776*y^4*z^8+2700925//3888*y^13*z^9-1641901//1296*y^2*z^15+212147//432*y^7*z^15-27887//3888*y^12+4704931//3888*y^11*z+186577//3888*y^11+4595723//3888*y^12*z^7-105032993//7776*y^4*z^10-2135233//1944*y^2*z^13+12082//243*y^5-15511//1296*y^3*z^18-16622791//2592*y^4*z^11+12//1*x*y^2-945749//3888*y^14*z+1195327//3888*y^11*z^12+62093//1296*y*z^19-4162441//972*y^8*z^2+12725305//1944*y^2*z^9+3247837//3888*y^4*z^15-281903//243*y^12*z^4+1186199//1296*y^7*z^12+1642999//486*y^7*z^4+683023//1944*y^5*z^16+13970663//3888*z^4+1224587//3888*y^14*z^9+1035847//648*y^5*z^14+68978845//3888*y^3*z^7-10786067//3888*y^6*z^13-46707793//3888*y^3*z^11+4824487//3888*y^3*z+798427//648*y^8*z^11-293434//243*y^13*z^4-17653931//3888*y^8*z^7+9873259//3888*y^9*z^8-17385025//3888*y*z^12+124369//3888*y^9-294905//7776*z^20+20826185//7776*y^11*z^10-2217817//1296*y*z^13+132719201//7776*y^6*z^6-364105//864*y^14*z^5-3//1*x^2*z^3+x^2*y*z-3447245//3888*y^12*z^2+18125525//7776*y^8*z^13-62093//7776*y^6*z^17+66547639//7776*y^8*z^6-744575//216*y^7*z^10-24365701//2592*y^4*z^4-80508941//3888*y^3*z^10+115333//243*y^4*z+1471927//7776*x*z^15-7//1*x*y^3-47738575//2592*y^6*z^8+x^2*z^6+17195287//7776*z^5+2592223//3888*y*z^14-1576189//486*y*z^8-13532807//1944*y^7*z^2-43983913//7776*y^10*z^7+62093//7776*y^10*z^14-61589201//7776*y^6*z^3-5850743//7776*y^4*z^3+287125//1944*y^12*z^11+153943//486*y^12*z^9-y*z+66891659//3888*y^7*z^5+310465//3888*y^2*z^18+128209//96*y^10*z^9-12//1*y^2+1350535//2592*y^8*z^14-7025765//648*y^7*z^8+61387//81*y^14*z^7-1896895//7776*z^19-1896163//3888*z^17-2014181//486*y^8*z^10-269935//72*y^8*z^3-62093//3888*y^11*z^13+310465//3888*y^13*z^11-6997327//2592*x*z^11-13363721//7776*y^3*z^9-13586267//1944*y^6*z^2+115182683//7776*y^8*z^5+884813//2592*y^10*z^13+7//1*x*y^3*z-1285447//972*y^5*z^13-55627499//7776*y^3*z^4+49492879//2592*y^6*z^5-62093//3888*y^3*z^19-4288277//3888*y^10*z^8+18930365//3888*z^15+2157695//7776*y^4*z^17-16274735//3888*y^6*z^7-19495//216*y^5*z^9-69113//3888*y*z^15-39065//3888*y^13-50374091//7776*z^6+4704445//3888*y^10*z+5695771//1296*y^9*z^2+47175827//7776*y^10*z^3+1493281//1944*y^13*z^6-19506331//3888*z^8+6250//243*y^4-1726417//1944*y^13*z^2-11042377//1296*y^7*z^9-2247317//3888*y^7*z^7+426449//324*y^9*z^10+165697//1296*y^9*z^12-40125//32*y^14*z^4+7103509//1944*y^8*z^12-8543879//972*y^10*z^6+644123//1944*y^13*z^10+3905987//3888*y^13*z^8+4517213//1944*y^10*z^11+5657215//1296*y^11*z^2-1112293//162*y^9*z^5+1775483//2592*x*z^12+24044455//3888*y^8*z^4+450211//7776*y^14*z^10-10152877//972*y^2*z^7+62093//3888*y^7*z^16+525857//3888*y^6*z^15+572525//864*y^14*z^8-10235095//3888*y^3*z^15-62093//7776*z^21-8397505//2592*x*z^10+3113069//1944*y^5*z^2-380585//1944*y^13*z^5+12//1*y^2*z+1169533//972*y*z^3+1660715//3888*y^2*z^12-x^2*z+4906787//972*y^6*z^10+20484593//7776*y^3*z^14-x^2*y-10136435//972*y^8*z^8-78227581//7776*y^6*z^9+64403//48*y^10*z^12+10035251//3888*y^2*z^11+604571//486*z^3-955469//3888*y^12*z-214169//1296*y*z^17+999865//2592*y^14*z^6+4339531//1944*z^16+4109437//7776*z^14+431569//1944*y^12*z^10+24677//486*y^12*z^5-2191181//432*y^11*z^7-1093649//864*y^11*z^8+62093//7776*y^4*z^18+11892013//648*y^5*z^7-1974401//7776*x*z^18+325927//1296*y^2*z^17+1111699//972*y^2*z^3+7163699//1944*y^4*z^6-62093//7776*x*z^20+15841297//7776*y^11*z^4-75897065//7776*z^13-62093//7776*y^8*z^15-14644769//2592*y^10*z^5+27747047//7776*y^3*z^3+2550619//648*y^9*z^9-515045//432*y^7*z^11-3//1*x^2*z^2+407632//243*y^4*z^2+5//4*x*z^4+2//1*x^2*z^5-45834331//7776*y^3*z^6-4//1*z-5//1*x+387971//3888*y*z^18+131917//324*y^9*z^13+110635//972*y^4*z^13+2132911//324*y^2*z^10-2836079//3888*z^18+25380091//1944*y^5*z^8+11665603//7776*y^11*z^11+14077583//3888*y^2*z^4+645061//1296*y*z^11+217021//7776*x*z^6+3//1*x^2*z^4+3571399//1944*y^7*z^14+1410127//648*y*z^5+3//4*x*z^3-942347//3888*y^13*z+10699009//7776*x*z^8-8062141//3888*y^2*z^14+1096481//144*y^6*z^11+47780995//7776*y^11*z^3-51629797//3888*z^7+4//1+18230531//1944*y*z^9-2701393//3888*x*z^16-2832059//1944*y^13*z^3+1078505//288*y^6*z^4+y+2433767//243*y*z^10-142895//1944*y^7+3906707//648*y^9*z^3+51887995//7776*y^3*z^12-3828923//1944*y^6*z-31024403//2592*y^4*z^5+3527597//972*y*z^4+2195017//144*y^7*z^6-15910187//3888*y^4*z^9+x*z^5+4334645//3888*y^13*z^7+915737//648*y^5*z^15+2017553//864*y^10*z^10                                                    \n",
       " 585259//108*x*z^13+9//1*x*z-27//1*x*y^2*z-2468096//243*y^5*z^12-79517//972*y^10-23357087//972*y^5*z^5+29531183//1296*z^9-210943//1944*y^2*z^16-15699683//486*y^3*z^5-2558140//243*y*z^6-16545389//972*y^5*z^4-18382733//1944*y^9*z^7+4520299//972*y^5*z^6+1361629//324*y^9*z^4-33347//972*y^2*z^2+322844//243*y^12*z^8-1395853//216*y^2*z^8-3283619//1944*y^8*z-38206769//1944*y^9*z^6-275920//243*x*z^17+19949//72*y^6*z^16-117425//972*y*z^2-1500209//972*y^14*z^2-84649877//3888*z^12-103399//216*y^9*z^11+3481421//1944*y^9*z+1373297//3888*y^4*z^12+18625//972*y^14+310985//972*y^9*z^14+9568087//216*y^3*z^8+44942477//1296*z^10+99529//486*y^6-5079635//1944*y^6*z^14+12994009//3888*y^11*z^9+7925977//972*y^3*z^2+35243//108*y^5*z^3+1279303//162*y^10*z^2+34805//972*y^8+1277051//324*x*z^14+771331//432*y^4*z^16-892627//243*y^3*z^16+8030785//3888*y^6*z^12-1675367//162*y^2*z^6-290107//432*y^3*z^17-16177499//972*y^7*z^3-477679//3888*x*z^19-588079//1296*x*z^9+150658//243*y^5*z-17560223//1296*y^11*z^6-12022495//972*y^5*z^11+3911539//1944*y^12*z^6-149015//972*y^3+6288353//3888*x*z^7-2719867//972*y^7*z-1161359//108*y^5*z^10+62197//648*y^12*z^12-5320567//1944*y^12*z^3+17408485//3888*y^10*z^4+82420621//3888*y^3*z^13-62197//3888*y^14*z^11-66936577//3888*y^8*z^9-447539//162*y^14*z^3-436225//54*y^11*z^5-147232//243*y^4*z^14+14325983//1944*z^11+5383087//972*y^2*z^5+9150649//1944*y^7*z^13-2278337//1944*y*z^16+19792573//486*y^4*z^7-162623//972*z^2-4854419//216*y*z^7+132624275//3888*y^4*z^8+2612831//1944*y^13*z^9-821969//324*y^2*z^15+318035//324*y^7*z^15+22513//972*y^12+3392969//1944*y^11*z-82919//972*y^11+4410193//1944*y^12*z^7-25434103//972*y^4*z^10-3672235//1944*y^2*z^13+9277//243*y^5-1175//54*y^3*z^18-5566013//432*y^4*z^11+27//1*x*y^2-683551//1944*y^14*z+150205//243*y^11*z^12+62197//648*y*z^19-3896771//486*y^8*z^2+23634265//1944*y^2*z^9+5993371//3888*y^4*z^15-2273447//972*y^12*z^4+945481//648*y^7*z^12+4016549//972*y^7*z^4+684167//972*y^5*z^16+13367677//1944*z^4+2422655//3888*y^14*z^9+485837//162*y^5*z^14+125604427//3888*y^3*z^7-20912123//3888*y^6*z^13-97789063//3888*y^3*z^11+3522245//1944*y^3*z+1245179//648*y^8*z^11-4658429//1944*y^13*z^4-14650573//1944*y^8*z^7+4383565//972*y^9*z^8-16970189//1944*y*z^12-119855//972*y^9-18193//243*z^20+5006425//972*y^11*z^10-2286719//648*y*z^13+135926551//3888*y^6*z^6-24436//27*y^14*z^5-5//1*x^2*z^3-1513331//972*y^12*z^2+4468807//972*y^8*z^13-62197//3888*y^6*z^17+69509327//3888*y^8*z^6-20197//3*y^7*z^10-22074205//1296*y^4*z^4-154747355//3888*y^3*z^10+330233//486*y^4*z+1881863//3888*x*z^15-18//1*x*y^3-1916497//54*y^6*z^8+3//1*x^2*z^6+10608523//1944*z^5+2618267//1944*y*z^14-15481069//1944*y*z^8-6190703//486*y^7*z^2-5435419//486*y^10*z^7+62197//3888*y^10*z^14-32085167//1944*y^6*z^3-65795//1944*y^4*z^3+562279//1944*y^12*z^11+1169275//1944*y^12*z^9+31341785//972*y^7*z^5+310985//1944*y^2*z^18+752717//324*y^10*z^9-27//1*y^2+677117//648*y^8*z^14-13276025//648*y^7*z^8+1841305//1296*y^14*z^7-939481//1944*z^19-423455//486*z^17-33102991//3888*y^8*z^10-230074//27*y^8*z^3-62197//1944*y^11*z^13+310985//1944*y^13*z^11-1792241//324*x*z^11-1148833//3888*y^3*z^9-3112483//243*y^6*z^2+13836461//486*y^8*z^5+442429//648*y^10*z^13+18//1*x*y^3*z-1406837//486*y^5*z^13-45915757//3888*y^3*z^4+1287217//36*y^6*z^5-62197//1944*y^3*z^19-4695277//1944*y^10*z^8+9179513//972*z^15+1078499//1944*y^4*z^17-21773417//3888*y^6*z^7+225721//324*y^5*z^9+12601//243*y*z^15+16195//972*y^13-42613627//3888*z^6+3393455//1944*y^10*z+2558201//324*y^9*z^2+23167685//1944*y^10*z^3+2667577//1944*y^13*z^6-11709841//972*z^8-4817//243*y^4-379001//243*y^13*z^2-5368237//324*y^7*z^9+461875//972*y^7*z^7+216385//81*y^9*z^10+42407//216*y^9*z^12-1059965//432*y^14*z^4+6790313//972*y^8*z^12-65292989//3888*y^10*z^6+1268849//1944*y^13*z^10+3714277//1944*y^13*z^8+17348077//3888*y^10*z^11+2534063//324*y^11*z^2-7934489//648*y^9*z^5+1223257//1296*x*z^12+19730045//1944*y^8*z^4+113819//972*y^14*z^10-40032863//1944*y^2*z^7+62197//1944*y^7*z^16+979745//3888*y^6*z^15+69253//54*y^14*z^8-19475671//3888*y^3*z^15-62197//3888*z^21-494006//81*x*z^10+1603811//486*y^5*z^2-495835//972*y^13*z^5+27//1*y^2*z+3592685//1944*y*z^3+2003287//1944*y^2*z^12+35006123//3888*y^6*z^10+1379251//243*y^3*z^14-9515029//486*y^8*z^8-81555203//3888*y^6*z^9+3421945//1296*y^10*z^12+4967135//972*y^2*z^11+3763271//1944*z^3-694243//1944*y^12*z-37357//108*y*z^17+853763//1296*y^14*z^6+17694533//3888*z^16+324893//972*z^14+102851//243*y^12*z^10-126505//1944*y^12*z^5-1438795//144*y^11*z^7-610735//216*y^11*z^8+62197//3888*y^4*z^18+5653507//162*y^5*z^7-1943665//3888*x*z^18+39911//81*y^2*z^17+3326843//1944*y^2*z^3+15863623//3888*y^4*z^6-62197//3888*x*z^20+18625895//3888*y^11*z^4-38272073//1944*z^13-62197//3888*y^8*z^15-810656//81*y^10*z^5+8058817//972*y^3*z^3+4993523//648*y^9*z^9-274297//108*y^7*z^11+x^2*z^7-4//1*x^2*z^2+1690805//486*y^4*z^2+3//1*x*z^4+5//1*x^2*z^5-56776217//3888*y^3*z^6-9//1*z-9//1*x+46961//243*y*z^18+85697//108*y^9*z^13+124853//486*y^4*z^13+8306009//648*y^2*z^10-2773717//1944*z^18+12742687//486*y^5*z^8+11520437//3888*y^11*z^11+13455157//1944*y^2*z^4+359333//216*y*z^11-171599//1944*x*z^6+7021567//1944*y^7*z^14+3457595//648*y*z^5-680149//1944*y^13*z+5526469//1944*x*z^8-3862621//972*y^2*z^14+19665773//1296*y^6*z^11+11704235//972*y^11*z^3-50399609//1944*z^7+9//1+4210861//243*y*z^9-5079481//3888*x*z^16-2664679//972*y^13*z^3+5916637//1296*y^6*z^4+38981425//1944*y*z^10+69883//486*y^7+7696165//648*y^9*z^3+45846113//3888*y^3*z^12-2784991//972*y^6*z-887429//36*y^4*z^5+13502785//1944*y*z^4+19909601//648*y^7*z^6-12031801//1944*y^4*z^9+3//2*x*z^5+4052521//1944*y^13*z^7+75122//27*y^5*z^15+5615981//1296*y^10*z^10                                                                                                                                                                                       \n",
       " 1277093//7776*x*z^13+2//1*x*z-6493751//17496*y^5*z^12-1174333//34992*y^10-18535223//17496*y^5*z^5+326326//729*z^9-376315//34992*y^2*z^16-4967245//4374*y^3*z^5-256829//2187*y*z^6-1604699//4374*y^5*z^4-972461//2187*y^9*z^7-5292641//17496*y^5*z^6+4099939//11664*y^9*z^4-1187455//34992*y^2*z^2+389551//8748*y^12*z^8-5028437//11664*y^2*z^8+817259//17496*y^8*z-1454837//2187*y^9*z^6-2698855//69984*x*z^17+261185//23328*y^6*z^16-1218073//34992*y*z^2-196225//8748*y^14*z^2-21454273//34992*z^12-133003//5832*y^9*z^11-777893//17496*y^9*z+112471//8748*y^4*z^12+250613//34992*y^14+222125//17496*y^9*z^14+42424103//23328*y^3*z^8+30624971//23328*z^10+1022135//17496*y^6-7506655//69984*y^6*z^14+4404103//69984*y^11*z^9+3891055//17496*y^3*z^2+56383//216*y^5*z^3+598613//3888*y^10*z^2+1226821//34992*y^8+443767//2916*x*z^14+1489043//23328*y^4*z^16-9605029//69984*y^3*z^16+5389457//34992*y^6*z^12-521381//3888*y^2*z^6-614141//23328*y^3*z^17-1660150//2187*y^7*z^3-163535//34992*x*z^19+1600469//23328*x*z^9-43378//2187*y^5*z-4737577//11664*y^11*z^6-6239263//17496*y^5*z^11+860033//17496*y^12*z^6-1344919//34992*y^3+946153//34992*x*z^7+696235//8748*y^7*z-742009//2916*y^5*z^10+44425//11664*y^12*z^12-2749969//34992*y^12*z^3+11468003//34992*y^10*z^4+27215087//34992*y^3*z^13-44425//69984*y^14*z^11-20168129//34992*y^8*z^9-1797889//23328*y^14*z^3-32731//243*y^11*z^5-1622543//34992*y^4*z^14+10510465//17496*z^11+6628477//17496*y^2*z^5+2445551//17496*y^7*z^13-1486403//34992*y*z^16+82980083//69984*y^4*z^7-1309927//34992*z^2-351121//432*y*z^7+103064435//69984*y^4*z^8+785005//17496*y^13*z^9-43247//432*y^2*z^15+449615//11664*y^7*z^15+250613//34992*y^12-795389//17496*y^11*z-1248691//34992*y^11+158494//2187*y^12*z^7-30731213//34992*y^4*z^10-718225//34992*y^2*z^13-29413//2187*y^5-5365//11664*y^3*z^18-3012031//5832*y^4*z^11+158203//17496*y^14*z+872405//34992*y^11*z^12+44425//11664*y*z^19-7674947//34992*y^8*z^2+2744041//8748*y^2*z^9+661867//17496*y^4*z^15-3310039//34992*y^12*z^4-84311//11664*y^7*z^12-2537123//8748*y^7*z^4+488675//17496*y^5*z^16+7320799//34992*z^4+1628711//69984*y^14*z^9+80563//972*y^5*z^14+24933521//34992*y^3*z^7-6334411//34992*y^6*z^13-82735585//69984*y^3*z^11-699161//17496*y^3*z-149135//7776*y^8*z^11-3162047//34992*y^13*z^4-1947773//69984*y^8*z^7+336577//4374*y^9*z^8-666692//2187*y*z^12-1266187//34992*y^9-193795//69984*z^20+11626231//69984*y^11*z^10-918205//5832*y*z^13+52849991//34992*y^6*z^6-59791//1296*y^14*z^5-101393//4374*y^12*z^2+5923523//34992*y^8*z^13-44425//69984*y^6*z^17+29182693//34992*y^8*z^6-915223//3888*y^7*z^10-234601//648*y^4*z^4-89174777//69984*y^3*z^10-54313//2187*y^4*z+2619449//69984*x*z^15-26889559//23328*y^6*z^8+27268337//69984*z^5+1918787//34992*y*z^14-19862143//34992*y*z^8-2559353//8748*y^7*z^2-14566699//34992*y^10*z^7+44425//69984*y^10*z^14-52987825//69984*y^6*z^3+18247517//69984*y^4*z^3+89815//8748*y^12*z^11+631759//34992*y^12*z^9+2//1*y*z+30909727//34992*y^7*z^5+222125//34992*y^2*z^18+717805//23328*y^10*z^9+323995//7776*y^8*z^14-6944063//11664*y^7*z^8+457223//11664*y^14*z^7-637177//34992*z^19-1109995//69984*z^17-26096155//69984*y^8*z^10-489187//972*y^8*z^3-44425//34992*y^11*z^13+222125//34992*y^13*z^11-2790745//11664*x*z^11+9389951//17496*y^3*z^9-1278583//4374*y^6*z^2+63744949//69984*y^8*z^5+209105//7776*y^10*z^13-343673//2187*y^5*z^13-343051//17496*y^3*z^4+11403491//11664*y^6*z^5-44425//34992*y^3*z^19-9140507//69984*y^10*z^8+22302653//69984*z^15+1526545//69984*y^4*z^17+1149559//4374*y^6*z^7+1044131//5832*y^5*z^9+76165//4374*y*z^15+237491//34992*y^13-335959//4374*z^6-2//1*x*y*z-869747//17496*y^10*z+293839//1944*y^9*z^2-x*z^2+29956543//69984*y^10*z^3+891121//34992*y^13*z^6-7179065//8748*z^8-47891//4374*y^4-830827//34992*y^13*z^2-3314095//5832*y^7*z^9+1333129//4374*y^7*z^7+435073//3888*y^9*z^10-31325//11664*y^9*z^12-168541//1944*y^14*z^4+952247//4374*y^8*z^12-36482669//69984*y^10*z^6+208925//8748*y^13*z^10+1011689//17496*y^13*z^8+4995035//34992*y^10*z^11+287521//1944*y^11*z^2-430759//1944*y^9*z^5-436135//11664*x*z^12+165673//17496*y^8*z^4+339305//69984*y^14*z^10-6578429//8748*y^2*z^7+44425//34992*y^7*z^16+456911//69984*y^6*z^15+111115//2592*y^14*z^8-10602997//69984*y^3*z^15-44425//69984*z^21-125515//729*x*z^10+2626225//17496*y^5*z^2-354533//8748*y^13*z^5-1005151//34992*y*z^3+2475415//34992*y^2*z^12+11243399//69984*y^6*z^10+20587543//69984*y^3*z^14-19074349//34992*y^8*z^8-34018261//34992*y^6*z^9+2242763//23328*y^10*z^12+836129//4374*y^2*z^11-607117//34992*z^3+158203//17496*y^12*z-95083//5832*y*z^17+72931//11664*y^14*z^6+13565093//69984*z^16-7954033//69984*z^14+455137//34992*y^12*z^10-68578//2187*y^12*z^5-1417253//3888*y^11*z^7-420709//2592*y^11*z^8+44425//69984*y^4*z^18+6131711//5832*y^5*z^7-639107//34992*x*z^18+2525//144*y^2*z^17-1000777//34992*y^2*z^3-28598633//69984*y^4*z^6-44425//69984*x*z^20+5470091//17496*y^11*z^4+x*y-56030677//69984*z^13-44425//69984*y^8*z^15-215965//1296*y^10*z^5+36291181//69984*y^3*z^3+354365//1296*y^9*z^9-54575//432*y^7*z^11+674599//4374*y^4*z^2-1//2*x*z^4-37215199//34992*y^3*z^6-2//1*z-x+225985//34992*y*z^18+40025//1458*y^9*z^13+545069//34992*y^4*z^13+2579827//5832*y^2*z^10-440941//8748*z^18+2290939//2187*y^5*z^8+7686377//69984*y^11*z^11+7556995//34992*y^2*z^4+2133181//11664*y*z^11-1980847//69984*x*z^6+4580449//34992*y^7*z^14+30862//81*y*z^5+1//4*x*z^3+171325//17496*y^13*z+4427383//34992*x*z^8-4391987//34992*y^2*z^14+13651993//23328*y^6*z^11+29810057//69984*y^11*z^3-63266461//69984*z^7+1//1+7490587//17496*y*z^9-1286021//34992*x*z^16-1351039//17496*y^13*z^3-1946329//5832*y^6*z^4-y+27617131//34992*y*z^10+939029//17496*y^7+560825//1296*y^9*z^3+6637291//34992*y^3*z^12+613129//8748*y^6*z-12665851//11664*y^4*z^5+1904011//8748*y*z^4+1811375//1458*y^7*z^6+x*y*z^2+7525711//69984*y^4*z^9+1//4*x*z^5+1980241//34992*y^13*z^7+592115//5832*y^5*z^15+2600449//23328*y^10*z^10\n",
       " -660//1*x*z^13+1712//1*y^5*z^12-80//1*y^10+2748//1*y^5*z^5-2504//1*z^9+148//1*y^2*z^16+3882//1*y^3*z^5+1442//1*y*z^6+2320//1*y^5*z^4+1806//1*y^9*z^7-324//1*y^5*z^6-552//1*y^9*z^4-80//1*y^2*z^2-276//1*y^12*z^8+1306//1*y^2*z^8+480//1*y^8*z+2738//1*y^9*z^6+195//1*x*z^17-y^10*z^15+x*z^21-38//1*y^6*z^16-80//1*y*z^2+264//1*y^14*z^2+2097//1*z^12-138//1*y^9*z^11-480//1*y^9*z+770//1*y^4*z^12+16//1*y^14-76//1*y^9*z^14-5533//1*y^3*z^8-4500//1*z^10+128//1*y^6+541//1*y^6*z^14-308//1*y^11*z^9-1080//1*y^3*z^2+512//1*y^5*z^3-1240//1*y^10*z^2+80//1*y^8-678//1*x*z^14-265//1*y^4*z^16+642//1*y^3*z^16-902//1*y^6*z^12+1334//1*y^2*z^6+286//1*y^3*z^17+1916//1*y^7*z^3+42//1*x*z^19+115//1*x*z^9-192//1*y^5*z+2019//1*y^11*z^6+2096//1*y^5*z^11-254//1*y^12*z^6-80//1*y^3-240//1*x*z^7+768//1*y^7*z+1356//1*y^5*z^10-26//1*y^12*z^12+414//1*y^12*z^3-672//1*y^10*z^4-2686//1*y^3*z^13-6//1*y^14*z^11+2968//1*y^8*z^9+422//1*y^14*z^3+922//1*y^11*z^5-32//1*y^4*z^14-1862//1*z^11-418//1*y^2*z^5-622//1*y^7*z^13+106//1*y*z^16-4922//1*y^4*z^7-10//1*y^2*z^19-44//1*y^5*z^17-80//1*z^2+2770//1*y*z^7-5025//1*y^4*z^8-256//1*y^13*z^9+460//1*y^2*z^15-308//1*y^7*z^15+16//1*y^12-480//1*y^11*z-80//1*y^11-366//1*y^12*z^7+3037//1*y^4*z^10+254//1*y^2*z^13-32//1*y^5+45//1*y^3*z^18+2683//1*y^4*z^11+96//1*y^14*z-235//1*y^11*z^12-20//1*y*z^19+1080//1*y^8*z^2-1108//1*y^2*z^9-160//1*y^4*z^15+360//1*y^12*z^4-156//1*y^7*z^12-656//1*y^7*z^4-232//1*y^5*z^16-872//1*z^4-136//1*y^14*z^9-176//1*y^5*z^14-3486//1*y^3*z^7+414//1*y^6*z^13+4030//1*y^3*z^11-480//1*y^3*z+88//1*y^8*z^11+384//1*y^13*z^4+314//1*y^8*z^7-88//1*y^9*z^8+746//1*y*z^12-80//1*y^9+37//1*z^20-750//1*y^11*z^10+784//1*y*z^13-4787//1*y^6*z^6+198//1*y^14*z^5-10//1*y^13*z^12+264//1*y^12*z^2-856//1*y^8*z^13-16//1*y^6*z^17-2900//1*y^8*z^6+1686//1*y^7*z^10+2368//1*y^4*z^4+4238//1*y^3*z^10-192//1*y^4*z-232//1*x*z^15-6//1*y*z^20+4061//1*y^6*z^8-378//1*z^5+112//1*y*z^14+1318//1*y*z^8+1872//1*y^7*z^2+2058//1*y^10*z^7-44//1*y^10*z^14+1884//1*y^6*z^3+520//1*y^4*z^3-54//1*y^12*z^11-150//1*y^12*z^9-4116//1*y^7*z^5-44//1*y^2*z^18-223//1*y^10*z^9-373//1*y^8*z^14+2318//1*y^7*z^8-210//1*y^14*z^7+132//1*z^19-156//1*z^17+1680//1*y^8*z^10+718//1*y^8*z^3-36//1*y^11*z^13-54//1*y^13*z^11+783//1*x*z^11-1108//1*y^3*z^9+1872//1*y^6*z^2-3648//1*y^8*z^5-222//1*y^10*z^13-20//1*y^9*z^15+748//1*y^5*z^13+1768//1*y^3*z^4-4584//1*y^6*z^5+4//1*y^3*z^19+795//1*y^10*z^8-972//1*z^15-158//1*y^4*z^17-270//1*y^6*z^7-1244//1*y^5*z^9-42//1*y*z^15+16//1*y^13+1614//1*z^6-480//1*y^10*z-1240//1*y^9*z^2-1622//1*y^10*z^3+y^6*z^18-168//1*y^13*z^6+1617//1*z^8+2//1*y^3*z^20-32//1*y^4+264//1*y^13*z^2+2916//1*y^7*z^9-1112//1*y^7*z^7-684//1*y^9*z^10-2//1*y^7*z^17-18//1*y^9*z^12+408//1*y^14*z^4-877//1*y^8*z^12+2449//1*y^10*z^6-144//1*y^13*z^10-342//1*y^13*z^8-743//1*y^10*z^11-1240//1*y^11*z^2+1542//1*y^9*z^5+45//1*x*z^12-1472//1*y^8*z^4-48//1*y^14*z^10+2552//1*y^2*z^7-64//1*y^7*z^16+132//1*y^6*z^15-219//1*y^14*z^8+202//1*y^3*z^15+z^22+6//1*z^21+744//1*x*z^10-288//1*y^5*z^2+132//1*y^13*z^5+2//1*y^11*z^14-432//1*y*z^3-318//1*y^2*z^12-26//1*y^6*z^10-1587//1*y^3*z^14+2781//1*y^8*z^8+3544//1*y^6*z^9-523//1*y^10*z^12-1258//1*y^2*z^11-432//1*z^3+96//1*y^12*z+94//1*y*z^17-57//1*y^14*z^6-927//1*z^16+822//1*z^14-84//1*y^12*z^10+66//1*y^12*z^5+1770//1*y^11*z^7+711//1*y^11*z^8-y^4*z^19-36//1*y^4*z^18-6//1*y^12*z^13-4180//1*y^5*z^7+117//1*x*z^18-40//1*y^2*z^17-432//1*y^2*z^3-497//1*y^4*z^6+9//1*x*z^20-792//1*y^11*z^4+2938//1*z^13-64//1*y^8*z^15+1232//1*y^10*z^5-642//1*y^3*z^3-1018//1*y^9*z^9+558//1*y^7*z^11-288//1*y^4*z^2+1823//1*y^3*z^6+2//1*y*z^18-90//1*y^9*z^13-25//1*y^4*z^13-2018//1*y^2*z^10+191//1*z^18-4336//1*y^5*z^8-590//1*y^11*z^11-872//1*y^2*z^4-1040//1*y*z^11+y^14*z^12-64//1*x*z^6-630//1*y^7*z^14-398//1*y*z^5+96//1*y^13*z-300//1*x*z^8+544//1*y^2*z^14-1874//1*y^6*z^11-1642//1*y^11*z^3+3228//1*z^7-1716//1*y*z^9+123//1*x*z^16+418//1*y^13*z^3-848//1*y^6*z^4+y^8*z^16-2768//1*y*z^10+128//1*y^7-1602//1*y^9*z^3-240//1*y^3*z^12+768//1*y^6*z+2820//1*y^4*z^5-872//1*y*z^4-4496//1*y^7*z^6-565//1*y^4*z^9-336//1*y^13*z^7-444//1*y^5*z^15-684//1*y^10*z^10                                                                                                                                                                                                                                                                                                                                                                                                                                                                                                                                                                                                                                                                                                                                                                                                                                                                                                                                                                                                                                                                                                                                                                                                                                                                                                                                                                                                                                                                                                                                                                                                                                                                                                                                                                                                        \n",
       " -20//1*y^3*z^2-5//1*z^8-3//1*y^4-6//1*y^12-10//1*z^4+3//1*y^8-3//1*y^8*z^3-30//1*y^6*z^4+y^15+5//1*y^12*z^2-z^9+6//1*y^4*z^3+30//1*y^6*z^2+5//1*y^3*z^8-20//1*y^3*z^6+13//1*z^6+z^10+10//1*y^9*z^4-10//1*y^6-20//1*y^9*z^2+30//1*y^3*z^4+5//1*z^2-3//1*z^3+10//1*y^9+10//1*y^6*z^6-3//1*y^4*z^6+5//1*y^3                                                                                                                                                                                                                                                                                                                                                                                                                                                                                                                                                                                                                                                                                                                                                                                                                                                                                                                                                                                                                                                                                                                                                                                                                                                                                                                                                                                                                                                                                                                                                                                                                                                                                                                                                                                                                                                                                                                                                                                                                                                                                                                                                                                                                                                                                                                                                                                                                                                                                                                                                                                                                                                                                                                                                                                                                                                                                                                                                                                                                                                                                                                                                                                                                                                                                                                                                                                                                                                                                                                                                                                                                                                                                                                                                                                                                                                                                                                                                                                                                                                                                                                                                                                                                                                                                                                                                                                                                                                                                                                                                                                                                                                                                                                                                                                                                                                                                                                                                                                                                                                                                                                                                                                                                                                                                                                                                                                                                                                                                                                                                                                                                                                                                                          "
      ]
     },
     "execution_count": 12,
     "metadata": {},
     "output_type": "execute_result"
    }
   ],
   "source": [
    "set_order_lex()\n",
    "G = groebner(I...)"
   ]
  },
  {
   "cell_type": "code",
   "execution_count": 14,
   "metadata": {
    "collapsed": false
   },
   "outputs": [
    {
     "data": {
      "text/plain": [
       "8-element Array{Int64,1}:\n",
       "  3\n",
       "  5\n",
       "  6\n",
       " 25\n",
       " 25\n",
       " 25\n",
       " 26\n",
       " 15"
      ]
     },
     "execution_count": 14,
     "metadata": {},
     "output_type": "execute_result"
    }
   ],
   "source": [
    "[deg(G[k]) for k=1:8]"
   ]
  },
  {
   "cell_type": "code",
   "execution_count": 15,
   "metadata": {
    "collapsed": false
   },
   "outputs": [
    {
     "data": {
      "text/plain": [
       "8-element Array{Any,1}:\n",
       "   4\n",
       "   6\n",
       "   9\n",
       " 282\n",
       " 275\n",
       " 271\n",
       " 274\n",
       "  27"
      ]
     },
     "execution_count": 15,
     "metadata": {},
     "output_type": "execute_result"
    }
   ],
   "source": [
    "[length(G[k]) for k=1:8]"
   ]
  },
  {
   "cell_type": "code",
   "execution_count": 21,
   "metadata": {
    "collapsed": false
   },
   "outputs": [
    {
     "data": {
      "text/plain": [
       "7776"
      ]
     },
     "execution_count": 21,
     "metadata": {},
     "output_type": "execute_result"
    }
   ],
   "source": [
    "lcm([den(c) for (i,c) in G[4]]...)"
   ]
  },
  {
   "cell_type": "code",
   "execution_count": 27,
   "metadata": {
    "collapsed": false
   },
   "outputs": [
    {
     "data": {
      "text/plain": [
       "170255391"
      ]
     },
     "execution_count": 27,
     "metadata": {},
     "output_type": "execute_result"
    }
   ],
   "source": [
    "maximum([abs(num(c)) for (i,c) in 7776*G[4]])"
   ]
  },
  {
   "cell_type": "code",
   "execution_count": 9,
   "metadata": {
    "collapsed": false
   },
   "outputs": [
    {
     "data": {
      "text/plain": [
       "true"
      ]
     },
     "execution_count": 9,
     "metadata": {},
     "output_type": "execute_result"
    }
   ],
   "source": [
    "x^2*y == y*x^2"
   ]
  },
  {
   "cell_type": "code",
   "execution_count": 35,
   "metadata": {
    "collapsed": false
   },
   "outputs": [
    {
     "data": {
      "text/plain": [
       "(y,x)"
      ]
     },
     "execution_count": 35,
     "metadata": {},
     "output_type": "execute_result"
    }
   ],
   "source": [
    "@variables Rational{BigInt} y x"
   ]
  },
  {
   "cell_type": "code",
   "execution_count": 36,
   "metadata": {
    "collapsed": false
   },
   "outputs": [
    {
     "data": {
      "text/plain": [
       "2-element Array{Dict{Tuple{UInt16,UInt16},Rational{BigInt}},1}:\n",
       " -2//1*y+y*x \n",
       " 2//1*y^2-x^2"
      ]
     },
     "execution_count": 36,
     "metadata": {},
     "output_type": "execute_result"
    }
   ],
   "source": [
    "I=[x*y-2*y, 2*y^2-x^2]"
   ]
  },
  {
   "cell_type": "code",
   "execution_count": 37,
   "metadata": {
    "collapsed": false
   },
   "outputs": [
    {
     "data": {
      "text/plain": [
       "3-element Array{Dict{Tuple{UInt16,UInt16},Rational{BigInt}},1}:\n",
       " -2//1*y+y*x  \n",
       " y^2-1//2*x^2 \n",
       " -2//1*x^2+x^3"
      ]
     },
     "execution_count": 37,
     "metadata": {},
     "output_type": "execute_result"
    }
   ],
   "source": [
    "set_order_lex()\n",
    "G=groebner(I...)"
   ]
  },
  {
   "cell_type": "code",
   "execution_count": 38,
   "metadata": {
    "collapsed": false
   },
   "outputs": [
    {
     "data": {
      "text/latex": [
       "$-2y+yx$"
      ],
      "text/plain": [
       "Dict{Tuple{UInt16,UInt16},Rational{BigInt}} with 2 entries:\n",
       "  (0x0001,0x0000) => -2//1\n",
       "  (0x0001,0x0001) => 1//1"
      ]
     },
     "execution_count": 38,
     "metadata": {},
     "output_type": "execute_result"
    }
   ],
   "source": [
    "G[1]"
   ]
  },
  {
   "cell_type": "code",
   "execution_count": 39,
   "metadata": {
    "collapsed": false
   },
   "outputs": [
    {
     "data": {
      "text/latex": [
       "$y^{2}-\\frac{1}{2}x^{2}$"
      ],
      "text/plain": [
       "Dict{Tuple{UInt16,UInt16},Rational{BigInt}} with 2 entries:\n",
       "  (0x0002,0x0000) => 1//1\n",
       "  (0x0000,0x0002) => -1//2"
      ]
     },
     "execution_count": 39,
     "metadata": {},
     "output_type": "execute_result"
    }
   ],
   "source": [
    "G[2]"
   ]
  },
  {
   "cell_type": "code",
   "execution_count": 40,
   "metadata": {
    "collapsed": false
   },
   "outputs": [
    {
     "data": {
      "text/latex": [
       "$-2x^{2}+x^{3}$"
      ],
      "text/plain": [
       "Dict{Tuple{UInt16,UInt16},Rational{BigInt}} with 2 entries:\n",
       "  (0x0000,0x0002) => -2//1\n",
       "  (0x0000,0x0003) => 1//1"
      ]
     },
     "execution_count": 40,
     "metadata": {},
     "output_type": "execute_result"
    }
   ],
   "source": [
    "G[3]"
   ]
  },
  {
   "cell_type": "code",
   "execution_count": 41,
   "metadata": {
    "collapsed": false
   },
   "outputs": [
    {
     "data": {
      "text/latex": [
       "$-113y+217x$"
      ],
      "text/plain": [
       "Dict{Tuple{UInt16,UInt16},Rational{BigInt}} with 2 entries:\n",
       "  (0x0001,0x0000) => -113//1\n",
       "  (0x0000,0x0001) => 217//1"
      ]
     },
     "execution_count": 41,
     "metadata": {},
     "output_type": "execute_result"
    }
   ],
   "source": [
    "rem(5*I[1]-3*I[2]+217x-113y, G...)"
   ]
  },
  {
   "cell_type": "code",
   "execution_count": 127,
   "metadata": {
    "collapsed": false
   },
   "outputs": [
    {
     "data": {
      "text/latex": [
       "$x^{3}$"
      ],
      "text/plain": [
       "x^3"
      ]
     },
     "execution_count": 127,
     "metadata": {},
     "output_type": "execute_result"
    }
   ],
   "source": [
    "LT(G[3])"
   ]
  },
  {
   "cell_type": "code",
   "execution_count": 19,
   "metadata": {
    "collapsed": false
   },
   "outputs": [
    {
     "data": {
      "text/plain": [
       "(z,y,x)"
      ]
     },
     "execution_count": 19,
     "metadata": {},
     "output_type": "execute_result"
    }
   ],
   "source": [
    "@variables Rational{BigInt} z y x"
   ]
  },
  {
   "cell_type": "code",
   "execution_count": 20,
   "metadata": {
    "collapsed": false
   },
   "outputs": [
    {
     "data": {
      "text/plain": [
       "3-element Array{Dict{Tuple{UInt16,UInt16,UInt16},Rational{BigInt}},1}:\n",
       " y*x-z-2//1*z*y\n",
       " y^2+z*x-z*x^2 \n",
       " x-y^2*x+z^2   "
      ]
     },
     "execution_count": 20,
     "metadata": {},
     "output_type": "execute_result"
    }
   ],
   "source": [
    "I=[x*y-2*y*z-z, y^2-x^2*z+x*z, z^2-y^2*x+x]"
   ]
  },
  {
   "cell_type": "code",
   "execution_count": 21,
   "metadata": {
    "collapsed": false
   },
   "outputs": [
    {
     "name": "stdout",
     "output_type": "stream",
     "text": [
      "(1,2)\n",
      "\t1//2*y^2+y^3+1//2*y*x^2-1//2*y*x^3\n",
      "(1,4)\n",
      "(2,4)\n",
      "(2,3)\n",
      "\tx^2+y^2*x^3-x^3-1//4*z-1//2*y^2*x+1//4*y*x-y^2*x^2\n",
      "(2,5)\n",
      "\t4//1*y^2*x^5-8//1*y^2*x^4+2//1*y^2*x^3+8//1*x^4-4//1*x^3-y^2+2//1*y^2*x^2-y*x^2-4//1*x^5+y*x^3\n",
      "(4,6)\n",
      "\t-x^4+y*x^3-5//4*y*x^6+y*x^5-7//4*y*x^4+1//4*y^2*x^2-1//4*y^2*x^3+3//2*y*x^7+1//2*x^3+1//2*x^5-1//2*y*x^8\n",
      "(6,7)\n",
      "\t2//1*x^4+2//1*x^7+8//1*y*x^9-1//4*y*x^2-7//4*y*x^3-2//1*y*x^10-17//2*y*x^6+9//1*y*x^5-6//1*x^6-1//2*y*x^4+6//1*y*x^7-2//1*x^3-1//4*y^2+4//1*x^5-10//1*y*x^8\n",
      "(7,8)\n",
      "\t40//1*x^8+4//1*x^4-8//1*x^7-72//1*y*x^11-58//1*y*x^9-4//1*y*x^3-32//1*x^9+64//1*y*x^10+2//1*y*x^5-16//1*x^6+8//1*y*x^4+8//1*x^10-44//1*y*x^7+40//1*y*x^12-2//1*x^3-8//1*y*x^13+6//1*x^5+72//1*y*x^8\n",
      "(6,8)\n",
      "(6,9)\n",
      "\t45//4*x^8-33//4*x^7-4//1*y*x^9-1//4*y*x^3-19//2*x^11+5//1*x^12-10//1*x^9+y*x^10-2//1*y*x^6+3//4*y*x^5+11//4*x^6+1//2*y*x^4+10//1*x^10-y*x^7-1//4*x^5+5//1*y*x^8-x^13\n",
      "(9,10)\n",
      "\t41//2*x^8-1//2*x^4-63//4*x^7+x^16+29//2*x^14+1//4*y*x^9-161//4*x^11+30//1*x^12-27//1*x^9-13//4*y*x^6+y*x^5+15//2*x^6+77//2*x^10+15//4*y*x^7+1//4*x^3-6//1*x^15-7//4*y*x^8-43//2*x^13-5//4*x^5\n",
      "(10,11)\n",
      "\t-687//4*x^8+5//1*x^4+603//4*x^7-4//1*x^17+12//1*x^16-88//1*x^14-1//4*y*x^3+639//2*x^11-194//1*x^12+232//1*x^9+33//1*y*x^6-45//4*y*x^5-329//4*x^6+1//2*y*x^4-344//1*x^10-33//1*y*x^7-3//1*x^3+14//1*x^15+11//1*y*x^8+137//1*x^13+67//4*x^5\n",
      "(11,12)\n",
      "\t257//44*x^8+1//11*x^4-31//44*x^7-28//11*x^17+78//11*x^16+149//11*x^14-1//11*y*x^3-149//11*x^11+449//22*x^12-353//44*x^9+1//44*y*x^6-3//22*y*x^5-63//44*x^6+9//44*y*x^4+86//11*x^10+4//11*x^18-1//11*x^3-120//11*x^15-204//11*x^13+7//11*x^5\n",
      "(12,13)\n",
      "\t-129519//44*x^8-391//11*x^4+24055//44*x^7+64//1*x^19+9764//11*x^17-31888//11*x^16-5610//1*x^14+2111//44*y*x^3+143045//22*x^11-102846//11*x^12+38688//11*x^9+2111//44*y*x^5+29063//44*x^6-2111//22*y*x^4-36930//11*x^10-168//1*x^18+525//11*x^3-16//1*x^20+52682//11*x^15+84771//11*x^13-15069//44*x^5\n",
      "(13,14)\n",
      "\t396//2111*x^8+88//2111*x^4+1716//2111*x^7+18656//2111*x^19+47344//2111*x^17-62304//2111*x^16-68288//2111*x^14+33924//2111*x^11-35948//2111*x^12+3344//2111*x^9-1672//2111*x^6-19448//2111*x^10+704//2111*x^21-34848//2111*x^18-44//2111*x^3-5632//2111*x^20+76472//2111*x^15+45144//2111*x^13+396//2111*x^5\n",
      "(12,14)\n",
      "(11,14)\n",
      "(11,13)\n",
      "(10,14)\n",
      "(10,12)\n",
      "(10,13)\n",
      "(9,14)\n",
      "(9,13)\n",
      "(9,12)\n",
      "(9,11)\n",
      "(14,15)\n",
      "(11,15)\n",
      "(12,15)\n",
      "(10,15)\n",
      "(9,15)\n",
      "(13,15)\n",
      "(8,14)\n",
      "(6,14)\n",
      "(7,14)\n",
      "(7,13)\n",
      "(6,13)\n",
      "(8,13)\n",
      "(8,12)\n",
      "(7,12)\n",
      "(6,12)\n",
      "(8,11)\n",
      "(6,11)\n",
      "(7,11)\n",
      "(6,10)\n",
      "(7,10)\n",
      "(8,10)\n",
      "(8,9)\n",
      "(7,9)\n",
      "(8,15)\n",
      "(7,15)\n",
      "(6,15)\n",
      "(4,8)\n",
      "\t-2064//1*x^8+32//1*x^4+992//1*x^7+1024//1*x^19+6400//1*x^17-9056//1*x^16-15824//1*x^14+10128//1*x^11-11472//1*x^12+4944//1*x^9-480//1*x^6-8560//1*x^10-3392//1*x^18-16//1*x^3-128//1*x^20+12576//1*x^15+14800//1*x^13+96//1*x^5\n",
      "(15,16)\n",
      "\t133//16*x^8-21//16*x^7-7//2*x^17+39//4*x^16+149//8*x^14-299//16*x^11+449//16*x^12-91//8*x^9-13//8*x^6+11//1*x^10+1//2*x^18-1//16*x^3-15//1*x^15-51//2*x^13+13//16*x^5\n",
      "(16,17)\n",
      "\t67//4*x^8-3//8*x^4-101//8*x^7-1//2*x^17+7//2*x^16+33//2*x^14-275//8*x^11+121//4*x^12-155//8*x^9+43//8*x^6+55//2*x^10+1//8*x^3-10//1*x^15-177//8*x^13-5//8*x^5\n",
      "(17,18)\n",
      "\t-69//8*x^8+1//4*x^4+65//8*x^7-1//2*x^16-7//1*x^14+141//8*x^11-101//8*x^12+43//4*x^9-9//2*x^6-67//4*x^10-1//8*x^3+3//1*x^15+19//2*x^13+7//8*x^5\n",
      "(18,19)\n",
      "(17,19)\n",
      "(16,19)\n",
      "(16,18)\n",
      "(15,19)\n",
      "(15,17)\n",
      "(15,18)\n",
      "(14,19)\n",
      "(9,19)\n",
      "(10,19)\n",
      "(13,19)\n",
      "(12,19)\n",
      "(11,19)\n",
      "(12,18)\n",
      "(13,18)\n",
      "(9,18)\n",
      "(14,18)\n",
      "(11,18)\n",
      "(10,18)\n",
      "(13,17)\n",
      "(12,17)\n",
      "(9,17)\n",
      "(14,17)\n",
      "(10,17)\n",
      "(11,17)\n",
      "(12,16)\n",
      "(13,16)\n",
      "(10,16)\n",
      "(11,16)\n",
      "(9,16)\n",
      "(14,16)\n",
      "(6,19)\n",
      "(7,19)\n",
      "(8,19)\n",
      "(8,18)\n",
      "(6,18)\n",
      "(7,18)\n",
      "(7,17)\n",
      "(6,17)\n",
      "(8,17)\n",
      "(7,16)\n",
      "(8,16)\n",
      "(6,16)\n",
      "(4,7)\n",
      "(4,14)\n",
      "(4,13)\n",
      "(4,12)\n",
      "(4,11)\n",
      "(4,10)\n",
      "(4,9)\n",
      "(4,19)\n",
      "(4,18)\n",
      "(4,17)\n",
      "(4,16)\n",
      "(4,15)\n",
      "(5,19)\n",
      "(2,19)\n",
      "(2,18)\n",
      "(5,18)\n",
      "(5,17)\n",
      "(2,17)\n",
      "(5,16)\n",
      "(2,16)\n",
      "(5,15)\n",
      "(2,15)\n",
      "(1,5)\n",
      "\t-55404//2111*x^8-7828//2111*x^4+61304//2111*x^7-28152//2111*x^14+4//1*y*x^2-4//1*y*x^3+85968//2111*x^11-56280//2111*x^12+77640//2111*x^9-44738//2111*x^6-112198//2111*x^10+2//1*x^2-4574//2111*x^3+5632//2111*x^15+50680//2111*x^13+23728//2111*x^5\n",
      "(14,20)\n",
      "(13,20)\n",
      "(12,20)\n",
      "(11,20)\n",
      "(10,20)\n",
      "(9,20)\n",
      "(19,20)\n",
      "(18,20)\n",
      "(17,20)\n",
      "(16,20)\n",
      "(15,20)\n",
      "(8,20)\n",
      "\t27//2*x^8+2//1*x^4-8//1*x^7+x^14-10//1*x^11+9//1*x^12-20//1*x^9+37//4*x^6+61//4*x^10-1//4*x^2+1//4*x^3-7//1*x^5-5//1*x^13\n",
      "(19,21)\n",
      "(18,21)\n",
      "(17,21)\n",
      "(16,21)\n",
      "(15,21)\n",
      "(20,21)\n",
      "(14,21)\n",
      "(13,21)\n",
      "(10,21)\n",
      "(11,21)\n",
      "(12,21)\n",
      "(9,21)\n",
      "(7,20)\n",
      "(6,20)\n",
      "(8,21)\n",
      "(6,21)\n",
      "(7,21)\n",
      "(4,20)\n",
      "(4,21)\n",
      "(5,21)\n",
      "(2,21)\n",
      "(5,20)\n",
      "(1,20)\n",
      "(2,20)\n",
      "(5,14)\n",
      "(2,14)\n",
      "(1,14)\n",
      "(2,13)\n",
      "(5,13)\n",
      "(1,13)\n",
      "(1,12)\n",
      "(5,12)\n",
      "(2,12)\n",
      "(2,11)\n",
      "(5,11)\n",
      "(1,11)\n",
      "(1,10)\n",
      "(5,10)\n",
      "(2,10)\n",
      "(5,9)\n",
      "(2,9)\n",
      "(1,9)\n",
      "(1,21)\n",
      "(1,19)\n",
      "(1,18)\n",
      "(1,17)\n",
      "(1,16)\n",
      "(1,15)\n",
      "(5,8)\n",
      "(1,8)\n",
      "(2,8)\n",
      "(5,7)\n",
      "(1,7)\n",
      "(2,7)\n",
      "(2,6)\n",
      "(1,6)\n",
      "(5,6)\n",
      "(4,5)\n",
      "(3,5)\n",
      "\t41//1*x^8+20//1*x^4-39//1*x^7-16//1*x^11+4//1*x^12-20//1*x^9+15//1*x^6+x+20//1*x^10-8//1*x^3-17//1*x^5\n",
      "(21,22)\n",
      "(19,22)\n",
      "(18,22)\n",
      "(17,22)\n",
      "(16,22)\n",
      "(15,22)\n",
      "(20,22)\n",
      "\t30//2111*x^8-1081//8444*x^4+281//4222*x^7+2//2111*x^11+10//2111*x^9-513//2111*x^6-264//2111*x-1//4*y*x-66//2111*x^2+2049//8444*x^3+133//4222*x^5\n",
      "(20,23)\n",
      "(14,23)\n",
      "(13,23)\n",
      "(12,23)\n",
      "(11,23)\n",
      "(10,23)\n",
      "(22,23)\n",
      "(13,22)\n",
      "(14,22)\n",
      "(11,22)\n",
      "(10,22)\n",
      "(12,22)\n",
      "(9,22)\n",
      "(9,23)\n",
      "(21,23)\n",
      "(19,23)\n",
      "(18,23)\n",
      "(17,23)\n",
      "(16,23)\n",
      "(15,23)\n",
      "(8,23)\n",
      "(7,23)\n",
      "(6,23)\n",
      "(8,22)\n",
      "(6,22)\n",
      "(7,22)\n",
      "(4,23)\n",
      "(4,22)\n",
      "(2,22)\n",
      "(5,22)\n",
      "(1,23)\n",
      "(5,23)\n",
      "(2,23)\n",
      "(1,22)\n",
      "(3,22)\n",
      "(3,21)\n",
      "(3,19)\n",
      "(3,18)\n",
      "(3,17)\n",
      "(3,16)\n",
      "(3,15)\n",
      "(1,3)\n",
      "(3,23)\n",
      "(3,20)\n",
      "(3,14)\n",
      "(3,13)\n",
      "(3,12)\n",
      "(3,11)\n",
      "(3,10)\n",
      "(3,9)\n",
      "(3,8)\n",
      "(3,7)\n",
      "(3,6)\n",
      "(3,4)\n"
     ]
    },
    {
     "data": {
      "text/plain": [
       "4-element Array{Dict{Tuple{UInt16,UInt16,UInt16},Rational{BigInt}},1}:\n",
       " -5804//2111*x^8-4783//2111*x^4+3920//2111*x^7+176//2111*x^11+880//2111*x^9-2924//2111*x^6+2100//2111*x+z-5808//2111*x^2+747//2111*x^3+14296//2111*x^5                 \n",
       " -10540//2111*x^8-8843//2111*x^4+21708//2111*x^7+2112//2111*x^11+10560//2111*x^9-20311//2111*x^6-132//2111*x-4//1*x^10-2144//2111*x^2+8964//2111*x^3+y^2+6894//2111*x^5\n",
       " 41//4*x^8+5//1*x^4-39//4*x^7-4//1*x^11+x^12-5//1*x^9+15//4*x^6+1//4*x+5//1*x^10-2//1*x^3-17//4*x^5                                                                    \n",
       " -120//2111*x^8+1081//2111*x^4-562//2111*x^7-8//2111*x^11-40//2111*x^9+2052//2111*x^6+1056//2111*x+y*x+264//2111*x^2-2049//2111*x^3-266//2111*x^5                      "
      ]
     },
     "execution_count": 21,
     "metadata": {},
     "output_type": "execute_result"
    }
   ],
   "source": [
    "set_order_lex()\n",
    "G=groebner(I...)"
   ]
  },
  {
   "cell_type": "code",
   "execution_count": 22,
   "metadata": {
    "collapsed": false
   },
   "outputs": [
    {
     "data": {
      "text/latex": [
       "$-\\frac{5804}{2111}x^{8}-\\frac{4783}{2111}x^{4}+\\frac{3920}{2111}x^{7}+\\frac{176}{2111}x^{11}+\\frac{880}{2111}x^{9}-\\frac{2924}{2111}x^{6}+\\frac{2100}{2111}x+z-\\frac{5808}{2111}x^{2}+\\frac{747}{2111}x^{3}+\\frac{14296}{2111}x^{5}$"
      ],
      "text/plain": [
       "Dict{Tuple{UInt16,UInt16,UInt16},Rational{BigInt}} with 11 entries:\n",
       "  (0x0000,0x0000,0x0008) => -5804//2111\n",
       "  (0x0000,0x0000,0x0004) => -4783//2111\n",
       "  (0x0000,0x0000,0x0007) => 3920//2111\n",
       "  (0x0000,0x0000,0x000b) => 176//2111\n",
       "  (0x0000,0x0000,0x0009) => 880//2111\n",
       "  (0x0000,0x0000,0x0006) => -2924//2111\n",
       "  (0x0000,0x0000,0x0001) => 2100//2111\n",
       "  (0x0001,0x0000,0x0000) => 1//1\n",
       "  (0x0000,0x0000,0x0002) => -5808//2111\n",
       "  (0x0000,0x0000,0x0003) => 747//2111\n",
       "  (0x0000,0x0000,0x0005) => 14296//2111"
      ]
     },
     "execution_count": 22,
     "metadata": {},
     "output_type": "execute_result"
    }
   ],
   "source": [
    "G[1]"
   ]
  },
  {
   "cell_type": "code",
   "execution_count": 58,
   "metadata": {
    "collapsed": false
   },
   "outputs": [
    {
     "data": {
      "text/latex": [
       "$-\\frac{10540}{2111}x^{8}-\\frac{8843}{2111}x^{4}+\\frac{21708}{2111}x^{7}+\\frac{2112}{2111}x^{11}+\\frac{10560}{2111}x^{9}-\\frac{20311}{2111}x^{6}-\\frac{132}{2111}x-4x^{10}-\\frac{2144}{2111}x^{2}+\\frac{8964}{2111}x^{3}+y^{2}+\\frac{6894}{2111}x^{5}$"
      ],
      "text/plain": [
       "Dict{Tuple{UInt16,UInt16,UInt16},Rational{BigInt}} with 12 entries:\n",
       "  (0x0000,0x0000,0x0008) => -10540//2111\n",
       "  (0x0000,0x0000,0x0004) => -8843//2111\n",
       "  (0x0000,0x0000,0x0007) => 21708//2111\n",
       "  (0x0000,0x0000,0x000b) => 2112//2111\n",
       "  (0x0000,0x0000,0x0009) => 10560//2111\n",
       "  (0x0000,0x0000,0x0006) => -20311//2111\n",
       "  (0x0000,0x0000,0x0001) => -132//2111\n",
       "  (0x0000,0x0000,0x000a) => -4//1\n",
       "  (0x0000,0x0000,0x0002) => -2144//2111\n",
       "  (0x0000,0x0000,0x0003) => 8964//2111\n",
       "  (0x0000,0x0002,0x0000) => 1//1\n",
       "  (0x0000,0x0000,0x0005) => 6894//2111"
      ]
     },
     "execution_count": 58,
     "metadata": {},
     "output_type": "execute_result"
    }
   ],
   "source": [
    "G[2]"
   ]
  },
  {
   "cell_type": "code",
   "execution_count": 59,
   "metadata": {
    "collapsed": false
   },
   "outputs": [
    {
     "data": {
      "text/latex": [
       "$-\\frac{120}{2111}x^{8}+\\frac{1081}{2111}x^{4}-\\frac{562}{2111}x^{7}-\\frac{8}{2111}x^{11}-\\frac{40}{2111}x^{9}+\\frac{2052}{2111}x^{6}+\\frac{1056}{2111}x+yx+\\frac{264}{2111}x^{2}-\\frac{2049}{2111}x^{3}-\\frac{266}{2111}x^{5}$"
      ],
      "text/plain": [
       "Dict{Tuple{UInt16,UInt16,UInt16},Rational{BigInt}} with 11 entries:\n",
       "  (0x0000,0x0000,0x0008) => -120//2111\n",
       "  (0x0000,0x0000,0x0004) => 1081//2111\n",
       "  (0x0000,0x0000,0x0007) => -562//2111\n",
       "  (0x0000,0x0000,0x000b) => -8//2111\n",
       "  (0x0000,0x0000,0x0009) => -40//2111\n",
       "  (0x0000,0x0000,0x0006) => 2052//2111\n",
       "  (0x0000,0x0000,0x0001) => 1056//2111\n",
       "  (0x0000,0x0001,0x0001) => 1//1\n",
       "  (0x0000,0x0000,0x0002) => 264//2111\n",
       "  (0x0000,0x0000,0x0003) => -2049//2111\n",
       "  (0x0000,0x0000,0x0005) => -266//2111"
      ]
     },
     "execution_count": 59,
     "metadata": {},
     "output_type": "execute_result"
    }
   ],
   "source": [
    "G[3]"
   ]
  },
  {
   "cell_type": "code",
   "execution_count": 60,
   "metadata": {
    "collapsed": false
   },
   "outputs": [
    {
     "data": {
      "text/latex": [
       "$\\frac{41}{4}x^{8}+5x^{4}-\\frac{39}{4}x^{7}-4x^{11}+x^{12}-5x^{9}+\\frac{15}{4}x^{6}+\\frac{1}{4}x+5x^{10}-2x^{3}-\\frac{17}{4}x^{5}$"
      ],
      "text/plain": [
       "Dict{Tuple{UInt16,UInt16,UInt16},Rational{BigInt}} with 11 entries:\n",
       "  (0x0000,0x0000,0x0008) => 41//4\n",
       "  (0x0000,0x0000,0x0004) => 5//1\n",
       "  (0x0000,0x0000,0x0007) => -39//4\n",
       "  (0x0000,0x0000,0x000b) => -4//1\n",
       "  (0x0000,0x0000,0x000c) => 1//1\n",
       "  (0x0000,0x0000,0x0009) => -5//1\n",
       "  (0x0000,0x0000,0x0006) => 15//4\n",
       "  (0x0000,0x0000,0x0001) => 1//4\n",
       "  (0x0000,0x0000,0x000a) => 5//1\n",
       "  (0x0000,0x0000,0x0003) => -2//1\n",
       "  (0x0000,0x0000,0x0005) => -17//4"
      ]
     },
     "execution_count": 60,
     "metadata": {},
     "output_type": "execute_result"
    }
   ],
   "source": [
    "G[4]"
   ]
  },
  {
   "cell_type": "code",
   "execution_count": 34,
   "metadata": {
    "collapsed": false
   },
   "outputs": [
    {
     "data": {
      "text/latex": [
       "$0$"
      ],
      "text/plain": [
       "Dict{Tuple{UInt16,UInt16,UInt16},Rational{BigInt}} with 0 entries"
      ]
     },
     "execution_count": 34,
     "metadata": {},
     "output_type": "execute_result"
    }
   ],
   "source": [
    "rem(3*I[1]-2*I[2]+I[3]+11z^2+11x-11y^2*x, I...)"
   ]
  },
  {
   "cell_type": "code",
   "execution_count": 2,
   "metadata": {
    "collapsed": false
   },
   "outputs": [
    {
     "data": {
      "text/latex": [
       "$x^{2}-2y^{2}$"
      ],
      "text/plain": [
       "Dict{Tuple{UInt16,UInt16},Rational{BigInt}} with 2 entries:\n",
       "  (0x0002,0x0000) => 1//1\n",
       "  (0x0000,0x0002) => -2//1"
      ]
     },
     "execution_count": 2,
     "metadata": {},
     "output_type": "execute_result"
    }
   ],
   "source": [
    "@variables Rational{BigInt} x y\n",
    "f1 = x*y - 2*y\n",
    "f2 = x^2 - 2*y^2"
   ]
  },
  {
   "cell_type": "code",
   "execution_count": 7,
   "metadata": {
    "collapsed": false
   },
   "outputs": [
    {
     "data": {
      "text/latex": [
       "$-2xy+2y^{3}$"
      ],
      "text/plain": [
       "Dict{Tuple{UInt16,UInt16},Rational{BigInt}} with 2 entries:\n",
       "  (0x0001,0x0001) => -2//1\n",
       "  (0x0000,0x0003) => 2//1"
      ]
     },
     "execution_count": 7,
     "metadata": {},
     "output_type": "execute_result"
    }
   ],
   "source": [
    "S_polynomial(f1, f2)"
   ]
  },
  {
   "cell_type": "code",
   "execution_count": 11,
   "metadata": {
    "collapsed": false
   },
   "outputs": [
    {
     "data": {
      "text/plain": [
       "([-2//1,0],-4//1*y+2//1*y^3)"
      ]
     },
     "execution_count": 11,
     "metadata": {},
     "output_type": "execute_result"
    }
   ],
   "source": [
    "(a,f3) = divrem(S_polynomial(f1, f2), f1, f2)"
   ]
  },
  {
   "cell_type": "code",
   "execution_count": 14,
   "metadata": {
    "collapsed": false
   },
   "outputs": [
    {
     "data": {
      "text/plain": [
       "([4//1+2//1*x,0,-2//1-y^2],0)"
      ]
     },
     "execution_count": 14,
     "metadata": {},
     "output_type": "execute_result"
    }
   ],
   "source": [
    "divrem(S_polynomial(f2, f3), f1, f2, f3)"
   ]
  },
  {
   "cell_type": "code",
   "execution_count": 15,
   "metadata": {
    "collapsed": false
   },
   "outputs": [
    {
     "name": "stdout",
     "output_type": "stream",
     "text": [
      "Selected: (1,2)\n",
      "\ttrue\ttrue\n",
      "\tcriterion: false\n",
      "\tadded :-4//1*y+2//1*y^3\n",
      "Selected: (2,3)\n",
      "\tfalse\ttrue\n",
      "\tcriterion: false\n",
      "Selected: (1,3)\n",
      "\ttrue\ttrue\n",
      "\tcriterion: false\n"
     ]
    },
    {
     "data": {
      "text/plain": [
       "3-element Array{Dict{Tuple{UInt16,UInt16},Rational{BigInt}},1}:\n",
       " -2//1*y+x*y     \n",
       " x^2-2//1*y^2    \n",
       " -4//1*y+2//1*y^3"
      ]
     },
     "execution_count": 15,
     "metadata": {},
     "output_type": "execute_result"
    }
   ],
   "source": [
    "groebner(f1, f2)"
   ]
  },
  {
   "cell_type": "code",
   "execution_count": 3,
   "metadata": {
    "collapsed": false
   },
   "outputs": [
    {
     "data": {
      "text/plain": [
       "2-element Array{Dict{Tuple{UInt16,UInt16},Rational{BigInt}},1}:\n",
       " x*y^4+2//1*x^2*y\n",
       " 1//1+x^2+y      "
      ]
     },
     "execution_count": 3,
     "metadata": {},
     "output_type": "execute_result"
    }
   ],
   "source": [
    "F = [2*x^2*y + x*y^4, x^2 + y + 1]"
   ]
  },
  {
   "cell_type": "code",
   "execution_count": 4,
   "metadata": {
    "collapsed": false
   },
   "outputs": [
    {
     "name": "stdout",
     "output_type": "stream",
     "text": [
      "Selected: (1,2)\n",
      "\ttrue\ttrue\n",
      "\tcriterion: false\n",
      "\tadded :1//2*x*y^4-y-y^2\n",
      "Selected: (2,3)\n",
      "\ttrue\ttrue\n",
      "\tcriterion: false\n",
      "\tadded :2//1*x*y^2+2//1*x*y+y^5+y^4\n",
      "Selected: (1,4)\n",
      "\ttrue\ttrue\n",
      "\tcriterion: false\n",
      "Selected: (2,4)\n",
      "\ttrue\ttrue\n",
      "\tcriterion: true\n",
      "Selected: (1,3)\n",
      "\ttrue\ttrue\n",
      "\tcriterion: true\n",
      "Selected: (3,4)\n",
      "\ttrue\ttrue\n",
      "\tcriterion: false\n",
      "\tadded :-1//2*y^7-2//1*y^2-2//1*y-x*y-1//2*y^4\n",
      "Selected: (2,5)\n",
      "\ttrue\ttrue\n",
      "\tcriterion: false\n",
      "Selected: (4,5)\n",
      "\ttrue\ttrue\n",
      "\tcriterion: false\n",
      "\tadded :-1//2*y^8-1//2*y^7-4//1*y^2-2//1*y-2//1*y^3\n",
      "Selected: (1,6)\n",
      "\ttrue\ttrue\n",
      "\tcriterion: false\n",
      "Selected: (3,6)\n",
      "\ttrue\ttrue\n",
      "\tcriterion: false\n",
      "Selected: (2,6)\n",
      "\tfalse\ttrue\n",
      "\tcriterion: true\n",
      "Selected: (5,6)\n",
      "\ttrue\ttrue\n",
      "\tcriterion: false\n",
      "Selected: (4,6)\n",
      "\ttrue\ttrue\n",
      "\tcriterion: false\n",
      "Selected: (1,5)\n",
      "\ttrue\ttrue\n",
      "\tcriterion: true\n",
      "Selected: (3,5)\n",
      "\ttrue\ttrue\n",
      "\tcriterion: false\n"
     ]
    },
    {
     "data": {
      "text/plain": [
       "3-element Array{Dict{Tuple{UInt16,UInt16},Rational{BigInt}},1}:\n",
       " 1//1+x^2+y                           \n",
       " 1//2*y^7+2//1*y^2+2//1*y+x*y+1//2*y^4\n",
       " y^8+y^7+8//1*y^2+4//1*y+4//1*y^3     "
      ]
     },
     "execution_count": 4,
     "metadata": {},
     "output_type": "execute_result"
    }
   ],
   "source": [
    "groebner(F...)"
   ]
  },
  {
   "cell_type": "code",
   "execution_count": 2,
   "metadata": {
    "collapsed": false
   },
   "outputs": [
    {
     "data": {
      "text/plain": [
       "(λ,x,y,z)"
      ]
     },
     "execution_count": 2,
     "metadata": {},
     "output_type": "execute_result"
    }
   ],
   "source": [
    "@variables Rational{BigInt} λ x y z"
   ]
  },
  {
   "cell_type": "code",
   "execution_count": 3,
   "metadata": {
    "collapsed": false
   },
   "outputs": [
    {
     "data": {
      "text/plain": [
       "4-element Array{Dict{Tuple{UInt16,UInt16,UInt16,UInt16},Rational{BigInt}},1}:\n",
       " 3//1*x^2-2//1*λ*x+2//1*y*z\n",
       " -2//1*λ*y+2//1*x*z        \n",
       " 2//1*x*y-2//1*λ*z-2//1*z  \n",
       " y^2-1//1+x^2+z^2          "
      ]
     },
     "execution_count": 3,
     "metadata": {},
     "output_type": "execute_result"
    }
   ],
   "source": [
    "F=[3*x^2+2*y*z-2*x*λ, 2*x*z-2*y*λ, 2*x*y-2*z-2*z*λ, x^2+y^2+z^2-1]"
   ]
  },
  {
   "cell_type": "code",
   "execution_count": 4,
   "metadata": {
    "collapsed": false
   },
   "outputs": [
    {
     "data": {
      "text/plain": [
       "8-element Array{Dict{Tuple{UInt16,UInt16,UInt16,UInt16},Rational{BigInt}},1}:\n",
       " y^2-1//1+x^2+z^2                                                   \n",
       " x*z-1152//3835*z^5-108//295*z^3+2556//3835*z+y*z^2                 \n",
       " x*y-19584//3835*z^5+1999//295*z^3-6403//3835*z                     \n",
       " -y-9216//3835*z^5+906//295*z^3+y^3-2562//3835*z+y*z^2              \n",
       " y^2*z-6912//3835*z^5+827//295*z^3-3839//3835*z                     \n",
       " z^7-1763//1152*z^5+655//1152*z^3-11//288*z                         \n",
       " -453//118*z^2+y*z^3+1605//118*z^4-y*z-576//59*z^6                  \n",
       " -134419//7670*z^2+λ-3//2*x+36717//590*z^4-3//2*y*z-167616//3835*z^6"
      ]
     },
     "execution_count": 4,
     "metadata": {},
     "output_type": "execute_result"
    }
   ],
   "source": [
    "set_order_lex()\n",
    "G=groebner(F...)"
   ]
  },
  {
   "cell_type": "code",
   "execution_count": 10,
   "metadata": {
    "collapsed": false
   },
   "outputs": [
    {
     "data": {
      "text/latex": [
       "$z^{7}-\\frac{1763}{1152}z^{5}+\\frac{655}{1152}z^{3}-\\frac{11}{288}z$"
      ],
      "text/plain": [
       "Dict{Tuple{UInt16,UInt16,UInt16,UInt16},Rational{BigInt}} with 4 entries:\n",
       "  (0x0000,0x0000,0x0000,0… => 1//1\n",
       "  (0x0000,0x0000,0x0000,0… => -1763//1152\n",
       "  (0x0000,0x0000,0x0000,0… => 655//1152\n",
       "  (0x0000,0x0000,0x0000,0… => -11//288"
      ]
     },
     "execution_count": 10,
     "metadata": {},
     "output_type": "execute_result"
    }
   ],
   "source": [
    "G[6]"
   ]
  },
  {
   "cell_type": "code",
   "execution_count": 14,
   "metadata": {
    "collapsed": false
   },
   "outputs": [
    {
     "data": {
      "text/plain": [
       "8-element Array{Dict{Tuple{UInt16,UInt16,UInt16,UInt16},Rational{BigInt}},1}:\n",
       " y^2-1//1+x^2+z^2                                                   \n",
       " x*z-1152//3835*z^5-108//295*z^3+2556//3835*z+y*z^2                 \n",
       " x*y-19584//3835*z^5+1999//295*z^3-6403//3835*z                     \n",
       " -y-9216//3835*z^5+906//295*z^3+y^3-2562//3835*z+y*z^2              \n",
       " y^2*z-6912//3835*z^5+827//295*z^3-3839//3835*z                     \n",
       " z^7-1763//1152*z^5+655//1152*z^3-11//288*z                         \n",
       " -453//118*z^2+y*z^3+1605//118*z^4-y*z-576//59*z^6                  \n",
       " -134419//7670*z^2+λ-3//2*x+36717//590*z^4-3//2*y*z-167616//3835*z^6"
      ]
     },
     "execution_count": 14,
     "metadata": {},
     "output_type": "execute_result"
    }
   ],
   "source": [
    "@variables Rational{BigInt} λ x y z\n",
    "F=[3*x^2+2*y*z-2*x*λ, 2*x*z-2*y*λ, 2*x*y-2*z-2*z*λ, x^2+y^2+z^2-1]\n",
    "set_order_lex()\n",
    "G=groebner(F...)"
   ]
  },
  {
   "cell_type": "code",
   "execution_count": 29,
   "metadata": {
    "collapsed": false
   },
   "outputs": [
    {
     "data": {
      "text/plain": [
       "grlexless (generic function with 2 methods)"
      ]
     },
     "execution_count": 29,
     "metadata": {},
     "output_type": "execute_result"
    }
   ],
   "source": [
    "@variables Rational{BigInt} x y z\n",
    "set_order_grlex()"
   ]
  },
  {
   "cell_type": "code",
   "execution_count": 30,
   "metadata": {
    "collapsed": false
   },
   "outputs": [
    {
     "data": {
      "text/plain": [
       "3-element Array{Dict{Tuple{UInt16,UInt16,UInt16},Rational{BigInt}},1}:\n",
       " y+y*z\n",
       " y+x^3\n",
       " z^4  "
      ]
     },
     "execution_count": 30,
     "metadata": {},
     "output_type": "execute_result"
    }
   ],
   "source": [
    "G=[y*z+y, x^3+y, z^4+0]"
   ]
  },
  {
   "cell_type": "code",
   "execution_count": null,
   "metadata": {
    "collapsed": false
   },
   "outputs": [],
   "source": [
    "rem(S_polynomial(x^3+y, z^4+0), G...)"
   ]
  },
  {
   "cell_type": "code",
   "execution_count": 2,
   "metadata": {
    "collapsed": false
   },
   "outputs": [
    {
     "data": {
      "text/plain": [
       "3-element Array{Dict{Tuple{UInt16,UInt16,UInt16},Rational{BigInt}},1}:\n",
       " z^2-1//1+y^2+x^2\n",
       " -y+z^2+x^2      \n",
       " -z+x            "
      ]
     },
     "execution_count": 2,
     "metadata": {},
     "output_type": "execute_result"
    }
   ],
   "source": [
    "@variables Rational{BigInt} x y z\n",
    "I = [x^2+y^2+z^2-1, x^2+z^2-y, x-z]"
   ]
  },
  {
   "cell_type": "code",
   "execution_count": 3,
   "metadata": {
    "collapsed": false
   },
   "outputs": [
    {
     "name": "stdout",
     "output_type": "stream",
     "text": [
      "(1,2)\n",
      "\ty-1//1+y^2\n",
      "(3,4)\n",
      "(2,3)\n",
      "\t-y+2//1*z^2\n",
      "(4,5)\n",
      "\t2//1*z^2+4//1*z^4-1//1\n",
      "(5,6)\n",
      "(4,6)\n",
      "(3,6)\n",
      "(3,5)\n",
      "(1,3)\n",
      "(1,6)\n",
      "(2,6)\n",
      "(2,5)\n",
      "(1,5)\n",
      "(1,4)\n",
      "(2,4)\n"
     ]
    },
    {
     "data": {
      "text/plain": [
       "3-element Array{Dict{Tuple{UInt16,UInt16,UInt16},Rational{BigInt}},1}:\n",
       " -z+x             \n",
       " y-2//1*z^2       \n",
       " 1//2*z^2+z^4-1//4"
      ]
     },
     "execution_count": 3,
     "metadata": {},
     "output_type": "execute_result"
    }
   ],
   "source": [
    "set_order_lex()\n",
    "groebner(I...)"
   ]
  },
  {
   "cell_type": "code",
   "execution_count": null,
   "metadata": {
    "collapsed": true
   },
   "outputs": [],
   "source": [
    "x"
   ]
  },
  {
   "cell_type": "code",
   "execution_count": null,
   "metadata": {
    "collapsed": true
   },
   "outputs": [],
   "source": []
  }
 ],
 "metadata": {
  "kernelspec": {
   "display_name": "Julia 0.4.6",
   "language": "julia",
   "name": "julia-0.4"
  },
  "language_info": {
   "file_extension": ".jl",
   "mimetype": "application/julia",
   "name": "julia",
   "version": "0.4.6"
  }
 },
 "nbformat": 4,
 "nbformat_minor": 0
}
